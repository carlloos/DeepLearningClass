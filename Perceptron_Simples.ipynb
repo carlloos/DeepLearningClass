{
  "nbformat": 4,
  "nbformat_minor": 0,
  "metadata": {
    "colab": {
      "provenance": [],
      "collapsed_sections": []
    },
    "kernelspec": {
      "name": "python3",
      "display_name": "Python 3"
    },
    "language_info": {
      "name": "python"
    }
  },
  "cells": [
    {
      "cell_type": "markdown",
      "source": [
        "Imports"
      ],
      "metadata": {
        "id": "f0HgxMVRRra-"
      }
    },
    {
      "cell_type": "code",
      "execution_count": null,
      "metadata": {
        "id": "zSrZQJSLRlzJ"
      },
      "outputs": [],
      "source": [
        "import numpy as np\n",
        "import pandas as pd\n",
        "from sklearn.datasets import load_breast_cancer\n",
        "\n",
        "from sklearn.model_selection import train_test_split"
      ]
    },
    {
      "cell_type": "markdown",
      "source": [
        "Criando a classe perceptron"
      ],
      "metadata": {
        "id": "1y6_Qvr9wJOG"
      }
    },
    {
      "cell_type": "code",
      "source": [
        "\n",
        "class Perceptron():\n",
        "\n",
        "  def __init__(self, n):\n",
        "    #inicializando os pesos com valores aleatórios\n",
        "    self.weights = np.random.rand(n,1)\n",
        "  \n",
        "  def train(self, X,Y, epochs, learning_rate):\n",
        "    for  epoch in range(epochs):\n",
        "      for i in range(X.shape[0]):\n",
        "        yhat = self.predict(X[i])\n",
        "\n",
        "        #regra de atualização dos pesos\n",
        "        self.weights += learning_rate *(Y[i] - yhat)* X[i].reshape(-1,1)\n",
        "\n",
        "        if i%100 == 0:\n",
        "          print(f'EPOCH: {epoch}, iteration:{i}')\n",
        "  \n",
        "  def predict(self, X):\n",
        "    z = np.dot(X.T, self.weights)\n",
        "    return self.step_func(z)\n",
        "\n",
        "  def step_func(self, z):\n",
        "    return 1 if (z >= 0) else 0\n"
      ],
      "metadata": {
        "id": "SjlquDpRWfHt"
      },
      "execution_count": null,
      "outputs": []
    },
    {
      "cell_type": "markdown",
      "source": [
        "Carregando dados do dataset Breast Cancer"
      ],
      "metadata": {
        "id": "KrizXwPe7jko"
      }
    },
    {
      "cell_type": "code",
      "source": [
        "data = load_breast_cancer()"
      ],
      "metadata": {
        "id": "tFmuhRP4iqWl"
      },
      "execution_count": null,
      "outputs": []
    },
    {
      "cell_type": "code",
      "source": [
        "data.feature_names"
      ],
      "metadata": {
        "colab": {
          "base_uri": "https://localhost:8080/"
        },
        "id": "ZxQcChHLyeF7",
        "outputId": "c644aae4-344e-419b-a30a-4c4277a5ce2b"
      },
      "execution_count": null,
      "outputs": [
        {
          "output_type": "execute_result",
          "data": {
            "text/plain": [
              "array(['mean radius', 'mean texture', 'mean perimeter', 'mean area',\n",
              "       'mean smoothness', 'mean compactness', 'mean concavity',\n",
              "       'mean concave points', 'mean symmetry', 'mean fractal dimension',\n",
              "       'radius error', 'texture error', 'perimeter error', 'area error',\n",
              "       'smoothness error', 'compactness error', 'concavity error',\n",
              "       'concave points error', 'symmetry error',\n",
              "       'fractal dimension error', 'worst radius', 'worst texture',\n",
              "       'worst perimeter', 'worst area', 'worst smoothness',\n",
              "       'worst compactness', 'worst concavity', 'worst concave points',\n",
              "       'worst symmetry', 'worst fractal dimension'], dtype='<U23')"
            ]
          },
          "metadata": {},
          "execution_count": 50
        }
      ]
    },
    {
      "cell_type": "code",
      "source": [
        "data.data"
      ],
      "metadata": {
        "colab": {
          "base_uri": "https://localhost:8080/"
        },
        "id": "zA2uOZLW7nks",
        "outputId": "20b6bb63-2823-4658-9fd2-c9b2a917f45d"
      },
      "execution_count": null,
      "outputs": [
        {
          "output_type": "execute_result",
          "data": {
            "text/plain": [
              "array([[1.799e+01, 1.038e+01, 1.228e+02, ..., 2.654e-01, 4.601e-01,\n",
              "        1.189e-01],\n",
              "       [2.057e+01, 1.777e+01, 1.329e+02, ..., 1.860e-01, 2.750e-01,\n",
              "        8.902e-02],\n",
              "       [1.969e+01, 2.125e+01, 1.300e+02, ..., 2.430e-01, 3.613e-01,\n",
              "        8.758e-02],\n",
              "       ...,\n",
              "       [1.660e+01, 2.808e+01, 1.083e+02, ..., 1.418e-01, 2.218e-01,\n",
              "        7.820e-02],\n",
              "       [2.060e+01, 2.933e+01, 1.401e+02, ..., 2.650e-01, 4.087e-01,\n",
              "        1.240e-01],\n",
              "       [7.760e+00, 2.454e+01, 4.792e+01, ..., 0.000e+00, 2.871e-01,\n",
              "        7.039e-02]])"
            ]
          },
          "metadata": {},
          "execution_count": 51
        }
      ]
    },
    {
      "cell_type": "code",
      "source": [
        "data.target"
      ],
      "metadata": {
        "colab": {
          "base_uri": "https://localhost:8080/"
        },
        "id": "azUIr73U7pn2",
        "outputId": "0c44b803-2977-473f-89c5-0f304abcb8af"
      },
      "execution_count": null,
      "outputs": [
        {
          "output_type": "execute_result",
          "data": {
            "text/plain": [
              "array([0, 0, 0, 0, 0, 0, 0, 0, 0, 0, 0, 0, 0, 0, 0, 0, 0, 0, 0, 1, 1, 1,\n",
              "       0, 0, 0, 0, 0, 0, 0, 0, 0, 0, 0, 0, 0, 0, 0, 1, 0, 0, 0, 0, 0, 0,\n",
              "       0, 0, 1, 0, 1, 1, 1, 1, 1, 0, 0, 1, 0, 0, 1, 1, 1, 1, 0, 1, 0, 0,\n",
              "       1, 1, 1, 1, 0, 1, 0, 0, 1, 0, 1, 0, 0, 1, 1, 1, 0, 0, 1, 0, 0, 0,\n",
              "       1, 1, 1, 0, 1, 1, 0, 0, 1, 1, 1, 0, 0, 1, 1, 1, 1, 0, 1, 1, 0, 1,\n",
              "       1, 1, 1, 1, 1, 1, 1, 0, 0, 0, 1, 0, 0, 1, 1, 1, 0, 0, 1, 0, 1, 0,\n",
              "       0, 1, 0, 0, 1, 1, 0, 1, 1, 0, 1, 1, 1, 1, 0, 1, 1, 1, 1, 1, 1, 1,\n",
              "       1, 1, 0, 1, 1, 1, 1, 0, 0, 1, 0, 1, 1, 0, 0, 1, 1, 0, 0, 1, 1, 1,\n",
              "       1, 0, 1, 1, 0, 0, 0, 1, 0, 1, 0, 1, 1, 1, 0, 1, 1, 0, 0, 1, 0, 0,\n",
              "       0, 0, 1, 0, 0, 0, 1, 0, 1, 0, 1, 1, 0, 1, 0, 0, 0, 0, 1, 1, 0, 0,\n",
              "       1, 1, 1, 0, 1, 1, 1, 1, 1, 0, 0, 1, 1, 0, 1, 1, 0, 0, 1, 0, 1, 1,\n",
              "       1, 1, 0, 1, 1, 1, 1, 1, 0, 1, 0, 0, 0, 0, 0, 0, 0, 0, 0, 0, 0, 0,\n",
              "       0, 0, 1, 1, 1, 1, 1, 1, 0, 1, 0, 1, 1, 0, 1, 1, 0, 1, 0, 0, 1, 1,\n",
              "       1, 1, 1, 1, 1, 1, 1, 1, 1, 1, 1, 0, 1, 1, 0, 1, 0, 1, 1, 1, 1, 1,\n",
              "       1, 1, 1, 1, 1, 1, 1, 1, 1, 0, 1, 1, 1, 0, 1, 0, 1, 1, 1, 1, 0, 0,\n",
              "       0, 1, 1, 1, 1, 0, 1, 0, 1, 0, 1, 1, 1, 0, 1, 1, 1, 1, 1, 1, 1, 0,\n",
              "       0, 0, 1, 1, 1, 1, 1, 1, 1, 1, 1, 1, 1, 0, 0, 1, 0, 0, 0, 1, 0, 0,\n",
              "       1, 1, 1, 1, 1, 0, 1, 1, 1, 1, 1, 0, 1, 1, 1, 0, 1, 1, 0, 0, 1, 1,\n",
              "       1, 1, 1, 1, 0, 1, 1, 1, 1, 1, 1, 1, 0, 1, 1, 1, 1, 1, 0, 1, 1, 0,\n",
              "       1, 1, 1, 1, 1, 1, 1, 1, 1, 1, 1, 1, 0, 1, 0, 0, 1, 0, 1, 1, 1, 1,\n",
              "       1, 0, 1, 1, 0, 1, 0, 1, 1, 0, 1, 0, 1, 1, 1, 1, 1, 1, 1, 1, 0, 0,\n",
              "       1, 1, 1, 1, 1, 1, 0, 1, 1, 1, 1, 1, 1, 1, 1, 1, 1, 0, 1, 1, 1, 1,\n",
              "       1, 1, 1, 0, 1, 0, 1, 1, 0, 1, 1, 1, 1, 1, 0, 0, 1, 0, 1, 0, 1, 1,\n",
              "       1, 1, 1, 0, 1, 1, 0, 1, 0, 1, 0, 0, 1, 1, 1, 0, 1, 1, 1, 1, 1, 1,\n",
              "       1, 1, 1, 1, 1, 0, 1, 0, 0, 1, 1, 1, 1, 1, 1, 1, 1, 1, 1, 1, 1, 1,\n",
              "       1, 1, 1, 1, 1, 1, 1, 1, 1, 1, 1, 1, 0, 0, 0, 0, 0, 0, 1])"
            ]
          },
          "metadata": {},
          "execution_count": 52
        }
      ]
    },
    {
      "cell_type": "markdown",
      "source": [
        "Separando dados em treino e teste"
      ],
      "metadata": {
        "id": "e2TGO4Lw7sEW"
      }
    },
    {
      "cell_type": "code",
      "source": [
        "X_train, X_test, y_train, y_test = train_test_split(data.data, data.target, test_size=0.2)"
      ],
      "metadata": {
        "id": "r8My3JArorVv"
      },
      "execution_count": null,
      "outputs": []
    },
    {
      "cell_type": "code",
      "source": [
        "X_train.shape"
      ],
      "metadata": {
        "colab": {
          "base_uri": "https://localhost:8080/"
        },
        "id": "UrRnr3NHjEWI",
        "outputId": "4c0b187e-fd15-46ad-eff6-0c6d8d774580"
      },
      "execution_count": null,
      "outputs": [
        {
          "output_type": "execute_result",
          "data": {
            "text/plain": [
              "(455, 30)"
            ]
          },
          "metadata": {},
          "execution_count": 54
        }
      ]
    },
    {
      "cell_type": "markdown",
      "source": [
        "Inicializando o modelo"
      ],
      "metadata": {
        "id": "DeMUVytx7ul1"
      }
    },
    {
      "cell_type": "code",
      "source": [
        "p = Perceptron(X_train.shape[1])"
      ],
      "metadata": {
        "id": "iaskVd0Ril4-"
      },
      "execution_count": null,
      "outputs": []
    },
    {
      "cell_type": "code",
      "source": [
        "p.weights"
      ],
      "metadata": {
        "colab": {
          "base_uri": "https://localhost:8080/"
        },
        "id": "lwIP9h8WjUMV",
        "outputId": "7b29ed30-726b-4921-f7ed-f1fc25b444d1"
      },
      "execution_count": null,
      "outputs": [
        {
          "output_type": "execute_result",
          "data": {
            "text/plain": [
              "array([[0.49047834],\n",
              "       [0.55209597],\n",
              "       [0.79869381],\n",
              "       [0.60538275],\n",
              "       [0.03272068],\n",
              "       [0.31084097],\n",
              "       [0.88661888],\n",
              "       [0.62485911],\n",
              "       [0.02567885],\n",
              "       [0.40418119],\n",
              "       [0.77303378],\n",
              "       [0.15207361],\n",
              "       [0.86995154],\n",
              "       [0.88380393],\n",
              "       [0.41200211],\n",
              "       [0.34922018],\n",
              "       [0.80379806],\n",
              "       [0.71157091],\n",
              "       [0.08414572],\n",
              "       [0.82921587],\n",
              "       [0.313627  ],\n",
              "       [0.3593875 ],\n",
              "       [0.53387293],\n",
              "       [0.7537799 ],\n",
              "       [0.61602426],\n",
              "       [0.74975346],\n",
              "       [0.57335012],\n",
              "       [0.13705061],\n",
              "       [0.50382643],\n",
              "       [0.1172793 ]])"
            ]
          },
          "metadata": {},
          "execution_count": 56
        }
      ]
    },
    {
      "cell_type": "markdown",
      "source": [
        "Treinamento"
      ],
      "metadata": {
        "id": "ADHoGFN17x6a"
      }
    },
    {
      "cell_type": "code",
      "source": [
        "p.train(X = X_train,Y = y_train, epochs = 100, learning_rate = 0.01)"
      ],
      "metadata": {
        "colab": {
          "base_uri": "https://localhost:8080/"
        },
        "id": "HQesVQG6jyfu",
        "outputId": "30f1880c-1194-4bb1-a327-9acbb5f8da5c"
      },
      "execution_count": null,
      "outputs": [
        {
          "output_type": "stream",
          "name": "stdout",
          "text": [
            "EPOCH: 0, iteration:0\n",
            "EPOCH: 0, iteration:100\n",
            "EPOCH: 0, iteration:200\n",
            "EPOCH: 0, iteration:300\n",
            "EPOCH: 0, iteration:400\n",
            "EPOCH: 1, iteration:0\n",
            "EPOCH: 1, iteration:100\n",
            "EPOCH: 1, iteration:200\n",
            "EPOCH: 1, iteration:300\n",
            "EPOCH: 1, iteration:400\n",
            "EPOCH: 2, iteration:0\n",
            "EPOCH: 2, iteration:100\n",
            "EPOCH: 2, iteration:200\n",
            "EPOCH: 2, iteration:300\n",
            "EPOCH: 2, iteration:400\n",
            "EPOCH: 3, iteration:0\n",
            "EPOCH: 3, iteration:100\n",
            "EPOCH: 3, iteration:200\n",
            "EPOCH: 3, iteration:300\n",
            "EPOCH: 3, iteration:400\n",
            "EPOCH: 4, iteration:0\n",
            "EPOCH: 4, iteration:100\n",
            "EPOCH: 4, iteration:200\n",
            "EPOCH: 4, iteration:300\n",
            "EPOCH: 4, iteration:400\n",
            "EPOCH: 5, iteration:0\n",
            "EPOCH: 5, iteration:100\n",
            "EPOCH: 5, iteration:200\n",
            "EPOCH: 5, iteration:300\n",
            "EPOCH: 5, iteration:400\n",
            "EPOCH: 6, iteration:0\n",
            "EPOCH: 6, iteration:100\n",
            "EPOCH: 6, iteration:200\n",
            "EPOCH: 6, iteration:300\n",
            "EPOCH: 6, iteration:400\n",
            "EPOCH: 7, iteration:0\n",
            "EPOCH: 7, iteration:100\n",
            "EPOCH: 7, iteration:200\n",
            "EPOCH: 7, iteration:300\n",
            "EPOCH: 7, iteration:400\n",
            "EPOCH: 8, iteration:0\n",
            "EPOCH: 8, iteration:100\n",
            "EPOCH: 8, iteration:200\n",
            "EPOCH: 8, iteration:300\n",
            "EPOCH: 8, iteration:400\n",
            "EPOCH: 9, iteration:0\n",
            "EPOCH: 9, iteration:100\n",
            "EPOCH: 9, iteration:200\n",
            "EPOCH: 9, iteration:300\n",
            "EPOCH: 9, iteration:400\n",
            "EPOCH: 10, iteration:0\n",
            "EPOCH: 10, iteration:100\n",
            "EPOCH: 10, iteration:200\n",
            "EPOCH: 10, iteration:300\n",
            "EPOCH: 10, iteration:400\n",
            "EPOCH: 11, iteration:0\n",
            "EPOCH: 11, iteration:100\n",
            "EPOCH: 11, iteration:200\n",
            "EPOCH: 11, iteration:300\n",
            "EPOCH: 11, iteration:400\n",
            "EPOCH: 12, iteration:0\n",
            "EPOCH: 12, iteration:100\n",
            "EPOCH: 12, iteration:200\n",
            "EPOCH: 12, iteration:300\n",
            "EPOCH: 12, iteration:400\n",
            "EPOCH: 13, iteration:0\n",
            "EPOCH: 13, iteration:100\n",
            "EPOCH: 13, iteration:200\n",
            "EPOCH: 13, iteration:300\n",
            "EPOCH: 13, iteration:400\n",
            "EPOCH: 14, iteration:0\n",
            "EPOCH: 14, iteration:100\n",
            "EPOCH: 14, iteration:200\n",
            "EPOCH: 14, iteration:300\n",
            "EPOCH: 14, iteration:400\n",
            "EPOCH: 15, iteration:0\n",
            "EPOCH: 15, iteration:100\n",
            "EPOCH: 15, iteration:200\n",
            "EPOCH: 15, iteration:300\n",
            "EPOCH: 15, iteration:400\n",
            "EPOCH: 16, iteration:0\n",
            "EPOCH: 16, iteration:100\n",
            "EPOCH: 16, iteration:200\n",
            "EPOCH: 16, iteration:300\n",
            "EPOCH: 16, iteration:400\n",
            "EPOCH: 17, iteration:0\n",
            "EPOCH: 17, iteration:100\n",
            "EPOCH: 17, iteration:200\n",
            "EPOCH: 17, iteration:300\n",
            "EPOCH: 17, iteration:400\n",
            "EPOCH: 18, iteration:0\n",
            "EPOCH: 18, iteration:100\n",
            "EPOCH: 18, iteration:200\n",
            "EPOCH: 18, iteration:300\n",
            "EPOCH: 18, iteration:400\n",
            "EPOCH: 19, iteration:0\n",
            "EPOCH: 19, iteration:100\n",
            "EPOCH: 19, iteration:200\n",
            "EPOCH: 19, iteration:300\n",
            "EPOCH: 19, iteration:400\n",
            "EPOCH: 20, iteration:0\n",
            "EPOCH: 20, iteration:100\n",
            "EPOCH: 20, iteration:200\n",
            "EPOCH: 20, iteration:300\n",
            "EPOCH: 20, iteration:400\n",
            "EPOCH: 21, iteration:0\n",
            "EPOCH: 21, iteration:100\n",
            "EPOCH: 21, iteration:200\n",
            "EPOCH: 21, iteration:300\n",
            "EPOCH: 21, iteration:400\n",
            "EPOCH: 22, iteration:0\n",
            "EPOCH: 22, iteration:100\n",
            "EPOCH: 22, iteration:200\n",
            "EPOCH: 22, iteration:300\n",
            "EPOCH: 22, iteration:400\n",
            "EPOCH: 23, iteration:0\n",
            "EPOCH: 23, iteration:100\n",
            "EPOCH: 23, iteration:200\n",
            "EPOCH: 23, iteration:300\n",
            "EPOCH: 23, iteration:400\n",
            "EPOCH: 24, iteration:0\n",
            "EPOCH: 24, iteration:100\n",
            "EPOCH: 24, iteration:200\n",
            "EPOCH: 24, iteration:300\n",
            "EPOCH: 24, iteration:400\n",
            "EPOCH: 25, iteration:0\n",
            "EPOCH: 25, iteration:100\n",
            "EPOCH: 25, iteration:200\n",
            "EPOCH: 25, iteration:300\n",
            "EPOCH: 25, iteration:400\n",
            "EPOCH: 26, iteration:0\n",
            "EPOCH: 26, iteration:100\n",
            "EPOCH: 26, iteration:200\n",
            "EPOCH: 26, iteration:300\n",
            "EPOCH: 26, iteration:400\n",
            "EPOCH: 27, iteration:0\n",
            "EPOCH: 27, iteration:100\n",
            "EPOCH: 27, iteration:200\n",
            "EPOCH: 27, iteration:300\n",
            "EPOCH: 27, iteration:400\n",
            "EPOCH: 28, iteration:0\n",
            "EPOCH: 28, iteration:100\n",
            "EPOCH: 28, iteration:200\n",
            "EPOCH: 28, iteration:300\n",
            "EPOCH: 28, iteration:400\n",
            "EPOCH: 29, iteration:0\n",
            "EPOCH: 29, iteration:100\n",
            "EPOCH: 29, iteration:200\n",
            "EPOCH: 29, iteration:300\n",
            "EPOCH: 29, iteration:400\n",
            "EPOCH: 30, iteration:0\n",
            "EPOCH: 30, iteration:100\n",
            "EPOCH: 30, iteration:200\n",
            "EPOCH: 30, iteration:300\n",
            "EPOCH: 30, iteration:400\n",
            "EPOCH: 31, iteration:0\n",
            "EPOCH: 31, iteration:100\n",
            "EPOCH: 31, iteration:200\n",
            "EPOCH: 31, iteration:300\n",
            "EPOCH: 31, iteration:400\n",
            "EPOCH: 32, iteration:0\n",
            "EPOCH: 32, iteration:100\n",
            "EPOCH: 32, iteration:200\n",
            "EPOCH: 32, iteration:300\n",
            "EPOCH: 32, iteration:400\n",
            "EPOCH: 33, iteration:0\n",
            "EPOCH: 33, iteration:100\n",
            "EPOCH: 33, iteration:200\n",
            "EPOCH: 33, iteration:300\n",
            "EPOCH: 33, iteration:400\n",
            "EPOCH: 34, iteration:0\n",
            "EPOCH: 34, iteration:100\n",
            "EPOCH: 34, iteration:200\n",
            "EPOCH: 34, iteration:300\n",
            "EPOCH: 34, iteration:400\n",
            "EPOCH: 35, iteration:0\n",
            "EPOCH: 35, iteration:100\n",
            "EPOCH: 35, iteration:200\n",
            "EPOCH: 35, iteration:300\n",
            "EPOCH: 35, iteration:400\n",
            "EPOCH: 36, iteration:0\n",
            "EPOCH: 36, iteration:100\n",
            "EPOCH: 36, iteration:200\n",
            "EPOCH: 36, iteration:300\n",
            "EPOCH: 36, iteration:400\n",
            "EPOCH: 37, iteration:0\n",
            "EPOCH: 37, iteration:100\n",
            "EPOCH: 37, iteration:200\n",
            "EPOCH: 37, iteration:300\n",
            "EPOCH: 37, iteration:400\n",
            "EPOCH: 38, iteration:0\n",
            "EPOCH: 38, iteration:100\n",
            "EPOCH: 38, iteration:200\n",
            "EPOCH: 38, iteration:300\n",
            "EPOCH: 38, iteration:400\n",
            "EPOCH: 39, iteration:0\n",
            "EPOCH: 39, iteration:100\n",
            "EPOCH: 39, iteration:200\n",
            "EPOCH: 39, iteration:300\n",
            "EPOCH: 39, iteration:400\n",
            "EPOCH: 40, iteration:0\n",
            "EPOCH: 40, iteration:100\n",
            "EPOCH: 40, iteration:200\n",
            "EPOCH: 40, iteration:300\n",
            "EPOCH: 40, iteration:400\n",
            "EPOCH: 41, iteration:0\n",
            "EPOCH: 41, iteration:100\n",
            "EPOCH: 41, iteration:200\n",
            "EPOCH: 41, iteration:300\n",
            "EPOCH: 41, iteration:400\n",
            "EPOCH: 42, iteration:0\n",
            "EPOCH: 42, iteration:100\n",
            "EPOCH: 42, iteration:200\n",
            "EPOCH: 42, iteration:300\n",
            "EPOCH: 42, iteration:400\n",
            "EPOCH: 43, iteration:0\n",
            "EPOCH: 43, iteration:100\n",
            "EPOCH: 43, iteration:200\n",
            "EPOCH: 43, iteration:300\n",
            "EPOCH: 43, iteration:400\n",
            "EPOCH: 44, iteration:0\n",
            "EPOCH: 44, iteration:100\n",
            "EPOCH: 44, iteration:200\n",
            "EPOCH: 44, iteration:300\n",
            "EPOCH: 44, iteration:400\n",
            "EPOCH: 45, iteration:0\n",
            "EPOCH: 45, iteration:100\n",
            "EPOCH: 45, iteration:200\n",
            "EPOCH: 45, iteration:300\n",
            "EPOCH: 45, iteration:400\n",
            "EPOCH: 46, iteration:0\n",
            "EPOCH: 46, iteration:100\n",
            "EPOCH: 46, iteration:200\n",
            "EPOCH: 46, iteration:300\n",
            "EPOCH: 46, iteration:400\n",
            "EPOCH: 47, iteration:0\n",
            "EPOCH: 47, iteration:100\n",
            "EPOCH: 47, iteration:200\n",
            "EPOCH: 47, iteration:300\n",
            "EPOCH: 47, iteration:400\n",
            "EPOCH: 48, iteration:0\n",
            "EPOCH: 48, iteration:100\n",
            "EPOCH: 48, iteration:200\n",
            "EPOCH: 48, iteration:300\n",
            "EPOCH: 48, iteration:400\n",
            "EPOCH: 49, iteration:0\n",
            "EPOCH: 49, iteration:100\n",
            "EPOCH: 49, iteration:200\n",
            "EPOCH: 49, iteration:300\n",
            "EPOCH: 49, iteration:400\n",
            "EPOCH: 50, iteration:0\n",
            "EPOCH: 50, iteration:100\n",
            "EPOCH: 50, iteration:200\n",
            "EPOCH: 50, iteration:300\n",
            "EPOCH: 50, iteration:400\n",
            "EPOCH: 51, iteration:0\n",
            "EPOCH: 51, iteration:100\n",
            "EPOCH: 51, iteration:200\n",
            "EPOCH: 51, iteration:300\n",
            "EPOCH: 51, iteration:400\n",
            "EPOCH: 52, iteration:0\n",
            "EPOCH: 52, iteration:100\n",
            "EPOCH: 52, iteration:200\n",
            "EPOCH: 52, iteration:300\n",
            "EPOCH: 52, iteration:400\n",
            "EPOCH: 53, iteration:0\n",
            "EPOCH: 53, iteration:100\n",
            "EPOCH: 53, iteration:200\n",
            "EPOCH: 53, iteration:300\n",
            "EPOCH: 53, iteration:400\n",
            "EPOCH: 54, iteration:0\n",
            "EPOCH: 54, iteration:100\n",
            "EPOCH: 54, iteration:200\n",
            "EPOCH: 54, iteration:300\n",
            "EPOCH: 54, iteration:400\n",
            "EPOCH: 55, iteration:0\n",
            "EPOCH: 55, iteration:100\n",
            "EPOCH: 55, iteration:200\n",
            "EPOCH: 55, iteration:300\n",
            "EPOCH: 55, iteration:400\n",
            "EPOCH: 56, iteration:0\n",
            "EPOCH: 56, iteration:100\n",
            "EPOCH: 56, iteration:200\n",
            "EPOCH: 56, iteration:300\n",
            "EPOCH: 56, iteration:400\n",
            "EPOCH: 57, iteration:0\n",
            "EPOCH: 57, iteration:100\n",
            "EPOCH: 57, iteration:200\n",
            "EPOCH: 57, iteration:300\n",
            "EPOCH: 57, iteration:400\n",
            "EPOCH: 58, iteration:0\n",
            "EPOCH: 58, iteration:100\n",
            "EPOCH: 58, iteration:200\n",
            "EPOCH: 58, iteration:300\n",
            "EPOCH: 58, iteration:400\n",
            "EPOCH: 59, iteration:0\n",
            "EPOCH: 59, iteration:100\n",
            "EPOCH: 59, iteration:200\n",
            "EPOCH: 59, iteration:300\n",
            "EPOCH: 59, iteration:400\n",
            "EPOCH: 60, iteration:0\n",
            "EPOCH: 60, iteration:100\n",
            "EPOCH: 60, iteration:200\n",
            "EPOCH: 60, iteration:300\n",
            "EPOCH: 60, iteration:400\n",
            "EPOCH: 61, iteration:0\n",
            "EPOCH: 61, iteration:100\n",
            "EPOCH: 61, iteration:200\n",
            "EPOCH: 61, iteration:300\n",
            "EPOCH: 61, iteration:400\n",
            "EPOCH: 62, iteration:0\n",
            "EPOCH: 62, iteration:100\n",
            "EPOCH: 62, iteration:200\n",
            "EPOCH: 62, iteration:300\n",
            "EPOCH: 62, iteration:400\n",
            "EPOCH: 63, iteration:0\n",
            "EPOCH: 63, iteration:100\n",
            "EPOCH: 63, iteration:200\n",
            "EPOCH: 63, iteration:300\n",
            "EPOCH: 63, iteration:400\n",
            "EPOCH: 64, iteration:0\n",
            "EPOCH: 64, iteration:100\n",
            "EPOCH: 64, iteration:200\n",
            "EPOCH: 64, iteration:300\n",
            "EPOCH: 64, iteration:400\n",
            "EPOCH: 65, iteration:0\n",
            "EPOCH: 65, iteration:100\n",
            "EPOCH: 65, iteration:200\n",
            "EPOCH: 65, iteration:300\n",
            "EPOCH: 65, iteration:400\n",
            "EPOCH: 66, iteration:0\n",
            "EPOCH: 66, iteration:100\n",
            "EPOCH: 66, iteration:200\n",
            "EPOCH: 66, iteration:300\n",
            "EPOCH: 66, iteration:400\n",
            "EPOCH: 67, iteration:0\n",
            "EPOCH: 67, iteration:100\n",
            "EPOCH: 67, iteration:200\n",
            "EPOCH: 67, iteration:300\n",
            "EPOCH: 67, iteration:400\n",
            "EPOCH: 68, iteration:0\n",
            "EPOCH: 68, iteration:100\n",
            "EPOCH: 68, iteration:200\n",
            "EPOCH: 68, iteration:300\n",
            "EPOCH: 68, iteration:400\n",
            "EPOCH: 69, iteration:0\n",
            "EPOCH: 69, iteration:100\n",
            "EPOCH: 69, iteration:200\n",
            "EPOCH: 69, iteration:300\n",
            "EPOCH: 69, iteration:400\n",
            "EPOCH: 70, iteration:0\n",
            "EPOCH: 70, iteration:100\n",
            "EPOCH: 70, iteration:200\n",
            "EPOCH: 70, iteration:300\n",
            "EPOCH: 70, iteration:400\n",
            "EPOCH: 71, iteration:0\n",
            "EPOCH: 71, iteration:100\n",
            "EPOCH: 71, iteration:200\n",
            "EPOCH: 71, iteration:300\n",
            "EPOCH: 71, iteration:400\n",
            "EPOCH: 72, iteration:0\n",
            "EPOCH: 72, iteration:100\n",
            "EPOCH: 72, iteration:200\n",
            "EPOCH: 72, iteration:300\n",
            "EPOCH: 72, iteration:400\n",
            "EPOCH: 73, iteration:0\n",
            "EPOCH: 73, iteration:100\n",
            "EPOCH: 73, iteration:200\n",
            "EPOCH: 73, iteration:300\n",
            "EPOCH: 73, iteration:400\n",
            "EPOCH: 74, iteration:0\n",
            "EPOCH: 74, iteration:100\n",
            "EPOCH: 74, iteration:200\n",
            "EPOCH: 74, iteration:300\n",
            "EPOCH: 74, iteration:400\n",
            "EPOCH: 75, iteration:0\n",
            "EPOCH: 75, iteration:100\n",
            "EPOCH: 75, iteration:200\n",
            "EPOCH: 75, iteration:300\n",
            "EPOCH: 75, iteration:400\n",
            "EPOCH: 76, iteration:0\n",
            "EPOCH: 76, iteration:100\n",
            "EPOCH: 76, iteration:200\n",
            "EPOCH: 76, iteration:300\n",
            "EPOCH: 76, iteration:400\n",
            "EPOCH: 77, iteration:0\n",
            "EPOCH: 77, iteration:100\n",
            "EPOCH: 77, iteration:200\n",
            "EPOCH: 77, iteration:300\n",
            "EPOCH: 77, iteration:400\n",
            "EPOCH: 78, iteration:0\n",
            "EPOCH: 78, iteration:100\n",
            "EPOCH: 78, iteration:200\n",
            "EPOCH: 78, iteration:300\n",
            "EPOCH: 78, iteration:400\n",
            "EPOCH: 79, iteration:0\n",
            "EPOCH: 79, iteration:100\n",
            "EPOCH: 79, iteration:200\n",
            "EPOCH: 79, iteration:300\n",
            "EPOCH: 79, iteration:400\n",
            "EPOCH: 80, iteration:0\n",
            "EPOCH: 80, iteration:100\n",
            "EPOCH: 80, iteration:200\n",
            "EPOCH: 80, iteration:300\n",
            "EPOCH: 80, iteration:400\n",
            "EPOCH: 81, iteration:0\n",
            "EPOCH: 81, iteration:100\n",
            "EPOCH: 81, iteration:200\n",
            "EPOCH: 81, iteration:300\n",
            "EPOCH: 81, iteration:400\n",
            "EPOCH: 82, iteration:0\n",
            "EPOCH: 82, iteration:100\n",
            "EPOCH: 82, iteration:200\n",
            "EPOCH: 82, iteration:300\n",
            "EPOCH: 82, iteration:400\n",
            "EPOCH: 83, iteration:0\n",
            "EPOCH: 83, iteration:100\n",
            "EPOCH: 83, iteration:200\n",
            "EPOCH: 83, iteration:300\n",
            "EPOCH: 83, iteration:400\n",
            "EPOCH: 84, iteration:0\n",
            "EPOCH: 84, iteration:100\n",
            "EPOCH: 84, iteration:200\n",
            "EPOCH: 84, iteration:300\n",
            "EPOCH: 84, iteration:400\n",
            "EPOCH: 85, iteration:0\n",
            "EPOCH: 85, iteration:100\n",
            "EPOCH: 85, iteration:200\n",
            "EPOCH: 85, iteration:300\n",
            "EPOCH: 85, iteration:400\n",
            "EPOCH: 86, iteration:0\n",
            "EPOCH: 86, iteration:100\n",
            "EPOCH: 86, iteration:200\n",
            "EPOCH: 86, iteration:300\n",
            "EPOCH: 86, iteration:400\n",
            "EPOCH: 87, iteration:0\n",
            "EPOCH: 87, iteration:100\n",
            "EPOCH: 87, iteration:200\n",
            "EPOCH: 87, iteration:300\n",
            "EPOCH: 87, iteration:400\n",
            "EPOCH: 88, iteration:0\n",
            "EPOCH: 88, iteration:100\n",
            "EPOCH: 88, iteration:200\n",
            "EPOCH: 88, iteration:300\n",
            "EPOCH: 88, iteration:400\n",
            "EPOCH: 89, iteration:0\n",
            "EPOCH: 89, iteration:100\n",
            "EPOCH: 89, iteration:200\n",
            "EPOCH: 89, iteration:300\n",
            "EPOCH: 89, iteration:400\n",
            "EPOCH: 90, iteration:0\n",
            "EPOCH: 90, iteration:100\n",
            "EPOCH: 90, iteration:200\n",
            "EPOCH: 90, iteration:300\n",
            "EPOCH: 90, iteration:400\n",
            "EPOCH: 91, iteration:0\n",
            "EPOCH: 91, iteration:100\n",
            "EPOCH: 91, iteration:200\n",
            "EPOCH: 91, iteration:300\n",
            "EPOCH: 91, iteration:400\n",
            "EPOCH: 92, iteration:0\n",
            "EPOCH: 92, iteration:100\n",
            "EPOCH: 92, iteration:200\n",
            "EPOCH: 92, iteration:300\n",
            "EPOCH: 92, iteration:400\n",
            "EPOCH: 93, iteration:0\n",
            "EPOCH: 93, iteration:100\n",
            "EPOCH: 93, iteration:200\n",
            "EPOCH: 93, iteration:300\n",
            "EPOCH: 93, iteration:400\n",
            "EPOCH: 94, iteration:0\n",
            "EPOCH: 94, iteration:100\n",
            "EPOCH: 94, iteration:200\n",
            "EPOCH: 94, iteration:300\n",
            "EPOCH: 94, iteration:400\n",
            "EPOCH: 95, iteration:0\n",
            "EPOCH: 95, iteration:100\n",
            "EPOCH: 95, iteration:200\n",
            "EPOCH: 95, iteration:300\n",
            "EPOCH: 95, iteration:400\n",
            "EPOCH: 96, iteration:0\n",
            "EPOCH: 96, iteration:100\n",
            "EPOCH: 96, iteration:200\n",
            "EPOCH: 96, iteration:300\n",
            "EPOCH: 96, iteration:400\n",
            "EPOCH: 97, iteration:0\n",
            "EPOCH: 97, iteration:100\n",
            "EPOCH: 97, iteration:200\n",
            "EPOCH: 97, iteration:300\n",
            "EPOCH: 97, iteration:400\n",
            "EPOCH: 98, iteration:0\n",
            "EPOCH: 98, iteration:100\n",
            "EPOCH: 98, iteration:200\n",
            "EPOCH: 98, iteration:300\n",
            "EPOCH: 98, iteration:400\n",
            "EPOCH: 99, iteration:0\n",
            "EPOCH: 99, iteration:100\n",
            "EPOCH: 99, iteration:200\n",
            "EPOCH: 99, iteration:300\n",
            "EPOCH: 99, iteration:400\n"
          ]
        }
      ]
    },
    {
      "cell_type": "markdown",
      "source": [
        "Predição"
      ],
      "metadata": {
        "id": "UzrvS8jT70vv"
      }
    },
    {
      "cell_type": "code",
      "source": [
        "preds = []\n",
        "for i in range(0,X_test.shape[0]):\n",
        "  ypred = p.predict(X_test[i].reshape(-1,1))\n",
        "  preds.append(ypred)"
      ],
      "metadata": {
        "id": "1fBbFmwGnNCv"
      },
      "execution_count": null,
      "outputs": []
    },
    {
      "cell_type": "code",
      "source": [
        "from sklearn.metrics import accuracy_score\n",
        "score = accuracy_score(y_test, preds)"
      ],
      "metadata": {
        "id": "lO1jpHWmpRmu"
      },
      "execution_count": null,
      "outputs": []
    },
    {
      "cell_type": "code",
      "source": [
        "score"
      ],
      "metadata": {
        "colab": {
          "base_uri": "https://localhost:8080/"
        },
        "id": "UgbQLjmVnulJ",
        "outputId": "95c782e5-a50c-46a8-baf7-84b348ab2a8a"
      },
      "execution_count": null,
      "outputs": [
        {
          "output_type": "execute_result",
          "data": {
            "text/plain": [
              "0.9473684210526315"
            ]
          },
          "metadata": {},
          "execution_count": 60
        }
      ]
    },
    {
      "cell_type": "markdown",
      "source": [
        "Com a classe do Sklearn"
      ],
      "metadata": {
        "id": "VcmtFpOwpd_1"
      }
    },
    {
      "cell_type": "code",
      "source": [
        "from sklearn.linear_model import Perceptron\n",
        "\n",
        "clf = Perceptron(max_iter =100, eta0=0.01, random_state=0)\n",
        "clf.fit(X_train, y_train)\n",
        "pred = clf.predict(X_test)\n",
        "score = accuracy_score(y_test, pred)\n",
        "score\n"
      ],
      "metadata": {
        "colab": {
          "base_uri": "https://localhost:8080/"
        },
        "id": "IgVUWp-fpf7m",
        "outputId": "177811db-33da-474f-e3b3-e0ea8932d7ab"
      },
      "execution_count": null,
      "outputs": [
        {
          "output_type": "execute_result",
          "data": {
            "text/plain": [
              "0.8947368421052632"
            ]
          },
          "metadata": {},
          "execution_count": 61
        }
      ]
    },
    {
      "cell_type": "markdown",
      "source": [
        "### Explique o que você aprendeu em relação à taxa de aprendizagem, inicialização aleatória dos pesos e número de épocas."
      ],
      "metadata": {
        "id": "wx4J4OJ3p53X"
      }
    },
    {
      "cell_type": "markdown",
      "source": [
        "- Taxa de Aprendizagem:\n",
        "A taxa de aprendizagem é um hiper-parametro do perceptron que controla o quanto deve-se mudar o modelo dado um erro estimado que é calculado cada vez que os pesos são atualizados. A taxa de aprendizagem deve ser bem escolhida pois valores muito baixos podem resultar em treinamentos mais longos e valores muito altos podem resultar em treinamentos instáveis.\n",
        "\n",
        "- Inicialização aleatória dos pesos: A inicialização dos pesos é uma tarefa importante em redes neurais profundas porque, dependendo de qual estratégia for utilizada para a inicialização dos pesos a rede pode demorar mais para convergir. Por exemplo, ao iniciar todos os pesos com valores 0 ou 1 a rede pode levar um tempo maior para convergir e com isso ter um gasto computacional maior. Uma das estratégias mais viáveis para a inicialização dos pesos é a inicialização aleatória que gere valores de uma distribuição gaussiana com média e desvio padrão 1.\n",
        "\n",
        "- Número de épocas:\n",
        "Corresponde a quantas vezes o perceptron irá realizar sua operação em cada dado da base de dados."
      ],
      "metadata": {
        "id": "xvfd-Cgd8Kf4"
      }
    }
  ]
}