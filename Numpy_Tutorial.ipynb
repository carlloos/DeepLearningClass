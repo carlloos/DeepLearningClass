{
  "nbformat": 4,
  "nbformat_minor": 0,
  "metadata": {
    "colab": {
      "name": "Numpy Tutorial.ipynb",
      "provenance": [],
      "collapsed_sections": []
    },
    "kernelspec": {
      "name": "python3",
      "display_name": "Python 3"
    },
    "language_info": {
      "name": "python"
    }
  },
  "cells": [
    {
      "cell_type": "code",
      "execution_count": 1,
      "metadata": {
        "id": "1-eUoaVgHWRi"
      },
      "outputs": [],
      "source": [
        "import numpy as np"
      ]
    },
    {
      "cell_type": "markdown",
      "source": [
        "How to create an empty and a full NumPy array?"
      ],
      "metadata": {
        "id": "NBzkTivfICEn"
      }
    },
    {
      "cell_type": "code",
      "source": [
        "\n",
        "np.empty((3,4), dtype =int) "
      ],
      "metadata": {
        "colab": {
          "base_uri": "https://localhost:8080/"
        },
        "id": "hVa2uP9CHaXF",
        "outputId": "f3e272d7-83bd-493f-e6a3-a23d2e6973c5"
      },
      "execution_count": null,
      "outputs": [
        {
          "output_type": "execute_result",
          "data": {
            "text/plain": [
              "array([[31051392,        0,        0,        0],\n",
              "       [       0,        0,        0,        0],\n",
              "       [       0,        0,        0,        0]])"
            ]
          },
          "metadata": {},
          "execution_count": 7
        }
      ]
    },
    {
      "cell_type": "code",
      "source": [
        "np.full((3,4), 45, dtype = None)"
      ],
      "metadata": {
        "colab": {
          "base_uri": "https://localhost:8080/"
        },
        "id": "cH5-xloTHbb1",
        "outputId": "7645e86f-166b-49bd-8ef1-22f60bb6b789"
      },
      "execution_count": null,
      "outputs": [
        {
          "output_type": "execute_result",
          "data": {
            "text/plain": [
              "array([[45, 45, 45, 45],\n",
              "       [45, 45, 45, 45],\n",
              "       [45, 45, 45, 45]])"
            ]
          },
          "metadata": {},
          "execution_count": 8
        }
      ]
    },
    {
      "cell_type": "markdown",
      "source": [
        "Create a Numpy array filled with all zeros"
      ],
      "metadata": {
        "id": "0qlFzou5IG2P"
      }
    },
    {
      "cell_type": "code",
      "source": [
        "np.zeros( (3,4) )"
      ],
      "metadata": {
        "colab": {
          "base_uri": "https://localhost:8080/"
        },
        "id": "r6NWxFkQHbXN",
        "outputId": "bc4f9dbd-bb48-4605-c3b7-be995e3a1b6b"
      },
      "execution_count": null,
      "outputs": [
        {
          "output_type": "execute_result",
          "data": {
            "text/plain": [
              "array([[0., 0., 0., 0.],\n",
              "       [0., 0., 0., 0.],\n",
              "       [0., 0., 0., 0.]])"
            ]
          },
          "metadata": {},
          "execution_count": 9
        }
      ]
    },
    {
      "cell_type": "markdown",
      "source": [
        "Create a Numpy array filled with all ones"
      ],
      "metadata": {
        "id": "0jzEc9-qITGN"
      }
    },
    {
      "cell_type": "code",
      "source": [
        "np.ones( (3,4) )"
      ],
      "metadata": {
        "colab": {
          "base_uri": "https://localhost:8080/"
        },
        "id": "6PkPQBpAHbU9",
        "outputId": "9f003c66-0be2-45cd-8448-4f5e444abd10"
      },
      "execution_count": null,
      "outputs": [
        {
          "output_type": "execute_result",
          "data": {
            "text/plain": [
              "array([[1., 1., 1., 1.],\n",
              "       [1., 1., 1., 1.],\n",
              "       [1., 1., 1., 1.]])"
            ]
          },
          "metadata": {},
          "execution_count": 10
        }
      ]
    },
    {
      "cell_type": "markdown",
      "source": [
        "Check whether a Numpy array contains a specified row"
      ],
      "metadata": {
        "id": "-gBrkgdkIdn2"
      }
    },
    {
      "cell_type": "code",
      "source": [
        "x = np.array(([1,2,3,4], [5,6,7,10]))"
      ],
      "metadata": {
        "id": "Ng9vOTIpHbP_"
      },
      "execution_count": null,
      "outputs": []
    },
    {
      "cell_type": "code",
      "source": [
        "print([1, 2, 3, 4, 5] in x.tolist())"
      ],
      "metadata": {
        "colab": {
          "base_uri": "https://localhost:8080/"
        },
        "id": "kXULnXq6HbNt",
        "outputId": "5810afca-646e-4559-b198-fe8e8fadee65"
      },
      "execution_count": null,
      "outputs": [
        {
          "output_type": "stream",
          "name": "stdout",
          "text": [
            "False\n"
          ]
        }
      ]
    },
    {
      "cell_type": "code",
      "source": [
        "print([5,6,7,10] in x.tolist())"
      ],
      "metadata": {
        "colab": {
          "base_uri": "https://localhost:8080/"
        },
        "id": "b-fIh6FEInwP",
        "outputId": "a0bdff4d-2148-47c3-9c66-66c8e71a772a"
      },
      "execution_count": null,
      "outputs": [
        {
          "output_type": "stream",
          "name": "stdout",
          "text": [
            "True\n"
          ]
        }
      ]
    },
    {
      "cell_type": "markdown",
      "source": [
        "How to Remove rows in Numpy array that contains non-numeric values?"
      ],
      "metadata": {
        "id": "iymD5tPSI-wY"
      }
    },
    {
      "cell_type": "code",
      "source": [
        "x= np.array(([2, 900, np.nan],\n",
        "                  [777, 1, 1006]))"
      ],
      "metadata": {
        "id": "12UPcW89Int_"
      },
      "execution_count": null,
      "outputs": []
    },
    {
      "cell_type": "code",
      "source": [
        "print(\"Remove all rows containing non-numeric elements\")\n",
        "print(x[~np.isnan(x).any(axis=1)])"
      ],
      "metadata": {
        "colab": {
          "base_uri": "https://localhost:8080/"
        },
        "id": "B4fp16wrInrw",
        "outputId": "636727af-53ee-42ba-8a6c-122855f0ba5c"
      },
      "execution_count": null,
      "outputs": [
        {
          "output_type": "stream",
          "name": "stdout",
          "text": [
            "Remove all rows containing non-numeric elements\n",
            "[[7.770e+02 1.000e+00 1.006e+03]]\n"
          ]
        }
      ]
    },
    {
      "cell_type": "markdown",
      "source": [
        "Remove single-dimensional entries from the shape of an array"
      ],
      "metadata": {
        "id": "swhm0RvwJeS8"
      }
    },
    {
      "cell_type": "code",
      "source": [
        "x = np.ones((5, 1, 10))\n",
        "print(np.squeeze(x).shape)"
      ],
      "metadata": {
        "colab": {
          "base_uri": "https://localhost:8080/"
        },
        "id": "MxcOVL0sInpe",
        "outputId": "93ad4dc5-872c-472d-af0a-a5e066e17d88"
      },
      "execution_count": null,
      "outputs": [
        {
          "output_type": "stream",
          "name": "stdout",
          "text": [
            "(5, 10)\n"
          ]
        }
      ]
    },
    {
      "cell_type": "markdown",
      "source": [
        "Find the number of occurrences of a sequence in a NumPy array"
      ],
      "metadata": {
        "id": "Ci5LXXtbJqxY"
      }
    },
    {
      "cell_type": "code",
      "source": [
        "arr = np.random.rand(3,4)\n",
        "  \n",
        "# Counting sequence\n",
        "#output = repr(arr).count(\"9, 4\")\n",
        "  \n",
        "# view output\n",
        "#print(output)"
      ],
      "metadata": {
        "id": "Wn-KN81gInnB"
      },
      "execution_count": null,
      "outputs": []
    },
    {
      "cell_type": "code",
      "source": [
        "arr"
      ],
      "metadata": {
        "colab": {
          "base_uri": "https://localhost:8080/"
        },
        "id": "lF4U-5BCJ2Bt",
        "outputId": "c5c9f8e6-fcb8-464b-d56a-25f5d5029fdb"
      },
      "execution_count": null,
      "outputs": [
        {
          "output_type": "execute_result",
          "data": {
            "text/plain": [
              "array([[0.51393392, 0.03296826, 0.26377149, 0.56600929],\n",
              "       [0.04767559, 0.64046436, 0.37295466, 0.19182861],\n",
              "       [0.77267588, 0.52162536, 0.74374567, 0.564138  ]])"
            ]
          },
          "metadata": {},
          "execution_count": 24
        }
      ]
    },
    {
      "cell_type": "code",
      "source": [
        "repr(arr).count('0.51393392, 0.03296826')"
      ],
      "metadata": {
        "colab": {
          "base_uri": "https://localhost:8080/"
        },
        "id": "giopv8k4JqYh",
        "outputId": "494d2215-e0f9-4106-9e93-e04b6e28f9f0"
      },
      "execution_count": null,
      "outputs": [
        {
          "output_type": "execute_result",
          "data": {
            "text/plain": [
              "1"
            ]
          },
          "metadata": {},
          "execution_count": 26
        }
      ]
    },
    {
      "cell_type": "markdown",
      "source": [
        "Find the most frequent value in a NumPy array"
      ],
      "metadata": {
        "id": "knGCUl2LKBBh"
      }
    },
    {
      "cell_type": "code",
      "source": [
        "x = np.array([6,6,7,7,7,8,8,8,8,2,2,2,2,4,5,2,8])\n",
        "print(\"Original array:\")\n",
        "print(x)\n",
        "  \n",
        "print(\"Most frequent value in the above array:\")\n",
        "print(np.bincount(x).argmax())"
      ],
      "metadata": {
        "colab": {
          "base_uri": "https://localhost:8080/"
        },
        "id": "40apmkLAJqVo",
        "outputId": "cb7f2b44-c57a-4932-f26b-397a01817445"
      },
      "execution_count": null,
      "outputs": [
        {
          "output_type": "stream",
          "name": "stdout",
          "text": [
            "Original array:\n",
            "[6 6 7 7 7 8 8 8 8 2 2 2 2 4 5 2 8]\n",
            "Most frequent value in the above array:\n",
            "2\n"
          ]
        }
      ]
    },
    {
      "cell_type": "markdown",
      "source": [
        "Combining a one and a two-dimensional NumPy Array"
      ],
      "metadata": {
        "id": "lP4rwLSxKXXa"
      }
    },
    {
      "cell_type": "code",
      "source": [
        "num_1d = np.arange(10)\n",
        "print(\"One dimensional array:\")\n",
        "print(num_1d)\n",
        "  \n",
        "num_2d = np.arange(20).reshape(2,10)\n",
        "print(\"\\nTwo dimensional array:\")\n",
        "print(num_2d)\n",
        "  \n",
        "for a, b in np.nditer([num_1d, num_2d]):\n",
        "    print(\"%d:%d\" % (a, b),)"
      ],
      "metadata": {
        "colab": {
          "base_uri": "https://localhost:8080/"
        },
        "id": "Lt9Ed09fJqTU",
        "outputId": "12a2f084-d0f0-4218-93a0-2fccdfb78221"
      },
      "execution_count": null,
      "outputs": [
        {
          "output_type": "stream",
          "name": "stdout",
          "text": [
            "One dimensional array:\n",
            "[0 1 2 3 4 5 6 7 8 9]\n",
            "\n",
            "Two dimensional array:\n",
            "[[ 0  1  2  3  4  5  6  7  8  9]\n",
            " [10 11 12 13 14 15 16 17 18 19]]\n",
            "0:0\n",
            "1:1\n",
            "2:2\n",
            "3:3\n",
            "4:4\n",
            "5:5\n",
            "6:6\n",
            "7:7\n",
            "8:8\n",
            "9:9\n",
            "0:10\n",
            "1:11\n",
            "2:12\n",
            "3:13\n",
            "4:14\n",
            "5:15\n",
            "6:16\n",
            "7:17\n",
            "8:18\n",
            "9:19\n"
          ]
        }
      ]
    },
    {
      "cell_type": "markdown",
      "source": [
        "How to build an array of all combinations of two NumPy arrays?"
      ],
      "metadata": {
        "id": "tkfF-dUrK7zQ"
      }
    },
    {
      "cell_type": "code",
      "source": [
        "array_1 = np.array([3,3,3,3,2,6])\n",
        "array_2 = np.array([4,4,4,5,6,7])\n",
        "  \n",
        "print(\"Array-1\")\n",
        "print(array_1)\n",
        "\n",
        "print(array_2)\n",
        "  \n",
        "comb_array = np.array(np.meshgrid(array_1, array_2)).T.reshape(-1, 2)\n",
        "  \n",
        "print(\"\\nCombine array:\")\n",
        "print(comb_array)"
      ],
      "metadata": {
        "colab": {
          "base_uri": "https://localhost:8080/"
        },
        "id": "OkoCZW4FJqRA",
        "outputId": "d406b56f-d077-444c-8df7-f97e0bcf2453"
      },
      "execution_count": null,
      "outputs": [
        {
          "output_type": "stream",
          "name": "stdout",
          "text": [
            "Array-1\n",
            "[3 3 3 3 2 6]\n",
            "[4 4 4 5 6 7]\n",
            "\n",
            "Combine array:\n",
            "[[3 4]\n",
            " [3 4]\n",
            " [3 4]\n",
            " [3 5]\n",
            " [3 6]\n",
            " [3 7]\n",
            " [3 4]\n",
            " [3 4]\n",
            " [3 4]\n",
            " [3 5]\n",
            " [3 6]\n",
            " [3 7]\n",
            " [3 4]\n",
            " [3 4]\n",
            " [3 4]\n",
            " [3 5]\n",
            " [3 6]\n",
            " [3 7]\n",
            " [3 4]\n",
            " [3 4]\n",
            " [3 4]\n",
            " [3 5]\n",
            " [3 6]\n",
            " [3 7]\n",
            " [2 4]\n",
            " [2 4]\n",
            " [2 4]\n",
            " [2 5]\n",
            " [2 6]\n",
            " [2 7]\n",
            " [6 4]\n",
            " [6 4]\n",
            " [6 4]\n",
            " [6 5]\n",
            " [6 6]\n",
            " [6 7]]\n"
          ]
        }
      ]
    },
    {
      "cell_type": "markdown",
      "source": [
        "How to add a border around a NumPy array?"
      ],
      "metadata": {
        "id": "HkGvx7P2LLFC"
      }
    },
    {
      "cell_type": "code",
      "source": [
        "array = np.zeros((6, 6))\n",
        "  \n",
        "print(\"Original array\")\n",
        "print(array)\n",
        "  \n",
        "print(\"with border\")\n",
        "  \n",
        "array = np.pad(array, pad_width=1, mode='constant',\n",
        "               constant_values=1)\n",
        "  \n",
        "print(array)"
      ],
      "metadata": {
        "colab": {
          "base_uri": "https://localhost:8080/"
        },
        "id": "BSl7Cmj-JqOp",
        "outputId": "9ab1fd57-3602-4081-c324-ed9e4e89c2fc"
      },
      "execution_count": null,
      "outputs": [
        {
          "output_type": "stream",
          "name": "stdout",
          "text": [
            "Original array\n",
            "[[0. 0. 0. 0. 0. 0.]\n",
            " [0. 0. 0. 0. 0. 0.]\n",
            " [0. 0. 0. 0. 0. 0.]\n",
            " [0. 0. 0. 0. 0. 0.]\n",
            " [0. 0. 0. 0. 0. 0.]\n",
            " [0. 0. 0. 0. 0. 0.]]\n",
            "with border\n",
            "[[1. 1. 1. 1. 1. 1. 1. 1.]\n",
            " [1. 0. 0. 0. 0. 0. 0. 1.]\n",
            " [1. 0. 0. 0. 0. 0. 0. 1.]\n",
            " [1. 0. 0. 0. 0. 0. 0. 1.]\n",
            " [1. 0. 0. 0. 0. 0. 0. 1.]\n",
            " [1. 0. 0. 0. 0. 0. 0. 1.]\n",
            " [1. 0. 0. 0. 0. 0. 0. 1.]\n",
            " [1. 1. 1. 1. 1. 1. 1. 1.]]\n"
          ]
        }
      ]
    },
    {
      "cell_type": "markdown",
      "source": [
        "How to compare two NumPy arrays?\n"
      ],
      "metadata": {
        "id": "NqUrpd7vLvfK"
      }
    },
    {
      "cell_type": "code",
      "source": [
        "a = np.zeros((2,2))\n",
        "b = np.ones((2,2))\n",
        "\n",
        "np.array_equal(a, b)"
      ],
      "metadata": {
        "colab": {
          "base_uri": "https://localhost:8080/"
        },
        "id": "-rkK7sZ6JqMX",
        "outputId": "ebf2f3f6-0e73-4837-b97b-17607055eba2"
      },
      "execution_count": null,
      "outputs": [
        {
          "output_type": "execute_result",
          "data": {
            "text/plain": [
              "False"
            ]
          },
          "metadata": {},
          "execution_count": 47
        }
      ]
    },
    {
      "cell_type": "markdown",
      "source": [
        "How to check whether specified values are present in NumPy array?"
      ],
      "metadata": {
        "id": "-xjcWpvpL3Q7"
      }
    },
    {
      "cell_type": "code",
      "source": [
        "n_array = np.array([[5, 0, 9],\n",
        "                    [3, 2, 1]])\n",
        " \n",
        "print(10 in n_array)\n",
        "print(20 in n_array)\n",
        "print(6 in n_array)\n",
        "print(2 in n_array)\n",
        "print(0 in n_array)"
      ],
      "metadata": {
        "colab": {
          "base_uri": "https://localhost:8080/"
        },
        "id": "IssfnCW8JqKL",
        "outputId": "a3beac23-5d55-4e07-99ac-25c1cbc0802d"
      },
      "execution_count": null,
      "outputs": [
        {
          "output_type": "stream",
          "name": "stdout",
          "text": [
            "False\n",
            "False\n",
            "False\n",
            "True\n",
            "True\n"
          ]
        }
      ]
    },
    {
      "cell_type": "markdown",
      "source": [
        "How to get all 2D diagonals of a 3D NumPy array?"
      ],
      "metadata": {
        "id": "veEcCYyRMEkm"
      }
    },
    {
      "cell_type": "code",
      "source": [
        "\n",
        "arr = np.arange(5*5*5).reshape(5,5,5)\n",
        "  \n",
        "print(\"Original 3d array:\\n\", \n",
        "      arr)\n",
        "  \n",
        "# Create 2D diagonal array\n",
        "diag_arr = np.diagonal(arr, \n",
        "                       axis1 = 1,\n",
        "                       axis2 = 2)\n",
        "  \n",
        "print(\"2d diagonal array:\\n\", \n",
        "      diag_arr)"
      ],
      "metadata": {
        "colab": {
          "base_uri": "https://localhost:8080/"
        },
        "id": "oAXVtnY0JqHz",
        "outputId": "67c69b5f-da2b-4a6f-b17b-d960ee0982ae"
      },
      "execution_count": null,
      "outputs": [
        {
          "output_type": "stream",
          "name": "stdout",
          "text": [
            "Original 3d array:\n",
            " [[[  0   1   2   3   4]\n",
            "  [  5   6   7   8   9]\n",
            "  [ 10  11  12  13  14]\n",
            "  [ 15  16  17  18  19]\n",
            "  [ 20  21  22  23  24]]\n",
            "\n",
            " [[ 25  26  27  28  29]\n",
            "  [ 30  31  32  33  34]\n",
            "  [ 35  36  37  38  39]\n",
            "  [ 40  41  42  43  44]\n",
            "  [ 45  46  47  48  49]]\n",
            "\n",
            " [[ 50  51  52  53  54]\n",
            "  [ 55  56  57  58  59]\n",
            "  [ 60  61  62  63  64]\n",
            "  [ 65  66  67  68  69]\n",
            "  [ 70  71  72  73  74]]\n",
            "\n",
            " [[ 75  76  77  78  79]\n",
            "  [ 80  81  82  83  84]\n",
            "  [ 85  86  87  88  89]\n",
            "  [ 90  91  92  93  94]\n",
            "  [ 95  96  97  98  99]]\n",
            "\n",
            " [[100 101 102 103 104]\n",
            "  [105 106 107 108 109]\n",
            "  [110 111 112 113 114]\n",
            "  [115 116 117 118 119]\n",
            "  [120 121 122 123 124]]]\n",
            "2d diagonal array:\n",
            " [[  0   6  12  18  24]\n",
            " [ 25  31  37  43  49]\n",
            " [ 50  56  62  68  74]\n",
            " [ 75  81  87  93  99]\n",
            " [100 106 112 118 124]]\n"
          ]
        }
      ]
    },
    {
      "cell_type": "markdown",
      "source": [
        "Flatten a Matrix in Python using NumPy"
      ],
      "metadata": {
        "id": "ZwRMh-PsMQQM"
      }
    },
    {
      "cell_type": "code",
      "source": [
        "arr.flatten()\n"
      ],
      "metadata": {
        "colab": {
          "base_uri": "https://localhost:8080/"
        },
        "id": "uyRyhqTwJqFY",
        "outputId": "039990e3-94ce-4a07-8e5d-6b9eae2bf916"
      },
      "execution_count": null,
      "outputs": [
        {
          "output_type": "execute_result",
          "data": {
            "text/plain": [
              "array([  0,   1,   2,   3,   4,   5,   6,   7,   8,   9,  10,  11,  12,\n",
              "        13,  14,  15,  16,  17,  18,  19,  20,  21,  22,  23,  24,  25,\n",
              "        26,  27,  28,  29,  30,  31,  32,  33,  34,  35,  36,  37,  38,\n",
              "        39,  40,  41,  42,  43,  44,  45,  46,  47,  48,  49,  50,  51,\n",
              "        52,  53,  54,  55,  56,  57,  58,  59,  60,  61,  62,  63,  64,\n",
              "        65,  66,  67,  68,  69,  70,  71,  72,  73,  74,  75,  76,  77,\n",
              "        78,  79,  80,  81,  82,  83,  84,  85,  86,  87,  88,  89,  90,\n",
              "        91,  92,  93,  94,  95,  96,  97,  98,  99, 100, 101, 102, 103,\n",
              "       104, 105, 106, 107, 108, 109, 110, 111, 112, 113, 114, 115, 116,\n",
              "       117, 118, 119, 120, 121, 122, 123, 124])"
            ]
          },
          "metadata": {},
          "execution_count": 55
        }
      ]
    },
    {
      "cell_type": "markdown",
      "source": [
        "Flatten a 2d numpy array into 1d array"
      ],
      "metadata": {
        "id": "qHrh6ozDMj6o"
      }
    },
    {
      "cell_type": "code",
      "source": [
        "x = np.random.rand(2,2)\n",
        "  \n",
        "x.flatten()\n",
        "  \n"
      ],
      "metadata": {
        "colab": {
          "base_uri": "https://localhost:8080/"
        },
        "id": "p-v4fk-pJp_g",
        "outputId": "b07ceb22-c0e8-410d-9cf1-45da8019e4d8"
      },
      "execution_count": null,
      "outputs": [
        {
          "output_type": "execute_result",
          "data": {
            "text/plain": [
              "array([0.08638665, 0.69970929, 0.04975433, 0.59493004])"
            ]
          },
          "metadata": {},
          "execution_count": 56
        }
      ]
    },
    {
      "cell_type": "markdown",
      "source": [
        "Move axes of an array to new positions"
      ],
      "metadata": {
        "id": "Nq5jTxaLM04F"
      }
    },
    {
      "cell_type": "code",
      "source": [
        "\n",
        "arr = np.zeros((2, 3, 4))\n",
        "arr.shape"
      ],
      "metadata": {
        "colab": {
          "base_uri": "https://localhost:8080/"
        },
        "id": "Nwex63FRMkUZ",
        "outputId": "9ba31515-3f54-4d98-eb68-437528e94475"
      },
      "execution_count": null,
      "outputs": [
        {
          "output_type": "execute_result",
          "data": {
            "text/plain": [
              "(2, 3, 4)"
            ]
          },
          "metadata": {},
          "execution_count": 65
        }
      ]
    },
    {
      "cell_type": "code",
      "source": [
        "np.moveaxis(arr, -1, 0).shape"
      ],
      "metadata": {
        "colab": {
          "base_uri": "https://localhost:8080/"
        },
        "id": "VyvLsOroNJSD",
        "outputId": "346de3c1-24c8-419d-b51a-a7cf8012b7e9"
      },
      "execution_count": null,
      "outputs": [
        {
          "output_type": "execute_result",
          "data": {
            "text/plain": [
              "(4, 2, 3)"
            ]
          },
          "metadata": {},
          "execution_count": 61
        }
      ]
    },
    {
      "cell_type": "code",
      "source": [
        "np.transpose(arr).shape"
      ],
      "metadata": {
        "colab": {
          "base_uri": "https://localhost:8080/"
        },
        "id": "AcFjJSL2Mk8U",
        "outputId": "56b485a3-b7cd-4d5e-8575-399576a02812"
      },
      "execution_count": null,
      "outputs": [
        {
          "output_type": "execute_result",
          "data": {
            "text/plain": [
              "(4, 3, 2)"
            ]
          },
          "metadata": {},
          "execution_count": 62
        }
      ]
    },
    {
      "cell_type": "code",
      "source": [
        "np.swapaxes(arr, 0, -1).shape"
      ],
      "metadata": {
        "colab": {
          "base_uri": "https://localhost:8080/"
        },
        "id": "BC3svsbiMk6L",
        "outputId": "8d982618-4aac-43cd-fcfe-dc985b2bdb50"
      },
      "execution_count": null,
      "outputs": [
        {
          "output_type": "execute_result",
          "data": {
            "text/plain": [
              "(4, 3, 2)"
            ]
          },
          "metadata": {},
          "execution_count": 63
        }
      ]
    },
    {
      "cell_type": "markdown",
      "source": [
        "NumPy – Fibonacci Series using Binet Formula"
      ],
      "metadata": {
        "id": "50qn4fAFNc9V"
      }
    },
    {
      "cell_type": "code",
      "source": [
        "a = np.arange(1, 11)\n",
        "lengthA = len(a)\n",
        "  \n",
        "\n",
        "sqrtFive = np.sqrt(5)\n",
        "alpha = (1 + sqrtFive) / 2\n",
        "beta = (1 - sqrtFive) / 2\n",
        "  \n",
        "\n",
        "Fn = np.rint(((alpha ** a) - (beta ** a)) / (sqrtFive))\n",
        "print(\"The first {} numbers of Fibonacci series are {} . \".format(lengthA, Fn))"
      ],
      "metadata": {
        "colab": {
          "base_uri": "https://localhost:8080/"
        },
        "id": "4LzS4kX3Mk3z",
        "outputId": "7ccae8b9-2628-4608-f64d-a17138903f02"
      },
      "execution_count": null,
      "outputs": [
        {
          "output_type": "stream",
          "name": "stdout",
          "text": [
            "The first 10 numbers of Fibonacci series are [ 1.  1.  2.  3.  5.  8. 13. 21. 34. 55.] . \n"
          ]
        }
      ]
    },
    {
      "cell_type": "markdown",
      "source": [
        "Counts the number of non-zero values in the array"
      ],
      "metadata": {
        "id": "RCqf3vTKN2h3"
      }
    },
    {
      "cell_type": "code",
      "source": [
        "np.count_nonzero(a)"
      ],
      "metadata": {
        "colab": {
          "base_uri": "https://localhost:8080/"
        },
        "id": "5bFdOX6UMk1s",
        "outputId": "fea8bbe3-3074-4589-8e11-fe8ff018ed68"
      },
      "execution_count": null,
      "outputs": [
        {
          "output_type": "execute_result",
          "data": {
            "text/plain": [
              "10"
            ]
          },
          "metadata": {},
          "execution_count": 70
        }
      ]
    },
    {
      "cell_type": "markdown",
      "source": [
        "Count the number of elements along a given axis"
      ],
      "metadata": {
        "id": "v7MLkoUqOCbd"
      }
    },
    {
      "cell_type": "code",
      "source": [
        "np.size(a, axis=0)"
      ],
      "metadata": {
        "colab": {
          "base_uri": "https://localhost:8080/"
        },
        "id": "v0mfZXUxMkzm",
        "outputId": "a682b0c4-42dc-4454-bda1-5ec775bcc77c"
      },
      "execution_count": null,
      "outputs": [
        {
          "output_type": "execute_result",
          "data": {
            "text/plain": [
              "10"
            ]
          },
          "metadata": {},
          "execution_count": 73
        }
      ]
    },
    {
      "cell_type": "markdown",
      "source": [
        "Trim the leading and/or trailing zeros from a 1-D array"
      ],
      "metadata": {
        "id": "ejXI2DqvOOq9"
      }
    },
    {
      "cell_type": "code",
      "source": [
        "x = np.array((0, 0, 0, 0, 1, 5, 7, 0, 6, 2, 9, 0, 10, 0, 0))\n",
        "np.trim_zeros(x)\n"
      ],
      "metadata": {
        "colab": {
          "base_uri": "https://localhost:8080/"
        },
        "id": "tLlDPiUgMkxI",
        "outputId": "78853f56-b474-4240-9ce9-0fefb87e7c92"
      },
      "execution_count": null,
      "outputs": [
        {
          "output_type": "execute_result",
          "data": {
            "text/plain": [
              "array([ 1,  5,  7,  0,  6,  2,  9,  0, 10])"
            ]
          },
          "metadata": {},
          "execution_count": 75
        }
      ]
    },
    {
      "cell_type": "markdown",
      "source": [
        "Change data type of given numpy array"
      ],
      "metadata": {
        "id": "mG0f7cCpOiCV"
      }
    },
    {
      "cell_type": "code",
      "source": [
        "x =  np.array((0, 0, 0, 0, 1, 5, 7, 0, 6, 2, 9, 0, 10, 0, 0))\n",
        "x.dtype"
      ],
      "metadata": {
        "colab": {
          "base_uri": "https://localhost:8080/"
        },
        "id": "AnrK2TPXMku8",
        "outputId": "aa1f1d58-4071-4813-a275-d07c6c024210"
      },
      "execution_count": null,
      "outputs": [
        {
          "output_type": "execute_result",
          "data": {
            "text/plain": [
              "dtype('int64')"
            ]
          },
          "metadata": {},
          "execution_count": 76
        }
      ]
    },
    {
      "cell_type": "code",
      "source": [
        "x.astype('float32')\n",
        "x.dtype"
      ],
      "metadata": {
        "colab": {
          "base_uri": "https://localhost:8080/"
        },
        "id": "CSp6O1AQMksj",
        "outputId": "f559a118-1279-4174-fc85-ec9ef4d9a9a3"
      },
      "execution_count": null,
      "outputs": [
        {
          "output_type": "execute_result",
          "data": {
            "text/plain": [
              "dtype('int64')"
            ]
          },
          "metadata": {},
          "execution_count": 78
        }
      ]
    },
    {
      "cell_type": "markdown",
      "source": [
        "Reverse a numpy array"
      ],
      "metadata": {
        "id": "8-iZJwgtOqXj"
      }
    },
    {
      "cell_type": "code",
      "source": [
        "np.flipud(x) "
      ],
      "metadata": {
        "colab": {
          "base_uri": "https://localhost:8080/"
        },
        "id": "B8L6UJbWMkqM",
        "outputId": "e53f95e8-b0da-4edb-b4e6-185ede361cec"
      },
      "execution_count": null,
      "outputs": [
        {
          "output_type": "execute_result",
          "data": {
            "text/plain": [
              "array([ 0,  0, 10,  0,  9,  2,  6,  0,  7,  5,  1,  0,  0,  0,  0])"
            ]
          },
          "metadata": {},
          "execution_count": 79
        }
      ]
    },
    {
      "cell_type": "markdown",
      "source": [
        "How to make a NumPy array read-only?"
      ],
      "metadata": {
        "id": "9t_Xy7RrO5eY"
      }
    },
    {
      "cell_type": "code",
      "source": [
        "x.setflags(write=False)"
      ],
      "metadata": {
        "id": "hLtEvXJ5MkoI"
      },
      "execution_count": null,
      "outputs": []
    },
    {
      "cell_type": "markdown",
      "source": [
        "Get the maximum value from given matrix"
      ],
      "metadata": {
        "id": "y2kdyxHsPC2C"
      }
    },
    {
      "cell_type": "code",
      "source": [
        "np.max(x)"
      ],
      "metadata": {
        "colab": {
          "base_uri": "https://localhost:8080/"
        },
        "id": "vft6cTRXONO8",
        "outputId": "e375c0ae-7e84-4a74-c91a-b7bec50a236d"
      },
      "execution_count": null,
      "outputs": [
        {
          "output_type": "execute_result",
          "data": {
            "text/plain": [
              "10"
            ]
          },
          "metadata": {},
          "execution_count": 81
        }
      ]
    },
    {
      "cell_type": "markdown",
      "source": [
        "Get the minimum value from given matrix"
      ],
      "metadata": {
        "id": "YWkmYfwOPPiW"
      }
    },
    {
      "cell_type": "code",
      "source": [
        "np.min(x)"
      ],
      "metadata": {
        "colab": {
          "base_uri": "https://localhost:8080/"
        },
        "id": "NB-KVmkvONMx",
        "outputId": "5b1eed48-fbbf-4da3-f9e7-42c96f0c6723"
      },
      "execution_count": null,
      "outputs": [
        {
          "output_type": "execute_result",
          "data": {
            "text/plain": [
              "0"
            ]
          },
          "metadata": {},
          "execution_count": 82
        }
      ]
    },
    {
      "cell_type": "markdown",
      "source": [
        "Find the number of rows and columns of a given matrix using NumPy"
      ],
      "metadata": {
        "id": "zU2O9PCXPUSZ"
      }
    },
    {
      "cell_type": "code",
      "source": [
        "x.shape"
      ],
      "metadata": {
        "colab": {
          "base_uri": "https://localhost:8080/"
        },
        "id": "D5_j2Xg5ONKt",
        "outputId": "7c754e78-5074-41ef-8806-2e9ef7f082f6"
      },
      "execution_count": null,
      "outputs": [
        {
          "output_type": "execute_result",
          "data": {
            "text/plain": [
              "(15,)"
            ]
          },
          "metadata": {},
          "execution_count": 83
        }
      ]
    },
    {
      "cell_type": "markdown",
      "source": [
        "Select the elements from a given matrix"
      ],
      "metadata": {
        "id": "AvgMKegSP6ZL"
      }
    },
    {
      "cell_type": "code",
      "source": [
        "x = np.arange(10)\n",
        "\n",
        "condlist = [x<3, x>3]\n",
        "\n",
        "choicelist = [x, x**2]\n",
        "\n",
        "np.select(condlist, choicelist, 42)"
      ],
      "metadata": {
        "colab": {
          "base_uri": "https://localhost:8080/"
        },
        "id": "N_5FXTdvONIZ",
        "outputId": "fa7eca31-3610-4c25-a25c-8494b6bba8a4"
      },
      "execution_count": null,
      "outputs": [
        {
          "output_type": "execute_result",
          "data": {
            "text/plain": [
              "array([ 0,  1,  2, 42, 16, 25, 36, 49, 64, 81])"
            ]
          },
          "metadata": {},
          "execution_count": 91
        }
      ]
    },
    {
      "cell_type": "markdown",
      "source": [
        "Find the sum of values in a matrix"
      ],
      "metadata": {
        "id": "VpeL3k6mP_fD"
      }
    },
    {
      "cell_type": "code",
      "source": [
        "x.sum()"
      ],
      "metadata": {
        "colab": {
          "base_uri": "https://localhost:8080/"
        },
        "id": "LvADSO_MONGZ",
        "outputId": "d122cbf6-fd2c-48bc-b89f-7d04f35e6bdb"
      },
      "execution_count": null,
      "outputs": [
        {
          "output_type": "execute_result",
          "data": {
            "text/plain": [
              "45"
            ]
          },
          "metadata": {},
          "execution_count": 92
        }
      ]
    },
    {
      "cell_type": "markdown",
      "source": [
        "Calculate the sum of the diagonal elements of a NumPy array"
      ],
      "metadata": {
        "id": "985o9gmKQDPE"
      }
    },
    {
      "cell_type": "code",
      "source": [
        "x = np.ones((3,5))\n",
        "\n",
        "np.trace(x)"
      ],
      "metadata": {
        "colab": {
          "base_uri": "https://localhost:8080/"
        },
        "id": "UQrkomr6ONEB",
        "outputId": "0f60c4b8-de3b-4cf8-97cc-e3be79535bcf"
      },
      "execution_count": null,
      "outputs": [
        {
          "output_type": "execute_result",
          "data": {
            "text/plain": [
              "3.0"
            ]
          },
          "metadata": {},
          "execution_count": 94
        }
      ]
    },
    {
      "cell_type": "markdown",
      "source": [
        "Adding and Subtracting Matrices in Python"
      ],
      "metadata": {
        "id": "UrH8eAB_Qe7r"
      }
    },
    {
      "cell_type": "code",
      "execution_count": null,
      "metadata": {
        "colab": {
          "base_uri": "https://localhost:8080/"
        },
        "id": "jporrUwekCr3",
        "outputId": "f70bf922-8044-4a2c-db9e-7d397856fde1"
      },
      "outputs": [
        {
          "output_type": "execute_result",
          "data": {
            "text/plain": [
              "array([0, 1, 2, 3])"
            ]
          },
          "metadata": {},
          "execution_count": 95
        }
      ],
      "source": [
        "a = np.array( [20,30,40,50] )\n",
        "b = np.arange( 4 )\n",
        "b"
      ]
    },
    {
      "cell_type": "code",
      "source": [
        "c = a-b\n",
        "c"
      ],
      "metadata": {
        "colab": {
          "base_uri": "https://localhost:8080/"
        },
        "id": "0Q2e0JNoQfc4",
        "outputId": "4d58cb94-340f-4aef-f8bd-e62d01ddc6d2"
      },
      "execution_count": null,
      "outputs": [
        {
          "output_type": "execute_result",
          "data": {
            "text/plain": [
              "array([20, 29, 38, 47])"
            ]
          },
          "metadata": {},
          "execution_count": 96
        }
      ]
    },
    {
      "cell_type": "code",
      "source": [
        "d = a+c\n",
        "d"
      ],
      "metadata": {
        "colab": {
          "base_uri": "https://localhost:8080/"
        },
        "id": "cSg7a-5LQf9X",
        "outputId": "c6692a73-74f1-4846-9cb1-b03f5b07df09"
      },
      "execution_count": null,
      "outputs": [
        {
          "output_type": "execute_result",
          "data": {
            "text/plain": [
              "array([40, 59, 78, 97])"
            ]
          },
          "metadata": {},
          "execution_count": 98
        }
      ]
    },
    {
      "cell_type": "markdown",
      "source": [
        "Ways to add row/columns in numpy array"
      ],
      "metadata": {
        "id": "oj2rhGoFQvn7"
      }
    },
    {
      "cell_type": "code",
      "source": [
        "x = np.array([[1, 2, 3], [45, 4, 7], [9, 6, 10]])\n",
        "\n",
        "columnadd = np.array([[1], [2], [3]])\n",
        " \n",
        "arr = np.concatenate([x, columnadd], axis=1)\n",
        " \n",
        "print (\"resultant array\", str(arr))"
      ],
      "metadata": {
        "colab": {
          "base_uri": "https://localhost:8080/"
        },
        "id": "bdsONN7vQf62",
        "outputId": "10626691-3f06-4ca9-a6a7-11e35b6edb91"
      },
      "execution_count": null,
      "outputs": [
        {
          "output_type": "stream",
          "name": "stdout",
          "text": [
            "resultant array [[ 1  2  3  1]\n",
            " [45  4  7  2]\n",
            " [ 9  6 10  3]]\n"
          ]
        }
      ]
    },
    {
      "cell_type": "code",
      "source": [
        "x = np.array([[1, 2, 3], [45, 4, 7], [9, 6, 10]])\n",
        "columnadd = np.array([[1], [2], [3]])\n",
        "\n",
        "np.insert(x, 0, columnadd, axis =1)"
      ],
      "metadata": {
        "colab": {
          "base_uri": "https://localhost:8080/"
        },
        "id": "Kie0aLkEQf4v",
        "outputId": "77c7fb08-443f-4310-8448-9e77c88ac933"
      },
      "execution_count": null,
      "outputs": [
        {
          "output_type": "execute_result",
          "data": {
            "text/plain": [
              "array([[ 1,  2,  3,  1,  2,  3],\n",
              "       [ 1,  2,  3, 45,  4,  7],\n",
              "       [ 1,  2,  3,  9,  6, 10]])"
            ]
          },
          "metadata": {},
          "execution_count": 104
        }
      ]
    },
    {
      "cell_type": "markdown",
      "source": [
        "Matrix Multiplication in NumPy"
      ],
      "metadata": {
        "id": "DVHZg_e8RTc4"
      }
    },
    {
      "cell_type": "code",
      "source": [
        "b*a"
      ],
      "metadata": {
        "colab": {
          "base_uri": "https://localhost:8080/"
        },
        "id": "6_DZqmhEQf17",
        "outputId": "a0fc8bf9-a0a8-4cde-b24d-ac7690fcb21b"
      },
      "execution_count": null,
      "outputs": [
        {
          "output_type": "execute_result",
          "data": {
            "text/plain": [
              "array([  0,  30,  80, 150])"
            ]
          },
          "metadata": {},
          "execution_count": 105
        }
      ]
    },
    {
      "cell_type": "markdown",
      "source": [
        "Get the eigen values of a matrix"
      ],
      "metadata": {
        "id": "_rpLc8iQR6mU"
      }
    },
    {
      "cell_type": "code",
      "source": [
        "from numpy import linalg as LA\n",
        "w, v = LA.eig(np.diag((1, 2, 3,4,5,6)))\n",
        "w,v"
      ],
      "metadata": {
        "colab": {
          "base_uri": "https://localhost:8080/"
        },
        "id": "gRRoGtpwQfyy",
        "outputId": "ff400cdd-2be3-4757-e262-4711c7e64b90"
      },
      "execution_count": null,
      "outputs": [
        {
          "output_type": "execute_result",
          "data": {
            "text/plain": [
              "(array([1., 2., 3., 4., 5., 6.]), array([[1., 0., 0., 0., 0., 0.],\n",
              "        [0., 1., 0., 0., 0., 0.],\n",
              "        [0., 0., 1., 0., 0., 0.],\n",
              "        [0., 0., 0., 1., 0., 0.],\n",
              "        [0., 0., 0., 0., 1., 0.],\n",
              "        [0., 0., 0., 0., 0., 1.]]))"
            ]
          },
          "metadata": {},
          "execution_count": 109
        }
      ]
    },
    {
      "cell_type": "markdown",
      "source": [
        "How to Calculate the determinant of a matrix using NumPy?"
      ],
      "metadata": {
        "id": "_228mYq-R4yT"
      }
    },
    {
      "cell_type": "code",
      "source": [
        "np.linalg.det(x)"
      ],
      "metadata": {
        "colab": {
          "base_uri": "https://localhost:8080/"
        },
        "id": "M1wToJzlQfwj",
        "outputId": "8d7162b5-114c-446b-e65a-1a3d960b341f"
      },
      "execution_count": null,
      "outputs": [
        {
          "output_type": "execute_result",
          "data": {
            "text/plain": [
              "-73.99999999999983"
            ]
          },
          "metadata": {},
          "execution_count": 110
        }
      ]
    },
    {
      "cell_type": "markdown",
      "source": [
        "How to inverse a matrix using NumPy"
      ],
      "metadata": {
        "id": "JeviJ_VXSGyj"
      }
    },
    {
      "cell_type": "code",
      "source": [
        "np.linalg.inv(x)"
      ],
      "metadata": {
        "colab": {
          "base_uri": "https://localhost:8080/"
        },
        "id": "5ipbDgX0R-kj",
        "outputId": "9438b233-3d5f-477d-ec5f-120307fe5da0"
      },
      "execution_count": null,
      "outputs": [
        {
          "output_type": "execute_result",
          "data": {
            "text/plain": [
              "array([[ 0.02702703,  0.02702703, -0.02702703],\n",
              "       [ 5.22972973,  0.22972973, -1.72972973],\n",
              "       [-3.16216216, -0.16216216,  1.16216216]])"
            ]
          },
          "metadata": {},
          "execution_count": 111
        }
      ]
    },
    {
      "cell_type": "markdown",
      "source": [
        "How to count the frequency of unique values in NumPy array?"
      ],
      "metadata": {
        "id": "DXYIVlP-SHUw"
      }
    },
    {
      "cell_type": "code",
      "source": [
        "\n",
        "ini_array = np.array([1,1,2,3,4,5,6,9,78])\n",
        "  \n",
        "\n",
        "unique, frequency = np.unique(ini_array, \n",
        "                              return_counts = True)\n",
        "\n",
        "unique, frequency"
      ],
      "metadata": {
        "colab": {
          "base_uri": "https://localhost:8080/"
        },
        "id": "CNta4WkASHvJ",
        "outputId": "c1e17e6b-1fc0-450c-b47e-a487bb110543"
      },
      "execution_count": null,
      "outputs": [
        {
          "output_type": "execute_result",
          "data": {
            "text/plain": [
              "(array([ 1,  2,  3,  4,  5,  6,  9, 78]), array([2, 1, 1, 1, 1, 1, 1, 1]))"
            ]
          },
          "metadata": {},
          "execution_count": 113
        }
      ]
    },
    {
      "cell_type": "markdown",
      "source": [
        "Multiply matrices of complex numbers using NumPy in Python"
      ],
      "metadata": {
        "id": "2NBZTifeSIDe"
      }
    },
    {
      "cell_type": "code",
      "source": [
        "x = np.array([2+3j, 4+5j])\n",
        "\n",
        "print(x)\n",
        "  \n",
        "y = np.array([8+7j, 5+6j])\n",
        "\n",
        "print(y)\n",
        "  \n",
        "\n",
        "z = np.vdot(x, y)\n",
        "z"
      ],
      "metadata": {
        "colab": {
          "base_uri": "https://localhost:8080/"
        },
        "id": "CEVk-EnbSIWK",
        "outputId": "e7b85606-c799-40ec-e386-e350bc103d0d"
      },
      "execution_count": null,
      "outputs": [
        {
          "output_type": "stream",
          "name": "stdout",
          "text": [
            "[2.+3.j 4.+5.j]\n",
            "[8.+7.j 5.+6.j]\n"
          ]
        },
        {
          "output_type": "execute_result",
          "data": {
            "text/plain": [
              "(87-11j)"
            ]
          },
          "metadata": {},
          "execution_count": 114
        }
      ]
    },
    {
      "cell_type": "markdown",
      "source": [
        "Compute the outer product of two given vectors using NumPy in Python"
      ],
      "metadata": {
        "id": "jhuDMfDJSIqS"
      }
    },
    {
      "cell_type": "code",
      "source": [
        "array1 = np.array([3,4,5])\n",
        "array2 = np.array([5,6,4])\n",
        "\n",
        "print(array1)\n",
        "print(array2)\n",
        "  \n",
        "\n",
        "result = np.outer(array1, array2)\n",
        "result"
      ],
      "metadata": {
        "colab": {
          "base_uri": "https://localhost:8080/"
        },
        "id": "JHQl2ENMSI93",
        "outputId": "b403243b-6751-4102-a03c-cae0b1b84f80"
      },
      "execution_count": null,
      "outputs": [
        {
          "output_type": "stream",
          "name": "stdout",
          "text": [
            "[3 4 5]\n",
            "[5 6 4]\n"
          ]
        },
        {
          "output_type": "execute_result",
          "data": {
            "text/plain": [
              "array([[15, 18, 12],\n",
              "       [20, 24, 16],\n",
              "       [25, 30, 20]])"
            ]
          },
          "metadata": {},
          "execution_count": 115
        }
      ]
    },
    {
      "cell_type": "markdown",
      "source": [
        "Calculate inner, outer, and cross products of matrices and vectors using NumPy"
      ],
      "metadata": {
        "id": "jBDKYS3HSJQD"
      }
    },
    {
      "cell_type": "code",
      "source": [
        "a = np.array([2, 6])\n",
        "b = np.array([3, 10])\n",
        "print(\"arrays :\")\n",
        "print(\"a = \", a)\n",
        "print(\"\\nb = \", b)\n",
        "  \n",
        "\n",
        "print(\"Inner product a and b =\")\n",
        "print(np.inner(a, b))\n",
        "  \n",
        "x = np.array([[2, 3, 4], [3, 2, 9]])\n",
        "y = np.array([[1, 5, 0], [5, 10, 3]])\n",
        "print(\"\\nMatrices :\")\n",
        "print(\"x =\", x)\n",
        "print(\"\\ny =\", y)\n",
        "  \n",
        "# Inner product of matrices\n",
        "print(\"\\nInner product  x and y =\")\n",
        "print(np.inner(x, y))"
      ],
      "metadata": {
        "colab": {
          "base_uri": "https://localhost:8080/"
        },
        "id": "TxkoxndgSJiX",
        "outputId": "d94a9d35-d98d-426a-e1f5-8fccb861b6a1"
      },
      "execution_count": null,
      "outputs": [
        {
          "output_type": "stream",
          "name": "stdout",
          "text": [
            "arrays :\n",
            "a =  [2 6]\n",
            "\n",
            "b =  [ 3 10]\n",
            "Inner product a and b =\n",
            "66\n",
            "\n",
            "Matrices :\n",
            "x = [[2 3 4]\n",
            " [3 2 9]]\n",
            "\n",
            "y = [[ 1  5  0]\n",
            " [ 5 10  3]]\n",
            "\n",
            "Inner product  x and y =\n",
            "[[17 52]\n",
            " [13 62]]\n"
          ]
        }
      ]
    },
    {
      "cell_type": "markdown",
      "source": [
        "Compute the covariance matrix of two given NumPy arrays"
      ],
      "metadata": {
        "id": "PCl1rZ5ZSJyw"
      }
    },
    {
      "cell_type": "code",
      "source": [
        "np.cov(x, y)"
      ],
      "metadata": {
        "colab": {
          "base_uri": "https://localhost:8080/"
        },
        "id": "dgpGeSC9SKN3",
        "outputId": "e889d8cf-1e23-4b01-d0fc-d01bda5e1cb9"
      },
      "execution_count": null,
      "outputs": [
        {
          "output_type": "execute_result",
          "data": {
            "text/plain": [
              "array([[  1.        ,   3.        ,  -0.5       ,  -1.        ],\n",
              "       [  3.        ,  14.33333333,  -7.5       , -11.        ],\n",
              "       [ -0.5       ,  -7.5       ,   7.        ,   9.5       ],\n",
              "       [ -1.        , -11.        ,   9.5       ,  13.        ]])"
            ]
          },
          "metadata": {},
          "execution_count": 117
        }
      ]
    },
    {
      "cell_type": "markdown",
      "source": [],
      "metadata": {
        "id": "T8GdtuW1S0VZ"
      }
    },
    {
      "cell_type": "code",
      "source": [
        "np.cov(x,y,rowvar=False)"
      ],
      "metadata": {
        "colab": {
          "base_uri": "https://localhost:8080/"
        },
        "id": "l-RxHrLoS0pn",
        "outputId": "c5be5e37-5729-453d-e834-925dd6a16ec9"
      },
      "execution_count": null,
      "outputs": [
        {
          "output_type": "execute_result",
          "data": {
            "text/plain": [
              "array([[ 0.5, -0.5,  2.5,  2. ,  2.5,  1.5],\n",
              "       [-0.5,  0.5, -2.5, -2. , -2.5, -1.5],\n",
              "       [ 2.5, -2.5, 12.5, 10. , 12.5,  7.5],\n",
              "       [ 2. , -2. , 10. ,  8. , 10. ,  6. ],\n",
              "       [ 2.5, -2.5, 12.5, 10. , 12.5,  7.5],\n",
              "       [ 1.5, -1.5,  7.5,  6. ,  7.5,  4.5]])"
            ]
          },
          "metadata": {},
          "execution_count": 118
        }
      ]
    },
    {
      "cell_type": "markdown",
      "source": [
        "Compute the Kronecker product of two mulitdimension NumPy arrays"
      ],
      "metadata": {
        "id": "S8z_4NeHS09w"
      }
    },
    {
      "cell_type": "code",
      "source": [
        "np.kron(x, y)"
      ],
      "metadata": {
        "colab": {
          "base_uri": "https://localhost:8080/"
        },
        "id": "b3ykhz2PS1Lp",
        "outputId": "391ca784-2121-430a-be2b-bba00ddb2c1f"
      },
      "execution_count": null,
      "outputs": [
        {
          "output_type": "execute_result",
          "data": {
            "text/plain": [
              "array([[ 2, 10,  0,  3, 15,  0,  4, 20,  0],\n",
              "       [10, 20,  6, 15, 30,  9, 20, 40, 12],\n",
              "       [ 3, 15,  0,  2, 10,  0,  9, 45,  0],\n",
              "       [15, 30,  9, 10, 20,  6, 45, 90, 27]])"
            ]
          },
          "metadata": {},
          "execution_count": 119
        }
      ]
    },
    {
      "cell_type": "markdown",
      "source": [
        "Convert the matrix into a list"
      ],
      "metadata": {
        "id": "R34xa7ClS1l5"
      }
    },
    {
      "cell_type": "code",
      "source": [
        "np.matrix.tolist(x)"
      ],
      "metadata": {
        "colab": {
          "base_uri": "https://localhost:8080/"
        },
        "id": "_bxyMAXyS11A",
        "outputId": "c5200f83-b3ee-451e-e52b-5cfe6b8af7a6"
      },
      "execution_count": null,
      "outputs": [
        {
          "output_type": "execute_result",
          "data": {
            "text/plain": [
              "[[2, 3, 4], [3, 2, 9]]"
            ]
          },
          "metadata": {},
          "execution_count": 121
        }
      ]
    },
    {
      "cell_type": "markdown",
      "source": [
        "Replace NumPy array elements that doesn’t satisfy the given condition"
      ],
      "metadata": {
        "id": "-vneOyOdS2DD"
      }
    },
    {
      "cell_type": "code",
      "source": [
        "x = np.array([77, 88,1])\n",
        "\n",
        "\n",
        "x[x < 50] = 99\n",
        "  \n",
        "x"
      ],
      "metadata": {
        "colab": {
          "base_uri": "https://localhost:8080/"
        },
        "id": "ZL43_mQ9S2UB",
        "outputId": "71e2d5e1-90c6-404e-84dc-f4b58f0c6d07"
      },
      "execution_count": null,
      "outputs": [
        {
          "output_type": "execute_result",
          "data": {
            "text/plain": [
              "array([77, 88, 99])"
            ]
          },
          "metadata": {},
          "execution_count": 122
        }
      ]
    },
    {
      "cell_type": "markdown",
      "source": [
        "Return the indices of elements where the given condition is satisfied"
      ],
      "metadata": {
        "id": "g5BcM-RpS2yR"
      }
    },
    {
      "cell_type": "code",
      "source": [
        "np.where(x>50)"
      ],
      "metadata": {
        "colab": {
          "base_uri": "https://localhost:8080/"
        },
        "id": "2Bh4umB9S3DB",
        "outputId": "0144eb92-bde6-40a7-984e-49a927d3e05a"
      },
      "execution_count": null,
      "outputs": [
        {
          "output_type": "execute_result",
          "data": {
            "text/plain": [
              "(array([0, 1, 2]),)"
            ]
          },
          "metadata": {},
          "execution_count": 125
        }
      ]
    },
    {
      "cell_type": "markdown",
      "source": [
        "Replace NaN values with average of columns"
      ],
      "metadata": {
        "id": "n-3SN-a-S3SB"
      }
    },
    {
      "cell_type": "code",
      "source": [
        "x = np.array((1,2,3,np.nan))\n",
        "x"
      ],
      "metadata": {
        "colab": {
          "base_uri": "https://localhost:8080/"
        },
        "id": "QmMQ6xQ0S3lh",
        "outputId": "8d8abd9b-195e-4acc-b1fa-78ede2783e50"
      },
      "execution_count": null,
      "outputs": [
        {
          "output_type": "execute_result",
          "data": {
            "text/plain": [
              "array([ 1.,  2.,  3., nan])"
            ]
          },
          "metadata": {},
          "execution_count": 127
        }
      ]
    },
    {
      "cell_type": "code",
      "source": [
        "x[np.isnan(x)] = x[0:-1].mean()\n",
        "x"
      ],
      "metadata": {
        "colab": {
          "base_uri": "https://localhost:8080/"
        },
        "id": "gIGou4VlUtkQ",
        "outputId": "63703624-a856-4b87-f20a-12d6f2d7ceb5"
      },
      "execution_count": null,
      "outputs": [
        {
          "output_type": "execute_result",
          "data": {
            "text/plain": [
              "array([1., 2., 3., 2.])"
            ]
          },
          "metadata": {},
          "execution_count": 137
        }
      ]
    },
    {
      "cell_type": "markdown",
      "source": [
        "Replace negative value with zero in numpy array"
      ],
      "metadata": {
        "id": "mDn46ZAdS30a"
      }
    },
    {
      "cell_type": "code",
      "source": [
        "x = np.array([1, 2, -3, 4, -5, -6])\n",
        "  \n",
        "\n",
        "\n",
        "x[x<0] = 0\n",
        "  \n",
        "\n",
        "x"
      ],
      "metadata": {
        "colab": {
          "base_uri": "https://localhost:8080/"
        },
        "id": "QlWbXy9ES4ER",
        "outputId": "4f9c5f90-67d4-4ba7-bc4f-3f120e86c2b8"
      },
      "execution_count": null,
      "outputs": [
        {
          "output_type": "execute_result",
          "data": {
            "text/plain": [
              "array([1, 2, 0, 4, 0, 0])"
            ]
          },
          "metadata": {},
          "execution_count": 139
        }
      ]
    },
    {
      "cell_type": "markdown",
      "source": [
        "How to get values of an NumPy array at certain index positions?"
      ],
      "metadata": {
        "id": "Gpr8-ec9S4SD"
      }
    },
    {
      "cell_type": "code",
      "source": [
        "x1 = np.array([1, 10, 0, 30, 387])\n",
        "\n",
        "  \n",
        "x2 = np.array([25, 9, 1])\n",
        "\n",
        "  \n",
        "  \n",
        "x1.put([0, 4], x2)\n",
        "  \n",
        "x1"
      ],
      "metadata": {
        "colab": {
          "base_uri": "https://localhost:8080/"
        },
        "id": "XDFN8c5zS4iA",
        "outputId": "91e59ef5-2f23-45ff-80be-fe789167bc76"
      },
      "execution_count": null,
      "outputs": [
        {
          "output_type": "execute_result",
          "data": {
            "text/plain": [
              "array([25, 10,  0, 30,  9])"
            ]
          },
          "metadata": {},
          "execution_count": 141
        }
      ]
    },
    {
      "cell_type": "markdown",
      "source": [
        "Find indices of elements equal to zero in a NumPy array"
      ],
      "metadata": {
        "id": "SavioxrZV6h6"
      }
    },
    {
      "cell_type": "code",
      "source": [
        "n_array = np.array(([1, 0, 2,15,30, 3, 0, 0, 5,\n",
        "                    6, 7, 5, 0, 81,2,4,6,7,0,6,34,0]))\n",
        "  \n",
        "np.where(n_array == 0)[0]\n"
      ],
      "metadata": {
        "colab": {
          "base_uri": "https://localhost:8080/"
        },
        "id": "zSzR0qjxV6_6",
        "outputId": "e5b86b40-5c4e-49c7-bd3f-79597e0842de"
      },
      "execution_count": null,
      "outputs": [
        {
          "output_type": "execute_result",
          "data": {
            "text/plain": [
              "array([ 1,  6,  7, 12, 18, 21])"
            ]
          },
          "metadata": {},
          "execution_count": 147
        }
      ]
    },
    {
      "cell_type": "markdown",
      "source": [
        "How to Remove columns in Numpy array that contains non-numeric values?"
      ],
      "metadata": {
        "id": "1FZ1_p0VV7RJ"
      }
    },
    {
      "cell_type": "code",
      "source": [
        "x = np.array([[10,2,3,49, 22.5, np.nan],\n",
        "                  [25,0,1,41, 52.5, np.nan]])\n",
        "y = x[:, ~np.isnan(x).any(axis=0)]\n",
        "\n",
        "y\n"
      ],
      "metadata": {
        "colab": {
          "base_uri": "https://localhost:8080/"
        },
        "id": "_lsvnF7GV7la",
        "outputId": "23127b15-8429-4236-ed1a-29856c72753b"
      },
      "execution_count": null,
      "outputs": [
        {
          "output_type": "execute_result",
          "data": {
            "text/plain": [
              "array([[10. ,  2. ,  3. , 49. , 22.5],\n",
              "       [25. ,  0. ,  1. , 41. , 52.5]])"
            ]
          },
          "metadata": {},
          "execution_count": 149
        }
      ]
    },
    {
      "cell_type": "markdown",
      "source": [
        "How to access different rows of a multidimensional NumPy array?"
      ],
      "metadata": {
        "id": "XZS3LV1hV7zt"
      }
    },
    {
      "cell_type": "code",
      "source": [
        "y[[1,1]]"
      ],
      "metadata": {
        "colab": {
          "base_uri": "https://localhost:8080/"
        },
        "id": "aOHkJTl1V8DJ",
        "outputId": "17f480c8-f30d-4c8c-80f1-e23b0c5ee42d"
      },
      "execution_count": null,
      "outputs": [
        {
          "output_type": "execute_result",
          "data": {
            "text/plain": [
              "array([[25. ,  0. ,  1. , 41. , 52.5],\n",
              "       [25. ,  0. ,  1. , 41. , 52.5]])"
            ]
          },
          "metadata": {},
          "execution_count": 152
        }
      ]
    },
    {
      "cell_type": "markdown",
      "source": [
        "Get row numbers of NumPy array having element larger than X"
      ],
      "metadata": {
        "id": "zD3IF7ndV8St"
      }
    },
    {
      "cell_type": "code",
      "source": [
        "np.where(np.any(y > 15,axis = 1))"
      ],
      "metadata": {
        "colab": {
          "base_uri": "https://localhost:8080/"
        },
        "id": "0R04cC_5V8jJ",
        "outputId": "aaf2f16d-15cc-42f3-a25b-c5484f5abfe2"
      },
      "execution_count": null,
      "outputs": [
        {
          "output_type": "execute_result",
          "data": {
            "text/plain": [
              "(array([0, 1]),)"
            ]
          },
          "metadata": {},
          "execution_count": 153
        }
      ]
    },
    {
      "cell_type": "markdown",
      "source": [],
      "metadata": {
        "id": "KyGnSxHpV80l"
      }
    },
    {
      "cell_type": "code",
      "source": [
        "a = np.zeros((5, 5), float)\n",
        "np.fill_diagonal(a,7)\n",
        "a"
      ],
      "metadata": {
        "colab": {
          "base_uri": "https://localhost:8080/"
        },
        "id": "4X_kQTEvV9Fz",
        "outputId": "57d6092c-a4a2-4842-c368-2fe5104666c4"
      },
      "execution_count": null,
      "outputs": [
        {
          "output_type": "execute_result",
          "data": {
            "text/plain": [
              "array([[7., 0., 0., 0., 0.],\n",
              "       [0., 7., 0., 0., 0.],\n",
              "       [0., 0., 7., 0., 0.],\n",
              "       [0., 0., 0., 7., 0.],\n",
              "       [0., 0., 0., 0., 7.]])"
            ]
          },
          "metadata": {},
          "execution_count": 156
        }
      ]
    },
    {
      "cell_type": "markdown",
      "source": [],
      "metadata": {
        "id": "VDFKLuOFV9f5"
      }
    },
    {
      "cell_type": "code",
      "source": [
        "print(2 in x)\n",
        "print(0 in x)\n",
        "print(6 in x)\n",
        "print(50 in x)\n",
        "print(10 in x)"
      ],
      "metadata": {
        "colab": {
          "base_uri": "https://localhost:8080/"
        },
        "id": "tZloeAUkV9sn",
        "outputId": "eb24f7e1-4eb3-4649-f4a5-743242214d3d"
      },
      "execution_count": null,
      "outputs": [
        {
          "output_type": "stream",
          "name": "stdout",
          "text": [
            "True\n",
            "True\n",
            "False\n",
            "False\n",
            "True\n"
          ]
        }
      ]
    },
    {
      "cell_type": "markdown",
      "source": [
        "Combined array index by index"
      ],
      "metadata": {
        "id": "3VfMcua6V95a"
      }
    },
    {
      "cell_type": "code",
      "source": [
        "x = np.array([1, 2, 3, 4])\n",
        "\n",
        "print(x[2] +x[3]) "
      ],
      "metadata": {
        "colab": {
          "base_uri": "https://localhost:8080/"
        },
        "id": "SnczHo_XV-QR",
        "outputId": "2055fb2e-97e7-4adb-f7d6-783d41c54865"
      },
      "execution_count": null,
      "outputs": [
        {
          "output_type": "stream",
          "name": "stdout",
          "text": [
            "7\n"
          ]
        }
      ]
    },
    {
      "cell_type": "markdown",
      "source": [
        "Find a matrix or vector norm using NumPy"
      ],
      "metadata": {
        "id": "lHX8uTG_V-ja"
      }
    },
    {
      "cell_type": "code",
      "source": [
        "np.linalg.norm(x)"
      ],
      "metadata": {
        "colab": {
          "base_uri": "https://localhost:8080/"
        },
        "id": "x6g5j4cYV_AZ",
        "outputId": "dc107a73-ac12-49e2-fc80-f49a70f566b8"
      },
      "execution_count": null,
      "outputs": [
        {
          "output_type": "execute_result",
          "data": {
            "text/plain": [
              "5.477225575051661"
            ]
          },
          "metadata": {},
          "execution_count": 162
        }
      ]
    },
    {
      "cell_type": "markdown",
      "source": [
        "Calculate the QR decomposition of a given matrix using NumPy"
      ],
      "metadata": {
        "id": "nP7nJf99Y7gV"
      }
    },
    {
      "cell_type": "code",
      "source": [
        "x = np.array([[10,67,88], [100,200,678]])\n",
        "np.linalg.qr(x)"
      ],
      "metadata": {
        "colab": {
          "base_uri": "https://localhost:8080/"
        },
        "id": "5tJnbyn-Y7te",
        "outputId": "0f9e4398-aa32-4bcd-ca70-729023c6cba6"
      },
      "execution_count": null,
      "outputs": [
        {
          "output_type": "execute_result",
          "data": {
            "text/plain": [
              "(array([[-0.09950372, -0.99503719],\n",
              "        [-0.99503719,  0.09950372]]),\n",
              " array([[-100.49875621, -205.67418722, -683.39154224],\n",
              "        [   0.        ,  -46.76674794,  -20.09975124]]))"
            ]
          },
          "metadata": {},
          "execution_count": 171
        }
      ]
    },
    {
      "cell_type": "markdown",
      "source": [
        "Compute the condition number of a given matrix using NumPy"
      ],
      "metadata": {
        "id": "w3J6gdd8Y8AF"
      }
    },
    {
      "cell_type": "code",
      "source": [
        "np.linalg.cond(x)"
      ],
      "metadata": {
        "colab": {
          "base_uri": "https://localhost:8080/"
        },
        "id": "pV7pMoVBY8O7",
        "outputId": "848ee6fb-8d81-4456-c176-70e9ebe1024d"
      },
      "execution_count": null,
      "outputs": [
        {
          "output_type": "execute_result",
          "data": {
            "text/plain": [
              "18.39646422953988"
            ]
          },
          "metadata": {},
          "execution_count": 166
        }
      ]
    },
    {
      "cell_type": "markdown",
      "source": [
        "Compute the eigenvalues and right eigenvectors of a given square array using NumPy?"
      ],
      "metadata": {
        "id": "kA1wukmuY8fv"
      }
    },
    {
      "cell_type": "code",
      "source": [
        "y = [[3, 6],\n",
        "              [12, 15]]\n",
        "np.linalg.eig(y)\n",
        "  "
      ],
      "metadata": {
        "colab": {
          "base_uri": "https://localhost:8080/"
        },
        "id": "RB6-0MTwY81O",
        "outputId": "d8b3a58e-8238-4d84-c20e-c00377e8502d"
      },
      "execution_count": null,
      "outputs": [
        {
          "output_type": "execute_result",
          "data": {
            "text/plain": [
              "(array([-1.39230485, 19.39230485]), array([[-0.80689822, -0.34372377],\n",
              "        [ 0.59069049, -0.9390708 ]]))"
            ]
          },
          "metadata": {},
          "execution_count": 173
        }
      ]
    },
    {
      "cell_type": "markdown",
      "source": [
        "Calculate the Euclidean distance using NumPy"
      ],
      "metadata": {
        "id": "0BFL_0EFY9jq"
      }
    },
    {
      "cell_type": "code",
      "source": [
        "x = np.array([[5,6], [10, 20]])\n",
        "np.linalg.norm(x - y)\n",
        " "
      ],
      "metadata": {
        "colab": {
          "base_uri": "https://localhost:8080/"
        },
        "id": "1lNsf-EIY94i",
        "outputId": "e5508f67-50dd-44c3-8cbe-e2e829eec94f"
      },
      "execution_count": null,
      "outputs": [
        {
          "output_type": "execute_result",
          "data": {
            "text/plain": [
              "5.744562646538029"
            ]
          },
          "metadata": {},
          "execution_count": 177
        }
      ]
    },
    {
      "cell_type": "markdown",
      "source": [
        "Create a Numpy array with random values"
      ],
      "metadata": {
        "id": "XeRapIlhY9CV"
      }
    },
    {
      "cell_type": "code",
      "source": [
        "np.random.rand(3,4)"
      ],
      "metadata": {
        "colab": {
          "base_uri": "https://localhost:8080/"
        },
        "id": "TFjQ322iaYL1",
        "outputId": "aaa76472-c70a-4330-cbc6-7b6404d3959d"
      },
      "execution_count": null,
      "outputs": [
        {
          "output_type": "execute_result",
          "data": {
            "text/plain": [
              "array([[0.13350723, 0.16628703, 0.79561777, 0.05150047],\n",
              "       [0.44213757, 0.81734189, 0.81008651, 0.74720826],\n",
              "       [0.23074778, 0.1303813 , 0.15640249, 0.74208105]])"
            ]
          },
          "metadata": {},
          "execution_count": 178
        }
      ]
    },
    {
      "cell_type": "markdown",
      "source": [
        "How to choose elements from the list with different probability using NumPy?"
      ],
      "metadata": {
        "id": "pmX-DlCoaYip"
      }
    },
    {
      "cell_type": "code",
      "source": [
        "x = [1,2,3,4,5,6]\n",
        "np.random.choice(x)"
      ],
      "metadata": {
        "colab": {
          "base_uri": "https://localhost:8080/"
        },
        "id": "3qWzDCQvaYyS",
        "outputId": "43b6ec8e-090a-4c8a-8362-d9f8cd7d8774"
      },
      "execution_count": null,
      "outputs": [
        {
          "output_type": "execute_result",
          "data": {
            "text/plain": [
              "2"
            ]
          },
          "metadata": {},
          "execution_count": 179
        }
      ]
    },
    {
      "cell_type": "markdown",
      "source": [
        "How to get weighted random choice in Python?"
      ],
      "metadata": {
        "id": "ZyO0eboUaY7x"
      }
    },
    {
      "cell_type": "code",
      "source": [
        "from numpy.random import choice\n",
        "  \n",
        "sampleList = [100, 200, 300, 400, 500]\n",
        "randomNumberList = choice(\n",
        "  sampleList, 5, p=[0.05, 0.1, 0.15, 0.20, 0.5])\n",
        "  \n",
        "print(randomNumberList)"
      ],
      "metadata": {
        "colab": {
          "base_uri": "https://localhost:8080/"
        },
        "id": "Ku1N2dIlaZVR",
        "outputId": "2dbaea33-0957-4af6-91ce-16487da1a580"
      },
      "execution_count": null,
      "outputs": [
        {
          "output_type": "stream",
          "name": "stdout",
          "text": [
            "[500 400 500 500 100]\n"
          ]
        }
      ]
    },
    {
      "cell_type": "markdown",
      "source": [
        "Generate Random Numbers From The Uniform Distribution using NumPy"
      ],
      "metadata": {
        "id": "T-6DCk-AaZik"
      }
    },
    {
      "cell_type": "code",
      "source": [
        "np.random.uniform(size=15)"
      ],
      "metadata": {
        "colab": {
          "base_uri": "https://localhost:8080/"
        },
        "id": "SI7tppeRaaD8",
        "outputId": "ba8d6b89-ef2f-47fc-eab8-a623951a1773"
      },
      "execution_count": null,
      "outputs": [
        {
          "output_type": "execute_result",
          "data": {
            "text/plain": [
              "array([0.41954736, 0.68848718, 0.62848686, 0.91672892, 0.85274909,\n",
              "       0.00736824, 0.22095792, 0.77719707, 0.94307517, 0.51278084,\n",
              "       0.86914245, 0.02061166, 0.07773959, 0.55005011, 0.38731653])"
            ]
          },
          "metadata": {},
          "execution_count": 181
        }
      ]
    },
    {
      "cell_type": "markdown",
      "source": [
        "Get Random Elements form geometric distribution"
      ],
      "metadata": {
        "id": "DiyWvJrCaadR"
      }
    },
    {
      "cell_type": "code",
      "source": [
        "np.random.geometric(p=0.35,size=10)"
      ],
      "metadata": {
        "colab": {
          "base_uri": "https://localhost:8080/"
        },
        "id": "ae5BEef7aar5",
        "outputId": "0d3b2773-82a4-4f6d-965d-9e3cdc8d54fd"
      },
      "execution_count": null,
      "outputs": [
        {
          "output_type": "execute_result",
          "data": {
            "text/plain": [
              "array([5, 1, 8, 2, 5, 1, 1, 1, 1, 3])"
            ]
          },
          "metadata": {},
          "execution_count": 184
        }
      ]
    },
    {
      "cell_type": "markdown",
      "source": [
        "Get Random Elements form laplace distribution"
      ],
      "metadata": {
        "id": "hyV7_IePabCt"
      }
    },
    {
      "cell_type": "code",
      "source": [
        "np.random.laplace(0., 1., 150)"
      ],
      "metadata": {
        "colab": {
          "base_uri": "https://localhost:8080/"
        },
        "id": "_jUnelFUabXL",
        "outputId": "280642d5-e6d4-4db8-96eb-2192e51ba5f7"
      },
      "execution_count": null,
      "outputs": [
        {
          "output_type": "execute_result",
          "data": {
            "text/plain": [
              "array([-0.26004543,  0.47624327, -1.47800604, -2.84878976,  3.37507215,\n",
              "       -0.33574205, -0.32574572,  0.85083479,  0.55664871, -3.50923017,\n",
              "        0.54888582,  0.56039546,  0.84734057,  0.02452351, -0.68959059,\n",
              "       -2.90444995, -0.59219578,  0.48646081,  0.05158991, -0.36006038,\n",
              "       -0.80964237, -0.41673378, -0.99158172, -1.38763636, -0.88258559,\n",
              "       -0.16328328, -0.22238333,  0.19703339, -1.65739076,  0.14323278,\n",
              "       -0.85630015,  0.73385925,  0.25408635,  0.45595954,  0.48277147,\n",
              "       -0.52910531,  0.4730214 ,  1.28175475, -0.37307256, -1.85602223,\n",
              "       -0.87870159, -0.82157686, -1.35700698, -0.35040842, -3.21036092,\n",
              "        0.61769653,  3.02000288, -0.33787419,  1.00712248, -0.44124547,\n",
              "        0.39079611, -4.35630942, -0.33469363,  0.05872319,  2.14659767,\n",
              "        0.1931179 ,  0.28868359, -0.93086504,  0.3103907 ,  0.07402902,\n",
              "        0.40778332, -1.80698386, -0.37259434,  2.0379426 , -1.2307927 ,\n",
              "        0.53443645,  0.59111055, -1.33834533,  0.60656202, -0.44288817,\n",
              "       -0.40506041, -1.94043064,  0.31304313, -2.32213408,  0.38487758,\n",
              "        0.77324009,  0.699076  , -0.17663102, -0.29831445,  0.02481636,\n",
              "       -0.73442552, -2.2892702 ,  1.91117042, -5.58899298,  1.78857832,\n",
              "        1.04716153,  2.55717962,  2.40688665,  0.04507171,  1.82204125,\n",
              "       -0.46049816, -0.78850551, -1.37997549,  0.10667879,  2.12836622,\n",
              "        1.52940273, -3.86067311, -2.84346679,  0.00733622,  0.50946786,\n",
              "       -1.78124214, -0.7698924 ,  1.77701817, -0.67150118,  2.43945955,\n",
              "       -0.7239572 , -0.13863008, -0.90237043,  0.22143376,  0.43892946,\n",
              "        0.69496596, -0.84518575,  0.68779157,  0.2861078 ,  1.71760758,\n",
              "        0.20941054,  0.88581603, -0.35445531, -0.228102  , -0.81579525,\n",
              "       -0.01280129,  0.13864852,  1.34951634,  2.98661301,  1.3214922 ,\n",
              "       -0.86889608,  0.86935975, -1.79487626, -0.88787046, -0.94060362,\n",
              "       -0.59418512,  0.15688032,  2.32411128, -0.65204927,  5.49833533,\n",
              "        0.69723016,  0.64426125, -0.31058289,  0.04905489,  0.05897873,\n",
              "       -0.48270313, -1.3522493 ,  1.98339231, -1.49867287,  0.51385606,\n",
              "       -0.74056407, -3.21933321, -0.0974776 , -0.12165609,  0.09519058])"
            ]
          },
          "metadata": {},
          "execution_count": 185
        }
      ]
    },
    {
      "cell_type": "markdown",
      "source": [
        "Return a Matrix of random values from a uniform distribution"
      ],
      "metadata": {
        "id": "-kSVUQx7abnS"
      }
    },
    {
      "cell_type": "code",
      "source": [
        "import numpy.matlib\n",
        "np.matlib.rand((5, 3), 4)"
      ],
      "metadata": {
        "colab": {
          "base_uri": "https://localhost:8080/"
        },
        "id": "IcBruXEGab-a",
        "outputId": "0b60a793-7e6c-4fba-91f1-7b7a46e506df"
      },
      "execution_count": null,
      "outputs": [
        {
          "output_type": "execute_result",
          "data": {
            "text/plain": [
              "matrix([[0.54888437, 0.3213883 , 0.72776635],\n",
              "        [0.70087586, 0.55970281, 0.84044184],\n",
              "        [0.93370582, 0.94524378, 0.06840295],\n",
              "        [0.25679226, 0.96400406, 0.09877433],\n",
              "        [0.39014735, 0.91881134, 0.23496692]])"
            ]
          },
          "metadata": {},
          "execution_count": 188
        }
      ]
    },
    {
      "cell_type": "markdown",
      "source": [
        "Return a Matrix of random values from a Gaussian distribution"
      ],
      "metadata": {
        "id": "B-nSxN4QacVx"
      }
    },
    {
      "cell_type": "code",
      "source": [
        "np.random.normal(4,5)"
      ],
      "metadata": {
        "colab": {
          "base_uri": "https://localhost:8080/"
        },
        "id": "NmD843LyackP",
        "outputId": "56b53930-5a38-44de-a735-24e2d5769047"
      },
      "execution_count": null,
      "outputs": [
        {
          "output_type": "execute_result",
          "data": {
            "text/plain": [
              "1.5001028400354972"
            ]
          },
          "metadata": {},
          "execution_count": 189
        }
      ]
    },
    {
      "cell_type": "markdown",
      "source": [
        "How to get the indices of the sorted array using NumPy in Python?"
      ],
      "metadata": {
        "id": "vkZE4QF0ac1S"
      }
    },
    {
      "cell_type": "code",
      "source": [
        "x = np.random.rand(1,15)\n",
        "\n",
        "np.argsort(x)"
      ],
      "metadata": {
        "colab": {
          "base_uri": "https://localhost:8080/"
        },
        "id": "jDuDfSyladMr",
        "outputId": "7b652dff-947c-449b-fafa-9daecc32c41b"
      },
      "execution_count": null,
      "outputs": [
        {
          "output_type": "execute_result",
          "data": {
            "text/plain": [
              "array([[ 8, 13, 12,  6,  2,  9,  0,  5, 11,  4,  7, 10,  1,  3, 14]])"
            ]
          },
          "metadata": {},
          "execution_count": 190
        }
      ]
    },
    {
      "cell_type": "markdown",
      "source": [
        "Finding the k smallest values of a NumPy array"
      ],
      "metadata": {
        "id": "ajuRczBmadiC"
      }
    },
    {
      "cell_type": "code",
      "source": [
        "k = 3\n",
        "x = np.sort(x)\n",
        "x[:k]"
      ],
      "metadata": {
        "colab": {
          "base_uri": "https://localhost:8080/"
        },
        "id": "4wAzXznfadx6",
        "outputId": "29f9d41d-fcd0-442a-fced-7c52a3154283"
      },
      "execution_count": null,
      "outputs": [
        {
          "output_type": "execute_result",
          "data": {
            "text/plain": [
              "array([[0.12532006, 0.21206122, 0.34851493, 0.36958463, 0.42098949,\n",
              "        0.45656182, 0.68086608, 0.74640416, 0.75396595, 0.7658812 ,\n",
              "        0.82383113, 0.84262096, 0.91494776, 0.92139266, 0.96874773]])"
            ]
          },
          "metadata": {},
          "execution_count": 191
        }
      ]
    },
    {
      "cell_type": "markdown",
      "source": [
        "How to get the n-largest values of an array using NumPy?"
      ],
      "metadata": {
        "id": "hZvqzyoAad_9"
      }
    },
    {
      "cell_type": "code",
      "source": [
        "x = np.array([2.1, 0,  1, 5,\n",
        "                4, 1, 9])\n",
        "sorted_index_array = np.argsort(x)\n",
        "  \n",
        "\n",
        "sorted_array = x[sorted_index_array]\n",
        "  \n",
        "k = 3\n",
        "  \n",
        "sorted_array[-k : ]"
      ],
      "metadata": {
        "id": "uy3wp3X1aeRb",
        "colab": {
          "base_uri": "https://localhost:8080/"
        },
        "outputId": "838dd86d-22f2-45c5-fec1-f81193eb6f1a"
      },
      "execution_count": 9,
      "outputs": [
        {
          "output_type": "execute_result",
          "data": {
            "text/plain": [
              "array([4., 5., 9.])"
            ]
          },
          "metadata": {},
          "execution_count": 9
        }
      ]
    },
    {
      "cell_type": "markdown",
      "source": [
        "Sort the values in a matrix"
      ],
      "metadata": {
        "id": "xjssif2Fn4pb"
      }
    },
    {
      "cell_type": "code",
      "source": [
        "np.sort(x)"
      ],
      "metadata": {
        "colab": {
          "base_uri": "https://localhost:8080/"
        },
        "id": "2nbClL-zn45K",
        "outputId": "4b52bf40-f8f3-4b5d-f411-5cab54c76eaf"
      },
      "execution_count": 10,
      "outputs": [
        {
          "output_type": "execute_result",
          "data": {
            "text/plain": [
              "array([0. , 1. , 1. , 2.1, 4. , 5. , 9. ])"
            ]
          },
          "metadata": {},
          "execution_count": 10
        }
      ]
    },
    {
      "cell_type": "markdown",
      "source": [
        "Filter out integers from float numpy array"
      ],
      "metadata": {
        "id": "gNkZmrzEn5Yy"
      }
    },
    {
      "cell_type": "code",
      "source": [
        "x[x != x.astype(int)]"
      ],
      "metadata": {
        "colab": {
          "base_uri": "https://localhost:8080/"
        },
        "id": "d6G4K9Bbn5lS",
        "outputId": "b7564727-bd9d-400a-ffd1-050740b95b9a"
      },
      "execution_count": 11,
      "outputs": [
        {
          "output_type": "execute_result",
          "data": {
            "text/plain": [
              "array([2.1])"
            ]
          },
          "metadata": {},
          "execution_count": 11
        }
      ]
    },
    {
      "cell_type": "markdown",
      "source": [
        "Find the indices into a sorted array"
      ],
      "metadata": {
        "id": "nNgRxN_yn55q"
      }
    },
    {
      "cell_type": "code",
      "source": [
        "np.searchsorted([5,78,120,9,0,1,6,78,2], 3)"
      ],
      "metadata": {
        "colab": {
          "base_uri": "https://localhost:8080/"
        },
        "id": "h8_JRMu0n6Jz",
        "outputId": "8443008e-f18e-42ee-8bdc-a0f3cf818cd3"
      },
      "execution_count": 12,
      "outputs": [
        {
          "output_type": "execute_result",
          "data": {
            "text/plain": [
              "6"
            ]
          },
          "metadata": {},
          "execution_count": 12
        }
      ]
    },
    {
      "cell_type": "markdown",
      "source": [
        "How to get element-wise true division of an array using Numpy?"
      ],
      "metadata": {
        "id": "Uf10smo7n6fa"
      }
    },
    {
      "cell_type": "code",
      "source": [
        "\n",
        " np.true_divide(x, 4)"
      ],
      "metadata": {
        "colab": {
          "base_uri": "https://localhost:8080/"
        },
        "id": "y_-52THVn6zb",
        "outputId": "b2b6ce3b-f311-4c6b-a5b1-a4fa0c90b901"
      },
      "execution_count": 13,
      "outputs": [
        {
          "output_type": "execute_result",
          "data": {
            "text/plain": [
              "array([0.525, 0.   , 0.25 , 1.25 , 1.   , 0.25 , 2.25 ])"
            ]
          },
          "metadata": {},
          "execution_count": 13
        }
      ]
    },
    {
      "cell_type": "markdown",
      "source": [
        "How to calculate the element-wise absolute value of NumPy array?"
      ],
      "metadata": {
        "id": "q910KYQvn7DU"
      }
    },
    {
      "cell_type": "code",
      "source": [
        "np.absolute(x)\n",
        "  "
      ],
      "metadata": {
        "colab": {
          "base_uri": "https://localhost:8080/"
        },
        "id": "Gsj-V0XKn7Xb",
        "outputId": "1ebcd605-f89c-479a-d254-d30d6bcf2f50"
      },
      "execution_count": 14,
      "outputs": [
        {
          "output_type": "execute_result",
          "data": {
            "text/plain": [
              "array([2.1, 0. , 1. , 5. , 4. , 1. , 9. ])"
            ]
          },
          "metadata": {},
          "execution_count": 14
        }
      ]
    },
    {
      "cell_type": "markdown",
      "source": [
        "Compute the negative of the NumPy array"
      ],
      "metadata": {
        "id": "-pqAr9NVpjCq"
      }
    },
    {
      "cell_type": "code",
      "source": [
        "np.negative(x) "
      ],
      "metadata": {
        "colab": {
          "base_uri": "https://localhost:8080/"
        },
        "id": "lLNOTc7-pjXr",
        "outputId": "ef339ea4-488c-41f7-b537-162a1eed36d7"
      },
      "execution_count": 15,
      "outputs": [
        {
          "output_type": "execute_result",
          "data": {
            "text/plain": [
              "array([-2.1, -0. , -1. , -5. , -4. , -1. , -9. ])"
            ]
          },
          "metadata": {},
          "execution_count": 15
        }
      ]
    },
    {
      "cell_type": "markdown",
      "source": [
        "Multiply 2d numpy array corresponding to 1d array"
      ],
      "metadata": {
        "id": "AMs8jJe9pjsl"
      }
    },
    {
      "cell_type": "code",
      "source": [
        "a = np.array([[1, 2, 3], [2, 4, 5], [1, 2, 3]])\n",
        "b = np.array([0, 2, 3])\n",
        "\n",
        "a* b[:, np.newaxis]"
      ],
      "metadata": {
        "colab": {
          "base_uri": "https://localhost:8080/"
        },
        "id": "FEQx1uPcpkAa",
        "outputId": "2e6e7e4c-99bc-45aa-fa05-de128d440b6a"
      },
      "execution_count": 16,
      "outputs": [
        {
          "output_type": "execute_result",
          "data": {
            "text/plain": [
              "array([[ 0,  0,  0],\n",
              "       [ 4,  8, 10],\n",
              "       [ 3,  6,  9]])"
            ]
          },
          "metadata": {},
          "execution_count": 16
        }
      ]
    },
    {
      "cell_type": "markdown",
      "source": [
        "Computes the inner product of two arrays"
      ],
      "metadata": {
        "id": "MDN8AXZjpkQE"
      }
    },
    {
      "cell_type": "code",
      "source": [
        "np.inner(a,b)"
      ],
      "metadata": {
        "colab": {
          "base_uri": "https://localhost:8080/"
        },
        "id": "lLUV9XHdpknu",
        "outputId": "ecfb165e-ee27-4752-cd56-859fc2cfbe63"
      },
      "execution_count": 17,
      "outputs": [
        {
          "output_type": "execute_result",
          "data": {
            "text/plain": [
              "array([13, 23, 13])"
            ]
          },
          "metadata": {},
          "execution_count": 17
        }
      ]
    },
    {
      "cell_type": "markdown",
      "source": [
        "Compute the nth percentile of the NumPy array"
      ],
      "metadata": {
        "id": "imy8-42Rpk9q"
      }
    },
    {
      "cell_type": "code",
      "source": [
        "np.percentile(a, 75)"
      ],
      "metadata": {
        "colab": {
          "base_uri": "https://localhost:8080/"
        },
        "id": "r9h00tiyplZS",
        "outputId": "c29472b1-1507-4e74-e555-3f8b349c5fcb"
      },
      "execution_count": 18,
      "outputs": [
        {
          "output_type": "execute_result",
          "data": {
            "text/plain": [
              "3.0"
            ]
          },
          "metadata": {},
          "execution_count": 18
        }
      ]
    },
    {
      "cell_type": "markdown",
      "source": [
        "Calculate the n-th order discrete difference along the given axis"
      ],
      "metadata": {
        "id": "JVn-YP8Bplqo"
      }
    },
    {
      "cell_type": "code",
      "source": [
        "np.diff(a)"
      ],
      "metadata": {
        "colab": {
          "base_uri": "https://localhost:8080/"
        },
        "id": "Jv_xs6CVpl_-",
        "outputId": "6b0063e1-b9eb-4a0a-8717-6972a5861bcf"
      },
      "execution_count": 20,
      "outputs": [
        {
          "output_type": "execute_result",
          "data": {
            "text/plain": [
              "array([[1, 1],\n",
              "       [2, 1],\n",
              "       [1, 1]])"
            ]
          },
          "metadata": {},
          "execution_count": 20
        }
      ]
    },
    {
      "cell_type": "markdown",
      "source": [
        "Calculate the sum of all columns in a 2D NumPy array"
      ],
      "metadata": {
        "id": "KWf6sI3IpmaT"
      }
    },
    {
      "cell_type": "code",
      "source": [
        "np.sum(x, axis = 0)"
      ],
      "metadata": {
        "colab": {
          "base_uri": "https://localhost:8080/"
        },
        "id": "S0GFHBq3pmtU",
        "outputId": "ed3b79e4-5ea2-4e7f-d0c0-e6d6009e1dc1"
      },
      "execution_count": 22,
      "outputs": [
        {
          "output_type": "execute_result",
          "data": {
            "text/plain": [
              "22.1"
            ]
          },
          "metadata": {},
          "execution_count": 22
        }
      ]
    },
    {
      "cell_type": "markdown",
      "source": [
        "Calculate average values of two given NumPy arrays"
      ],
      "metadata": {
        "id": "ZDY0ErtApnDd"
      }
    },
    {
      "cell_type": "code",
      "source": [
        "a = np.random.randn(3,4)\n",
        "b = np.random.randn(3,4)\n",
        "np.mean([a,b], axis=0)"
      ],
      "metadata": {
        "colab": {
          "base_uri": "https://localhost:8080/"
        },
        "id": "_meZzVqmpndy",
        "outputId": "417be6bb-11b1-42bd-e0b2-1921b5b3472b"
      },
      "execution_count": 26,
      "outputs": [
        {
          "output_type": "execute_result",
          "data": {
            "text/plain": [
              "array([[-0.03075648, -0.42383747,  0.17388814,  0.36222469],\n",
              "       [ 0.76948218,  0.24027531, -0.30293816, -1.64429845],\n",
              "       [-0.73357975,  1.19618976, -0.30859865, -0.80075146]])"
            ]
          },
          "metadata": {},
          "execution_count": 26
        }
      ]
    },
    {
      "cell_type": "markdown",
      "source": [
        "How to compute numerical negative value for all elements in a given NumPy array?"
      ],
      "metadata": {
        "id": "hSbiPG9bpoJc"
      }
    },
    {
      "cell_type": "code",
      "source": [
        "np.negative(a)"
      ],
      "metadata": {
        "colab": {
          "base_uri": "https://localhost:8080/"
        },
        "id": "ybjglzTApoaK",
        "outputId": "9385cceb-7a06-4fdf-c77a-7cd1dd1bf4be"
      },
      "execution_count": 27,
      "outputs": [
        {
          "output_type": "execute_result",
          "data": {
            "text/plain": [
              "array([[-1.16447059,  0.22708317, -1.25846787, -0.64913035],\n",
              "       [-2.36172413, -0.62577417, -0.4727639 ,  1.07351293],\n",
              "       [-0.99127584, -0.95597721, -0.18511004,  0.75729886]])"
            ]
          },
          "metadata": {},
          "execution_count": 27
        }
      ]
    },
    {
      "cell_type": "markdown",
      "source": [
        "How to get the floor, ceiling and truncated values of the elements of a numpy array?"
      ],
      "metadata": {
        "id": "6onZE7Dxpo6L"
      }
    },
    {
      "cell_type": "code",
      "source": [
        "np.floor(a)"
      ],
      "metadata": {
        "colab": {
          "base_uri": "https://localhost:8080/"
        },
        "id": "CvG-qkrappNS",
        "outputId": "d4bbd2a9-217a-48ce-d60a-7b8c5d46a14d"
      },
      "execution_count": 28,
      "outputs": [
        {
          "output_type": "execute_result",
          "data": {
            "text/plain": [
              "array([[ 1., -1.,  1.,  0.],\n",
              "       [ 2.,  0.,  0., -2.],\n",
              "       [ 0.,  0.,  0., -1.]])"
            ]
          },
          "metadata": {},
          "execution_count": 28
        }
      ]
    },
    {
      "cell_type": "code",
      "source": [
        "np.ceil(a)"
      ],
      "metadata": {
        "colab": {
          "base_uri": "https://localhost:8080/"
        },
        "id": "MqzKPZ0OpqJ6",
        "outputId": "5c2bcd05-c210-4e34-9977-74d0fdb63454"
      },
      "execution_count": 29,
      "outputs": [
        {
          "output_type": "execute_result",
          "data": {
            "text/plain": [
              "array([[ 2., -0.,  2.,  1.],\n",
              "       [ 3.,  1.,  1., -1.],\n",
              "       [ 1.,  1.,  1., -0.]])"
            ]
          },
          "metadata": {},
          "execution_count": 29
        }
      ]
    },
    {
      "cell_type": "code",
      "source": [
        " np.trunc(a)"
      ],
      "metadata": {
        "colab": {
          "base_uri": "https://localhost:8080/"
        },
        "id": "9xmtGJ-Er_8A",
        "outputId": "fa3430fb-4d73-4106-98df-45504c625ae2"
      },
      "execution_count": 30,
      "outputs": [
        {
          "output_type": "execute_result",
          "data": {
            "text/plain": [
              "array([[ 1., -0.,  1.,  0.],\n",
              "       [ 2.,  0.,  0., -1.],\n",
              "       [ 0.,  0.,  0., -0.]])"
            ]
          },
          "metadata": {},
          "execution_count": 30
        }
      ]
    },
    {
      "cell_type": "markdown",
      "source": [
        "How to round elements of the NumPy array to the nearest integer?"
      ],
      "metadata": {
        "id": "2Ed772Bspppl"
      }
    },
    {
      "cell_type": "code",
      "source": [
        "np.rint(a)"
      ],
      "metadata": {
        "colab": {
          "base_uri": "https://localhost:8080/"
        },
        "id": "JXxRjQb6sGTP",
        "outputId": "97b7afb2-cda3-4856-9e62-4975e639d34d"
      },
      "execution_count": 32,
      "outputs": [
        {
          "output_type": "execute_result",
          "data": {
            "text/plain": [
              "array([[ 1., -0.,  1.,  1.],\n",
              "       [ 2.,  1.,  0., -1.],\n",
              "       [ 1.,  1.,  0., -1.]])"
            ]
          },
          "metadata": {},
          "execution_count": 32
        }
      ]
    },
    {
      "cell_type": "markdown",
      "source": [
        "Find the round off the values of the given matrix"
      ],
      "metadata": {
        "id": "8msRdfwKpqgS"
      }
    },
    {
      "cell_type": "code",
      "source": [
        "np.matrix.round(b)"
      ],
      "metadata": {
        "colab": {
          "base_uri": "https://localhost:8080/"
        },
        "id": "MxR62hlcsNw0",
        "outputId": "a0ca280b-e842-4155-8f41-a35604587906"
      },
      "execution_count": 35,
      "outputs": [
        {
          "output_type": "execute_result",
          "data": {
            "text/plain": [
              "array([[-1., -1., -1.,  0.],\n",
              "       [-1., -0., -1., -2.],\n",
              "       [-2.,  1., -1., -1.]])"
            ]
          },
          "metadata": {},
          "execution_count": 35
        }
      ]
    },
    {
      "cell_type": "markdown",
      "source": [
        "Determine the positive square-root of an array"
      ],
      "metadata": {
        "id": "TeuJFwpGsOFn"
      }
    },
    {
      "cell_type": "code",
      "source": [
        "np.sqrt(x)"
      ],
      "metadata": {
        "colab": {
          "base_uri": "https://localhost:8080/"
        },
        "id": "cPFyttLfsOT8",
        "outputId": "e86dbc52-207b-4ecd-bf10-93951a1e4221"
      },
      "execution_count": 36,
      "outputs": [
        {
          "output_type": "execute_result",
          "data": {
            "text/plain": [
              "array([1.44913767, 0.        , 1.        , 2.23606798, 2.        ,\n",
              "       1.        , 3.        ])"
            ]
          },
          "metadata": {},
          "execution_count": 36
        }
      ]
    },
    {
      "cell_type": "markdown",
      "source": [
        "Evaluate Einstein’s summation convention of two multidimensional NumPy arrays"
      ],
      "metadata": {
        "id": "ZIxyQZg4sOjB"
      }
    },
    {
      "cell_type": "code",
      "source": [
        "a= np.array([[45, 23], [0, 12]])\n",
        "b = np.array([[190, 1], [193, 489]])\n",
        "np.einsum(\"mk,kn\", a, b)"
      ],
      "metadata": {
        "colab": {
          "base_uri": "https://localhost:8080/"
        },
        "id": "k5nFfGkgsOz8",
        "outputId": "3b81519c-9003-4afe-e8e4-fd56851215ec"
      },
      "execution_count": 40,
      "outputs": [
        {
          "output_type": "execute_result",
          "data": {
            "text/plain": [
              "array([[12989, 11292],\n",
              "       [ 2316,  5868]])"
            ]
          },
          "metadata": {},
          "execution_count": 40
        }
      ]
    }
  ]
}