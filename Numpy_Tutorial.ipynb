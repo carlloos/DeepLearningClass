{
  "cells": [
    {
      "cell_type": "markdown",
      "metadata": {
        "id": "U_MCBBXlkCq7"
      },
      "source": [
        "# Numpy Quickstart tutorial"
      ]
    },
    {
      "cell_type": "markdown",
      "metadata": {
        "id": "CUiSAeZtkCrA"
      },
      "source": [
        "## Pre-requisites\n",
        "\n",
        "* Python\n",
        "* Installation - https://scipy.org/install.html"
      ]
    },
    {
      "cell_type": "markdown",
      "metadata": {
        "id": "riNdePDakCrB"
      },
      "source": [
        "## The Basics\n",
        "\n",
        "- Homogeneous multidimensional array.\n",
        "- Table of elements (usually numbers).\n",
        "- All of the same type.\n",
        "- Indexed by a tuple of non-negative integers.\n",
        "- Dimensions are called axes."
      ]
    },
    {
      "cell_type": "markdown",
      "metadata": {
        "id": "R7OcI8I-kCrC"
      },
      "source": [
        "Example:\n",
        "Coordinates of a point in 3D space [1, 2, 1]:\n",
        "\n",
        "- Has one axis.\n",
        "- Axis has 3 elements\n",
        "- It has a length of 3.\n",
        "\n",
        "In the example pictured below, the array has 2 axes. The first axis has a length of 2, the second axis has a length of 3."
      ]
    },
    {
      "cell_type": "code",
      "execution_count": 1,
      "metadata": {
        "colab": {
          "base_uri": "https://localhost:8080/"
        },
        "id": "x8SMlfe5kCrD",
        "outputId": "2fdcba45-eb57-4717-8a3e-9593d3624061"
      },
      "outputs": [
        {
          "output_type": "execute_result",
          "data": {
            "text/plain": [
              "[[1.0, 0.0, 0.0], [0.0, 1.0, 2.0]]"
            ]
          },
          "metadata": {},
          "execution_count": 1
        }
      ],
      "source": [
        "[[ 1., 0., 0.],\n",
        " [ 0., 1., 2.]]"
      ]
    },
    {
      "cell_type": "code",
      "execution_count": 7,
      "metadata": {
        "outputId": "6ded02df-857d-4cbb-edf5-21aee7ba2d4e",
        "colab": {
          "base_uri": "https://localhost:8080/"
        },
        "id": "3Up0ukxVkZkC"
      },
      "outputs": [
        {
          "output_type": "execute_result",
          "data": {
            "text/plain": [
              "[[1.0, 0.0, 0.0], [0.0, 1.0, 2.0], [1.0, 8.0, 9.0], [7.0, 9.0, 0.0]]"
            ]
          },
          "metadata": {},
          "execution_count": 7
        }
      ],
      "source": [
        "[[ 1., 0., 0.],\n",
        " [ 0., 1., 2.],\n",
        " [1.,8.,9.],\n",
        " [7.,9.,0.]]"
      ]
    },
    {
      "cell_type": "markdown",
      "metadata": {
        "id": "zY4NAiP_kCrG"
      },
      "source": [
        "Important attributes of an ndarray object are:\n",
        "\n",
        "**ndarray.ndim**\n",
        "the number of axes (dimensions) of the array.\n",
        "\n",
        "**ndarray.shape**\n",
        "the dimensions of the array. This is a tuple of integers indicating the size of the array in each dimension. For a matrix with n rows and m columns, shape will be (n,m). The length of the shape tuple is therefore the number of axes, ndim.\n",
        "\n",
        "**ndarray.size**\n",
        "the total number of elements of the array. This is equal to the product of the elements of shape.\n",
        "\n",
        "**ndarray.dtype**\n",
        "an object describing the type of the elements in the array. One can create or specify dtype’s using standard Python types. Additionally NumPy provides types of its own. numpy.int32, numpy.int16, and numpy.float64 are some examples.\n",
        "\n",
        "**ndarray.itemsize**\n",
        "the size in bytes of each element of the array. For example, an array of elements of type float64 has itemsize 8 (=64/8), while one of type complex32 has itemsize 4 (=32/8). It is equivalent to ndarray.dtype.itemsize.\n",
        "\n",
        "**ndarray.data**\n",
        "the buffer containing the actual elements of the array. Normally, we won’t need to use this attribute because we will access the elements in an array using indexing facilities."
      ]
    },
    {
      "cell_type": "markdown",
      "metadata": {
        "id": "BkFK8uHdkCrH"
      },
      "source": [
        "### An example"
      ]
    },
    {
      "cell_type": "code",
      "execution_count": 8,
      "metadata": {
        "colab": {
          "base_uri": "https://localhost:8080/"
        },
        "id": "KwJ_qV09kCrI",
        "outputId": "3ef3d562-0c42-46ac-aa40-59546571a8d0"
      },
      "outputs": [
        {
          "output_type": "execute_result",
          "data": {
            "text/plain": [
              "array([[ 0,  1,  2,  3,  4],\n",
              "       [ 5,  6,  7,  8,  9],\n",
              "       [10, 11, 12, 13, 14]])"
            ]
          },
          "metadata": {},
          "execution_count": 8
        }
      ],
      "source": [
        "import numpy as np\n",
        "a = np.arange(15).reshape(3, 5)\n",
        "a"
      ]
    },
    {
      "cell_type": "code",
      "execution_count": 9,
      "metadata": {
        "colab": {
          "base_uri": "https://localhost:8080/"
        },
        "id": "HJTJ7B4DkCrJ",
        "outputId": "d780295e-70b7-4e58-e6f6-d31c7083ddd5"
      },
      "outputs": [
        {
          "output_type": "execute_result",
          "data": {
            "text/plain": [
              "(3, 5)"
            ]
          },
          "metadata": {},
          "execution_count": 9
        }
      ],
      "source": [
        "a.shape"
      ]
    },
    {
      "cell_type": "code",
      "execution_count": 10,
      "metadata": {
        "colab": {
          "base_uri": "https://localhost:8080/"
        },
        "id": "UiTLkd0gkCrK",
        "outputId": "5c695612-b7d4-4892-8eee-a12bd9476f3f"
      },
      "outputs": [
        {
          "output_type": "execute_result",
          "data": {
            "text/plain": [
              "2"
            ]
          },
          "metadata": {},
          "execution_count": 10
        }
      ],
      "source": [
        "a.ndim"
      ]
    },
    {
      "cell_type": "code",
      "execution_count": 11,
      "metadata": {
        "colab": {
          "base_uri": "https://localhost:8080/",
          "height": 36
        },
        "id": "be-eylS0kCrL",
        "outputId": "56daffae-ed6d-4209-f17b-8db3ae2fcb90"
      },
      "outputs": [
        {
          "output_type": "execute_result",
          "data": {
            "text/plain": [
              "'int64'"
            ],
            "application/vnd.google.colaboratory.intrinsic+json": {
              "type": "string"
            }
          },
          "metadata": {},
          "execution_count": 11
        }
      ],
      "source": [
        "a.dtype.name"
      ]
    },
    {
      "cell_type": "code",
      "execution_count": 12,
      "metadata": {
        "colab": {
          "base_uri": "https://localhost:8080/"
        },
        "id": "cG26pDYAkCrL",
        "outputId": "fd36eb92-5049-4d5a-ab5f-83a82f6c768a"
      },
      "outputs": [
        {
          "output_type": "execute_result",
          "data": {
            "text/plain": [
              "8"
            ]
          },
          "metadata": {},
          "execution_count": 12
        }
      ],
      "source": [
        "a.itemsize"
      ]
    },
    {
      "cell_type": "code",
      "execution_count": 13,
      "metadata": {
        "colab": {
          "base_uri": "https://localhost:8080/"
        },
        "id": "4UUBRGLvkCrM",
        "outputId": "b4231dfc-2e95-4459-9e64-e036e643f8f7"
      },
      "outputs": [
        {
          "output_type": "execute_result",
          "data": {
            "text/plain": [
              "15"
            ]
          },
          "metadata": {},
          "execution_count": 13
        }
      ],
      "source": [
        "a.size"
      ]
    },
    {
      "cell_type": "code",
      "execution_count": 14,
      "metadata": {
        "colab": {
          "base_uri": "https://localhost:8080/"
        },
        "id": "4719tBackCrN",
        "outputId": "b86d5b1f-98ec-4317-8e3b-4071b904ab63"
      },
      "outputs": [
        {
          "output_type": "execute_result",
          "data": {
            "text/plain": [
              "numpy.ndarray"
            ]
          },
          "metadata": {},
          "execution_count": 14
        }
      ],
      "source": [
        "type(a)"
      ]
    },
    {
      "cell_type": "code",
      "execution_count": 15,
      "metadata": {
        "id": "Nqahwr_VkCrO"
      },
      "outputs": [],
      "source": [
        "b = np.array([6,7,8])"
      ]
    },
    {
      "cell_type": "code",
      "execution_count": 16,
      "metadata": {
        "colab": {
          "base_uri": "https://localhost:8080/"
        },
        "id": "tRgWy3MGkCrP",
        "outputId": "c8de1ea0-613c-4d99-c177-fdee193d1abe"
      },
      "outputs": [
        {
          "output_type": "execute_result",
          "data": {
            "text/plain": [
              "numpy.ndarray"
            ]
          },
          "metadata": {},
          "execution_count": 16
        }
      ],
      "source": [
        "type(b)"
      ]
    },
    {
      "cell_type": "markdown",
      "source": [
        "Creating np.array with random numbers"
      ],
      "metadata": {
        "id": "6WooyaxSlAhP"
      }
    },
    {
      "cell_type": "code",
      "source": [
        "np.random.rand(3,2) #rows, columns"
      ],
      "metadata": {
        "colab": {
          "base_uri": "https://localhost:8080/"
        },
        "id": "tFo1hZMKk6Vt",
        "outputId": "a1cdff43-4d51-45f5-d0d0-2eb29bf0f541"
      },
      "execution_count": 17,
      "outputs": [
        {
          "output_type": "execute_result",
          "data": {
            "text/plain": [
              "array([[0.55844846, 0.22505619],\n",
              "       [0.08022829, 0.61955138],\n",
              "       [0.50014911, 0.62381213]])"
            ]
          },
          "metadata": {},
          "execution_count": 17
        }
      ]
    },
    {
      "cell_type": "code",
      "source": [
        "np.random.rand(3,3)"
      ],
      "metadata": {
        "colab": {
          "base_uri": "https://localhost:8080/"
        },
        "id": "avi8u9umlHql",
        "outputId": "61dfc427-5415-4c54-8af3-79f22b20e4e8"
      },
      "execution_count": 18,
      "outputs": [
        {
          "output_type": "execute_result",
          "data": {
            "text/plain": [
              "array([[0.71737577, 0.93520884, 0.98526586],\n",
              "       [0.40717637, 0.10194025, 0.66895961],\n",
              "       [0.62491193, 0.07255507, 0.3038355 ]])"
            ]
          },
          "metadata": {},
          "execution_count": 18
        }
      ]
    },
    {
      "cell_type": "markdown",
      "metadata": {
        "id": "E5cmfqFCkCrS"
      },
      "source": [
        "### Array Creation\n",
        "\n",
        "- Create an array from a regular Python list or tuple using the array function.\n",
        "- The type of the resulting array is deduced from the type of the elements in the sequences."
      ]
    },
    {
      "cell_type": "code",
      "execution_count": 19,
      "metadata": {
        "colab": {
          "base_uri": "https://localhost:8080/"
        },
        "id": "EzVEjK4okCrV",
        "outputId": "8e989257-dff7-4345-8272-db46d32efd33"
      },
      "outputs": [
        {
          "output_type": "execute_result",
          "data": {
            "text/plain": [
              "array([2, 3, 4])"
            ]
          },
          "metadata": {},
          "execution_count": 19
        }
      ],
      "source": [
        "import numpy as np\n",
        "a = np.array([2,3,4])\n",
        "a"
      ]
    },
    {
      "cell_type": "code",
      "execution_count": 20,
      "metadata": {
        "colab": {
          "base_uri": "https://localhost:8080/"
        },
        "id": "lTiwyPrlkCrZ",
        "outputId": "1f74f631-3505-4c28-f5a4-46711baf14b9"
      },
      "outputs": [
        {
          "output_type": "execute_result",
          "data": {
            "text/plain": [
              "dtype('int64')"
            ]
          },
          "metadata": {},
          "execution_count": 20
        }
      ],
      "source": [
        "a.dtype"
      ]
    },
    {
      "cell_type": "code",
      "execution_count": 21,
      "metadata": {
        "colab": {
          "base_uri": "https://localhost:8080/"
        },
        "id": "Yd0ZLLI4kCra",
        "outputId": "f7783eb1-fabd-4d26-cc31-6b8ad5ce486e"
      },
      "outputs": [
        {
          "output_type": "execute_result",
          "data": {
            "text/plain": [
              "dtype('float64')"
            ]
          },
          "metadata": {},
          "execution_count": 21
        }
      ],
      "source": [
        "b = np.array([1.2, 3.5, 5.1])\n",
        "b.dtype"
      ]
    },
    {
      "cell_type": "code",
      "source": [
        "tupla = (1,2,3,4)\n",
        "tupla"
      ],
      "metadata": {
        "colab": {
          "base_uri": "https://localhost:8080/"
        },
        "id": "emrgnzHIlW0N",
        "outputId": "7cc108f6-a015-4060-e7b1-f1006f58fd81"
      },
      "execution_count": 26,
      "outputs": [
        {
          "output_type": "execute_result",
          "data": {
            "text/plain": [
              "(1, 2, 3, 4)"
            ]
          },
          "metadata": {},
          "execution_count": 26
        }
      ]
    },
    {
      "cell_type": "code",
      "source": [
        "array_da_tupla = np.array(tupla)\n",
        "array_da_tupla"
      ],
      "metadata": {
        "colab": {
          "base_uri": "https://localhost:8080/"
        },
        "id": "UAhCwND1lfrr",
        "outputId": "553e7a71-e897-44d8-be48-45e4ae5fcfe0"
      },
      "execution_count": 28,
      "outputs": [
        {
          "output_type": "execute_result",
          "data": {
            "text/plain": [
              "array([1, 2, 3, 4])"
            ]
          },
          "metadata": {},
          "execution_count": 28
        }
      ]
    },
    {
      "cell_type": "markdown",
      "metadata": {
        "id": "J_vyyslykCrb"
      },
      "source": [
        "A frequent error consists in calling array with multiple numeric arguments, rather than providing a single list of numbers as an argument."
      ]
    },
    {
      "cell_type": "code",
      "execution_count": 22,
      "metadata": {
        "id": "Q6Yl2x86kCrb"
      },
      "outputs": [],
      "source": [
        "# a = np.array(1,2,3,4)    # WRONG\n",
        "a = np.array([1,2,3,4])  # RIGHT"
      ]
    },
    {
      "cell_type": "code",
      "source": [
        "np.array(1,2,3,4)"
      ],
      "metadata": {
        "colab": {
          "base_uri": "https://localhost:8080/",
          "height": 165
        },
        "id": "pZaJULIylpRr",
        "outputId": "e7334afa-b2c5-4187-81ae-82b47ba2d702"
      },
      "execution_count": 29,
      "outputs": [
        {
          "output_type": "error",
          "ename": "TypeError",
          "evalue": "ignored",
          "traceback": [
            "\u001b[0;31m---------------------------------------------------------------------------\u001b[0m",
            "\u001b[0;31mTypeError\u001b[0m                                 Traceback (most recent call last)",
            "\u001b[0;32m<ipython-input-29-c35df19b8ce6>\u001b[0m in \u001b[0;36m<module>\u001b[0;34m\u001b[0m\n\u001b[0;32m----> 1\u001b[0;31m \u001b[0mnp\u001b[0m\u001b[0;34m.\u001b[0m\u001b[0marray\u001b[0m\u001b[0;34m(\u001b[0m\u001b[0;36m1\u001b[0m\u001b[0;34m,\u001b[0m\u001b[0;36m2\u001b[0m\u001b[0;34m,\u001b[0m\u001b[0;36m3\u001b[0m\u001b[0;34m,\u001b[0m\u001b[0;36m4\u001b[0m\u001b[0;34m)\u001b[0m\u001b[0;34m\u001b[0m\u001b[0;34m\u001b[0m\u001b[0m\n\u001b[0m",
            "\u001b[0;31mTypeError\u001b[0m: array() takes from 1 to 2 positional arguments but 4 were given"
          ]
        }
      ]
    },
    {
      "cell_type": "markdown",
      "metadata": {
        "id": "xRrLNV5skCrc"
      },
      "source": [
        "- array transforms sequences of sequences into two-dimensional arrays\n",
        "- sequences of sequences of sequences into three-dimensional arrays, and so on."
      ]
    },
    {
      "cell_type": "code",
      "execution_count": 30,
      "metadata": {
        "colab": {
          "base_uri": "https://localhost:8080/"
        },
        "id": "n5jyYt9XkCrd",
        "outputId": "58162fed-c0c6-483f-9094-d132f4fb566f"
      },
      "outputs": [
        {
          "output_type": "execute_result",
          "data": {
            "text/plain": [
              "array([[1.5, 2. , 3. ],\n",
              "       [4. , 5. , 6. ]])"
            ]
          },
          "metadata": {},
          "execution_count": 30
        }
      ],
      "source": [
        "b = np.array([(1.5,2,3), (4,5,6)])\n",
        "b"
      ]
    },
    {
      "cell_type": "code",
      "source": [
        "b = np.array([(1.5,2,3), (4,5,6), (7,8,9), (11, 12, 14)])\n",
        "b"
      ],
      "metadata": {
        "colab": {
          "base_uri": "https://localhost:8080/"
        },
        "id": "DYCfq6MElr4I",
        "outputId": "645860ed-be74-491d-c1ca-524d6a6df1f6"
      },
      "execution_count": 32,
      "outputs": [
        {
          "output_type": "execute_result",
          "data": {
            "text/plain": [
              "array([[ 1.5,  2. ,  3. ],\n",
              "       [ 4. ,  5. ,  6. ],\n",
              "       [ 7. ,  8. ,  9. ],\n",
              "       [11. , 12. , 14. ]])"
            ]
          },
          "metadata": {},
          "execution_count": 32
        }
      ]
    },
    {
      "cell_type": "markdown",
      "metadata": {
        "id": "VIBN_q0skCre"
      },
      "source": [
        "The type of the array can also be explicitly specified at creation time:"
      ]
    },
    {
      "cell_type": "code",
      "execution_count": 33,
      "metadata": {
        "colab": {
          "base_uri": "https://localhost:8080/"
        },
        "id": "wzXP_ntykCrf",
        "outputId": "3219fecb-043d-4501-92a7-30125ac1f31c"
      },
      "outputs": [
        {
          "output_type": "execute_result",
          "data": {
            "text/plain": [
              "array([[1.+0.j, 2.+0.j],\n",
              "       [3.+0.j, 4.+0.j]])"
            ]
          },
          "metadata": {},
          "execution_count": 33
        }
      ],
      "source": [
        "c = np.array( [ [1,2], [3,4] ], dtype = complex )\n",
        "c"
      ]
    },
    {
      "cell_type": "code",
      "source": [
        "c = np.array( [ [1.6,8.7], [2.2,3.2] ], dtype = int)\n",
        "c"
      ],
      "metadata": {
        "colab": {
          "base_uri": "https://localhost:8080/"
        },
        "id": "S2oVqqPAl5Ee",
        "outputId": "792cd01a-6549-4bee-ba82-3b61c3d0af90"
      },
      "execution_count": 36,
      "outputs": [
        {
          "output_type": "execute_result",
          "data": {
            "text/plain": [
              "array([[1, 8],\n",
              "       [2, 3]])"
            ]
          },
          "metadata": {},
          "execution_count": 36
        }
      ]
    },
    {
      "cell_type": "code",
      "source": [
        "c.dtype"
      ],
      "metadata": {
        "colab": {
          "base_uri": "https://localhost:8080/"
        },
        "id": "WEAZmgcbmNQs",
        "outputId": "ec70780b-0170-4238-fd5e-7082a1d65974"
      },
      "execution_count": 38,
      "outputs": [
        {
          "output_type": "execute_result",
          "data": {
            "text/plain": [
              "dtype('int64')"
            ]
          },
          "metadata": {},
          "execution_count": 38
        }
      ]
    },
    {
      "cell_type": "markdown",
      "metadata": {
        "id": "EPy4Qc1gkCrg"
      },
      "source": [
        "Often, the elements of an array are originally unknown, but its size is known. Hence, NumPy offers several functions to create arrays with initial placeholder content. These minimize the necessity of growing arrays, an expensive operation.\n",
        "\n",
        "The function zeros creates an array full of zeros, the function ones creates an array full of ones, and the function empty creates an array whose initial content is random and depends on the state of the memory. By default, the dtype of the created array is float64."
      ]
    },
    {
      "cell_type": "code",
      "execution_count": 39,
      "metadata": {
        "colab": {
          "base_uri": "https://localhost:8080/"
        },
        "id": "7LApYyILkCrh",
        "outputId": "3d3defb1-6bea-4948-d2af-f44c70fccc7a"
      },
      "outputs": [
        {
          "output_type": "execute_result",
          "data": {
            "text/plain": [
              "array([[0., 0., 0., 0.],\n",
              "       [0., 0., 0., 0.],\n",
              "       [0., 0., 0., 0.]])"
            ]
          },
          "metadata": {},
          "execution_count": 39
        }
      ],
      "source": [
        "np.zeros( (3,4) )"
      ]
    },
    {
      "cell_type": "code",
      "source": [
        "np.zeros( (5,7) )"
      ],
      "metadata": {
        "colab": {
          "base_uri": "https://localhost:8080/"
        },
        "id": "rhvGiEaxmhWV",
        "outputId": "eb4afac8-6fb8-4d84-c4e7-097c59b922da"
      },
      "execution_count": 40,
      "outputs": [
        {
          "output_type": "execute_result",
          "data": {
            "text/plain": [
              "array([[0., 0., 0., 0., 0., 0., 0.],\n",
              "       [0., 0., 0., 0., 0., 0., 0.],\n",
              "       [0., 0., 0., 0., 0., 0., 0.],\n",
              "       [0., 0., 0., 0., 0., 0., 0.],\n",
              "       [0., 0., 0., 0., 0., 0., 0.]])"
            ]
          },
          "metadata": {},
          "execution_count": 40
        }
      ]
    },
    {
      "cell_type": "code",
      "execution_count": null,
      "metadata": {
        "id": "LfJVkp1SkCrm",
        "outputId": "ea89aa6e-c3dc-4d54-b3da-b16325f9f300"
      },
      "outputs": [
        {
          "data": {
            "text/plain": [
              "array([[[1, 1, 1, 1],\n",
              "        [1, 1, 1, 1],\n",
              "        [1, 1, 1, 1]],\n",
              "\n",
              "       [[1, 1, 1, 1],\n",
              "        [1, 1, 1, 1],\n",
              "        [1, 1, 1, 1]]], dtype=int16)"
            ]
          },
          "execution_count": 18,
          "metadata": {},
          "output_type": "execute_result"
        }
      ],
      "source": [
        "np.ones( (2,3,4), dtype=np.int16 ) # dtype can also be specified"
      ]
    },
    {
      "cell_type": "code",
      "source": [
        "np.ones( (3,4), dtype=float )"
      ],
      "metadata": {
        "colab": {
          "base_uri": "https://localhost:8080/"
        },
        "id": "s9Vabj-1mklN",
        "outputId": "00c91b8b-cb93-4a45-fd6c-befda45f4d4a"
      },
      "execution_count": 41,
      "outputs": [
        {
          "output_type": "execute_result",
          "data": {
            "text/plain": [
              "array([[1., 1., 1., 1.],\n",
              "       [1., 1., 1., 1.],\n",
              "       [1., 1., 1., 1.]])"
            ]
          },
          "metadata": {},
          "execution_count": 41
        }
      ]
    },
    {
      "cell_type": "code",
      "execution_count": 42,
      "metadata": {
        "colab": {
          "base_uri": "https://localhost:8080/"
        },
        "id": "xJHwVk9MkCrm",
        "outputId": "73329d97-af91-4153-a7ab-49470d697262"
      },
      "outputs": [
        {
          "output_type": "execute_result",
          "data": {
            "text/plain": [
              "array([[1.5, 2. , 3. ],\n",
              "       [4. , 5. , 6. ]])"
            ]
          },
          "metadata": {},
          "execution_count": 42
        }
      ],
      "source": [
        "np.empty( (2,3) ) # uninitialized, output may vary"
      ]
    },
    {
      "cell_type": "code",
      "source": [
        "np.empty( (8,9) ) # uninitialized, output may vary"
      ],
      "metadata": {
        "colab": {
          "base_uri": "https://localhost:8080/"
        },
        "id": "SFNNepMJmsyY",
        "outputId": "75015e74-6f7e-41e2-f3ef-be36dacc15f3"
      },
      "execution_count": 43,
      "outputs": [
        {
          "output_type": "execute_result",
          "data": {
            "text/plain": [
              "array([[ 3.12321266e-316,  1.58101007e-322,  2.79087802e-317,\n",
              "         4.94065646e-324,  9.88131292e-323,  2.40807199e-265,\n",
              "         5.26066095e-241, -1.30350068e+304,  1.11202131e-308],\n",
              "       [-1.05943739e-153,  6.94824716e-310,  5.49665027e-317,\n",
              "        -7.12174092e-191,  6.94824649e-310,  5.49665027e-317,\n",
              "        -2.31820247e-057,  6.94824649e-310,  5.49665027e-317],\n",
              "       [-1.54496202e+080,  6.94824788e-310,  5.49665027e-317,\n",
              "         1.24284116e-191,  6.94824789e-310,  5.49665027e-317,\n",
              "         7.83213579e+300,  6.94824790e-310,  5.49665027e-317],\n",
              "       [-1.10147375e+227,  6.94824649e-310,  5.49665027e-317,\n",
              "        -5.19197314e+081,  6.94824730e-310,  5.49665027e-317,\n",
              "         5.00348688e+297,  6.94824789e-310,  5.49665027e-317],\n",
              "       [-1.56310843e-182,  6.94824649e-310,  5.49665027e-317,\n",
              "         8.88433517e+175,  6.94824649e-310,  5.49665027e-317,\n",
              "         2.53806546e+229,  6.94824649e-310,  5.49665027e-317],\n",
              "       [-7.06588023e-238,  6.94824649e-310,  5.49665027e-317,\n",
              "        -7.65978157e+286,  6.94824649e-310,  5.49665027e-317,\n",
              "        -1.46686350e-046,  6.94824649e-310,  5.49665027e-317],\n",
              "       [-3.17094660e+032,  6.94824649e-310,  5.49665027e-317,\n",
              "         3.40550913e-022,  6.94824764e-310,  5.49665027e-317,\n",
              "        -1.38447549e+241,  6.94824730e-310,  5.49665027e-317],\n",
              "       [ 9.82646329e-263,  6.94824785e-310,  5.45519618e-317,\n",
              "         1.27817550e-138,  6.94824792e-310,  6.94824792e-310,\n",
              "         0.00000000e+000,  0.00000000e+000,  0.00000000e+000]])"
            ]
          },
          "metadata": {},
          "execution_count": 43
        }
      ]
    },
    {
      "cell_type": "markdown",
      "metadata": {
        "id": "1B0I27vnkCrn"
      },
      "source": [
        "To create sequences of numbers, NumPy provides a function analogous to range that returns arrays instead of lists."
      ]
    },
    {
      "cell_type": "code",
      "execution_count": 44,
      "metadata": {
        "colab": {
          "base_uri": "https://localhost:8080/"
        },
        "id": "92kyB-TOkCrn",
        "outputId": "11ca40ff-6e88-4434-909f-9cdf1450e0d7"
      },
      "outputs": [
        {
          "output_type": "execute_result",
          "data": {
            "text/plain": [
              "array([10, 15, 20, 25])"
            ]
          },
          "metadata": {},
          "execution_count": 44
        }
      ],
      "source": [
        "np.arange( 10, 30, 5 )"
      ]
    },
    {
      "cell_type": "code",
      "execution_count": 45,
      "metadata": {
        "colab": {
          "base_uri": "https://localhost:8080/"
        },
        "id": "7LVJXu00kCro",
        "outputId": "deed012b-dc6e-4a86-f6f9-01e09d23364e"
      },
      "outputs": [
        {
          "output_type": "execute_result",
          "data": {
            "text/plain": [
              "array([0. , 0.3, 0.6, 0.9, 1.2, 1.5, 1.8])"
            ]
          },
          "metadata": {},
          "execution_count": 45
        }
      ],
      "source": [
        "np.arange( 0, 2, 0.3 ) # it accepts float arguments"
      ]
    },
    {
      "cell_type": "code",
      "source": [
        "np.arange(0.5,1, 0.0001)"
      ],
      "metadata": {
        "colab": {
          "base_uri": "https://localhost:8080/"
        },
        "id": "CWMaOKAfmx5f",
        "outputId": "d5d10b1b-44f9-452b-e12d-3fd72b6ebef6"
      },
      "execution_count": 46,
      "outputs": [
        {
          "output_type": "execute_result",
          "data": {
            "text/plain": [
              "array([0.5   , 0.5001, 0.5002, ..., 0.9997, 0.9998, 0.9999])"
            ]
          },
          "metadata": {},
          "execution_count": 46
        }
      ]
    },
    {
      "cell_type": "markdown",
      "metadata": {
        "id": "0Qrn2uGEkCrp"
      },
      "source": [
        "When arange is used with floating point arguments, it is generally not possible to predict the number of elements obtained, due to the finite floating point precision. For this reason, it is usually better to use the function linspace that receives as an argument the number of elements that we want, instead of the step:"
      ]
    },
    {
      "cell_type": "code",
      "execution_count": 47,
      "metadata": {
        "colab": {
          "base_uri": "https://localhost:8080/"
        },
        "id": "3CLpM0_CkCrp",
        "outputId": "977d5dbf-e3c1-47c8-d51b-3fc734ba4e33"
      },
      "outputs": [
        {
          "output_type": "execute_result",
          "data": {
            "text/plain": [
              "array([0.  , 0.25, 0.5 , 0.75, 1.  , 1.25, 1.5 , 1.75, 2.  ])"
            ]
          },
          "metadata": {},
          "execution_count": 47
        }
      ],
      "source": [
        "from numpy import pi\n",
        "np.linspace( 0, 2, 9 ) # 9 numbers from 0 to 2"
      ]
    },
    {
      "cell_type": "code",
      "source": [
        "np.linspace(0.5,1,10)"
      ],
      "metadata": {
        "colab": {
          "base_uri": "https://localhost:8080/"
        },
        "id": "tUagNsKGnDf_",
        "outputId": "6fb0a17c-b73d-4ddf-dac9-b86f251fdb45"
      },
      "execution_count": 48,
      "outputs": [
        {
          "output_type": "execute_result",
          "data": {
            "text/plain": [
              "array([0.5       , 0.55555556, 0.61111111, 0.66666667, 0.72222222,\n",
              "       0.77777778, 0.83333333, 0.88888889, 0.94444444, 1.        ])"
            ]
          },
          "metadata": {},
          "execution_count": 48
        }
      ]
    },
    {
      "cell_type": "code",
      "execution_count": 49,
      "metadata": {
        "colab": {
          "base_uri": "https://localhost:8080/",
          "height": 279
        },
        "id": "pqS7hXfekCrq",
        "outputId": "b9524a87-f935-4725-9150-e37fafe41d5b"
      },
      "outputs": [
        {
          "output_type": "display_data",
          "data": {
            "text/plain": [
              "<Figure size 432x288 with 1 Axes>"
            ],
            "image/png": "[encoded data removed]"
          },
          "metadata": {
            "needs_background": "light"
          }
        }
      ],
      "source": [
        "x = np.linspace( -2*pi, 2*pi, 100 ) # useful to evaluate function at lots of points\n",
        "f = np.sin(x)\n",
        "\n",
        "import matplotlib.pyplot as plt\n",
        "%matplotlib inline\n",
        "plt.plot(x, f)\n",
        "plt.xlabel('x')\n",
        "plt.ylabel('y = $\\sin(x) = - \\int_a^b \\cos(x)$')\n",
        "plt.show()"
      ]
    },
    {
      "cell_type": "markdown",
      "metadata": {
        "id": "ETUNeiEWkCrs"
      },
      "source": [
        "**See also\n",
        "array, zeros, zeros_like, ones, ones_like, empty, empty_like, arange, linspace, numpy.random.mtrand.RandomState.rand, numpy.random.mtrand.RandomState.randn, fromfunction, fromfile**"
      ]
    },
    {
      "cell_type": "markdown",
      "metadata": {
        "id": "yZYqNJZnkCrt"
      },
      "source": [
        "### Printing Arrays\n",
        "\n",
        "When you print an array, NumPy displays it in a similar way to nested lists, but with the following layout:\n",
        "\n",
        "* the last axis is printed from left to right,\n",
        "* the second-to-last is printed from top to bottom,\n",
        "* the rest are also printed from top to bottom, with each slice separated from the next by an empty line.\n",
        "\n",
        "One-dimensional arrays are then printed as rows, bidimensionals as matrices and tridimensionals as lists of matrices."
      ]
    },
    {
      "cell_type": "code",
      "execution_count": 50,
      "metadata": {
        "colab": {
          "base_uri": "https://localhost:8080/"
        },
        "id": "GvklTZtXkCrt",
        "outputId": "3f7a2fee-f48c-4841-9e5d-a0e31fc5c211"
      },
      "outputs": [
        {
          "output_type": "stream",
          "name": "stdout",
          "text": [
            "[0 1 2 3 4 5]\n"
          ]
        }
      ],
      "source": [
        "a = np.arange(6)                         # 1d array\n",
        "print(a)"
      ]
    },
    {
      "cell_type": "code",
      "source": [
        "a = np.random.rand(3,4)\n",
        "print(a)"
      ],
      "metadata": {
        "colab": {
          "base_uri": "https://localhost:8080/"
        },
        "id": "HIQsSp4lnUKV",
        "outputId": "1e1ed3f6-663b-4a6d-904b-375bf0b71cc1"
      },
      "execution_count": 51,
      "outputs": [
        {
          "output_type": "stream",
          "name": "stdout",
          "text": [
            "[[0.04997769 0.44754412 0.26747776 0.03707064]\n",
            " [0.05620092 0.99152115 0.1392316  0.74883965]\n",
            " [0.45696129 0.12508467 0.54529234 0.08024448]]\n"
          ]
        }
      ]
    },
    {
      "cell_type": "code",
      "execution_count": 52,
      "metadata": {
        "colab": {
          "base_uri": "https://localhost:8080/"
        },
        "id": "6NJKAJV-kCru",
        "outputId": "dfc3dcd6-8b59-42f2-a8d7-4d37a2b9c4c7"
      },
      "outputs": [
        {
          "output_type": "stream",
          "name": "stdout",
          "text": [
            "[[ 0  1  2]\n",
            " [ 3  4  5]\n",
            " [ 6  7  8]\n",
            " [ 9 10 11]]\n"
          ]
        }
      ],
      "source": [
        "b = np.arange(12).reshape(4,3)           # 2d array\n",
        "print(b)"
      ]
    },
    {
      "cell_type": "code",
      "source": [
        "a = np.random.rand(5,4).reshape(4,5)\n",
        "print(a)"
      ],
      "metadata": {
        "colab": {
          "base_uri": "https://localhost:8080/"
        },
        "id": "9lKsFj5EnZVN",
        "outputId": "5ba3c747-0afe-4e78-b444-6a13ede7ef94"
      },
      "execution_count": 54,
      "outputs": [
        {
          "output_type": "stream",
          "name": "stdout",
          "text": [
            "[[0.83686395 0.78842386 0.90048712 0.73767217 0.8027302 ]\n",
            " [0.93660505 0.91176301 0.07625927 0.15095336 0.91346402]\n",
            " [0.85031708 0.82289413 0.93555769 0.5485196  0.83511281]\n",
            " [0.45342841 0.65165454 0.98443456 0.57146729 0.95610832]]\n"
          ]
        }
      ]
    },
    {
      "cell_type": "code",
      "execution_count": 55,
      "metadata": {
        "colab": {
          "base_uri": "https://localhost:8080/"
        },
        "id": "_j5BiaVbkCrv",
        "outputId": "3a71f301-de11-4cf1-ed8b-0ca08a080965"
      },
      "outputs": [
        {
          "output_type": "stream",
          "name": "stdout",
          "text": [
            "[[[ 0  1  2  3]\n",
            "  [ 4  5  6  7]\n",
            "  [ 8  9 10 11]]\n",
            "\n",
            " [[12 13 14 15]\n",
            "  [16 17 18 19]\n",
            "  [20 21 22 23]]]\n"
          ]
        }
      ],
      "source": [
        "c = np.arange(24).reshape(2,3,4)         # 3d array\n",
        "print(c)"
      ]
    },
    {
      "cell_type": "markdown",
      "metadata": {
        "id": "SIClYIS8kCrv"
      },
      "source": [
        "If an array is too large to be printed, NumPy automatically skips the central part of the array and only prints the corners:"
      ]
    },
    {
      "cell_type": "code",
      "execution_count": 56,
      "metadata": {
        "colab": {
          "base_uri": "https://localhost:8080/"
        },
        "id": "veI0CSgBkCrw",
        "outputId": "40ac5384-5456-4ac0-80b0-b7875f085b1a"
      },
      "outputs": [
        {
          "output_type": "stream",
          "name": "stdout",
          "text": [
            "[   0    1    2 ... 9997 9998 9999]\n"
          ]
        }
      ],
      "source": [
        "print(np.arange(10000))"
      ]
    },
    {
      "cell_type": "code",
      "source": [
        "print(np.random.rand(100,100))"
      ],
      "metadata": {
        "colab": {
          "base_uri": "https://localhost:8080/"
        },
        "id": "enGkSoIOnjvz",
        "outputId": "0344b0d2-bfe4-4bd1-d96e-3e8a0acd562d"
      },
      "execution_count": 58,
      "outputs": [
        {
          "output_type": "stream",
          "name": "stdout",
          "text": [
            "[[0.16144277 0.98378808 0.73267152 ... 0.07888686 0.77281672 0.9577316 ]\n",
            " [0.21175938 0.35711381 0.93910751 ... 0.41662568 0.74481106 0.4949931 ]\n",
            " [0.52717642 0.17878291 0.17008599 ... 0.09704049 0.02829919 0.72949643]\n",
            " ...\n",
            " [0.05029707 0.57052056 0.01990657 ... 0.26397808 0.45142629 0.50519131]\n",
            " [0.59245088 0.57969846 0.0384656  ... 0.29631533 0.12823697 0.61337381]\n",
            " [0.97240451 0.67295938 0.72148024 ... 0.16321626 0.12949004 0.17345013]]\n"
          ]
        }
      ]
    },
    {
      "cell_type": "code",
      "execution_count": 61,
      "metadata": {
        "colab": {
          "base_uri": "https://localhost:8080/"
        },
        "id": "-XcbO0UKkCrx",
        "outputId": "cef3bd7b-354a-4e10-d0a7-d7eee22a8a0a"
      },
      "outputs": [
        {
          "output_type": "stream",
          "name": "stdout",
          "text": [
            "[[   0    1    2    3    4    5    6    7    8    9   10   11   12   13\n",
            "    14   15   16   17   18   19   20   21   22   23   24   25   26   27\n",
            "    28   29   30   31   32   33   34   35   36   37   38   39   40   41\n",
            "    42   43   44   45   46   47   48   49   50   51   52   53   54   55\n",
            "    56   57   58   59   60   61   62   63   64   65   66   67   68   69\n",
            "    70   71   72   73   74   75   76   77   78   79   80   81   82   83\n",
            "    84   85   86   87   88   89   90   91   92   93   94   95   96   97\n",
            "    98   99]\n",
            " [ 100  101  102  103  104  105  106  107  108  109  110  111  112  113\n",
            "   114  115  116  117  118  119  120  121  122  123  124  125  126  127\n",
            "   128  129  130  131  132  133  134  135  136  137  138  139  140  141\n",
            "   142  143  144  145  146  147  148  149  150  151  152  153  154  155\n",
            "   156  157  158  159  160  161  162  163  164  165  166  167  168  169\n",
            "   170  171  172  173  174  175  176  177  178  179  180  181  182  183\n",
            "   184  185  186  187  188  189  190  191  192  193  194  195  196  197\n",
            "   198  199]\n",
            " [ 200  201  202  203  204  205  206  207  208  209  210  211  212  213\n",
            "   214  215  216  217  218  219  220  221  222  223  224  225  226  227\n",
            "   228  229  230  231  232  233  234  235  236  237  238  239  240  241\n",
            "   242  243  244  245  246  247  248  249  250  251  252  253  254  255\n",
            "   256  257  258  259  260  261  262  263  264  265  266  267  268  269\n",
            "   270  271  272  273  274  275  276  277  278  279  280  281  282  283\n",
            "   284  285  286  287  288  289  290  291  292  293  294  295  296  297\n",
            "   298  299]\n",
            " [ 300  301  302  303  304  305  306  307  308  309  310  311  312  313\n",
            "   314  315  316  317  318  319  320  321  322  323  324  325  326  327\n",
            "   328  329  330  331  332  333  334  335  336  337  338  339  340  341\n",
            "   342  343  344  345  346  347  348  349  350  351  352  353  354  355\n",
            "   356  357  358  359  360  361  362  363  364  365  366  367  368  369\n",
            "   370  371  372  373  374  375  376  377  378  379  380  381  382  383\n",
            "   384  385  386  387  388  389  390  391  392  393  394  395  396  397\n",
            "   398  399]\n",
            " [ 400  401  402  403  404  405  406  407  408  409  410  411  412  413\n",
            "   414  415  416  417  418  419  420  421  422  423  424  425  426  427\n",
            "   428  429  430  431  432  433  434  435  436  437  438  439  440  441\n",
            "   442  443  444  445  446  447  448  449  450  451  452  453  454  455\n",
            "   456  457  458  459  460  461  462  463  464  465  466  467  468  469\n",
            "   470  471  472  473  474  475  476  477  478  479  480  481  482  483\n",
            "   484  485  486  487  488  489  490  491  492  493  494  495  496  497\n",
            "   498  499]\n",
            " [ 500  501  502  503  504  505  506  507  508  509  510  511  512  513\n",
            "   514  515  516  517  518  519  520  521  522  523  524  525  526  527\n",
            "   528  529  530  531  532  533  534  535  536  537  538  539  540  541\n",
            "   542  543  544  545  546  547  548  549  550  551  552  553  554  555\n",
            "   556  557  558  559  560  561  562  563  564  565  566  567  568  569\n",
            "   570  571  572  573  574  575  576  577  578  579  580  581  582  583\n",
            "   584  585  586  587  588  589  590  591  592  593  594  595  596  597\n",
            "   598  599]\n",
            " [ 600  601  602  603  604  605  606  607  608  609  610  611  612  613\n",
            "   614  615  616  617  618  619  620  621  622  623  624  625  626  627\n",
            "   628  629  630  631  632  633  634  635  636  637  638  639  640  641\n",
            "   642  643  644  645  646  647  648  649  650  651  652  653  654  655\n",
            "   656  657  658  659  660  661  662  663  664  665  666  667  668  669\n",
            "   670  671  672  673  674  675  676  677  678  679  680  681  682  683\n",
            "   684  685  686  687  688  689  690  691  692  693  694  695  696  697\n",
            "   698  699]\n",
            " [ 700  701  702  703  704  705  706  707  708  709  710  711  712  713\n",
            "   714  715  716  717  718  719  720  721  722  723  724  725  726  727\n",
            "   728  729  730  731  732  733  734  735  736  737  738  739  740  741\n",
            "   742  743  744  745  746  747  748  749  750  751  752  753  754  755\n",
            "   756  757  758  759  760  761  762  763  764  765  766  767  768  769\n",
            "   770  771  772  773  774  775  776  777  778  779  780  781  782  783\n",
            "   784  785  786  787  788  789  790  791  792  793  794  795  796  797\n",
            "   798  799]\n",
            " [ 800  801  802  803  804  805  806  807  808  809  810  811  812  813\n",
            "   814  815  816  817  818  819  820  821  822  823  824  825  826  827\n",
            "   828  829  830  831  832  833  834  835  836  837  838  839  840  841\n",
            "   842  843  844  845  846  847  848  849  850  851  852  853  854  855\n",
            "   856  857  858  859  860  861  862  863  864  865  866  867  868  869\n",
            "   870  871  872  873  874  875  876  877  878  879  880  881  882  883\n",
            "   884  885  886  887  888  889  890  891  892  893  894  895  896  897\n",
            "   898  899]\n",
            " [ 900  901  902  903  904  905  906  907  908  909  910  911  912  913\n",
            "   914  915  916  917  918  919  920  921  922  923  924  925  926  927\n",
            "   928  929  930  931  932  933  934  935  936  937  938  939  940  941\n",
            "   942  943  944  945  946  947  948  949  950  951  952  953  954  955\n",
            "   956  957  958  959  960  961  962  963  964  965  966  967  968  969\n",
            "   970  971  972  973  974  975  976  977  978  979  980  981  982  983\n",
            "   984  985  986  987  988  989  990  991  992  993  994  995  996  997\n",
            "   998  999]\n",
            " [1000 1001 1002 1003 1004 1005 1006 1007 1008 1009 1010 1011 1012 1013\n",
            "  1014 1015 1016 1017 1018 1019 1020 1021 1022 1023 1024 1025 1026 1027\n",
            "  1028 1029 1030 1031 1032 1033 1034 1035 1036 1037 1038 1039 1040 1041\n",
            "  1042 1043 1044 1045 1046 1047 1048 1049 1050 1051 1052 1053 1054 1055\n",
            "  1056 1057 1058 1059 1060 1061 1062 1063 1064 1065 1066 1067 1068 1069\n",
            "  1070 1071 1072 1073 1074 1075 1076 1077 1078 1079 1080 1081 1082 1083\n",
            "  1084 1085 1086 1087 1088 1089 1090 1091 1092 1093 1094 1095 1096 1097\n",
            "  1098 1099]\n",
            " [1100 1101 1102 1103 1104 1105 1106 1107 1108 1109 1110 1111 1112 1113\n",
            "  1114 1115 1116 1117 1118 1119 1120 1121 1122 1123 1124 1125 1126 1127\n",
            "  1128 1129 1130 1131 1132 1133 1134 1135 1136 1137 1138 1139 1140 1141\n",
            "  1142 1143 1144 1145 1146 1147 1148 1149 1150 1151 1152 1153 1154 1155\n",
            "  1156 1157 1158 1159 1160 1161 1162 1163 1164 1165 1166 1167 1168 1169\n",
            "  1170 1171 1172 1173 1174 1175 1176 1177 1178 1179 1180 1181 1182 1183\n",
            "  1184 1185 1186 1187 1188 1189 1190 1191 1192 1193 1194 1195 1196 1197\n",
            "  1198 1199]\n",
            " [1200 1201 1202 1203 1204 1205 1206 1207 1208 1209 1210 1211 1212 1213\n",
            "  1214 1215 1216 1217 1218 1219 1220 1221 1222 1223 1224 1225 1226 1227\n",
            "  1228 1229 1230 1231 1232 1233 1234 1235 1236 1237 1238 1239 1240 1241\n",
            "  1242 1243 1244 1245 1246 1247 1248 1249 1250 1251 1252 1253 1254 1255\n",
            "  1256 1257 1258 1259 1260 1261 1262 1263 1264 1265 1266 1267 1268 1269\n",
            "  1270 1271 1272 1273 1274 1275 1276 1277 1278 1279 1280 1281 1282 1283\n",
            "  1284 1285 1286 1287 1288 1289 1290 1291 1292 1293 1294 1295 1296 1297\n",
            "  1298 1299]\n",
            " [1300 1301 1302 1303 1304 1305 1306 1307 1308 1309 1310 1311 1312 1313\n",
            "  1314 1315 1316 1317 1318 1319 1320 1321 1322 1323 1324 1325 1326 1327\n",
            "  1328 1329 1330 1331 1332 1333 1334 1335 1336 1337 1338 1339 1340 1341\n",
            "  1342 1343 1344 1345 1346 1347 1348 1349 1350 1351 1352 1353 1354 1355\n",
            "  1356 1357 1358 1359 1360 1361 1362 1363 1364 1365 1366 1367 1368 1369\n",
            "  1370 1371 1372 1373 1374 1375 1376 1377 1378 1379 1380 1381 1382 1383\n",
            "  1384 1385 1386 1387 1388 1389 1390 1391 1392 1393 1394 1395 1396 1397\n",
            "  1398 1399]\n",
            " [1400 1401 1402 1403 1404 1405 1406 1407 1408 1409 1410 1411 1412 1413\n",
            "  1414 1415 1416 1417 1418 1419 1420 1421 1422 1423 1424 1425 1426 1427\n",
            "  1428 1429 1430 1431 1432 1433 1434 1435 1436 1437 1438 1439 1440 1441\n",
            "  1442 1443 1444 1445 1446 1447 1448 1449 1450 1451 1452 1453 1454 1455\n",
            "  1456 1457 1458 1459 1460 1461 1462 1463 1464 1465 1466 1467 1468 1469\n",
            "  1470 1471 1472 1473 1474 1475 1476 1477 1478 1479 1480 1481 1482 1483\n",
            "  1484 1485 1486 1487 1488 1489 1490 1491 1492 1493 1494 1495 1496 1497\n",
            "  1498 1499]\n",
            " [1500 1501 1502 1503 1504 1505 1506 1507 1508 1509 1510 1511 1512 1513\n",
            "  1514 1515 1516 1517 1518 1519 1520 1521 1522 1523 1524 1525 1526 1527\n",
            "  1528 1529 1530 1531 1532 1533 1534 1535 1536 1537 1538 1539 1540 1541\n",
            "  1542 1543 1544 1545 1546 1547 1548 1549 1550 1551 1552 1553 1554 1555\n",
            "  1556 1557 1558 1559 1560 1561 1562 1563 1564 1565 1566 1567 1568 1569\n",
            "  1570 1571 1572 1573 1574 1575 1576 1577 1578 1579 1580 1581 1582 1583\n",
            "  1584 1585 1586 1587 1588 1589 1590 1591 1592 1593 1594 1595 1596 1597\n",
            "  1598 1599]\n",
            " [1600 1601 1602 1603 1604 1605 1606 1607 1608 1609 1610 1611 1612 1613\n",
            "  1614 1615 1616 1617 1618 1619 1620 1621 1622 1623 1624 1625 1626 1627\n",
            "  1628 1629 1630 1631 1632 1633 1634 1635 1636 1637 1638 1639 1640 1641\n",
            "  1642 1643 1644 1645 1646 1647 1648 1649 1650 1651 1652 1653 1654 1655\n",
            "  1656 1657 1658 1659 1660 1661 1662 1663 1664 1665 1666 1667 1668 1669\n",
            "  1670 1671 1672 1673 1674 1675 1676 1677 1678 1679 1680 1681 1682 1683\n",
            "  1684 1685 1686 1687 1688 1689 1690 1691 1692 1693 1694 1695 1696 1697\n",
            "  1698 1699]\n",
            " [1700 1701 1702 1703 1704 1705 1706 1707 1708 1709 1710 1711 1712 1713\n",
            "  1714 1715 1716 1717 1718 1719 1720 1721 1722 1723 1724 1725 1726 1727\n",
            "  1728 1729 1730 1731 1732 1733 1734 1735 1736 1737 1738 1739 1740 1741\n",
            "  1742 1743 1744 1745 1746 1747 1748 1749 1750 1751 1752 1753 1754 1755\n",
            "  1756 1757 1758 1759 1760 1761 1762 1763 1764 1765 1766 1767 1768 1769\n",
            "  1770 1771 1772 1773 1774 1775 1776 1777 1778 1779 1780 1781 1782 1783\n",
            "  1784 1785 1786 1787 1788 1789 1790 1791 1792 1793 1794 1795 1796 1797\n",
            "  1798 1799]\n",
            " [1800 1801 1802 1803 1804 1805 1806 1807 1808 1809 1810 1811 1812 1813\n",
            "  1814 1815 1816 1817 1818 1819 1820 1821 1822 1823 1824 1825 1826 1827\n",
            "  1828 1829 1830 1831 1832 1833 1834 1835 1836 1837 1838 1839 1840 1841\n",
            "  1842 1843 1844 1845 1846 1847 1848 1849 1850 1851 1852 1853 1854 1855\n",
            "  1856 1857 1858 1859 1860 1861 1862 1863 1864 1865 1866 1867 1868 1869\n",
            "  1870 1871 1872 1873 1874 1875 1876 1877 1878 1879 1880 1881 1882 1883\n",
            "  1884 1885 1886 1887 1888 1889 1890 1891 1892 1893 1894 1895 1896 1897\n",
            "  1898 1899]\n",
            " [1900 1901 1902 1903 1904 1905 1906 1907 1908 1909 1910 1911 1912 1913\n",
            "  1914 1915 1916 1917 1918 1919 1920 1921 1922 1923 1924 1925 1926 1927\n",
            "  1928 1929 1930 1931 1932 1933 1934 1935 1936 1937 1938 1939 1940 1941\n",
            "  1942 1943 1944 1945 1946 1947 1948 1949 1950 1951 1952 1953 1954 1955\n",
            "  1956 1957 1958 1959 1960 1961 1962 1963 1964 1965 1966 1967 1968 1969\n",
            "  1970 1971 1972 1973 1974 1975 1976 1977 1978 1979 1980 1981 1982 1983\n",
            "  1984 1985 1986 1987 1988 1989 1990 1991 1992 1993 1994 1995 1996 1997\n",
            "  1998 1999]\n",
            " [2000 2001 2002 2003 2004 2005 2006 2007 2008 2009 2010 2011 2012 2013\n",
            "  2014 2015 2016 2017 2018 2019 2020 2021 2022 2023 2024 2025 2026 2027\n",
            "  2028 2029 2030 2031 2032 2033 2034 2035 2036 2037 2038 2039 2040 2041\n",
            "  2042 2043 2044 2045 2046 2047 2048 2049 2050 2051 2052 2053 2054 2055\n",
            "  2056 2057 2058 2059 2060 2061 2062 2063 2064 2065 2066 2067 2068 2069\n",
            "  2070 2071 2072 2073 2074 2075 2076 2077 2078 2079 2080 2081 2082 2083\n",
            "  2084 2085 2086 2087 2088 2089 2090 2091 2092 2093 2094 2095 2096 2097\n",
            "  2098 2099]\n",
            " [2100 2101 2102 2103 2104 2105 2106 2107 2108 2109 2110 2111 2112 2113\n",
            "  2114 2115 2116 2117 2118 2119 2120 2121 2122 2123 2124 2125 2126 2127\n",
            "  2128 2129 2130 2131 2132 2133 2134 2135 2136 2137 2138 2139 2140 2141\n",
            "  2142 2143 2144 2145 2146 2147 2148 2149 2150 2151 2152 2153 2154 2155\n",
            "  2156 2157 2158 2159 2160 2161 2162 2163 2164 2165 2166 2167 2168 2169\n",
            "  2170 2171 2172 2173 2174 2175 2176 2177 2178 2179 2180 2181 2182 2183\n",
            "  2184 2185 2186 2187 2188 2189 2190 2191 2192 2193 2194 2195 2196 2197\n",
            "  2198 2199]\n",
            " [2200 2201 2202 2203 2204 2205 2206 2207 2208 2209 2210 2211 2212 2213\n",
            "  2214 2215 2216 2217 2218 2219 2220 2221 2222 2223 2224 2225 2226 2227\n",
            "  2228 2229 2230 2231 2232 2233 2234 2235 2236 2237 2238 2239 2240 2241\n",
            "  2242 2243 2244 2245 2246 2247 2248 2249 2250 2251 2252 2253 2254 2255\n",
            "  2256 2257 2258 2259 2260 2261 2262 2263 2264 2265 2266 2267 2268 2269\n",
            "  2270 2271 2272 2273 2274 2275 2276 2277 2278 2279 2280 2281 2282 2283\n",
            "  2284 2285 2286 2287 2288 2289 2290 2291 2292 2293 2294 2295 2296 2297\n",
            "  2298 2299]\n",
            " [2300 2301 2302 2303 2304 2305 2306 2307 2308 2309 2310 2311 2312 2313\n",
            "  2314 2315 2316 2317 2318 2319 2320 2321 2322 2323 2324 2325 2326 2327\n",
            "  2328 2329 2330 2331 2332 2333 2334 2335 2336 2337 2338 2339 2340 2341\n",
            "  2342 2343 2344 2345 2346 2347 2348 2349 2350 2351 2352 2353 2354 2355\n",
            "  2356 2357 2358 2359 2360 2361 2362 2363 2364 2365 2366 2367 2368 2369\n",
            "  2370 2371 2372 2373 2374 2375 2376 2377 2378 2379 2380 2381 2382 2383\n",
            "  2384 2385 2386 2387 2388 2389 2390 2391 2392 2393 2394 2395 2396 2397\n",
            "  2398 2399]\n",
            " [2400 2401 2402 2403 2404 2405 2406 2407 2408 2409 2410 2411 2412 2413\n",
            "  2414 2415 2416 2417 2418 2419 2420 2421 2422 2423 2424 2425 2426 2427\n",
            "  2428 2429 2430 2431 2432 2433 2434 2435 2436 2437 2438 2439 2440 2441\n",
            "  2442 2443 2444 2445 2446 2447 2448 2449 2450 2451 2452 2453 2454 2455\n",
            "  2456 2457 2458 2459 2460 2461 2462 2463 2464 2465 2466 2467 2468 2469\n",
            "  2470 2471 2472 2473 2474 2475 2476 2477 2478 2479 2480 2481 2482 2483\n",
            "  2484 2485 2486 2487 2488 2489 2490 2491 2492 2493 2494 2495 2496 2497\n",
            "  2498 2499]\n",
            " [2500 2501 2502 2503 2504 2505 2506 2507 2508 2509 2510 2511 2512 2513\n",
            "  2514 2515 2516 2517 2518 2519 2520 2521 2522 2523 2524 2525 2526 2527\n",
            "  2528 2529 2530 2531 2532 2533 2534 2535 2536 2537 2538 2539 2540 2541\n",
            "  2542 2543 2544 2545 2546 2547 2548 2549 2550 2551 2552 2553 2554 2555\n",
            "  2556 2557 2558 2559 2560 2561 2562 2563 2564 2565 2566 2567 2568 2569\n",
            "  2570 2571 2572 2573 2574 2575 2576 2577 2578 2579 2580 2581 2582 2583\n",
            "  2584 2585 2586 2587 2588 2589 2590 2591 2592 2593 2594 2595 2596 2597\n",
            "  2598 2599]\n",
            " [2600 2601 2602 2603 2604 2605 2606 2607 2608 2609 2610 2611 2612 2613\n",
            "  2614 2615 2616 2617 2618 2619 2620 2621 2622 2623 2624 2625 2626 2627\n",
            "  2628 2629 2630 2631 2632 2633 2634 2635 2636 2637 2638 2639 2640 2641\n",
            "  2642 2643 2644 2645 2646 2647 2648 2649 2650 2651 2652 2653 2654 2655\n",
            "  2656 2657 2658 2659 2660 2661 2662 2663 2664 2665 2666 2667 2668 2669\n",
            "  2670 2671 2672 2673 2674 2675 2676 2677 2678 2679 2680 2681 2682 2683\n",
            "  2684 2685 2686 2687 2688 2689 2690 2691 2692 2693 2694 2695 2696 2697\n",
            "  2698 2699]\n",
            " [2700 2701 2702 2703 2704 2705 2706 2707 2708 2709 2710 2711 2712 2713\n",
            "  2714 2715 2716 2717 2718 2719 2720 2721 2722 2723 2724 2725 2726 2727\n",
            "  2728 2729 2730 2731 2732 2733 2734 2735 2736 2737 2738 2739 2740 2741\n",
            "  2742 2743 2744 2745 2746 2747 2748 2749 2750 2751 2752 2753 2754 2755\n",
            "  2756 2757 2758 2759 2760 2761 2762 2763 2764 2765 2766 2767 2768 2769\n",
            "  2770 2771 2772 2773 2774 2775 2776 2777 2778 2779 2780 2781 2782 2783\n",
            "  2784 2785 2786 2787 2788 2789 2790 2791 2792 2793 2794 2795 2796 2797\n",
            "  2798 2799]\n",
            " [2800 2801 2802 2803 2804 2805 2806 2807 2808 2809 2810 2811 2812 2813\n",
            "  2814 2815 2816 2817 2818 2819 2820 2821 2822 2823 2824 2825 2826 2827\n",
            "  2828 2829 2830 2831 2832 2833 2834 2835 2836 2837 2838 2839 2840 2841\n",
            "  2842 2843 2844 2845 2846 2847 2848 2849 2850 2851 2852 2853 2854 2855\n",
            "  2856 2857 2858 2859 2860 2861 2862 2863 2864 2865 2866 2867 2868 2869\n",
            "  2870 2871 2872 2873 2874 2875 2876 2877 2878 2879 2880 2881 2882 2883\n",
            "  2884 2885 2886 2887 2888 2889 2890 2891 2892 2893 2894 2895 2896 2897\n",
            "  2898 2899]\n",
            " [2900 2901 2902 2903 2904 2905 2906 2907 2908 2909 2910 2911 2912 2913\n",
            "  2914 2915 2916 2917 2918 2919 2920 2921 2922 2923 2924 2925 2926 2927\n",
            "  2928 2929 2930 2931 2932 2933 2934 2935 2936 2937 2938 2939 2940 2941\n",
            "  2942 2943 2944 2945 2946 2947 2948 2949 2950 2951 2952 2953 2954 2955\n",
            "  2956 2957 2958 2959 2960 2961 2962 2963 2964 2965 2966 2967 2968 2969\n",
            "  2970 2971 2972 2973 2974 2975 2976 2977 2978 2979 2980 2981 2982 2983\n",
            "  2984 2985 2986 2987 2988 2989 2990 2991 2992 2993 2994 2995 2996 2997\n",
            "  2998 2999]\n",
            " [3000 3001 3002 3003 3004 3005 3006 3007 3008 3009 3010 3011 3012 3013\n",
            "  3014 3015 3016 3017 3018 3019 3020 3021 3022 3023 3024 3025 3026 3027\n",
            "  3028 3029 3030 3031 3032 3033 3034 3035 3036 3037 3038 3039 3040 3041\n",
            "  3042 3043 3044 3045 3046 3047 3048 3049 3050 3051 3052 3053 3054 3055\n",
            "  3056 3057 3058 3059 3060 3061 3062 3063 3064 3065 3066 3067 3068 3069\n",
            "  3070 3071 3072 3073 3074 3075 3076 3077 3078 3079 3080 3081 3082 3083\n",
            "  3084 3085 3086 3087 3088 3089 3090 3091 3092 3093 3094 3095 3096 3097\n",
            "  3098 3099]\n",
            " [3100 3101 3102 3103 3104 3105 3106 3107 3108 3109 3110 3111 3112 3113\n",
            "  3114 3115 3116 3117 3118 3119 3120 3121 3122 3123 3124 3125 3126 3127\n",
            "  3128 3129 3130 3131 3132 3133 3134 3135 3136 3137 3138 3139 3140 3141\n",
            "  3142 3143 3144 3145 3146 3147 3148 3149 3150 3151 3152 3153 3154 3155\n",
            "  3156 3157 3158 3159 3160 3161 3162 3163 3164 3165 3166 3167 3168 3169\n",
            "  3170 3171 3172 3173 3174 3175 3176 3177 3178 3179 3180 3181 3182 3183\n",
            "  3184 3185 3186 3187 3188 3189 3190 3191 3192 3193 3194 3195 3196 3197\n",
            "  3198 3199]\n",
            " [3200 3201 3202 3203 3204 3205 3206 3207 3208 3209 3210 3211 3212 3213\n",
            "  3214 3215 3216 3217 3218 3219 3220 3221 3222 3223 3224 3225 3226 3227\n",
            "  3228 3229 3230 3231 3232 3233 3234 3235 3236 3237 3238 3239 3240 3241\n",
            "  3242 3243 3244 3245 3246 3247 3248 3249 3250 3251 3252 3253 3254 3255\n",
            "  3256 3257 3258 3259 3260 3261 3262 3263 3264 3265 3266 3267 3268 3269\n",
            "  3270 3271 3272 3273 3274 3275 3276 3277 3278 3279 3280 3281 3282 3283\n",
            "  3284 3285 3286 3287 3288 3289 3290 3291 3292 3293 3294 3295 3296 3297\n",
            "  3298 3299]\n",
            " [3300 3301 3302 3303 3304 3305 3306 3307 3308 3309 3310 3311 3312 3313\n",
            "  3314 3315 3316 3317 3318 3319 3320 3321 3322 3323 3324 3325 3326 3327\n",
            "  3328 3329 3330 3331 3332 3333 3334 3335 3336 3337 3338 3339 3340 3341\n",
            "  3342 3343 3344 3345 3346 3347 3348 3349 3350 3351 3352 3353 3354 3355\n",
            "  3356 3357 3358 3359 3360 3361 3362 3363 3364 3365 3366 3367 3368 3369\n",
            "  3370 3371 3372 3373 3374 3375 3376 3377 3378 3379 3380 3381 3382 3383\n",
            "  3384 3385 3386 3387 3388 3389 3390 3391 3392 3393 3394 3395 3396 3397\n",
            "  3398 3399]\n",
            " [3400 3401 3402 3403 3404 3405 3406 3407 3408 3409 3410 3411 3412 3413\n",
            "  3414 3415 3416 3417 3418 3419 3420 3421 3422 3423 3424 3425 3426 3427\n",
            "  3428 3429 3430 3431 3432 3433 3434 3435 3436 3437 3438 3439 3440 3441\n",
            "  3442 3443 3444 3445 3446 3447 3448 3449 3450 3451 3452 3453 3454 3455\n",
            "  3456 3457 3458 3459 3460 3461 3462 3463 3464 3465 3466 3467 3468 3469\n",
            "  3470 3471 3472 3473 3474 3475 3476 3477 3478 3479 3480 3481 3482 3483\n",
            "  3484 3485 3486 3487 3488 3489 3490 3491 3492 3493 3494 3495 3496 3497\n",
            "  3498 3499]\n",
            " [3500 3501 3502 3503 3504 3505 3506 3507 3508 3509 3510 3511 3512 3513\n",
            "  3514 3515 3516 3517 3518 3519 3520 3521 3522 3523 3524 3525 3526 3527\n",
            "  3528 3529 3530 3531 3532 3533 3534 3535 3536 3537 3538 3539 3540 3541\n",
            "  3542 3543 3544 3545 3546 3547 3548 3549 3550 3551 3552 3553 3554 3555\n",
            "  3556 3557 3558 3559 3560 3561 3562 3563 3564 3565 3566 3567 3568 3569\n",
            "  3570 3571 3572 3573 3574 3575 3576 3577 3578 3579 3580 3581 3582 3583\n",
            "  3584 3585 3586 3587 3588 3589 3590 3591 3592 3593 3594 3595 3596 3597\n",
            "  3598 3599]\n",
            " [3600 3601 3602 3603 3604 3605 3606 3607 3608 3609 3610 3611 3612 3613\n",
            "  3614 3615 3616 3617 3618 3619 3620 3621 3622 3623 3624 3625 3626 3627\n",
            "  3628 3629 3630 3631 3632 3633 3634 3635 3636 3637 3638 3639 3640 3641\n",
            "  3642 3643 3644 3645 3646 3647 3648 3649 3650 3651 3652 3653 3654 3655\n",
            "  3656 3657 3658 3659 3660 3661 3662 3663 3664 3665 3666 3667 3668 3669\n",
            "  3670 3671 3672 3673 3674 3675 3676 3677 3678 3679 3680 3681 3682 3683\n",
            "  3684 3685 3686 3687 3688 3689 3690 3691 3692 3693 3694 3695 3696 3697\n",
            "  3698 3699]\n",
            " [3700 3701 3702 3703 3704 3705 3706 3707 3708 3709 3710 3711 3712 3713\n",
            "  3714 3715 3716 3717 3718 3719 3720 3721 3722 3723 3724 3725 3726 3727\n",
            "  3728 3729 3730 3731 3732 3733 3734 3735 3736 3737 3738 3739 3740 3741\n",
            "  3742 3743 3744 3745 3746 3747 3748 3749 3750 3751 3752 3753 3754 3755\n",
            "  3756 3757 3758 3759 3760 3761 3762 3763 3764 3765 3766 3767 3768 3769\n",
            "  3770 3771 3772 3773 3774 3775 3776 3777 3778 3779 3780 3781 3782 3783\n",
            "  3784 3785 3786 3787 3788 3789 3790 3791 3792 3793 3794 3795 3796 3797\n",
            "  3798 3799]\n",
            " [3800 3801 3802 3803 3804 3805 3806 3807 3808 3809 3810 3811 3812 3813\n",
            "  3814 3815 3816 3817 3818 3819 3820 3821 3822 3823 3824 3825 3826 3827\n",
            "  3828 3829 3830 3831 3832 3833 3834 3835 3836 3837 3838 3839 3840 3841\n",
            "  3842 3843 3844 3845 3846 3847 3848 3849 3850 3851 3852 3853 3854 3855\n",
            "  3856 3857 3858 3859 3860 3861 3862 3863 3864 3865 3866 3867 3868 3869\n",
            "  3870 3871 3872 3873 3874 3875 3876 3877 3878 3879 3880 3881 3882 3883\n",
            "  3884 3885 3886 3887 3888 3889 3890 3891 3892 3893 3894 3895 3896 3897\n",
            "  3898 3899]\n",
            " [3900 3901 3902 3903 3904 3905 3906 3907 3908 3909 3910 3911 3912 3913\n",
            "  3914 3915 3916 3917 3918 3919 3920 3921 3922 3923 3924 3925 3926 3927\n",
            "  3928 3929 3930 3931 3932 3933 3934 3935 3936 3937 3938 3939 3940 3941\n",
            "  3942 3943 3944 3945 3946 3947 3948 3949 3950 3951 3952 3953 3954 3955\n",
            "  3956 3957 3958 3959 3960 3961 3962 3963 3964 3965 3966 3967 3968 3969\n",
            "  3970 3971 3972 3973 3974 3975 3976 3977 3978 3979 3980 3981 3982 3983\n",
            "  3984 3985 3986 3987 3988 3989 3990 3991 3992 3993 3994 3995 3996 3997\n",
            "  3998 3999]\n",
            " [4000 4001 4002 4003 4004 4005 4006 4007 4008 4009 4010 4011 4012 4013\n",
            "  4014 4015 4016 4017 4018 4019 4020 4021 4022 4023 4024 4025 4026 4027\n",
            "  4028 4029 4030 4031 4032 4033 4034 4035 4036 4037 4038 4039 4040 4041\n",
            "  4042 4043 4044 4045 4046 4047 4048 4049 4050 4051 4052 4053 4054 4055\n",
            "  4056 4057 4058 4059 4060 4061 4062 4063 4064 4065 4066 4067 4068 4069\n",
            "  4070 4071 4072 4073 4074 4075 4076 4077 4078 4079 4080 4081 4082 4083\n",
            "  4084 4085 4086 4087 4088 4089 4090 4091 4092 4093 4094 4095 4096 4097\n",
            "  4098 4099]\n",
            " [4100 4101 4102 4103 4104 4105 4106 4107 4108 4109 4110 4111 4112 4113\n",
            "  4114 4115 4116 4117 4118 4119 4120 4121 4122 4123 4124 4125 4126 4127\n",
            "  4128 4129 4130 4131 4132 4133 4134 4135 4136 4137 4138 4139 4140 4141\n",
            "  4142 4143 4144 4145 4146 4147 4148 4149 4150 4151 4152 4153 4154 4155\n",
            "  4156 4157 4158 4159 4160 4161 4162 4163 4164 4165 4166 4167 4168 4169\n",
            "  4170 4171 4172 4173 4174 4175 4176 4177 4178 4179 4180 4181 4182 4183\n",
            "  4184 4185 4186 4187 4188 4189 4190 4191 4192 4193 4194 4195 4196 4197\n",
            "  4198 4199]\n",
            " [4200 4201 4202 4203 4204 4205 4206 4207 4208 4209 4210 4211 4212 4213\n",
            "  4214 4215 4216 4217 4218 4219 4220 4221 4222 4223 4224 4225 4226 4227\n",
            "  4228 4229 4230 4231 4232 4233 4234 4235 4236 4237 4238 4239 4240 4241\n",
            "  4242 4243 4244 4245 4246 4247 4248 4249 4250 4251 4252 4253 4254 4255\n",
            "  4256 4257 4258 4259 4260 4261 4262 4263 4264 4265 4266 4267 4268 4269\n",
            "  4270 4271 4272 4273 4274 4275 4276 4277 4278 4279 4280 4281 4282 4283\n",
            "  4284 4285 4286 4287 4288 4289 4290 4291 4292 4293 4294 4295 4296 4297\n",
            "  4298 4299]\n",
            " [4300 4301 4302 4303 4304 4305 4306 4307 4308 4309 4310 4311 4312 4313\n",
            "  4314 4315 4316 4317 4318 4319 4320 4321 4322 4323 4324 4325 4326 4327\n",
            "  4328 4329 4330 4331 4332 4333 4334 4335 4336 4337 4338 4339 4340 4341\n",
            "  4342 4343 4344 4345 4346 4347 4348 4349 4350 4351 4352 4353 4354 4355\n",
            "  4356 4357 4358 4359 4360 4361 4362 4363 4364 4365 4366 4367 4368 4369\n",
            "  4370 4371 4372 4373 4374 4375 4376 4377 4378 4379 4380 4381 4382 4383\n",
            "  4384 4385 4386 4387 4388 4389 4390 4391 4392 4393 4394 4395 4396 4397\n",
            "  4398 4399]\n",
            " [4400 4401 4402 4403 4404 4405 4406 4407 4408 4409 4410 4411 4412 4413\n",
            "  4414 4415 4416 4417 4418 4419 4420 4421 4422 4423 4424 4425 4426 4427\n",
            "  4428 4429 4430 4431 4432 4433 4434 4435 4436 4437 4438 4439 4440 4441\n",
            "  4442 4443 4444 4445 4446 4447 4448 4449 4450 4451 4452 4453 4454 4455\n",
            "  4456 4457 4458 4459 4460 4461 4462 4463 4464 4465 4466 4467 4468 4469\n",
            "  4470 4471 4472 4473 4474 4475 4476 4477 4478 4479 4480 4481 4482 4483\n",
            "  4484 4485 4486 4487 4488 4489 4490 4491 4492 4493 4494 4495 4496 4497\n",
            "  4498 4499]\n",
            " [4500 4501 4502 4503 4504 4505 4506 4507 4508 4509 4510 4511 4512 4513\n",
            "  4514 4515 4516 4517 4518 4519 4520 4521 4522 4523 4524 4525 4526 4527\n",
            "  4528 4529 4530 4531 4532 4533 4534 4535 4536 4537 4538 4539 4540 4541\n",
            "  4542 4543 4544 4545 4546 4547 4548 4549 4550 4551 4552 4553 4554 4555\n",
            "  4556 4557 4558 4559 4560 4561 4562 4563 4564 4565 4566 4567 4568 4569\n",
            "  4570 4571 4572 4573 4574 4575 4576 4577 4578 4579 4580 4581 4582 4583\n",
            "  4584 4585 4586 4587 4588 4589 4590 4591 4592 4593 4594 4595 4596 4597\n",
            "  4598 4599]\n",
            " [4600 4601 4602 4603 4604 4605 4606 4607 4608 4609 4610 4611 4612 4613\n",
            "  4614 4615 4616 4617 4618 4619 4620 4621 4622 4623 4624 4625 4626 4627\n",
            "  4628 4629 4630 4631 4632 4633 4634 4635 4636 4637 4638 4639 4640 4641\n",
            "  4642 4643 4644 4645 4646 4647 4648 4649 4650 4651 4652 4653 4654 4655\n",
            "  4656 4657 4658 4659 4660 4661 4662 4663 4664 4665 4666 4667 4668 4669\n",
            "  4670 4671 4672 4673 4674 4675 4676 4677 4678 4679 4680 4681 4682 4683\n",
            "  4684 4685 4686 4687 4688 4689 4690 4691 4692 4693 4694 4695 4696 4697\n",
            "  4698 4699]\n",
            " [4700 4701 4702 4703 4704 4705 4706 4707 4708 4709 4710 4711 4712 4713\n",
            "  4714 4715 4716 4717 4718 4719 4720 4721 4722 4723 4724 4725 4726 4727\n",
            "  4728 4729 4730 4731 4732 4733 4734 4735 4736 4737 4738 4739 4740 4741\n",
            "  4742 4743 4744 4745 4746 4747 4748 4749 4750 4751 4752 4753 4754 4755\n",
            "  4756 4757 4758 4759 4760 4761 4762 4763 4764 4765 4766 4767 4768 4769\n",
            "  4770 4771 4772 4773 4774 4775 4776 4777 4778 4779 4780 4781 4782 4783\n",
            "  4784 4785 4786 4787 4788 4789 4790 4791 4792 4793 4794 4795 4796 4797\n",
            "  4798 4799]\n",
            " [4800 4801 4802 4803 4804 4805 4806 4807 4808 4809 4810 4811 4812 4813\n",
            "  4814 4815 4816 4817 4818 4819 4820 4821 4822 4823 4824 4825 4826 4827\n",
            "  4828 4829 4830 4831 4832 4833 4834 4835 4836 4837 4838 4839 4840 4841\n",
            "  4842 4843 4844 4845 4846 4847 4848 4849 4850 4851 4852 4853 4854 4855\n",
            "  4856 4857 4858 4859 4860 4861 4862 4863 4864 4865 4866 4867 4868 4869\n",
            "  4870 4871 4872 4873 4874 4875 4876 4877 4878 4879 4880 4881 4882 4883\n",
            "  4884 4885 4886 4887 4888 4889 4890 4891 4892 4893 4894 4895 4896 4897\n",
            "  4898 4899]\n",
            " [4900 4901 4902 4903 4904 4905 4906 4907 4908 4909 4910 4911 4912 4913\n",
            "  4914 4915 4916 4917 4918 4919 4920 4921 4922 4923 4924 4925 4926 4927\n",
            "  4928 4929 4930 4931 4932 4933 4934 4935 4936 4937 4938 4939 4940 4941\n",
            "  4942 4943 4944 4945 4946 4947 4948 4949 4950 4951 4952 4953 4954 4955\n",
            "  4956 4957 4958 4959 4960 4961 4962 4963 4964 4965 4966 4967 4968 4969\n",
            "  4970 4971 4972 4973 4974 4975 4976 4977 4978 4979 4980 4981 4982 4983\n",
            "  4984 4985 4986 4987 4988 4989 4990 4991 4992 4993 4994 4995 4996 4997\n",
            "  4998 4999]\n",
            " [5000 5001 5002 5003 5004 5005 5006 5007 5008 5009 5010 5011 5012 5013\n",
            "  5014 5015 5016 5017 5018 5019 5020 5021 5022 5023 5024 5025 5026 5027\n",
            "  5028 5029 5030 5031 5032 5033 5034 5035 5036 5037 5038 5039 5040 5041\n",
            "  5042 5043 5044 5045 5046 5047 5048 5049 5050 5051 5052 5053 5054 5055\n",
            "  5056 5057 5058 5059 5060 5061 5062 5063 5064 5065 5066 5067 5068 5069\n",
            "  5070 5071 5072 5073 5074 5075 5076 5077 5078 5079 5080 5081 5082 5083\n",
            "  5084 5085 5086 5087 5088 5089 5090 5091 5092 5093 5094 5095 5096 5097\n",
            "  5098 5099]\n",
            " [5100 5101 5102 5103 5104 5105 5106 5107 5108 5109 5110 5111 5112 5113\n",
            "  5114 5115 5116 5117 5118 5119 5120 5121 5122 5123 5124 5125 5126 5127\n",
            "  5128 5129 5130 5131 5132 5133 5134 5135 5136 5137 5138 5139 5140 5141\n",
            "  5142 5143 5144 5145 5146 5147 5148 5149 5150 5151 5152 5153 5154 5155\n",
            "  5156 5157 5158 5159 5160 5161 5162 5163 5164 5165 5166 5167 5168 5169\n",
            "  5170 5171 5172 5173 5174 5175 5176 5177 5178 5179 5180 5181 5182 5183\n",
            "  5184 5185 5186 5187 5188 5189 5190 5191 5192 5193 5194 5195 5196 5197\n",
            "  5198 5199]\n",
            " [5200 5201 5202 5203 5204 5205 5206 5207 5208 5209 5210 5211 5212 5213\n",
            "  5214 5215 5216 5217 5218 5219 5220 5221 5222 5223 5224 5225 5226 5227\n",
            "  5228 5229 5230 5231 5232 5233 5234 5235 5236 5237 5238 5239 5240 5241\n",
            "  5242 5243 5244 5245 5246 5247 5248 5249 5250 5251 5252 5253 5254 5255\n",
            "  5256 5257 5258 5259 5260 5261 5262 5263 5264 5265 5266 5267 5268 5269\n",
            "  5270 5271 5272 5273 5274 5275 5276 5277 5278 5279 5280 5281 5282 5283\n",
            "  5284 5285 5286 5287 5288 5289 5290 5291 5292 5293 5294 5295 5296 5297\n",
            "  5298 5299]\n",
            " [5300 5301 5302 5303 5304 5305 5306 5307 5308 5309 5310 5311 5312 5313\n",
            "  5314 5315 5316 5317 5318 5319 5320 5321 5322 5323 5324 5325 5326 5327\n",
            "  5328 5329 5330 5331 5332 5333 5334 5335 5336 5337 5338 5339 5340 5341\n",
            "  5342 5343 5344 5345 5346 5347 5348 5349 5350 5351 5352 5353 5354 5355\n",
            "  5356 5357 5358 5359 5360 5361 5362 5363 5364 5365 5366 5367 5368 5369\n",
            "  5370 5371 5372 5373 5374 5375 5376 5377 5378 5379 5380 5381 5382 5383\n",
            "  5384 5385 5386 5387 5388 5389 5390 5391 5392 5393 5394 5395 5396 5397\n",
            "  5398 5399]\n",
            " [5400 5401 5402 5403 5404 5405 5406 5407 5408 5409 5410 5411 5412 5413\n",
            "  5414 5415 5416 5417 5418 5419 5420 5421 5422 5423 5424 5425 5426 5427\n",
            "  5428 5429 5430 5431 5432 5433 5434 5435 5436 5437 5438 5439 5440 5441\n",
            "  5442 5443 5444 5445 5446 5447 5448 5449 5450 5451 5452 5453 5454 5455\n",
            "  5456 5457 5458 5459 5460 5461 5462 5463 5464 5465 5466 5467 5468 5469\n",
            "  5470 5471 5472 5473 5474 5475 5476 5477 5478 5479 5480 5481 5482 5483\n",
            "  5484 5485 5486 5487 5488 5489 5490 5491 5492 5493 5494 5495 5496 5497\n",
            "  5498 5499]\n",
            " [5500 5501 5502 5503 5504 5505 5506 5507 5508 5509 5510 5511 5512 5513\n",
            "  5514 5515 5516 5517 5518 5519 5520 5521 5522 5523 5524 5525 5526 5527\n",
            "  5528 5529 5530 5531 5532 5533 5534 5535 5536 5537 5538 5539 5540 5541\n",
            "  5542 5543 5544 5545 5546 5547 5548 5549 5550 5551 5552 5553 5554 5555\n",
            "  5556 5557 5558 5559 5560 5561 5562 5563 5564 5565 5566 5567 5568 5569\n",
            "  5570 5571 5572 5573 5574 5575 5576 5577 5578 5579 5580 5581 5582 5583\n",
            "  5584 5585 5586 5587 5588 5589 5590 5591 5592 5593 5594 5595 5596 5597\n",
            "  5598 5599]\n",
            " [5600 5601 5602 5603 5604 5605 5606 5607 5608 5609 5610 5611 5612 5613\n",
            "  5614 5615 5616 5617 5618 5619 5620 5621 5622 5623 5624 5625 5626 5627\n",
            "  5628 5629 5630 5631 5632 5633 5634 5635 5636 5637 5638 5639 5640 5641\n",
            "  5642 5643 5644 5645 5646 5647 5648 5649 5650 5651 5652 5653 5654 5655\n",
            "  5656 5657 5658 5659 5660 5661 5662 5663 5664 5665 5666 5667 5668 5669\n",
            "  5670 5671 5672 5673 5674 5675 5676 5677 5678 5679 5680 5681 5682 5683\n",
            "  5684 5685 5686 5687 5688 5689 5690 5691 5692 5693 5694 5695 5696 5697\n",
            "  5698 5699]\n",
            " [5700 5701 5702 5703 5704 5705 5706 5707 5708 5709 5710 5711 5712 5713\n",
            "  5714 5715 5716 5717 5718 5719 5720 5721 5722 5723 5724 5725 5726 5727\n",
            "  5728 5729 5730 5731 5732 5733 5734 5735 5736 5737 5738 5739 5740 5741\n",
            "  5742 5743 5744 5745 5746 5747 5748 5749 5750 5751 5752 5753 5754 5755\n",
            "  5756 5757 5758 5759 5760 5761 5762 5763 5764 5765 5766 5767 5768 5769\n",
            "  5770 5771 5772 5773 5774 5775 5776 5777 5778 5779 5780 5781 5782 5783\n",
            "  5784 5785 5786 5787 5788 5789 5790 5791 5792 5793 5794 5795 5796 5797\n",
            "  5798 5799]\n",
            " [5800 5801 5802 5803 5804 5805 5806 5807 5808 5809 5810 5811 5812 5813\n",
            "  5814 5815 5816 5817 5818 5819 5820 5821 5822 5823 5824 5825 5826 5827\n",
            "  5828 5829 5830 5831 5832 5833 5834 5835 5836 5837 5838 5839 5840 5841\n",
            "  5842 5843 5844 5845 5846 5847 5848 5849 5850 5851 5852 5853 5854 5855\n",
            "  5856 5857 5858 5859 5860 5861 5862 5863 5864 5865 5866 5867 5868 5869\n",
            "  5870 5871 5872 5873 5874 5875 5876 5877 5878 5879 5880 5881 5882 5883\n",
            "  5884 5885 5886 5887 5888 5889 5890 5891 5892 5893 5894 5895 5896 5897\n",
            "  5898 5899]\n",
            " [5900 5901 5902 5903 5904 5905 5906 5907 5908 5909 5910 5911 5912 5913\n",
            "  5914 5915 5916 5917 5918 5919 5920 5921 5922 5923 5924 5925 5926 5927\n",
            "  5928 5929 5930 5931 5932 5933 5934 5935 5936 5937 5938 5939 5940 5941\n",
            "  5942 5943 5944 5945 5946 5947 5948 5949 5950 5951 5952 5953 5954 5955\n",
            "  5956 5957 5958 5959 5960 5961 5962 5963 5964 5965 5966 5967 5968 5969\n",
            "  5970 5971 5972 5973 5974 5975 5976 5977 5978 5979 5980 5981 5982 5983\n",
            "  5984 5985 5986 5987 5988 5989 5990 5991 5992 5993 5994 5995 5996 5997\n",
            "  5998 5999]\n",
            " [6000 6001 6002 6003 6004 6005 6006 6007 6008 6009 6010 6011 6012 6013\n",
            "  6014 6015 6016 6017 6018 6019 6020 6021 6022 6023 6024 6025 6026 6027\n",
            "  6028 6029 6030 6031 6032 6033 6034 6035 6036 6037 6038 6039 6040 6041\n",
            "  6042 6043 6044 6045 6046 6047 6048 6049 6050 6051 6052 6053 6054 6055\n",
            "  6056 6057 6058 6059 6060 6061 6062 6063 6064 6065 6066 6067 6068 6069\n",
            "  6070 6071 6072 6073 6074 6075 6076 6077 6078 6079 6080 6081 6082 6083\n",
            "  6084 6085 6086 6087 6088 6089 6090 6091 6092 6093 6094 6095 6096 6097\n",
            "  6098 6099]\n",
            " [6100 6101 6102 6103 6104 6105 6106 6107 6108 6109 6110 6111 6112 6113\n",
            "  6114 6115 6116 6117 6118 6119 6120 6121 6122 6123 6124 6125 6126 6127\n",
            "  6128 6129 6130 6131 6132 6133 6134 6135 6136 6137 6138 6139 6140 6141\n",
            "  6142 6143 6144 6145 6146 6147 6148 6149 6150 6151 6152 6153 6154 6155\n",
            "  6156 6157 6158 6159 6160 6161 6162 6163 6164 6165 6166 6167 6168 6169\n",
            "  6170 6171 6172 6173 6174 6175 6176 6177 6178 6179 6180 6181 6182 6183\n",
            "  6184 6185 6186 6187 6188 6189 6190 6191 6192 6193 6194 6195 6196 6197\n",
            "  6198 6199]\n",
            " [6200 6201 6202 6203 6204 6205 6206 6207 6208 6209 6210 6211 6212 6213\n",
            "  6214 6215 6216 6217 6218 6219 6220 6221 6222 6223 6224 6225 6226 6227\n",
            "  6228 6229 6230 6231 6232 6233 6234 6235 6236 6237 6238 6239 6240 6241\n",
            "  6242 6243 6244 6245 6246 6247 6248 6249 6250 6251 6252 6253 6254 6255\n",
            "  6256 6257 6258 6259 6260 6261 6262 6263 6264 6265 6266 6267 6268 6269\n",
            "  6270 6271 6272 6273 6274 6275 6276 6277 6278 6279 6280 6281 6282 6283\n",
            "  6284 6285 6286 6287 6288 6289 6290 6291 6292 6293 6294 6295 6296 6297\n",
            "  6298 6299]\n",
            " [6300 6301 6302 6303 6304 6305 6306 6307 6308 6309 6310 6311 6312 6313\n",
            "  6314 6315 6316 6317 6318 6319 6320 6321 6322 6323 6324 6325 6326 6327\n",
            "  6328 6329 6330 6331 6332 6333 6334 6335 6336 6337 6338 6339 6340 6341\n",
            "  6342 6343 6344 6345 6346 6347 6348 6349 6350 6351 6352 6353 6354 6355\n",
            "  6356 6357 6358 6359 6360 6361 6362 6363 6364 6365 6366 6367 6368 6369\n",
            "  6370 6371 6372 6373 6374 6375 6376 6377 6378 6379 6380 6381 6382 6383\n",
            "  6384 6385 6386 6387 6388 6389 6390 6391 6392 6393 6394 6395 6396 6397\n",
            "  6398 6399]\n",
            " [6400 6401 6402 6403 6404 6405 6406 6407 6408 6409 6410 6411 6412 6413\n",
            "  6414 6415 6416 6417 6418 6419 6420 6421 6422 6423 6424 6425 6426 6427\n",
            "  6428 6429 6430 6431 6432 6433 6434 6435 6436 6437 6438 6439 6440 6441\n",
            "  6442 6443 6444 6445 6446 6447 6448 6449 6450 6451 6452 6453 6454 6455\n",
            "  6456 6457 6458 6459 6460 6461 6462 6463 6464 6465 6466 6467 6468 6469\n",
            "  6470 6471 6472 6473 6474 6475 6476 6477 6478 6479 6480 6481 6482 6483\n",
            "  6484 6485 6486 6487 6488 6489 6490 6491 6492 6493 6494 6495 6496 6497\n",
            "  6498 6499]\n",
            " [6500 6501 6502 6503 6504 6505 6506 6507 6508 6509 6510 6511 6512 6513\n",
            "  6514 6515 6516 6517 6518 6519 6520 6521 6522 6523 6524 6525 6526 6527\n",
            "  6528 6529 6530 6531 6532 6533 6534 6535 6536 6537 6538 6539 6540 6541\n",
            "  6542 6543 6544 6545 6546 6547 6548 6549 6550 6551 6552 6553 6554 6555\n",
            "  6556 6557 6558 6559 6560 6561 6562 6563 6564 6565 6566 6567 6568 6569\n",
            "  6570 6571 6572 6573 6574 6575 6576 6577 6578 6579 6580 6581 6582 6583\n",
            "  6584 6585 6586 6587 6588 6589 6590 6591 6592 6593 6594 6595 6596 6597\n",
            "  6598 6599]\n",
            " [6600 6601 6602 6603 6604 6605 6606 6607 6608 6609 6610 6611 6612 6613\n",
            "  6614 6615 6616 6617 6618 6619 6620 6621 6622 6623 6624 6625 6626 6627\n",
            "  6628 6629 6630 6631 6632 6633 6634 6635 6636 6637 6638 6639 6640 6641\n",
            "  6642 6643 6644 6645 6646 6647 6648 6649 6650 6651 6652 6653 6654 6655\n",
            "  6656 6657 6658 6659 6660 6661 6662 6663 6664 6665 6666 6667 6668 6669\n",
            "  6670 6671 6672 6673 6674 6675 6676 6677 6678 6679 6680 6681 6682 6683\n",
            "  6684 6685 6686 6687 6688 6689 6690 6691 6692 6693 6694 6695 6696 6697\n",
            "  6698 6699]\n",
            " [6700 6701 6702 6703 6704 6705 6706 6707 6708 6709 6710 6711 6712 6713\n",
            "  6714 6715 6716 6717 6718 6719 6720 6721 6722 6723 6724 6725 6726 6727\n",
            "  6728 6729 6730 6731 6732 6733 6734 6735 6736 6737 6738 6739 6740 6741\n",
            "  6742 6743 6744 6745 6746 6747 6748 6749 6750 6751 6752 6753 6754 6755\n",
            "  6756 6757 6758 6759 6760 6761 6762 6763 6764 6765 6766 6767 6768 6769\n",
            "  6770 6771 6772 6773 6774 6775 6776 6777 6778 6779 6780 6781 6782 6783\n",
            "  6784 6785 6786 6787 6788 6789 6790 6791 6792 6793 6794 6795 6796 6797\n",
            "  6798 6799]\n",
            " [6800 6801 6802 6803 6804 6805 6806 6807 6808 6809 6810 6811 6812 6813\n",
            "  6814 6815 6816 6817 6818 6819 6820 6821 6822 6823 6824 6825 6826 6827\n",
            "  6828 6829 6830 6831 6832 6833 6834 6835 6836 6837 6838 6839 6840 6841\n",
            "  6842 6843 6844 6845 6846 6847 6848 6849 6850 6851 6852 6853 6854 6855\n",
            "  6856 6857 6858 6859 6860 6861 6862 6863 6864 6865 6866 6867 6868 6869\n",
            "  6870 6871 6872 6873 6874 6875 6876 6877 6878 6879 6880 6881 6882 6883\n",
            "  6884 6885 6886 6887 6888 6889 6890 6891 6892 6893 6894 6895 6896 6897\n",
            "  6898 6899]\n",
            " [6900 6901 6902 6903 6904 6905 6906 6907 6908 6909 6910 6911 6912 6913\n",
            "  6914 6915 6916 6917 6918 6919 6920 6921 6922 6923 6924 6925 6926 6927\n",
            "  6928 6929 6930 6931 6932 6933 6934 6935 6936 6937 6938 6939 6940 6941\n",
            "  6942 6943 6944 6945 6946 6947 6948 6949 6950 6951 6952 6953 6954 6955\n",
            "  6956 6957 6958 6959 6960 6961 6962 6963 6964 6965 6966 6967 6968 6969\n",
            "  6970 6971 6972 6973 6974 6975 6976 6977 6978 6979 6980 6981 6982 6983\n",
            "  6984 6985 6986 6987 6988 6989 6990 6991 6992 6993 6994 6995 6996 6997\n",
            "  6998 6999]\n",
            " [7000 7001 7002 7003 7004 7005 7006 7007 7008 7009 7010 7011 7012 7013\n",
            "  7014 7015 7016 7017 7018 7019 7020 7021 7022 7023 7024 7025 7026 7027\n",
            "  7028 7029 7030 7031 7032 7033 7034 7035 7036 7037 7038 7039 7040 7041\n",
            "  7042 7043 7044 7045 7046 7047 7048 7049 7050 7051 7052 7053 7054 7055\n",
            "  7056 7057 7058 7059 7060 7061 7062 7063 7064 7065 7066 7067 7068 7069\n",
            "  7070 7071 7072 7073 7074 7075 7076 7077 7078 7079 7080 7081 7082 7083\n",
            "  7084 7085 7086 7087 7088 7089 7090 7091 7092 7093 7094 7095 7096 7097\n",
            "  7098 7099]\n",
            " [7100 7101 7102 7103 7104 7105 7106 7107 7108 7109 7110 7111 7112 7113\n",
            "  7114 7115 7116 7117 7118 7119 7120 7121 7122 7123 7124 7125 7126 7127\n",
            "  7128 7129 7130 7131 7132 7133 7134 7135 7136 7137 7138 7139 7140 7141\n",
            "  7142 7143 7144 7145 7146 7147 7148 7149 7150 7151 7152 7153 7154 7155\n",
            "  7156 7157 7158 7159 7160 7161 7162 7163 7164 7165 7166 7167 7168 7169\n",
            "  7170 7171 7172 7173 7174 7175 7176 7177 7178 7179 7180 7181 7182 7183\n",
            "  7184 7185 7186 7187 7188 7189 7190 7191 7192 7193 7194 7195 7196 7197\n",
            "  7198 7199]\n",
            " [7200 7201 7202 7203 7204 7205 7206 7207 7208 7209 7210 7211 7212 7213\n",
            "  7214 7215 7216 7217 7218 7219 7220 7221 7222 7223 7224 7225 7226 7227\n",
            "  7228 7229 7230 7231 7232 7233 7234 7235 7236 7237 7238 7239 7240 7241\n",
            "  7242 7243 7244 7245 7246 7247 7248 7249 7250 7251 7252 7253 7254 7255\n",
            "  7256 7257 7258 7259 7260 7261 7262 7263 7264 7265 7266 7267 7268 7269\n",
            "  7270 7271 7272 7273 7274 7275 7276 7277 7278 7279 7280 7281 7282 7283\n",
            "  7284 7285 7286 7287 7288 7289 7290 7291 7292 7293 7294 7295 7296 7297\n",
            "  7298 7299]\n",
            " [7300 7301 7302 7303 7304 7305 7306 7307 7308 7309 7310 7311 7312 7313\n",
            "  7314 7315 7316 7317 7318 7319 7320 7321 7322 7323 7324 7325 7326 7327\n",
            "  7328 7329 7330 7331 7332 7333 7334 7335 7336 7337 7338 7339 7340 7341\n",
            "  7342 7343 7344 7345 7346 7347 7348 7349 7350 7351 7352 7353 7354 7355\n",
            "  7356 7357 7358 7359 7360 7361 7362 7363 7364 7365 7366 7367 7368 7369\n",
            "  7370 7371 7372 7373 7374 7375 7376 7377 7378 7379 7380 7381 7382 7383\n",
            "  7384 7385 7386 7387 7388 7389 7390 7391 7392 7393 7394 7395 7396 7397\n",
            "  7398 7399]\n",
            " [7400 7401 7402 7403 7404 7405 7406 7407 7408 7409 7410 7411 7412 7413\n",
            "  7414 7415 7416 7417 7418 7419 7420 7421 7422 7423 7424 7425 7426 7427\n",
            "  7428 7429 7430 7431 7432 7433 7434 7435 7436 7437 7438 7439 7440 7441\n",
            "  7442 7443 7444 7445 7446 7447 7448 7449 7450 7451 7452 7453 7454 7455\n",
            "  7456 7457 7458 7459 7460 7461 7462 7463 7464 7465 7466 7467 7468 7469\n",
            "  7470 7471 7472 7473 7474 7475 7476 7477 7478 7479 7480 7481 7482 7483\n",
            "  7484 7485 7486 7487 7488 7489 7490 7491 7492 7493 7494 7495 7496 7497\n",
            "  7498 7499]\n",
            " [7500 7501 7502 7503 7504 7505 7506 7507 7508 7509 7510 7511 7512 7513\n",
            "  7514 7515 7516 7517 7518 7519 7520 7521 7522 7523 7524 7525 7526 7527\n",
            "  7528 7529 7530 7531 7532 7533 7534 7535 7536 7537 7538 7539 7540 7541\n",
            "  7542 7543 7544 7545 7546 7547 7548 7549 7550 7551 7552 7553 7554 7555\n",
            "  7556 7557 7558 7559 7560 7561 7562 7563 7564 7565 7566 7567 7568 7569\n",
            "  7570 7571 7572 7573 7574 7575 7576 7577 7578 7579 7580 7581 7582 7583\n",
            "  7584 7585 7586 7587 7588 7589 7590 7591 7592 7593 7594 7595 7596 7597\n",
            "  7598 7599]\n",
            " [7600 7601 7602 7603 7604 7605 7606 7607 7608 7609 7610 7611 7612 7613\n",
            "  7614 7615 7616 7617 7618 7619 7620 7621 7622 7623 7624 7625 7626 7627\n",
            "  7628 7629 7630 7631 7632 7633 7634 7635 7636 7637 7638 7639 7640 7641\n",
            "  7642 7643 7644 7645 7646 7647 7648 7649 7650 7651 7652 7653 7654 7655\n",
            "  7656 7657 7658 7659 7660 7661 7662 7663 7664 7665 7666 7667 7668 7669\n",
            "  7670 7671 7672 7673 7674 7675 7676 7677 7678 7679 7680 7681 7682 7683\n",
            "  7684 7685 7686 7687 7688 7689 7690 7691 7692 7693 7694 7695 7696 7697\n",
            "  7698 7699]\n",
            " [7700 7701 7702 7703 7704 7705 7706 7707 7708 7709 7710 7711 7712 7713\n",
            "  7714 7715 7716 7717 7718 7719 7720 7721 7722 7723 7724 7725 7726 7727\n",
            "  7728 7729 7730 7731 7732 7733 7734 7735 7736 7737 7738 7739 7740 7741\n",
            "  7742 7743 7744 7745 7746 7747 7748 7749 7750 7751 7752 7753 7754 7755\n",
            "  7756 7757 7758 7759 7760 7761 7762 7763 7764 7765 7766 7767 7768 7769\n",
            "  7770 7771 7772 7773 7774 7775 7776 7777 7778 7779 7780 7781 7782 7783\n",
            "  7784 7785 7786 7787 7788 7789 7790 7791 7792 7793 7794 7795 7796 7797\n",
            "  7798 7799]\n",
            " [7800 7801 7802 7803 7804 7805 7806 7807 7808 7809 7810 7811 7812 7813\n",
            "  7814 7815 7816 7817 7818 7819 7820 7821 7822 7823 7824 7825 7826 7827\n",
            "  7828 7829 7830 7831 7832 7833 7834 7835 7836 7837 7838 7839 7840 7841\n",
            "  7842 7843 7844 7845 7846 7847 7848 7849 7850 7851 7852 7853 7854 7855\n",
            "  7856 7857 7858 7859 7860 7861 7862 7863 7864 7865 7866 7867 7868 7869\n",
            "  7870 7871 7872 7873 7874 7875 7876 7877 7878 7879 7880 7881 7882 7883\n",
            "  7884 7885 7886 7887 7888 7889 7890 7891 7892 7893 7894 7895 7896 7897\n",
            "  7898 7899]\n",
            " [7900 7901 7902 7903 7904 7905 7906 7907 7908 7909 7910 7911 7912 7913\n",
            "  7914 7915 7916 7917 7918 7919 7920 7921 7922 7923 7924 7925 7926 7927\n",
            "  7928 7929 7930 7931 7932 7933 7934 7935 7936 7937 7938 7939 7940 7941\n",
            "  7942 7943 7944 7945 7946 7947 7948 7949 7950 7951 7952 7953 7954 7955\n",
            "  7956 7957 7958 7959 7960 7961 7962 7963 7964 7965 7966 7967 7968 7969\n",
            "  7970 7971 7972 7973 7974 7975 7976 7977 7978 7979 7980 7981 7982 7983\n",
            "  7984 7985 7986 7987 7988 7989 7990 7991 7992 7993 7994 7995 7996 7997\n",
            "  7998 7999]\n",
            " [8000 8001 8002 8003 8004 8005 8006 8007 8008 8009 8010 8011 8012 8013\n",
            "  8014 8015 8016 8017 8018 8019 8020 8021 8022 8023 8024 8025 8026 8027\n",
            "  8028 8029 8030 8031 8032 8033 8034 8035 8036 8037 8038 8039 8040 8041\n",
            "  8042 8043 8044 8045 8046 8047 8048 8049 8050 8051 8052 8053 8054 8055\n",
            "  8056 8057 8058 8059 8060 8061 8062 8063 8064 8065 8066 8067 8068 8069\n",
            "  8070 8071 8072 8073 8074 8075 8076 8077 8078 8079 8080 8081 8082 8083\n",
            "  8084 8085 8086 8087 8088 8089 8090 8091 8092 8093 8094 8095 8096 8097\n",
            "  8098 8099]\n",
            " [8100 8101 8102 8103 8104 8105 8106 8107 8108 8109 8110 8111 8112 8113\n",
            "  8114 8115 8116 8117 8118 8119 8120 8121 8122 8123 8124 8125 8126 8127\n",
            "  8128 8129 8130 8131 8132 8133 8134 8135 8136 8137 8138 8139 8140 8141\n",
            "  8142 8143 8144 8145 8146 8147 8148 8149 8150 8151 8152 8153 8154 8155\n",
            "  8156 8157 8158 8159 8160 8161 8162 8163 8164 8165 8166 8167 8168 8169\n",
            "  8170 8171 8172 8173 8174 8175 8176 8177 8178 8179 8180 8181 8182 8183\n",
            "  8184 8185 8186 8187 8188 8189 8190 8191 8192 8193 8194 8195 8196 8197\n",
            "  8198 8199]\n",
            " [8200 8201 8202 8203 8204 8205 8206 8207 8208 8209 8210 8211 8212 8213\n",
            "  8214 8215 8216 8217 8218 8219 8220 8221 8222 8223 8224 8225 8226 8227\n",
            "  8228 8229 8230 8231 8232 8233 8234 8235 8236 8237 8238 8239 8240 8241\n",
            "  8242 8243 8244 8245 8246 8247 8248 8249 8250 8251 8252 8253 8254 8255\n",
            "  8256 8257 8258 8259 8260 8261 8262 8263 8264 8265 8266 8267 8268 8269\n",
            "  8270 8271 8272 8273 8274 8275 8276 8277 8278 8279 8280 8281 8282 8283\n",
            "  8284 8285 8286 8287 8288 8289 8290 8291 8292 8293 8294 8295 8296 8297\n",
            "  8298 8299]\n",
            " [8300 8301 8302 8303 8304 8305 8306 8307 8308 8309 8310 8311 8312 8313\n",
            "  8314 8315 8316 8317 8318 8319 8320 8321 8322 8323 8324 8325 8326 8327\n",
            "  8328 8329 8330 8331 8332 8333 8334 8335 8336 8337 8338 8339 8340 8341\n",
            "  8342 8343 8344 8345 8346 8347 8348 8349 8350 8351 8352 8353 8354 8355\n",
            "  8356 8357 8358 8359 8360 8361 8362 8363 8364 8365 8366 8367 8368 8369\n",
            "  8370 8371 8372 8373 8374 8375 8376 8377 8378 8379 8380 8381 8382 8383\n",
            "  8384 8385 8386 8387 8388 8389 8390 8391 8392 8393 8394 8395 8396 8397\n",
            "  8398 8399]\n",
            " [8400 8401 8402 8403 8404 8405 8406 8407 8408 8409 8410 8411 8412 8413\n",
            "  8414 8415 8416 8417 8418 8419 8420 8421 8422 8423 8424 8425 8426 8427\n",
            "  8428 8429 8430 8431 8432 8433 8434 8435 8436 8437 8438 8439 8440 8441\n",
            "  8442 8443 8444 8445 8446 8447 8448 8449 8450 8451 8452 8453 8454 8455\n",
            "  8456 8457 8458 8459 8460 8461 8462 8463 8464 8465 8466 8467 8468 8469\n",
            "  8470 8471 8472 8473 8474 8475 8476 8477 8478 8479 8480 8481 8482 8483\n",
            "  8484 8485 8486 8487 8488 8489 8490 8491 8492 8493 8494 8495 8496 8497\n",
            "  8498 8499]\n",
            " [8500 8501 8502 8503 8504 8505 8506 8507 8508 8509 8510 8511 8512 8513\n",
            "  8514 8515 8516 8517 8518 8519 8520 8521 8522 8523 8524 8525 8526 8527\n",
            "  8528 8529 8530 8531 8532 8533 8534 8535 8536 8537 8538 8539 8540 8541\n",
            "  8542 8543 8544 8545 8546 8547 8548 8549 8550 8551 8552 8553 8554 8555\n",
            "  8556 8557 8558 8559 8560 8561 8562 8563 8564 8565 8566 8567 8568 8569\n",
            "  8570 8571 8572 8573 8574 8575 8576 8577 8578 8579 8580 8581 8582 8583\n",
            "  8584 8585 8586 8587 8588 8589 8590 8591 8592 8593 8594 8595 8596 8597\n",
            "  8598 8599]\n",
            " [8600 8601 8602 8603 8604 8605 8606 8607 8608 8609 8610 8611 8612 8613\n",
            "  8614 8615 8616 8617 8618 8619 8620 8621 8622 8623 8624 8625 8626 8627\n",
            "  8628 8629 8630 8631 8632 8633 8634 8635 8636 8637 8638 8639 8640 8641\n",
            "  8642 8643 8644 8645 8646 8647 8648 8649 8650 8651 8652 8653 8654 8655\n",
            "  8656 8657 8658 8659 8660 8661 8662 8663 8664 8665 8666 8667 8668 8669\n",
            "  8670 8671 8672 8673 8674 8675 8676 8677 8678 8679 8680 8681 8682 8683\n",
            "  8684 8685 8686 8687 8688 8689 8690 8691 8692 8693 8694 8695 8696 8697\n",
            "  8698 8699]\n",
            " [8700 8701 8702 8703 8704 8705 8706 8707 8708 8709 8710 8711 8712 8713\n",
            "  8714 8715 8716 8717 8718 8719 8720 8721 8722 8723 8724 8725 8726 8727\n",
            "  8728 8729 8730 8731 8732 8733 8734 8735 8736 8737 8738 8739 8740 8741\n",
            "  8742 8743 8744 8745 8746 8747 8748 8749 8750 8751 8752 8753 8754 8755\n",
            "  8756 8757 8758 8759 8760 8761 8762 8763 8764 8765 8766 8767 8768 8769\n",
            "  8770 8771 8772 8773 8774 8775 8776 8777 8778 8779 8780 8781 8782 8783\n",
            "  8784 8785 8786 8787 8788 8789 8790 8791 8792 8793 8794 8795 8796 8797\n",
            "  8798 8799]\n",
            " [8800 8801 8802 8803 8804 8805 8806 8807 8808 8809 8810 8811 8812 8813\n",
            "  8814 8815 8816 8817 8818 8819 8820 8821 8822 8823 8824 8825 8826 8827\n",
            "  8828 8829 8830 8831 8832 8833 8834 8835 8836 8837 8838 8839 8840 8841\n",
            "  8842 8843 8844 8845 8846 8847 8848 8849 8850 8851 8852 8853 8854 8855\n",
            "  8856 8857 8858 8859 8860 8861 8862 8863 8864 8865 8866 8867 8868 8869\n",
            "  8870 8871 8872 8873 8874 8875 8876 8877 8878 8879 8880 8881 8882 8883\n",
            "  8884 8885 8886 8887 8888 8889 8890 8891 8892 8893 8894 8895 8896 8897\n",
            "  8898 8899]\n",
            " [8900 8901 8902 8903 8904 8905 8906 8907 8908 8909 8910 8911 8912 8913\n",
            "  8914 8915 8916 8917 8918 8919 8920 8921 8922 8923 8924 8925 8926 8927\n",
            "  8928 8929 8930 8931 8932 8933 8934 8935 8936 8937 8938 8939 8940 8941\n",
            "  8942 8943 8944 8945 8946 8947 8948 8949 8950 8951 8952 8953 8954 8955\n",
            "  8956 8957 8958 8959 8960 8961 8962 8963 8964 8965 8966 8967 8968 8969\n",
            "  8970 8971 8972 8973 8974 8975 8976 8977 8978 8979 8980 8981 8982 8983\n",
            "  8984 8985 8986 8987 8988 8989 8990 8991 8992 8993 8994 8995 8996 8997\n",
            "  8998 8999]\n",
            " [9000 9001 9002 9003 9004 9005 9006 9007 9008 9009 9010 9011 9012 9013\n",
            "  9014 9015 9016 9017 9018 9019 9020 9021 9022 9023 9024 9025 9026 9027\n",
            "  9028 9029 9030 9031 9032 9033 9034 9035 9036 9037 9038 9039 9040 9041\n",
            "  9042 9043 9044 9045 9046 9047 9048 9049 9050 9051 9052 9053 9054 9055\n",
            "  9056 9057 9058 9059 9060 9061 9062 9063 9064 9065 9066 9067 9068 9069\n",
            "  9070 9071 9072 9073 9074 9075 9076 9077 9078 9079 9080 9081 9082 9083\n",
            "  9084 9085 9086 9087 9088 9089 9090 9091 9092 9093 9094 9095 9096 9097\n",
            "  9098 9099]\n",
            " [9100 9101 9102 9103 9104 9105 9106 9107 9108 9109 9110 9111 9112 9113\n",
            "  9114 9115 9116 9117 9118 9119 9120 9121 9122 9123 9124 9125 9126 9127\n",
            "  9128 9129 9130 9131 9132 9133 9134 9135 9136 9137 9138 9139 9140 9141\n",
            "  9142 9143 9144 9145 9146 9147 9148 9149 9150 9151 9152 9153 9154 9155\n",
            "  9156 9157 9158 9159 9160 9161 9162 9163 9164 9165 9166 9167 9168 9169\n",
            "  9170 9171 9172 9173 9174 9175 9176 9177 9178 9179 9180 9181 9182 9183\n",
            "  9184 9185 9186 9187 9188 9189 9190 9191 9192 9193 9194 9195 9196 9197\n",
            "  9198 9199]\n",
            " [9200 9201 9202 9203 9204 9205 9206 9207 9208 9209 9210 9211 9212 9213\n",
            "  9214 9215 9216 9217 9218 9219 9220 9221 9222 9223 9224 9225 9226 9227\n",
            "  9228 9229 9230 9231 9232 9233 9234 9235 9236 9237 9238 9239 9240 9241\n",
            "  9242 9243 9244 9245 9246 9247 9248 9249 9250 9251 9252 9253 9254 9255\n",
            "  9256 9257 9258 9259 9260 9261 9262 9263 9264 9265 9266 9267 9268 9269\n",
            "  9270 9271 9272 9273 9274 9275 9276 9277 9278 9279 9280 9281 9282 9283\n",
            "  9284 9285 9286 9287 9288 9289 9290 9291 9292 9293 9294 9295 9296 9297\n",
            "  9298 9299]\n",
            " [9300 9301 9302 9303 9304 9305 9306 9307 9308 9309 9310 9311 9312 9313\n",
            "  9314 9315 9316 9317 9318 9319 9320 9321 9322 9323 9324 9325 9326 9327\n",
            "  9328 9329 9330 9331 9332 9333 9334 9335 9336 9337 9338 9339 9340 9341\n",
            "  9342 9343 9344 9345 9346 9347 9348 9349 9350 9351 9352 9353 9354 9355\n",
            "  9356 9357 9358 9359 9360 9361 9362 9363 9364 9365 9366 9367 9368 9369\n",
            "  9370 9371 9372 9373 9374 9375 9376 9377 9378 9379 9380 9381 9382 9383\n",
            "  9384 9385 9386 9387 9388 9389 9390 9391 9392 9393 9394 9395 9396 9397\n",
            "  9398 9399]\n",
            " [9400 9401 9402 9403 9404 9405 9406 9407 9408 9409 9410 9411 9412 9413\n",
            "  9414 9415 9416 9417 9418 9419 9420 9421 9422 9423 9424 9425 9426 9427\n",
            "  9428 9429 9430 9431 9432 9433 9434 9435 9436 9437 9438 9439 9440 9441\n",
            "  9442 9443 9444 9445 9446 9447 9448 9449 9450 9451 9452 9453 9454 9455\n",
            "  9456 9457 9458 9459 9460 9461 9462 9463 9464 9465 9466 9467 9468 9469\n",
            "  9470 9471 9472 9473 9474 9475 9476 9477 9478 9479 9480 9481 9482 9483\n",
            "  9484 9485 9486 9487 9488 9489 9490 9491 9492 9493 9494 9495 9496 9497\n",
            "  9498 9499]\n",
            " [9500 9501 9502 9503 9504 9505 9506 9507 9508 9509 9510 9511 9512 9513\n",
            "  9514 9515 9516 9517 9518 9519 9520 9521 9522 9523 9524 9525 9526 9527\n",
            "  9528 9529 9530 9531 9532 9533 9534 9535 9536 9537 9538 9539 9540 9541\n",
            "  9542 9543 9544 9545 9546 9547 9548 9549 9550 9551 9552 9553 9554 9555\n",
            "  9556 9557 9558 9559 9560 9561 9562 9563 9564 9565 9566 9567 9568 9569\n",
            "  9570 9571 9572 9573 9574 9575 9576 9577 9578 9579 9580 9581 9582 9583\n",
            "  9584 9585 9586 9587 9588 9589 9590 9591 9592 9593 9594 9595 9596 9597\n",
            "  9598 9599]\n",
            " [9600 9601 9602 9603 9604 9605 9606 9607 9608 9609 9610 9611 9612 9613\n",
            "  9614 9615 9616 9617 9618 9619 9620 9621 9622 9623 9624 9625 9626 9627\n",
            "  9628 9629 9630 9631 9632 9633 9634 9635 9636 9637 9638 9639 9640 9641\n",
            "  9642 9643 9644 9645 9646 9647 9648 9649 9650 9651 9652 9653 9654 9655\n",
            "  9656 9657 9658 9659 9660 9661 9662 9663 9664 9665 9666 9667 9668 9669\n",
            "  9670 9671 9672 9673 9674 9675 9676 9677 9678 9679 9680 9681 9682 9683\n",
            "  9684 9685 9686 9687 9688 9689 9690 9691 9692 9693 9694 9695 9696 9697\n",
            "  9698 9699]\n",
            " [9700 9701 9702 9703 9704 9705 9706 9707 9708 9709 9710 9711 9712 9713\n",
            "  9714 9715 9716 9717 9718 9719 9720 9721 9722 9723 9724 9725 9726 9727\n",
            "  9728 9729 9730 9731 9732 9733 9734 9735 9736 9737 9738 9739 9740 9741\n",
            "  9742 9743 9744 9745 9746 9747 9748 9749 9750 9751 9752 9753 9754 9755\n",
            "  9756 9757 9758 9759 9760 9761 9762 9763 9764 9765 9766 9767 9768 9769\n",
            "  9770 9771 9772 9773 9774 9775 9776 9777 9778 9779 9780 9781 9782 9783\n",
            "  9784 9785 9786 9787 9788 9789 9790 9791 9792 9793 9794 9795 9796 9797\n",
            "  9798 9799]\n",
            " [9800 9801 9802 9803 9804 9805 9806 9807 9808 9809 9810 9811 9812 9813\n",
            "  9814 9815 9816 9817 9818 9819 9820 9821 9822 9823 9824 9825 9826 9827\n",
            "  9828 9829 9830 9831 9832 9833 9834 9835 9836 9837 9838 9839 9840 9841\n",
            "  9842 9843 9844 9845 9846 9847 9848 9849 9850 9851 9852 9853 9854 9855\n",
            "  9856 9857 9858 9859 9860 9861 9862 9863 9864 9865 9866 9867 9868 9869\n",
            "  9870 9871 9872 9873 9874 9875 9876 9877 9878 9879 9880 9881 9882 9883\n",
            "  9884 9885 9886 9887 9888 9889 9890 9891 9892 9893 9894 9895 9896 9897\n",
            "  9898 9899]\n",
            " [9900 9901 9902 9903 9904 9905 9906 9907 9908 9909 9910 9911 9912 9913\n",
            "  9914 9915 9916 9917 9918 9919 9920 9921 9922 9923 9924 9925 9926 9927\n",
            "  9928 9929 9930 9931 9932 9933 9934 9935 9936 9937 9938 9939 9940 9941\n",
            "  9942 9943 9944 9945 9946 9947 9948 9949 9950 9951 9952 9953 9954 9955\n",
            "  9956 9957 9958 9959 9960 9961 9962 9963 9964 9965 9966 9967 9968 9969\n",
            "  9970 9971 9972 9973 9974 9975 9976 9977 9978 9979 9980 9981 9982 9983\n",
            "  9984 9985 9986 9987 9988 9989 9990 9991 9992 9993 9994 9995 9996 9997\n",
            "  9998 9999]]\n"
          ]
        }
      ],
      "source": [
        "print(np.arange(10000).reshape(100,100))"
      ]
    },
    {
      "cell_type": "markdown",
      "metadata": {
        "id": "uRbri57FkCry"
      },
      "source": [
        "To disable this behaviour and force NumPy to print the entire array, you can change the printing options using set_printoptions."
      ]
    },
    {
      "cell_type": "code",
      "execution_count": 59,
      "metadata": {
        "id": "ulzJTca3kCrz"
      },
      "outputs": [],
      "source": [
        "import sys\n",
        "np.set_printoptions(threshold=sys.maxsize)       # sys module should be imported"
      ]
    },
    {
      "cell_type": "code",
      "execution_count": 60,
      "metadata": {
        "colab": {
          "base_uri": "https://localhost:8080/"
        },
        "id": "pG_wZCXpkCr0",
        "outputId": "62e90f19-2fee-440c-e352-1ae0c28b3814"
      },
      "outputs": [
        {
          "output_type": "stream",
          "name": "stdout",
          "text": [
            "[[  0   1   2   3   4   5   6   7   8   9  10  11  12  13  14  15  16  17\n",
            "   18  19]\n",
            " [ 20  21  22  23  24  25  26  27  28  29  30  31  32  33  34  35  36  37\n",
            "   38  39]\n",
            " [ 40  41  42  43  44  45  46  47  48  49  50  51  52  53  54  55  56  57\n",
            "   58  59]\n",
            " [ 60  61  62  63  64  65  66  67  68  69  70  71  72  73  74  75  76  77\n",
            "   78  79]\n",
            " [ 80  81  82  83  84  85  86  87  88  89  90  91  92  93  94  95  96  97\n",
            "   98  99]\n",
            " [100 101 102 103 104 105 106 107 108 109 110 111 112 113 114 115 116 117\n",
            "  118 119]\n",
            " [120 121 122 123 124 125 126 127 128 129 130 131 132 133 134 135 136 137\n",
            "  138 139]\n",
            " [140 141 142 143 144 145 146 147 148 149 150 151 152 153 154 155 156 157\n",
            "  158 159]\n",
            " [160 161 162 163 164 165 166 167 168 169 170 171 172 173 174 175 176 177\n",
            "  178 179]\n",
            " [180 181 182 183 184 185 186 187 188 189 190 191 192 193 194 195 196 197\n",
            "  198 199]\n",
            " [200 201 202 203 204 205 206 207 208 209 210 211 212 213 214 215 216 217\n",
            "  218 219]\n",
            " [220 221 222 223 224 225 226 227 228 229 230 231 232 233 234 235 236 237\n",
            "  238 239]\n",
            " [240 241 242 243 244 245 246 247 248 249 250 251 252 253 254 255 256 257\n",
            "  258 259]\n",
            " [260 261 262 263 264 265 266 267 268 269 270 271 272 273 274 275 276 277\n",
            "  278 279]\n",
            " [280 281 282 283 284 285 286 287 288 289 290 291 292 293 294 295 296 297\n",
            "  298 299]\n",
            " [300 301 302 303 304 305 306 307 308 309 310 311 312 313 314 315 316 317\n",
            "  318 319]\n",
            " [320 321 322 323 324 325 326 327 328 329 330 331 332 333 334 335 336 337\n",
            "  338 339]\n",
            " [340 341 342 343 344 345 346 347 348 349 350 351 352 353 354 355 356 357\n",
            "  358 359]\n",
            " [360 361 362 363 364 365 366 367 368 369 370 371 372 373 374 375 376 377\n",
            "  378 379]\n",
            " [380 381 382 383 384 385 386 387 388 389 390 391 392 393 394 395 396 397\n",
            "  398 399]]\n"
          ]
        }
      ],
      "source": [
        "print(np.arange(400).reshape(20,20))"
      ]
    },
    {
      "cell_type": "code",
      "source": [
        "print(np.random.rand(100,100))"
      ],
      "metadata": {
        "colab": {
          "base_uri": "https://localhost:8080/"
        },
        "id": "cyxAFCqbnwOm",
        "outputId": "eb9bd1fb-34c4-446d-a8c4-3a5f24d866b4"
      },
      "execution_count": 62,
      "outputs": [
        {
          "output_type": "stream",
          "name": "stdout",
          "text": [
            "[[5.10305711e-01 5.92557795e-02 1.15254459e-01 8.48644311e-01\n",
            "  8.95341471e-01 5.76559668e-02 7.74648549e-01 4.79751638e-01\n",
            "  9.26893207e-01 6.31775978e-01 2.67430168e-01 5.99751295e-01\n",
            "  4.15504701e-01 9.97950756e-02 5.98406325e-01 8.35284224e-01\n",
            "  6.25663392e-01 7.48118983e-01 6.19771327e-01 1.42112922e-01\n",
            "  1.25822202e-01 7.59941611e-01 1.06261995e-01 4.83428671e-01\n",
            "  2.18810042e-01 1.56769166e-01 1.70681457e-01 8.39906997e-01\n",
            "  1.39594405e-01 1.71656804e-01 1.29412815e-02 6.93846551e-01\n",
            "  4.01782592e-01 7.45898821e-01 3.91279243e-01 9.04580613e-01\n",
            "  2.28676924e-01 6.76889673e-01 2.27319354e-01 7.73941280e-01\n",
            "  5.25969007e-01 6.63847416e-01 9.04545675e-01 5.01004332e-01\n",
            "  6.95930005e-01 7.80504942e-01 7.87277400e-01 6.04389537e-01\n",
            "  6.06127702e-01 7.33515701e-01 8.57764868e-01 5.91728003e-01\n",
            "  4.41777648e-01 7.69843322e-01 1.54687974e-01 1.55593397e-01\n",
            "  7.63941866e-01 6.14493020e-01 2.80789171e-01 8.87814185e-01\n",
            "  7.59881336e-02 5.68476497e-01 2.63064471e-01 3.09468973e-02\n",
            "  9.08162754e-01 4.80233225e-01 1.43005189e-01 2.22645401e-01\n",
            "  8.24691027e-02 8.31338048e-01 3.57830283e-01 6.44662070e-01\n",
            "  6.83745694e-01 3.74142013e-01 7.93897724e-01 5.85770927e-01\n",
            "  4.91750754e-01 5.36719734e-02 8.24422233e-01 7.65015142e-01\n",
            "  4.02194559e-01 2.67999008e-01 6.70415501e-01 7.56156527e-01\n",
            "  9.11149239e-01 1.91402840e-01 8.35898592e-01 2.78479158e-01\n",
            "  4.11159152e-01 5.32256931e-03 8.89938664e-01 2.21961788e-02\n",
            "  5.95655147e-01 7.66613090e-01 3.63165189e-02 3.00302465e-01\n",
            "  4.94755593e-01 9.67795948e-01 8.06596443e-01 6.68339524e-01]\n",
            " [4.03571892e-01 1.82207701e-01 3.08880243e-01 9.58307195e-01\n",
            "  9.09511441e-02 1.23428836e-02 3.25053605e-01 4.06608960e-01\n",
            "  9.62414032e-01 2.53945926e-01 3.31918122e-01 4.24125690e-01\n",
            "  2.55482138e-01 2.04586746e-01 1.67159932e-01 7.17341591e-02\n",
            "  9.26833201e-01 5.32540870e-02 3.13625276e-01 5.93380874e-01\n",
            "  9.07988442e-01 9.69227668e-01 9.73336637e-01 1.12372587e-02\n",
            "  5.15123554e-01 4.39939187e-01 1.41858493e-01 7.35115936e-01\n",
            "  8.38173216e-01 2.65547581e-01 3.76350242e-03 4.59502087e-01\n",
            "  1.92412676e-01 3.44384101e-01 6.65340804e-02 5.55098612e-01\n",
            "  2.30259965e-01 4.85154424e-01 4.27812089e-01 6.94902615e-01\n",
            "  1.75183644e-01 2.85702938e-01 5.04416754e-01 2.63004129e-01\n",
            "  8.01171438e-01 7.61157227e-01 9.68175105e-01 9.26866050e-01\n",
            "  3.73093877e-01 5.83567658e-01 3.06095972e-01 6.16344040e-01\n",
            "  9.93661172e-01 6.18798773e-02 9.36073224e-01 5.45259660e-01\n",
            "  8.45344621e-01 7.97811298e-01 9.49045554e-01 7.21784988e-01\n",
            "  5.16529202e-01 4.36723435e-01 9.61204385e-01 7.81637784e-01\n",
            "  3.12341747e-01 2.56108593e-01 4.99805342e-01 8.23233946e-01\n",
            "  3.04965349e-01 1.94702607e-01 1.32017341e-01 2.11157054e-01\n",
            "  5.09141110e-01 2.75630258e-02 2.46059915e-01 2.68310370e-01\n",
            "  9.35724977e-01 2.56245890e-01 2.06350316e-01 5.47891684e-01\n",
            "  5.27295511e-01 3.77993173e-01 7.04204525e-01 2.88147481e-01\n",
            "  8.41309849e-02 3.51766275e-01 3.98235392e-01 3.53077909e-01\n",
            "  3.36124985e-01 7.46728262e-01 5.69999683e-02 3.49262375e-02\n",
            "  3.21794023e-01 9.17291062e-01 8.38277343e-01 3.15821952e-01\n",
            "  1.64477513e-01 3.44881690e-01 9.20502813e-01 2.57358352e-01]\n",
            " [9.29163637e-01 5.94174140e-01 4.81774159e-01 9.55669324e-01\n",
            "  3.33114348e-01 7.92627400e-01 4.47296693e-01 4.15921791e-01\n",
            "  7.96225088e-01 1.46971957e-01 4.19275956e-01 5.17149292e-01\n",
            "  2.56055868e-01 7.31351954e-01 5.42041893e-01 9.12989305e-02\n",
            "  3.45555000e-01 1.75310017e-01 6.57222209e-01 9.64912740e-02\n",
            "  6.95794781e-01 1.14842946e-01 8.59832414e-02 4.80807827e-01\n",
            "  2.98597921e-01 6.37955207e-01 7.00518085e-01 3.57761421e-01\n",
            "  5.77161289e-01 1.96850877e-01 9.91773352e-01 1.23344423e-02\n",
            "  6.27126518e-01 1.39156640e-01 9.21873011e-01 8.25475175e-01\n",
            "  4.09667801e-01 4.23475390e-01 3.11210132e-02 1.06181272e-01\n",
            "  2.08029631e-01 3.06216997e-01 6.53425021e-01 2.00490324e-01\n",
            "  8.19903912e-01 3.57402623e-01 6.20190305e-01 8.63713177e-01\n",
            "  3.18909723e-01 9.22356437e-01 1.06336737e-01 2.33533974e-01\n",
            "  4.71694949e-02 4.73292176e-02 7.96934636e-01 3.75460605e-01\n",
            "  5.98915426e-01 2.05480181e-02 5.08900374e-01 7.13119151e-01\n",
            "  7.85974663e-01 6.10791628e-01 1.62912846e-01 4.34314379e-01\n",
            "  3.61197335e-01 3.34366777e-01 6.45801178e-01 4.20073213e-01\n",
            "  7.56904745e-01 5.39903954e-02 2.29199707e-01 8.05589827e-01\n",
            "  2.63298670e-01 2.40879968e-01 3.46749727e-01 6.96702879e-01\n",
            "  8.55867945e-01 7.22530370e-01 5.47976246e-01 1.81862111e-01\n",
            "  6.10913218e-01 6.57919876e-01 9.52640071e-01 4.39050020e-01\n",
            "  5.57921594e-02 4.14608762e-01 2.70970464e-01 5.00705491e-01\n",
            "  2.78241962e-02 4.18027498e-01 2.56911455e-01 1.30807149e-01\n",
            "  2.97321587e-01 9.78314952e-01 5.11504163e-01 1.22292412e-01\n",
            "  6.73202687e-01 7.76132193e-01 9.41453818e-01 2.03309627e-01]\n",
            " [4.00715260e-01 2.36718432e-01 9.71868824e-01 2.29966875e-01\n",
            "  9.73642331e-01 7.29500780e-01 1.65317509e-01 3.74110157e-01\n",
            "  3.10414918e-01 4.60388313e-01 4.45582384e-03 4.26532185e-01\n",
            "  2.14930158e-01 7.66173648e-01 1.24117209e-01 9.35793638e-01\n",
            "  3.77755178e-01 3.55792942e-03 6.66832301e-01 8.92214034e-01\n",
            "  3.69831773e-01 8.69075388e-01 7.73566906e-01 7.39375391e-01\n",
            "  6.51536388e-01 8.52938626e-01 1.69260388e-01 4.28699751e-01\n",
            "  3.80818627e-01 7.22395869e-01 7.85807134e-02 6.00036289e-01\n",
            "  2.39063668e-01 8.08215864e-01 1.29577440e-01 1.49597079e-01\n",
            "  7.12788523e-01 6.95367397e-01 4.73364002e-01 6.24785725e-01\n",
            "  8.70498731e-01 6.09163697e-01 4.97180897e-01 1.76995095e-02\n",
            "  1.14406679e-01 1.21540778e-01 6.62098780e-01 2.05970271e-01\n",
            "  3.05013554e-01 8.54547384e-01 4.72870818e-01 4.83130557e-02\n",
            "  5.13521256e-03 7.52226000e-01 4.47575582e-02 7.77249897e-01\n",
            "  9.93093476e-01 7.37577640e-01 3.39721953e-01 8.98708754e-01\n",
            "  4.41920332e-01 2.76476948e-01 4.37328374e-01 6.97106090e-01\n",
            "  3.80449261e-01 9.21540861e-01 6.83616908e-01 8.84541109e-01\n",
            "  9.83282045e-01 5.76301140e-01 3.04933929e-01 3.78991541e-01\n",
            "  6.77249589e-01 6.21183874e-01 6.44827234e-01 2.65307052e-01\n",
            "  5.38270401e-01 6.42149067e-01 9.06502381e-01 2.51162519e-01\n",
            "  9.45833892e-01 1.29410167e-01 5.62899080e-01 6.82800590e-02\n",
            "  4.38979791e-01 2.52308837e-01 3.12624811e-01 5.26174088e-01\n",
            "  3.09871784e-01 8.26026882e-01 5.10457608e-01 5.25008358e-01\n",
            "  8.42164812e-01 7.26951241e-01 1.01631705e-01 5.02630363e-01\n",
            "  9.83219210e-01 2.25168220e-01 6.00086833e-02 4.48163633e-01]\n",
            " [5.54999909e-01 6.40019533e-01 2.50972433e-01 9.75735414e-01\n",
            "  4.56920696e-01 7.62226178e-01 8.31848186e-01 3.94065337e-01\n",
            "  5.53537126e-01 6.77289122e-01 7.87338443e-01 9.03240997e-01\n",
            "  7.51120296e-01 3.33422780e-01 8.68137846e-01 5.69378903e-01\n",
            "  3.74931353e-01 8.33122752e-01 6.04511626e-01 7.99919053e-01\n",
            "  5.55450601e-01 8.76997073e-01 6.36658456e-01 5.75216528e-01\n",
            "  7.49107896e-01 9.77228945e-01 8.07869785e-01 4.11780101e-01\n",
            "  3.21793304e-01 5.23497887e-01 2.20596529e-01 3.62454045e-01\n",
            "  6.02564245e-01 2.86840472e-01 9.76424658e-01 9.26624067e-01\n",
            "  5.07906542e-01 1.18522990e-01 6.90378317e-01 1.24132889e-01\n",
            "  4.06536780e-01 8.43489895e-01 5.41790389e-01 6.52357147e-01\n",
            "  6.73107911e-01 6.60686659e-01 3.37714927e-01 1.52943335e-02\n",
            "  2.92845188e-01 4.67749023e-01 6.06714337e-01 7.97833097e-02\n",
            "  3.13192879e-01 5.45380765e-01 8.71401332e-01 9.88653755e-01\n",
            "  5.23123316e-01 4.53805785e-01 6.43669880e-01 7.07626144e-02\n",
            "  6.66401327e-01 6.69699871e-01 8.51448668e-01 3.72109606e-02\n",
            "  5.75463968e-01 1.52615741e-02 7.15334460e-01 7.92505766e-01\n",
            "  2.81125666e-02 8.75387830e-01 4.58772133e-01 6.91847139e-01\n",
            "  9.81843814e-01 5.67829794e-01 8.37069355e-01 2.25761957e-01\n",
            "  8.30289484e-01 8.73654293e-01 7.40251271e-01 5.09225585e-01\n",
            "  3.47625760e-01 4.11627585e-01 2.70740728e-01 5.15125217e-01\n",
            "  1.16253338e-01 5.55111528e-02 2.75115241e-01 3.87276759e-02\n",
            "  2.00942364e-01 8.40059738e-02 4.70561661e-01 7.69045276e-01\n",
            "  4.96539823e-01 6.60265118e-01 2.17779434e-01 2.44751431e-01\n",
            "  2.30665033e-01 4.18464870e-03 2.68460127e-01 4.46544368e-02]\n",
            " [4.39980559e-01 3.64603025e-01 7.55820442e-01 1.63140384e-01\n",
            "  7.30069742e-02 6.69890317e-01 3.95248241e-02 2.36841194e-01\n",
            "  3.07793251e-01 1.89817637e-01 5.88575848e-01 5.72419982e-01\n",
            "  3.55402038e-01 8.50544057e-01 5.20624585e-01 4.71177637e-01\n",
            "  3.16920178e-01 3.94237075e-01 7.48035510e-01 9.72151741e-01\n",
            "  2.33740020e-01 5.22552431e-01 5.22348779e-01 8.97232914e-02\n",
            "  9.72953828e-01 6.43966236e-01 3.72787467e-01 4.14123115e-01\n",
            "  3.44048001e-01 4.92543184e-01 7.12830428e-01 6.58739027e-02\n",
            "  7.27162680e-01 2.00714938e-01 8.76820983e-01 1.08274669e-01\n",
            "  7.38297490e-01 1.02468708e-01 1.25273162e-01 3.72730530e-01\n",
            "  8.82918453e-01 2.17144689e-01 2.43980622e-01 5.77032667e-01\n",
            "  9.99149024e-01 2.31273390e-01 1.87240270e-01 7.81235139e-01\n",
            "  8.09439574e-01 5.11596362e-01 4.22537869e-01 5.34998535e-01\n",
            "  7.61985162e-02 2.17590603e-01 1.77871548e-01 4.44634735e-01\n",
            "  2.94398515e-01 9.22388876e-01 6.26044188e-01 6.23634511e-01\n",
            "  5.54725237e-01 4.44142028e-01 3.53291649e-01 9.15182458e-01\n",
            "  7.56276274e-01 3.06643433e-01 7.58557426e-01 7.01079856e-01\n",
            "  7.12327886e-01 6.02496485e-02 1.83279188e-01 7.10773081e-01\n",
            "  9.82907230e-01 8.68383015e-01 4.33956000e-01 8.96156791e-01\n",
            "  5.49391174e-01 8.84274837e-01 2.21153696e-02 5.47024384e-01\n",
            "  6.45301372e-01 4.66615673e-01 3.30065907e-02 8.47202290e-01\n",
            "  6.46153179e-01 6.11165139e-01 8.58713699e-01 2.40571576e-01\n",
            "  2.20166367e-01 1.23057297e-01 7.91687201e-02 1.43065288e-01\n",
            "  7.81127293e-01 4.18354839e-01 5.76614513e-01 4.95710256e-01\n",
            "  9.55982837e-01 7.25409588e-01 3.44657030e-01 6.27163291e-01]\n",
            " [8.27948224e-01 1.17647871e-01 4.71815490e-01 5.37073311e-01\n",
            "  2.05036815e-01 5.35600591e-01 4.59944391e-01 5.34372449e-01\n",
            "  3.34066794e-01 1.64577393e-01 6.17903704e-01 1.42253983e-02\n",
            "  7.71888232e-01 9.59039347e-01 3.24127640e-01 7.54306474e-01\n",
            "  8.15532241e-01 8.41716539e-01 2.40494065e-01 4.55647320e-01\n",
            "  8.62827387e-01 6.96913272e-01 4.62261749e-01 9.18184691e-02\n",
            "  4.79182575e-02 6.27678252e-01 5.62973487e-01 5.60676435e-01\n",
            "  5.23882783e-01 6.07595093e-01 2.41110178e-01 8.56381590e-01\n",
            "  3.62490381e-01 7.36882922e-01 1.17130066e-01 3.75892944e-01\n",
            "  9.86439031e-02 5.28054493e-02 9.81479841e-01 5.81474367e-02\n",
            "  4.99279322e-01 5.17173838e-01 1.17410493e-01 6.31214463e-01\n",
            "  3.97095894e-01 9.70248480e-01 3.90273037e-01 6.40966992e-01\n",
            "  9.54508908e-01 3.69996597e-01 9.54306334e-01 5.13768066e-01\n",
            "  6.01414934e-01 8.53386090e-01 4.61110964e-01 8.49757720e-01\n",
            "  3.01484048e-01 1.05960413e-01 1.21394242e-01 4.70117629e-01\n",
            "  5.60885542e-01 3.35876031e-01 2.70549870e-01 7.37777808e-01\n",
            "  7.94946264e-01 9.02564273e-01 2.44838936e-01 5.91608949e-01\n",
            "  2.53563055e-01 6.03767629e-01 3.48618673e-01 3.41826580e-01\n",
            "  3.01736303e-01 6.05049465e-01 2.26025957e-01 7.49154990e-01\n",
            "  1.61231727e-01 5.78881280e-01 4.17652846e-01 1.97960474e-01\n",
            "  9.40952701e-01 1.63481548e-01 1.64584621e-01 4.89733169e-01\n",
            "  2.25516312e-01 4.90573655e-01 1.20642641e-01 7.36795004e-02\n",
            "  9.78048229e-01 3.35756058e-01 5.16339890e-01 9.13168663e-01\n",
            "  9.62553947e-01 4.66513429e-01 5.59892115e-01 8.13665508e-01\n",
            "  8.39264970e-01 9.98623660e-01 9.14568415e-01 7.52781724e-01]\n",
            " [7.91592889e-01 5.70349043e-01 6.17354702e-01 9.04236275e-01\n",
            "  7.45288395e-02 5.91835747e-01 7.04853319e-01 5.47854636e-01\n",
            "  1.54504127e-01 5.58996353e-01 6.65537544e-01 6.12622842e-01\n",
            "  9.14027083e-01 3.99870024e-01 8.48267580e-01 6.17713608e-01\n",
            "  2.36217789e-01 6.60089125e-01 8.80998172e-01 2.58223328e-01\n",
            "  5.48133608e-01 2.27907993e-01 8.40885146e-01 4.02858982e-01\n",
            "  4.82683836e-01 9.20051949e-01 3.10967351e-01 9.01504983e-01\n",
            "  5.82578027e-01 9.68649203e-02 2.52063265e-01 9.36383014e-01\n",
            "  6.75716613e-01 6.07242921e-01 7.91260895e-01 2.41890871e-01\n",
            "  9.63960680e-01 8.46851800e-01 6.24990207e-01 2.72752155e-01\n",
            "  5.60792986e-02 4.94567748e-01 8.84426789e-01 7.91571798e-01\n",
            "  8.72651934e-01 3.97714408e-01 3.29175525e-01 3.45519591e-01\n",
            "  6.57429857e-01 4.38116096e-01 9.28132641e-01 7.74574018e-01\n",
            "  1.33636450e-01 7.72406643e-01 1.27052373e-01 8.48676423e-01\n",
            "  5.13244645e-01 9.93295479e-01 4.25391074e-01 1.59640053e-01\n",
            "  6.99492749e-01 8.84861846e-01 2.29117623e-01 7.07034960e-01\n",
            "  8.72889811e-01 3.44067235e-02 2.38800977e-01 1.74772555e-01\n",
            "  4.95751299e-01 4.45633284e-01 7.86460345e-01 4.51535684e-01\n",
            "  3.71570942e-01 5.55797895e-01 9.64332177e-01 8.32967283e-01\n",
            "  1.35511379e-01 9.09043737e-01 4.98403250e-01 4.10141930e-01\n",
            "  7.12737923e-01 8.25198981e-01 1.40788859e-01 5.01125359e-01\n",
            "  9.72986490e-01 9.82134424e-01 9.26983127e-01 6.34679666e-01\n",
            "  8.88465784e-01 4.03634336e-01 8.89501673e-01 7.92179850e-01\n",
            "  5.19211207e-01 5.12627665e-02 4.78931911e-01 2.07335022e-01\n",
            "  7.66963316e-01 3.65685736e-02 3.52144959e-01 5.29195927e-01]\n",
            " [5.45617315e-01 5.82970405e-01 3.57713572e-01 1.62204642e-01\n",
            "  9.04616777e-02 4.20900996e-01 6.70505902e-01 9.47693247e-01\n",
            "  4.98596399e-01 3.91001102e-01 9.54847859e-01 3.62552398e-01\n",
            "  8.12892645e-01 9.55655353e-01 4.09583604e-03 4.55632724e-01\n",
            "  7.39528254e-01 6.66928318e-01 5.40133846e-01 7.94717880e-01\n",
            "  9.56805638e-02 4.04483408e-01 2.72942395e-01 4.95862627e-01\n",
            "  8.15548643e-01 6.23141048e-01 2.46323848e-01 1.23724027e-01\n",
            "  8.46622406e-01 5.36386331e-01 5.30144093e-01 5.42654486e-01\n",
            "  1.60389316e-01 8.23798687e-01 5.69622798e-01 3.41798292e-01\n",
            "  4.90491384e-01 1.91858280e-01 9.08114653e-01 9.60887269e-01\n",
            "  1.97627498e-01 8.63541898e-01 4.64652173e-01 4.07859260e-01\n",
            "  6.07161962e-01 8.92159817e-01 3.26431469e-01 9.82789733e-02\n",
            "  5.97232055e-01 5.36278959e-02 9.08615979e-01 6.65577355e-01\n",
            "  7.68896749e-01 3.08003634e-01 2.75226274e-03 9.36281842e-01\n",
            "  5.49571022e-01 6.59751592e-01 4.74043103e-01 6.14996074e-01\n",
            "  4.59653520e-01 4.49924903e-01 2.67939367e-01 3.74091782e-02\n",
            "  4.75642219e-01 1.06323554e-01 3.32177842e-01 8.61262913e-01\n",
            "  8.31774118e-01 8.72647924e-01 8.43075341e-01 3.06996797e-01\n",
            "  8.15105983e-01 3.68625803e-01 9.33135375e-02 8.04423766e-01\n",
            "  7.14012668e-01 7.93255944e-01 6.23772815e-01 9.38532217e-01\n",
            "  4.78471393e-01 3.33162039e-01 9.28617169e-01 6.17420698e-01\n",
            "  2.77821082e-01 9.47745821e-01 5.00324253e-01 9.96012881e-01\n",
            "  4.81170103e-01 3.32887166e-01 9.94143822e-01 4.23024353e-01\n",
            "  1.53027348e-01 5.79727553e-01 7.96950410e-01 8.79843515e-02\n",
            "  8.54649332e-01 9.52232411e-01 6.17201599e-02 1.05751992e-01]\n",
            " [6.27998179e-01 7.70725021e-01 6.64108614e-02 8.43040302e-01\n",
            "  1.71164752e-01 2.45298177e-02 7.77116239e-01 5.75806140e-01\n",
            "  8.47807473e-01 6.54541518e-01 1.33813953e-01 1.84954582e-01\n",
            "  8.46239760e-01 9.21473598e-01 4.85257422e-01 2.13108195e-02\n",
            "  1.76645633e-01 7.46929056e-01 4.59360136e-01 5.62057156e-01\n",
            "  6.97424148e-01 2.99989702e-01 8.05448795e-02 6.46629470e-01\n",
            "  6.00996370e-01 7.25561559e-01 3.90676604e-01 1.66409538e-01\n",
            "  5.98175723e-01 2.92420664e-01 9.26470836e-01 3.24670031e-01\n",
            "  1.44975919e-01 5.60573884e-01 3.01106019e-01 7.66430894e-01\n",
            "  7.58199157e-02 7.76141595e-01 8.12875112e-01 9.21884167e-01\n",
            "  7.55829603e-01 7.49453928e-01 3.48600015e-01 9.83251698e-01\n",
            "  8.03087358e-01 1.12109038e-01 5.49699973e-01 1.63621743e-01\n",
            "  9.08180840e-01 5.63859116e-01 6.26849146e-01 8.21637933e-01\n",
            "  3.11452070e-01 8.29683282e-01 6.16159543e-01 7.48716050e-01\n",
            "  1.85790387e-01 8.24969646e-02 9.44326469e-01 7.39979911e-01\n",
            "  4.79073680e-01 6.93188174e-02 7.22759317e-01 7.83557293e-01\n",
            "  8.90980800e-01 5.19902659e-01 3.13742943e-01 4.84668755e-01\n",
            "  8.81897301e-01 3.84158281e-01 9.73089238e-01 6.63190642e-01\n",
            "  9.66610668e-01 5.32892697e-02 5.92480242e-01 9.96187684e-01\n",
            "  4.69098776e-01 9.04801939e-01 5.81776555e-01 2.45439692e-01\n",
            "  7.07488097e-03 3.92163984e-01 8.44008525e-01 4.76106247e-01\n",
            "  6.44425264e-01 5.93340918e-01 2.20452066e-01 8.02679484e-01\n",
            "  1.59231913e-01 4.36421881e-01 2.51301304e-01 4.32274030e-01\n",
            "  1.13982281e-01 8.30478229e-01 1.78921051e-01 9.98527455e-01\n",
            "  5.27742274e-01 3.13454999e-01 6.70955132e-01 1.99741817e-01]\n",
            " [5.33458256e-01 9.94976930e-01 9.33293801e-01 2.35721663e-02\n",
            "  5.02908187e-01 1.74763496e-01 2.36253984e-01 4.84172329e-01\n",
            "  9.48393614e-01 2.83522639e-01 4.55703109e-01 5.45896221e-01\n",
            "  6.12880332e-01 7.88644039e-01 8.16869775e-01 1.92670490e-01\n",
            "  2.26827019e-01 8.24024237e-01 6.27884997e-01 4.42282084e-01\n",
            "  1.84310762e-02 7.11602644e-01 9.70565673e-01 4.25347470e-01\n",
            "  3.19321346e-01 5.83937567e-01 4.66391488e-01 9.70497327e-02\n",
            "  3.43848804e-01 4.45370648e-01 9.46023924e-01 8.92164260e-01\n",
            "  3.04974099e-01 2.63040870e-01 7.82242387e-02 5.93565925e-01\n",
            "  4.64354676e-01 6.09515082e-01 7.23563948e-01 1.84279687e-01\n",
            "  4.29069791e-01 4.07580949e-01 4.76410222e-01 8.03981220e-01\n",
            "  2.59201342e-01 5.68414820e-01 7.97811920e-01 9.54072540e-01\n",
            "  3.09604834e-01 9.78154532e-02 8.15413733e-01 7.80351578e-01\n",
            "  1.56246946e-02 4.76486808e-01 3.38769030e-01 4.15324358e-01\n",
            "  8.57735888e-01 9.85754478e-01 9.90550401e-01 1.14788553e-01\n",
            "  9.34831100e-01 8.93137222e-01 1.82084075e-01 2.28580352e-01\n",
            "  6.83231703e-01 8.77606470e-01 2.36285007e-01 3.68473958e-01\n",
            "  9.57495721e-01 8.25149682e-02 4.85579004e-01 1.54127380e-01\n",
            "  5.89264660e-01 7.41028923e-02 4.13592973e-01 8.52099433e-01\n",
            "  2.77074727e-01 4.77500650e-01 1.02930385e-01 4.15141783e-03\n",
            "  9.53873853e-01 2.57914649e-01 5.98543758e-01 1.74989573e-01\n",
            "  6.85324799e-02 7.30391215e-01 9.78344520e-01 9.66443363e-01\n",
            "  7.91441008e-01 6.36746973e-01 8.56879711e-01 7.94514080e-01\n",
            "  9.21877769e-01 7.37388062e-01 9.16725599e-01 6.84618369e-01\n",
            "  6.22278032e-01 8.46822357e-01 9.73697742e-01 1.80591815e-01]\n",
            " [4.72606146e-01 2.83407591e-01 1.46095073e-02 8.73040438e-01\n",
            "  5.44132931e-01 5.39077972e-01 9.51780356e-01 2.08677518e-01\n",
            "  7.06726354e-01 8.57837239e-01 4.63340632e-01 3.43454747e-01\n",
            "  9.28381928e-01 1.62490865e-01 4.04597026e-02 6.13220918e-01\n",
            "  3.04559671e-01 2.30411778e-01 2.86526984e-01 8.54092172e-01\n",
            "  5.19181766e-01 8.22099346e-01 1.26105237e-01 4.54231768e-01\n",
            "  9.26733725e-01 7.24336172e-01 9.23089075e-01 2.85094249e-01\n",
            "  4.30369414e-01 2.96270136e-01 1.83043672e-01 3.33191824e-01\n",
            "  3.61850401e-01 6.20669395e-01 2.00320799e-01 3.98425241e-01\n",
            "  3.40251050e-01 9.84210452e-01 5.84915957e-01 7.35920215e-01\n",
            "  4.86197076e-01 4.18039299e-01 1.59523361e-01 4.04616838e-01\n",
            "  2.18287030e-01 7.26081692e-01 1.50856185e-01 1.63665575e-01\n",
            "  9.29549318e-01 6.29254698e-01 4.33709245e-01 9.79889818e-01\n",
            "  4.28840932e-01 4.82024189e-01 1.33181908e-02 9.44860211e-01\n",
            "  8.73648798e-01 3.06571982e-01 5.08072196e-01 1.04274543e-01\n",
            "  3.77874920e-01 7.46308704e-01 9.39229851e-01 9.60425411e-01\n",
            "  7.68213087e-01 2.70108344e-01 8.18146433e-01 7.01691825e-01\n",
            "  7.85733394e-01 3.50108363e-01 8.96140312e-01 2.85519978e-01\n",
            "  1.62006389e-01 4.83870038e-02 4.89783431e-01 3.43408421e-01\n",
            "  5.01068297e-01 8.21482560e-02 5.87066311e-01 3.92814553e-01\n",
            "  2.31475948e-01 3.35347880e-01 7.12774611e-01 2.44650547e-01\n",
            "  9.45406626e-01 2.67885104e-01 8.59227938e-01 5.97396050e-01\n",
            "  9.93333108e-01 8.31893223e-01 1.57892986e-01 8.39875248e-01\n",
            "  8.22242472e-01 4.62085494e-01 4.70253694e-01 8.89567708e-01\n",
            "  5.56360034e-01 9.16248361e-01 3.66578465e-01 2.18713792e-02]\n",
            " [5.00134122e-01 5.27109004e-02 7.76676575e-01 3.97082400e-02\n",
            "  5.65361375e-01 7.96673872e-01 6.74110677e-01 4.97785647e-01\n",
            "  8.78954360e-01 9.91955052e-01 6.45521695e-01 8.67021952e-01\n",
            "  6.02788219e-01 7.81897832e-01 8.90569132e-01 3.69676255e-01\n",
            "  2.05415113e-01 7.67412917e-01 3.76978630e-01 4.42004687e-01\n",
            "  6.10770966e-01 1.75411661e-01 3.23199625e-01 7.44141119e-01\n",
            "  6.83737655e-01 5.96937071e-01 3.63261393e-01 4.73636521e-02\n",
            "  2.14583043e-01 5.05999117e-01 6.97018279e-01 2.34442214e-01\n",
            "  1.02073047e-01 2.05677179e-01 4.05154345e-02 7.58303075e-01\n",
            "  6.29751333e-01 7.76569716e-01 7.81462979e-02 4.50175276e-01\n",
            "  6.07952083e-01 6.81887698e-01 2.90910556e-01 5.61892136e-01\n",
            "  6.84050864e-01 7.03139168e-01 4.01309346e-01 3.04346962e-01\n",
            "  7.24768196e-01 1.41950130e-02 6.06180304e-01 2.56999641e-02\n",
            "  8.17263948e-01 3.50726196e-01 3.64172586e-01 4.23437946e-01\n",
            "  2.33945230e-01 5.21058613e-01 6.26939508e-01 9.41635758e-01\n",
            "  9.32272460e-01 2.14240934e-02 8.91072892e-01 3.12367168e-01\n",
            "  2.47565898e-01 7.20124654e-01 3.53849731e-01 6.62673303e-01\n",
            "  1.63639543e-02 2.06481056e-01 8.43929567e-02 5.89367133e-02\n",
            "  1.26561430e-01 2.62031842e-01 2.90645165e-01 3.58826139e-02\n",
            "  8.08639216e-01 9.21293663e-01 9.41864971e-03 2.16135498e-01\n",
            "  1.02795037e-01 6.89350757e-01 7.67893032e-01 8.07591712e-01\n",
            "  1.44172549e-01 6.51071156e-01 2.46084122e-01 6.47158563e-01\n",
            "  1.38432683e-01 1.44483848e-01 4.22024789e-01 3.13570660e-02\n",
            "  5.67995454e-01 8.77988555e-01 5.70451687e-01 9.14138920e-01\n",
            "  9.14791019e-01 5.25625466e-01 4.64547249e-01 5.54559037e-01]\n",
            " [1.82161102e-01 1.00408928e-01 2.40068801e-01 3.16655321e-01\n",
            "  5.59294040e-01 9.78073566e-01 9.18856855e-01 7.95872367e-01\n",
            "  7.67922401e-01 3.61596510e-01 9.86894103e-01 7.90156196e-01\n",
            "  2.38579288e-01 6.37710149e-01 1.78870604e-01 1.12929749e-01\n",
            "  7.36981366e-01 6.00489001e-01 9.58382186e-01 7.65120833e-01\n",
            "  1.98847446e-01 2.31837986e-01 2.07391721e-01 3.42790210e-02\n",
            "  3.94472584e-01 5.96751807e-01 1.82176233e-01 6.95335960e-01\n",
            "  3.19779122e-01 3.13501641e-01 6.10248625e-01 3.15984246e-01\n",
            "  7.69341841e-01 8.89500165e-01 3.07415851e-01 2.20437688e-01\n",
            "  3.61975100e-01 2.48739811e-01 3.78005852e-01 2.31874469e-01\n",
            "  5.92146071e-02 9.34740214e-01 1.05351715e-01 9.47768390e-01\n",
            "  6.81669762e-01 6.04062402e-02 1.91933694e-01 3.02454342e-01\n",
            "  7.30773476e-01 7.18004337e-01 6.87934279e-01 2.38535045e-01\n",
            "  9.93698285e-01 3.06880786e-01 9.52479380e-01 6.52980374e-01\n",
            "  3.37121507e-01 5.65434943e-01 3.03747635e-01 8.38975019e-01\n",
            "  6.95574913e-01 5.60479374e-01 9.69945465e-01 3.13311663e-01\n",
            "  3.11958688e-02 9.07527272e-01 9.86389728e-01 4.85118187e-01\n",
            "  7.49318869e-01 9.72572365e-01 3.89909462e-01 2.22254672e-01\n",
            "  6.45059849e-01 5.97449515e-01 5.46976513e-02 2.20775111e-01\n",
            "  6.34762118e-01 1.56573553e-01 6.58151735e-01 5.47545401e-01\n",
            "  6.73811562e-01 5.37232843e-02 2.82322959e-02 1.08359888e-01\n",
            "  4.19152713e-01 4.48779338e-01 1.11030065e-01 6.53280999e-01\n",
            "  2.13562246e-02 9.48280598e-01 8.53448264e-01 5.29676990e-01\n",
            "  3.35716491e-01 2.38943164e-01 5.96343143e-01 9.69407250e-01\n",
            "  4.34154850e-01 9.33683588e-01 2.92920415e-01 5.92710153e-01]\n",
            " [1.86004877e-01 3.58335800e-01 4.43611474e-01 4.59276128e-01\n",
            "  6.34450185e-01 7.90095528e-02 3.50540871e-01 8.93758665e-01\n",
            "  2.72996351e-01 1.46101436e-01 1.99247559e-01 4.11823666e-01\n",
            "  8.51936424e-01 2.56792862e-01 1.25375240e-01 7.32465048e-01\n",
            "  1.39013736e-01 7.97821115e-01 3.49850271e-01 7.80244070e-01\n",
            "  6.51988257e-01 3.86604539e-01 4.21097391e-01 6.16397309e-01\n",
            "  8.27605293e-01 8.02546549e-01 7.29956023e-01 8.37403270e-01\n",
            "  3.18224049e-01 1.95036130e-01 5.31635196e-01 6.58456540e-01\n",
            "  7.17681395e-01 5.33759020e-01 3.81332079e-01 6.60473024e-01\n",
            "  1.85647762e-01 9.62969804e-01 2.12827228e-01 4.18644772e-01\n",
            "  3.36562671e-01 6.20801664e-01 8.87082326e-01 4.84896090e-01\n",
            "  2.85416010e-01 3.60847733e-02 4.84532534e-01 8.98488084e-01\n",
            "  7.57765992e-01 6.30482673e-01 5.27203621e-01 8.99314650e-01\n",
            "  1.82575713e-01 3.68545572e-01 5.23883151e-01 9.05561162e-01\n",
            "  9.23673751e-01 4.52771789e-02 7.39010239e-01 6.49573568e-02\n",
            "  8.43139989e-01 2.39086578e-02 5.82409958e-01 1.95838145e-01\n",
            "  9.41147747e-01 2.17745744e-01 7.14093382e-01 7.39467782e-01\n",
            "  4.72265252e-01 9.15931489e-01 6.02028857e-01 2.71725401e-01\n",
            "  5.50270316e-01 8.46508222e-01 6.63018804e-01 9.59392250e-01\n",
            "  9.34028150e-01 7.37448049e-01 7.71991596e-01 7.40448880e-01\n",
            "  3.61670618e-01 1.23597255e-03 3.62661391e-02 3.43492789e-01\n",
            "  7.43794337e-01 6.93758356e-01 9.25205167e-01 3.99531208e-01\n",
            "  5.25163779e-01 3.76928021e-01 3.08928239e-01 6.49284478e-01\n",
            "  7.35618339e-01 5.41657511e-02 2.12181947e-01 2.50325809e-01\n",
            "  7.79209889e-01 1.22192982e-01 7.92922790e-01 3.10145036e-01]\n",
            " [2.09456750e-01 6.47288221e-01 6.71836966e-01 8.09848442e-01\n",
            "  9.61635287e-01 2.25618444e-01 5.87326110e-01 9.15918497e-01\n",
            "  5.31724517e-01 6.13773016e-01 4.48093554e-01 1.90782047e-01\n",
            "  2.76919820e-01 8.33839414e-01 4.59526225e-02 3.10905181e-01\n",
            "  4.88302407e-01 7.94041172e-01 9.92736757e-01 3.24413858e-01\n",
            "  5.70132384e-01 8.71358917e-01 1.73965596e-01 4.31492505e-01\n",
            "  4.57520071e-01 6.52876696e-01 6.26285163e-02 6.78015585e-01\n",
            "  6.33020449e-01 1.14203055e-01 8.22050918e-01 1.15317309e-01\n",
            "  7.63245835e-01 7.06899169e-01 4.76603886e-01 3.43127702e-01\n",
            "  8.70828004e-01 6.63985263e-01 2.55191700e-01 5.75532808e-01\n",
            "  3.66331852e-01 6.15534065e-01 6.10431052e-02 3.10950169e-01\n",
            "  7.20179417e-01 3.13740801e-01 3.73499116e-01 8.63215786e-01\n",
            "  1.84141921e-01 5.01982941e-01 2.56442829e-01 4.99784329e-02\n",
            "  6.92713377e-01 4.34360764e-01 3.42420500e-01 1.68279510e-01\n",
            "  1.18504389e-01 6.88043541e-01 5.46254717e-01 7.67973779e-01\n",
            "  5.38235290e-01 3.99099398e-01 8.91217435e-01 8.34324163e-01\n",
            "  9.25698178e-01 8.46986782e-01 7.52756093e-01 7.49185277e-01\n",
            "  4.28857755e-01 3.08471885e-01 5.85738485e-01 5.41420816e-01\n",
            "  3.69594934e-01 6.64229269e-01 2.71336617e-01 5.65482101e-01\n",
            "  5.08434231e-01 1.10919801e-01 9.00759912e-01 2.61854095e-01\n",
            "  2.61571034e-01 9.26223296e-01 1.12862136e-01 4.13176496e-01\n",
            "  5.03977525e-01 1.35410637e-01 4.16973100e-01 7.11084738e-01\n",
            "  7.28490482e-02 8.38223115e-01 3.65988070e-01 3.94712963e-01\n",
            "  7.02589717e-01 9.81834924e-01 9.63293703e-01 1.09608656e-01\n",
            "  7.64259343e-01 6.72571079e-01 1.52430932e-01 1.52171806e-01]\n",
            " [3.35842715e-01 4.16041582e-01 6.38905925e-01 6.36085023e-01\n",
            "  5.02371661e-01 7.19548092e-01 9.82702836e-01 7.83385552e-01\n",
            "  7.69804220e-01 2.14447084e-01 1.50588667e-01 3.64650944e-01\n",
            "  8.45777451e-01 7.25330743e-01 7.16962363e-01 4.69428591e-02\n",
            "  6.98318558e-01 6.38514298e-01 6.45170685e-01 6.43438725e-02\n",
            "  9.92373146e-01 2.35240119e-01 1.06810554e-01 8.09140375e-01\n",
            "  6.14556593e-01 4.48052319e-01 8.12141168e-01 2.79903033e-01\n",
            "  1.64708941e-02 8.93572453e-01 9.14493869e-01 4.63772940e-01\n",
            "  4.22405662e-01 6.45467053e-01 2.73083842e-01 2.58978372e-01\n",
            "  9.15912567e-01 5.38009658e-01 8.97072158e-01 2.39329877e-01\n",
            "  6.81859105e-01 6.02912387e-01 7.34208986e-01 8.49161878e-02\n",
            "  8.98905891e-01 8.56805162e-01 8.71989831e-01 9.30533086e-01\n",
            "  5.04360735e-01 5.84558726e-01 7.52909787e-01 4.88378066e-01\n",
            "  3.11156327e-01 9.08248912e-03 8.60850623e-01 8.01024643e-01\n",
            "  5.99101088e-01 3.91799868e-01 5.96628878e-01 6.71365515e-01\n",
            "  2.56219144e-01 5.07031434e-01 9.41383319e-01 2.42159458e-01\n",
            "  8.79297866e-01 7.25043523e-01 7.10931153e-01 9.66827611e-01\n",
            "  3.76824437e-01 5.57216951e-01 1.34798170e-01 2.47956597e-01\n",
            "  3.48503140e-01 3.35302711e-01 7.28848908e-01 6.83156367e-01\n",
            "  4.81195927e-01 1.49401310e-02 8.06516483e-01 8.27226454e-01\n",
            "  9.70229188e-01 4.58643436e-01 5.90308801e-01 6.95852310e-02\n",
            "  2.24665920e-01 9.95918499e-01 7.49659511e-01 8.77930355e-01\n",
            "  6.27028420e-02 2.98144287e-01 1.14237649e-02 5.31872558e-01\n",
            "  8.69253930e-01 3.44750664e-01 1.77502317e-01 4.82012428e-01\n",
            "  7.77412140e-01 9.18976905e-01 4.78864632e-01 3.20068343e-01]\n",
            " [9.34751059e-01 1.99266104e-01 3.64274617e-01 7.39349183e-01\n",
            "  2.98403818e-01 1.15071346e-01 7.74609405e-01 8.39940104e-01\n",
            "  3.88349953e-01 7.90022294e-01 1.74883627e-02 4.35002162e-02\n",
            "  5.10392892e-01 2.54593367e-01 7.93294295e-01 5.76205687e-01\n",
            "  6.94548472e-01 4.10840387e-01 1.42326067e-02 7.82085811e-01\n",
            "  3.70025846e-01 8.11929788e-01 4.66049752e-01 8.43996918e-01\n",
            "  4.89854238e-01 1.37689533e-02 7.32492705e-01 4.37133367e-01\n",
            "  9.65281216e-01 3.41080677e-01 9.32453487e-02 8.58553118e-01\n",
            "  6.13846905e-01 7.20955889e-01 4.47573563e-02 7.15768693e-01\n",
            "  1.27606669e-01 4.68196704e-01 8.79866235e-01 2.49951059e-01\n",
            "  4.50314622e-01 8.38803317e-01 6.53402966e-01 2.40772220e-01\n",
            "  6.33164825e-01 7.87971263e-01 4.69919880e-01 7.51143133e-01\n",
            "  9.89416474e-01 7.43774365e-02 4.44406815e-01 4.34656527e-01\n",
            "  8.65626587e-01 9.74630851e-01 8.29794755e-01 9.42417108e-01\n",
            "  2.01225091e-01 4.31584799e-01 4.63178134e-02 7.13389641e-01\n",
            "  4.67478037e-01 1.96146124e-01 3.72812388e-01 7.93335695e-01\n",
            "  6.58788659e-01 8.64206514e-01 7.07064447e-01 5.48326986e-01\n",
            "  3.77286794e-01 1.80579876e-01 1.27312324e-01 1.20615114e-01\n",
            "  4.24788721e-01 7.89209906e-01 9.93730858e-01 5.00155990e-01\n",
            "  4.06784054e-01 8.13693507e-01 6.94512745e-01 6.13330675e-01\n",
            "  4.96965869e-01 5.82565240e-01 4.31936293e-01 6.06562077e-01\n",
            "  4.69401240e-01 4.69432725e-01 1.28945504e-01 3.56492574e-01\n",
            "  2.00410636e-01 4.37448776e-01 1.85857806e-01 2.77027433e-01\n",
            "  7.83551760e-01 7.21573401e-01 7.32031471e-01 4.13514465e-01\n",
            "  4.81312256e-01 8.22782894e-01 2.49279245e-01 7.76857908e-01]\n",
            " [2.44220356e-01 6.48397263e-01 7.32428662e-01 5.79570391e-01\n",
            "  9.92890619e-01 1.47129629e-01 3.31941339e-01 9.03404181e-01\n",
            "  2.70051845e-01 6.89271933e-01 5.78489994e-01 3.13854224e-01\n",
            "  4.27504008e-01 4.44703259e-01 1.25715120e-01 1.52903379e-01\n",
            "  3.91317428e-01 8.89579288e-01 4.21229703e-02 7.10718151e-01\n",
            "  7.07458774e-01 9.29774276e-01 3.01300494e-01 8.23385546e-01\n",
            "  1.69562305e-01 2.49891045e-02 8.14251656e-01 1.92690725e-01\n",
            "  9.87403589e-01 2.44359618e-01 4.28514675e-01 9.51265375e-01\n",
            "  3.50262313e-01 6.75393597e-01 9.01828110e-01 3.67799237e-01\n",
            "  1.95546933e-01 7.29691179e-01 7.39615816e-01 3.07445486e-01\n",
            "  7.69525322e-02 2.14692530e-01 4.52911893e-02 2.04340063e-01\n",
            "  3.79599443e-01 9.04519524e-02 7.81614682e-01 3.20970433e-01\n",
            "  6.69920329e-01 1.52669011e-03 4.86465357e-01 8.55166508e-01\n",
            "  8.47384596e-01 3.24855603e-01 2.13384714e-02 9.02431838e-02\n",
            "  3.22029298e-01 5.41779728e-01 9.59844635e-01 8.85332992e-01\n",
            "  8.26034776e-01 2.42978630e-01 7.26130976e-01 6.84851189e-02\n",
            "  4.01366338e-01 1.24766190e-01 6.21312952e-01 4.95019070e-01\n",
            "  1.66594604e-01 1.70539797e-01 2.81486291e-01 7.90285429e-01\n",
            "  6.98681805e-02 9.94452024e-03 2.42017191e-01 4.39317866e-01\n",
            "  5.55979254e-01 8.82655911e-01 7.41134362e-01 9.84655903e-01\n",
            "  7.02491761e-01 3.45505559e-01 1.38310504e-01 8.42709647e-02\n",
            "  9.48414042e-01 8.43709977e-01 6.83003073e-01 9.48379194e-01\n",
            "  5.38785587e-01 6.35013721e-01 3.89591808e-01 5.57699913e-01\n",
            "  8.78739781e-01 4.35635097e-01 5.40154443e-02 6.06261217e-01\n",
            "  7.16222873e-01 3.24353900e-01 9.62068042e-01 9.35975889e-01]\n",
            " [3.70065526e-01 9.64898085e-01 4.73042689e-01 7.19398478e-01\n",
            "  7.87562321e-01 8.83407425e-01 2.22651687e-01 1.30439883e-01\n",
            "  3.20172853e-01 7.71605794e-01 1.97320141e-01 6.34441765e-01\n",
            "  1.27381610e-01 7.06216809e-01 7.63218003e-01 4.85191907e-01\n",
            "  1.42506479e-01 7.71167973e-01 7.56016183e-01 2.10142970e-01\n",
            "  9.28442978e-01 1.11330382e-01 4.53960963e-01 2.51275920e-01\n",
            "  3.97863700e-01 5.58150518e-01 5.45192802e-01 8.38751453e-01\n",
            "  3.61389981e-01 5.39518408e-01 6.00275750e-01 9.50964504e-01\n",
            "  4.34875151e-01 9.79122571e-01 3.73424600e-01 1.93834121e-01\n",
            "  8.82176872e-01 7.06239938e-01 7.37869506e-01 3.73593869e-01\n",
            "  6.09646943e-01 8.09134456e-01 8.07340872e-02 1.82188825e-01\n",
            "  6.75122392e-01 3.30399443e-01 9.14824958e-01 4.42155790e-01\n",
            "  2.39532179e-01 9.32825501e-01 4.37826917e-01 1.49354464e-02\n",
            "  4.04456157e-01 6.14898366e-01 1.29241420e-01 9.02219039e-01\n",
            "  1.94500700e-01 2.31125524e-01 6.19525979e-01 9.33236342e-01\n",
            "  8.48203467e-01 6.51634161e-01 2.26828573e-01 1.70341238e-01\n",
            "  5.96524742e-01 6.86656638e-01 7.21806518e-01 5.48475250e-01\n",
            "  3.98319422e-01 1.88339133e-01 7.46123408e-01 3.21996665e-01\n",
            "  6.53144057e-01 1.69203887e-01 8.03636956e-02 5.07354380e-01\n",
            "  5.34922766e-01 1.84662921e-01 3.49011951e-01 9.51264127e-01\n",
            "  2.56195098e-01 7.33758424e-02 4.58569177e-02 2.26222574e-01\n",
            "  6.60034507e-01 6.63795045e-02 8.31713066e-01 7.15928962e-01\n",
            "  1.22955071e-02 2.24299321e-01 5.21743510e-01 4.27710288e-01\n",
            "  2.68416431e-01 2.10919884e-01 6.52207498e-01 6.56693788e-01\n",
            "  4.33966005e-01 5.64309736e-01 5.36093314e-01 4.87328046e-01]\n",
            " [3.85834951e-01 7.98611098e-01 8.38563713e-01 9.27084854e-01\n",
            "  2.50548780e-01 7.52518187e-01 2.96596713e-01 8.81815621e-02\n",
            "  6.23068091e-01 8.81845445e-01 5.50635072e-01 9.32269369e-01\n",
            "  3.56297876e-01 9.90975652e-01 8.18608505e-01 2.77060559e-01\n",
            "  2.57281698e-01 4.41078218e-01 1.89346986e-01 9.84538430e-01\n",
            "  4.82613516e-01 4.82661367e-01 7.02707234e-01 9.78399677e-02\n",
            "  6.04462646e-01 7.18853422e-01 8.11530957e-01 4.30422456e-01\n",
            "  6.37693477e-01 7.63506505e-01 6.05292598e-01 7.85289598e-02\n",
            "  6.89320950e-01 9.17909308e-01 3.60092447e-01 9.72637614e-01\n",
            "  8.87514141e-01 7.73156123e-01 3.50339909e-02 6.44219490e-02\n",
            "  7.56255159e-01 9.55624817e-01 4.08652687e-01 7.51857062e-01\n",
            "  1.17995750e-01 5.12289222e-01 6.72940339e-01 1.82247683e-01\n",
            "  2.54816616e-01 2.00883830e-01 9.30128489e-01 5.76610607e-01\n",
            "  4.28781147e-01 6.37693380e-01 2.47540856e-01 1.74265785e-01\n",
            "  2.99816874e-01 2.29043353e-01 1.00600502e-01 5.14344819e-01\n",
            "  8.65213311e-01 8.25421849e-01 9.33531001e-01 7.21173017e-01\n",
            "  7.95111022e-01 5.08117704e-01 4.16397248e-03 2.78693701e-01\n",
            "  4.85918474e-01 5.14281888e-02 8.87569567e-01 2.36127625e-01\n",
            "  6.42140875e-02 3.28665386e-01 8.18713554e-01 6.12528415e-02\n",
            "  5.52115671e-01 5.58320849e-01 9.98410553e-01 1.62852788e-01\n",
            "  6.18904591e-01 4.18767206e-01 5.04880862e-01 5.15548159e-01\n",
            "  5.89992104e-01 7.91058291e-01 5.56693236e-01 8.49468246e-01\n",
            "  6.62112564e-01 7.38597193e-02 2.56593553e-01 8.76160561e-01\n",
            "  9.76307883e-01 9.01850489e-01 9.88144977e-01 4.55074353e-01\n",
            "  9.59772204e-01 2.38610626e-01 5.45528525e-01 6.91973933e-02]\n",
            " [3.35395701e-01 2.05743301e-01 7.13521502e-01 2.66350527e-01\n",
            "  3.34255557e-01 8.12370798e-01 4.93996825e-01 4.12585133e-01\n",
            "  3.80158356e-01 1.30228002e-01 9.84825531e-01 6.22861221e-01\n",
            "  1.76568005e-01 1.81485537e-01 1.97116302e-01 8.69469558e-01\n",
            "  7.02460085e-01 9.50317545e-01 2.63042730e-01 8.38351624e-02\n",
            "  8.90066552e-01 5.98608541e-02 9.64917459e-01 2.80386763e-01\n",
            "  4.99675431e-02 1.53244666e-01 6.95637988e-02 7.60112841e-01\n",
            "  4.40434815e-02 7.70725005e-01 9.42486339e-01 7.39627718e-01\n",
            "  8.08448788e-01 1.27699750e-01 7.08407734e-01 2.74677337e-01\n",
            "  7.16409801e-01 2.33848434e-01 6.71177334e-01 9.01420126e-01\n",
            "  7.77935403e-01 6.17209633e-01 7.51015665e-01 8.82773855e-01\n",
            "  8.81521066e-01 3.13277576e-01 8.10726735e-01 5.41968877e-01\n",
            "  6.60411455e-01 1.64628077e-01 5.67430639e-01 3.86936853e-01\n",
            "  6.98052734e-02 6.71843751e-01 2.46690711e-01 7.14732347e-01\n",
            "  2.84230697e-01 3.78047050e-01 6.34254014e-01 6.80449961e-01\n",
            "  2.27035612e-01 2.55582204e-01 2.83725897e-01 3.43895660e-01\n",
            "  2.37653906e-01 3.03715498e-01 8.59389008e-01 9.21050563e-01\n",
            "  1.41103739e-01 9.22351231e-01 1.89481340e-02 1.50178109e-01\n",
            "  5.58242843e-01 2.39101800e-01 3.22259326e-01 9.52444600e-01\n",
            "  8.08942836e-01 4.16169093e-01 7.70103398e-01 9.54320098e-01\n",
            "  1.68242837e-01 9.92836561e-01 1.54737072e-01 5.14667737e-01\n",
            "  2.86008803e-01 7.12843625e-01 2.96045971e-01 2.75483774e-01\n",
            "  1.88866827e-01 9.36800370e-01 1.23749540e-01 3.09735563e-01\n",
            "  3.14244583e-01 9.46276329e-01 5.24305557e-01 5.74571453e-01\n",
            "  9.81708430e-01 7.55168689e-01 6.97034372e-03 5.47405767e-01]\n",
            " [9.78813430e-01 2.44888082e-01 2.45451509e-01 9.25269555e-01\n",
            "  2.12894430e-01 9.54918193e-02 1.94749809e-01 9.49136312e-01\n",
            "  5.03332196e-01 4.05543205e-01 1.55781435e-01 8.08103437e-02\n",
            "  3.72163015e-01 2.82697509e-01 3.86060175e-01 1.56194741e-01\n",
            "  9.02471623e-01 1.90660062e-02 3.71916812e-01 7.77765920e-01\n",
            "  2.30342327e-01 5.85454068e-02 3.44323305e-01 8.62223048e-01\n",
            "  3.21453195e-01 3.10658147e-01 7.50609550e-01 4.10019260e-01\n",
            "  8.66939578e-01 3.09157203e-01 7.86000952e-01 6.91618586e-01\n",
            "  4.70245291e-01 8.02586083e-01 9.27285168e-01 3.74193452e-01\n",
            "  2.99937768e-01 2.82726556e-02 8.46412570e-01 2.83822437e-01\n",
            "  3.64304175e-01 1.21086572e-01 9.64908547e-01 4.02904061e-02\n",
            "  5.14122452e-01 1.16235832e-01 2.10211489e-01 4.78236884e-01\n",
            "  1.25148919e-01 3.64134633e-01 9.11854186e-01 4.20206302e-01\n",
            "  3.25328142e-01 3.11458637e-01 7.33938311e-01 9.46454039e-01\n",
            "  6.17075104e-01 7.43954562e-01 1.29293980e-01 9.95511095e-01\n",
            "  3.54963779e-01 3.90833374e-01 2.95072553e-01 4.15329566e-01\n",
            "  9.53175864e-01 9.05172135e-01 6.54568006e-01 1.72748442e-01\n",
            "  9.82787506e-01 9.25144327e-02 3.38479275e-01 1.04909330e-01\n",
            "  9.14056212e-01 2.53862354e-01 3.70884591e-01 5.13151297e-01\n",
            "  2.79332672e-01 3.48459943e-01 4.17976386e-01 8.14751691e-01\n",
            "  8.46179268e-01 2.81001323e-01 1.06984654e-01 5.10219989e-01\n",
            "  5.55688617e-01 3.28138383e-01 6.28415055e-01 5.93707114e-01\n",
            "  3.27964256e-01 2.32729891e-02 1.94774525e-01 9.78985103e-01\n",
            "  9.48145524e-01 7.05102909e-01 5.40814727e-01 2.58108003e-02\n",
            "  9.12649876e-02 4.99984906e-01 6.65750812e-01 9.52813815e-01]\n",
            " [3.97685484e-01 8.19623433e-01 2.25297390e-01 3.64484798e-01\n",
            "  4.69068111e-01 8.79968525e-01 8.41889578e-01 8.85500142e-01\n",
            "  1.47413308e-01 4.91204627e-01 4.14037047e-01 9.02953075e-01\n",
            "  3.52549954e-02 8.98702374e-01 8.90866461e-03 7.48065722e-01\n",
            "  8.87904402e-01 6.56674770e-01 6.78337513e-01 1.17918921e-01\n",
            "  7.24554674e-01 3.46756947e-01 5.41111976e-01 9.35978242e-01\n",
            "  3.89092066e-01 3.45423599e-01 6.18942119e-01 6.91834973e-01\n",
            "  5.45587300e-03 9.50831786e-01 6.40765074e-01 9.09600257e-01\n",
            "  5.59027951e-01 6.41315099e-01 8.90703993e-01 1.21129229e-01\n",
            "  2.16301640e-01 1.11206036e-01 9.67526188e-01 7.95647312e-01\n",
            "  4.75203203e-01 1.48849782e-01 5.17469621e-02 4.48535984e-01\n",
            "  5.24005554e-01 2.72202877e-01 7.01107220e-01 1.42132623e-01\n",
            "  4.95964239e-01 9.32169330e-01 8.93915514e-01 4.35864453e-01\n",
            "  6.44881362e-01 6.97994061e-01 5.84824278e-01 5.28703159e-01\n",
            "  1.26822413e-01 9.28617202e-01 1.15416499e-01 8.35746857e-01\n",
            "  1.18103731e-01 4.05348641e-01 3.24393520e-01 4.84393059e-01\n",
            "  5.69830745e-01 2.51395780e-01 5.83968163e-01 3.33453531e-01\n",
            "  9.77605831e-01 2.86854350e-01 2.31069733e-01 2.46761287e-01\n",
            "  6.51647399e-01 4.56102330e-01 8.58641494e-02 1.58678161e-01\n",
            "  3.53390515e-01 1.04435193e-01 2.21890666e-01 5.93470764e-01\n",
            "  9.27324730e-01 9.23457822e-01 3.64610908e-01 9.10542595e-01\n",
            "  9.44647830e-01 1.83298938e-01 2.11075221e-01 9.61492726e-03\n",
            "  6.21030001e-01 8.65013084e-01 3.97736039e-01 9.70313000e-01\n",
            "  3.93089419e-01 2.84496062e-01 7.43672410e-01 7.83077528e-01\n",
            "  7.42978999e-02 6.23903854e-01 4.80581635e-02 1.36381093e-01]\n",
            " [3.47032311e-01 6.72337220e-01 4.21419036e-01 1.61256408e-01\n",
            "  4.06085699e-01 2.89212670e-01 9.16953443e-01 4.72351870e-01\n",
            "  8.35777339e-02 1.60597386e-01 8.89187641e-01 2.81448475e-01\n",
            "  6.99821764e-01 8.87773153e-01 6.51549631e-01 2.92211683e-01\n",
            "  4.77074626e-01 8.13013799e-01 2.05469963e-02 7.24916630e-01\n",
            "  2.08957214e-01 5.27836324e-01 1.88350636e-01 8.57112246e-01\n",
            "  1.86954511e-01 8.28715375e-02 8.96838735e-01 7.78774995e-01\n",
            "  8.37885322e-02 7.76555713e-01 8.08622597e-01 2.01782075e-01\n",
            "  3.93389672e-01 6.68526268e-01 1.38661324e-01 3.56306406e-01\n",
            "  5.88470726e-01 2.61049557e-01 2.54247258e-01 5.96457116e-01\n",
            "  2.83834138e-01 6.08060588e-01 6.72229196e-01 2.09469156e-01\n",
            "  9.19111038e-01 4.51853384e-01 5.52938552e-01 2.28178154e-01\n",
            "  4.45406095e-01 5.80979473e-01 3.99849030e-01 8.09680600e-01\n",
            "  9.06497384e-01 5.74146233e-01 2.55364116e-01 7.84808733e-02\n",
            "  4.90036925e-01 2.30070382e-01 4.14533480e-01 9.06667129e-01\n",
            "  3.77310149e-01 2.74520787e-01 4.90723653e-01 1.35660729e-01\n",
            "  6.24860217e-01 1.30158390e-01 2.22082333e-01 1.16014267e-01\n",
            "  6.83046290e-01 5.46284910e-02 7.01688177e-01 1.04809342e-01\n",
            "  3.25595727e-01 8.90830219e-01 3.87709435e-02 3.16990455e-01\n",
            "  5.11417342e-01 4.63184127e-01 5.21141629e-01 3.79564104e-01\n",
            "  8.08047658e-01 2.85508191e-01 5.21337094e-01 5.36956715e-01\n",
            "  5.86184232e-01 6.10778194e-01 4.26535883e-01 6.04602487e-01\n",
            "  6.03319504e-01 9.16954215e-02 8.22582623e-01 8.07647516e-01\n",
            "  1.22344170e-01 9.36055729e-01 2.11440211e-01 4.44450015e-01\n",
            "  3.34651290e-01 3.92937832e-02 8.70635792e-01 5.90991836e-01]\n",
            " [3.97985558e-01 6.72024969e-01 2.41551807e-01 5.34352931e-01\n",
            "  1.85423176e-01 3.20831440e-02 2.77169952e-01 1.46805646e-01\n",
            "  2.98686062e-02 1.99413884e-01 6.72659442e-01 1.69224375e-02\n",
            "  6.00765637e-01 7.49467821e-01 9.35147544e-02 4.79419306e-01\n",
            "  9.01397404e-01 4.81094738e-01 2.82098285e-01 5.59401658e-01\n",
            "  9.45967308e-01 3.21139035e-01 8.10317198e-01 7.89622338e-01\n",
            "  7.14794447e-01 1.32311655e-02 8.55511670e-01 5.05961477e-01\n",
            "  7.66225890e-01 9.48871904e-01 9.61158641e-01 8.00068987e-01\n",
            "  6.85904262e-01 1.17359435e-01 6.79536594e-01 6.96858939e-01\n",
            "  9.41207900e-01 6.95387376e-01 4.60448779e-01 1.55847624e-01\n",
            "  6.56845250e-01 4.20387966e-01 3.40341862e-01 1.53123832e-01\n",
            "  7.16329171e-01 2.88864528e-02 6.56937403e-02 7.73199376e-01\n",
            "  2.18574453e-01 2.84268638e-01 3.18914865e-01 4.13167375e-01\n",
            "  6.56909589e-01 8.93075497e-01 7.64836389e-01 1.34078171e-01\n",
            "  9.07269722e-01 7.61811186e-01 7.26678750e-01 1.79875456e-01\n",
            "  1.20472856e-02 1.10463501e-01 9.93813775e-01 7.86302558e-01\n",
            "  8.29129092e-01 3.03620636e-01 9.65532912e-01 9.63533586e-01\n",
            "  2.92528885e-02 6.67058763e-01 3.59745705e-01 1.79395738e-01\n",
            "  3.99400715e-01 3.54338385e-01 5.71446133e-01 4.24961659e-02\n",
            "  5.93675345e-01 1.90639205e-01 9.01849601e-01 6.02996923e-01\n",
            "  2.73858387e-01 3.03752806e-01 7.91873588e-01 1.92239667e-01\n",
            "  5.17841254e-02 7.31865537e-01 7.23987991e-01 4.93510588e-01\n",
            "  4.36237654e-01 9.01769069e-01 5.80505165e-01 3.34373780e-01\n",
            "  8.55304464e-01 6.70345909e-01 2.71590660e-02 9.79322478e-01\n",
            "  4.31929652e-01 3.90595851e-01 6.62684982e-01 7.20889276e-01]\n",
            " [7.02124645e-01 4.45230239e-01 5.65811338e-01 1.90480393e-01\n",
            "  7.30308693e-01 6.70153183e-01 9.54360065e-02 3.21392825e-01\n",
            "  1.15246266e-01 1.49657090e-01 8.84060544e-01 6.71940759e-01\n",
            "  5.23612652e-01 3.89830224e-01 4.83220872e-01 6.16186796e-01\n",
            "  3.35895496e-01 6.29921266e-02 3.02555945e-01 3.32493311e-01\n",
            "  5.41736747e-02 5.58732376e-01 1.59196162e-01 8.90912994e-01\n",
            "  9.30130982e-01 9.88832763e-01 9.32201111e-01 8.31684506e-01\n",
            "  4.48966969e-01 3.26426572e-01 4.25859140e-01 3.35855838e-01\n",
            "  5.09335834e-01 8.55745944e-01 8.49543291e-01 2.18385062e-01\n",
            "  3.01965292e-01 5.30873865e-01 5.66852046e-01 8.05610910e-01\n",
            "  5.26117683e-03 7.93588697e-01 4.27704875e-01 7.80888408e-01\n",
            "  4.90810040e-01 7.40475873e-01 7.32832030e-01 3.39299082e-02\n",
            "  7.15284954e-01 9.87726947e-02 6.98943772e-01 2.13281829e-01\n",
            "  6.25922083e-01 5.95377980e-01 9.99589193e-01 9.50730599e-01\n",
            "  7.77737226e-01 5.01410780e-01 9.30950569e-02 2.87482046e-01\n",
            "  3.18695643e-02 9.73717360e-01 5.88020178e-01 8.76177851e-01\n",
            "  4.61529288e-01 2.16466076e-01 9.64905741e-01 8.77228517e-01\n",
            "  8.56052559e-01 7.43801980e-01 5.69455273e-01 5.10504186e-01\n",
            "  3.12803880e-01 4.56191092e-01 7.18932789e-01 7.14639937e-01\n",
            "  7.44567729e-01 4.35412679e-01 1.05818036e-01 3.50538335e-01\n",
            "  5.39763388e-02 6.90773293e-01 4.49558937e-01 8.40358740e-01\n",
            "  7.16728098e-01 7.02440132e-01 8.33356995e-01 8.78353435e-01\n",
            "  4.63435603e-01 3.72677537e-02 2.49515106e-01 7.84279646e-01\n",
            "  8.35714657e-01 6.32647335e-01 7.61063282e-01 4.87707500e-01\n",
            "  3.55666834e-02 5.60044598e-01 9.15827424e-01 9.64150926e-01]\n",
            " [2.14966863e-01 1.70213268e-01 4.70824044e-01 7.46498207e-01\n",
            "  7.54139676e-01 1.32866165e-01 7.91151086e-02 3.35088902e-01\n",
            "  8.05012472e-01 9.43473887e-02 1.25163253e-01 9.19708029e-01\n",
            "  1.95828704e-01 2.46474892e-01 8.47456587e-01 6.37054438e-01\n",
            "  7.35738240e-01 8.70457456e-01 4.18656481e-02 8.25998851e-01\n",
            "  9.84626242e-01 1.22021563e-01 4.20793373e-01 1.95055091e-01\n",
            "  1.92418360e-01 6.41173415e-01 3.03381610e-02 5.15741427e-01\n",
            "  7.17101199e-01 4.40334220e-01 5.27889484e-01 9.18503066e-01\n",
            "  6.95253184e-01 9.25690569e-01 5.63257204e-01 8.38774951e-01\n",
            "  5.06321216e-01 9.32829813e-01 2.27842732e-02 8.09941924e-01\n",
            "  5.42507623e-01 1.00715360e-01 5.31502356e-01 1.02052676e-01\n",
            "  4.35556109e-01 5.69168211e-01 2.89387043e-01 8.42286953e-01\n",
            "  8.40012070e-01 1.89500845e-01 2.32427798e-02 3.94816006e-01\n",
            "  5.25365695e-02 2.82705290e-01 9.67178322e-01 7.18343927e-01\n",
            "  4.02306912e-01 1.14797309e-01 3.93716963e-01 7.48150825e-01\n",
            "  6.31015308e-01 7.45671570e-01 7.03918909e-01 5.50047039e-01\n",
            "  5.97602225e-01 5.12525661e-01 3.66446285e-01 3.19399274e-01\n",
            "  1.67891858e-01 2.72172745e-01 9.52017180e-01 3.81779077e-02\n",
            "  5.48038315e-01 5.11493649e-01 3.82488369e-01 3.86643745e-01\n",
            "  7.61734927e-01 7.35846977e-02 1.81182801e-02 9.98081061e-01\n",
            "  6.32632750e-01 1.68947352e-02 9.99388453e-01 8.86833338e-01\n",
            "  5.74858810e-01 1.85210782e-01 9.55383399e-01 6.03772868e-01\n",
            "  2.09379129e-01 3.11627558e-02 1.59500201e-01 2.15121823e-01\n",
            "  5.10233929e-01 3.73407668e-01 5.17450495e-01 9.08293546e-01\n",
            "  8.31057029e-01 4.78873950e-01 5.65018424e-01 6.76291140e-01]\n",
            " [2.95142988e-01 6.54031143e-01 6.93096101e-01 6.11239030e-01\n",
            "  2.98385987e-01 4.92925285e-01 3.46441425e-02 9.48182330e-01\n",
            "  2.12456280e-01 3.49156967e-02 9.94234263e-01 6.39674432e-01\n",
            "  3.63975191e-01 1.21527584e-01 7.99147796e-01 5.18023366e-01\n",
            "  8.30732251e-01 9.72767068e-01 4.18018633e-01 5.12622246e-01\n",
            "  2.72469677e-01 9.06039568e-01 4.35839374e-01 1.42543828e-01\n",
            "  5.50590792e-01 1.38166661e-02 3.86264849e-01 4.33359442e-02\n",
            "  4.32053772e-02 1.32066979e-01 1.54581344e-01 7.39358102e-02\n",
            "  8.63763463e-01 9.96008367e-03 5.60314531e-01 3.13413182e-01\n",
            "  8.56776839e-01 4.40517683e-01 8.16488232e-01 4.23923515e-01\n",
            "  4.48327344e-01 4.17943984e-01 8.20049783e-01 4.03371567e-02\n",
            "  9.26030337e-01 7.92851702e-01 9.40206401e-01 1.82027836e-01\n",
            "  6.35181741e-01 2.42358078e-01 1.55788411e-01 2.86110181e-01\n",
            "  5.73188813e-01 5.98231059e-01 6.72381518e-01 9.70252847e-01\n",
            "  1.21294391e-01 7.21013534e-01 8.90493292e-01 7.65719758e-01\n",
            "  5.54229468e-02 9.25697000e-01 7.48040850e-01 2.71465965e-01\n",
            "  4.60201958e-01 1.02525353e-01 7.34745672e-01 7.66885638e-01\n",
            "  7.84329503e-01 8.77809314e-02 2.38244517e-02 1.43590743e-01\n",
            "  8.86496459e-01 5.02841150e-01 1.07872326e-01 4.80051681e-01\n",
            "  9.69833291e-01 9.39937173e-01 8.80499249e-03 3.88529301e-01\n",
            "  9.20814523e-01 1.09335349e-01 3.21548822e-01 7.90152863e-01\n",
            "  6.20480684e-01 5.68223184e-02 5.90706983e-01 3.15648408e-01\n",
            "  8.16067519e-01 6.61789484e-01 9.80975038e-01 1.55680958e-01\n",
            "  5.48098168e-01 8.89331266e-01 9.53892029e-01 4.89999083e-01\n",
            "  4.84271609e-02 3.38007084e-01 4.58972007e-01 7.55703255e-01]\n",
            " [6.59071446e-01 2.51994519e-01 6.88432022e-01 8.76493823e-01\n",
            "  5.53175635e-01 8.17426311e-01 1.05767348e-01 9.20347554e-02\n",
            "  7.13633426e-01 2.53616183e-01 8.31255300e-02 3.53554475e-01\n",
            "  6.03200347e-01 3.23459018e-01 7.73616778e-01 1.19293459e-01\n",
            "  7.99171269e-01 8.58057314e-01 2.77760318e-01 3.65872887e-01\n",
            "  4.43586896e-02 3.16393204e-02 8.18760971e-02 7.76152184e-01\n",
            "  2.73109896e-01 8.47200454e-01 7.86318932e-01 8.32455974e-01\n",
            "  6.82682747e-01 2.06969572e-01 9.49493468e-01 9.12176800e-01\n",
            "  1.68018205e-01 7.76695787e-01 4.63268916e-01 6.24337294e-01\n",
            "  2.78364706e-01 1.39237522e-01 1.99494948e-01 8.66716088e-01\n",
            "  6.54161670e-01 7.10278410e-01 1.50313487e-01 3.65379155e-01\n",
            "  5.79320840e-01 3.50063227e-01 7.99288108e-01 5.53350051e-01\n",
            "  4.61988740e-02 3.15055083e-02 4.61264090e-01 8.40463289e-01\n",
            "  2.00548220e-01 8.95496966e-01 8.22228307e-01 7.37475049e-01\n",
            "  4.14477094e-01 9.78662046e-01 4.99750267e-01 4.54122085e-01\n",
            "  6.15584180e-01 1.59554938e-01 3.55166254e-01 1.77999496e-01\n",
            "  1.80428714e-01 6.71998068e-01 2.08254551e-01 2.01109829e-01\n",
            "  5.23832228e-02 7.75249081e-01 2.49125956e-02 5.86530345e-01\n",
            "  9.26676516e-01 8.12763661e-01 8.23237211e-01 1.32569714e-01\n",
            "  3.70198476e-01 7.74827508e-02 9.04664973e-01 6.26749856e-01\n",
            "  1.92281734e-01 9.00181612e-01 8.96218874e-01 7.63545973e-01\n",
            "  5.37387919e-01 8.49100216e-03 1.35813754e-01 7.18408722e-01\n",
            "  1.71079898e-01 8.79747995e-01 6.43348069e-01 6.16297589e-01\n",
            "  5.71567336e-01 5.02041296e-02 3.43818991e-01 1.87781123e-01\n",
            "  4.99193031e-01 8.92617790e-02 3.56419750e-02 2.75237434e-01]\n",
            " [7.75782104e-01 7.29499966e-01 3.88594657e-01 6.87233214e-01\n",
            "  4.23562467e-02 2.10483486e-01 3.73501741e-01 5.67984340e-01\n",
            "  7.74924085e-01 4.72400923e-01 5.95647360e-01 6.33371091e-01\n",
            "  8.97406328e-02 7.84044229e-01 2.32161111e-01 4.89615494e-01\n",
            "  6.15356989e-01 1.28686072e-01 1.99601896e-01 1.78434341e-01\n",
            "  4.29999534e-01 8.13771872e-01 9.37420753e-01 1.19518918e-02\n",
            "  4.57514561e-01 8.51770385e-01 1.59000488e-01 7.69074327e-01\n",
            "  2.19497701e-01 8.27071681e-01 9.42281774e-01 6.63309655e-01\n",
            "  7.84314737e-01 5.34419403e-01 5.24335831e-01 1.81848820e-01\n",
            "  7.83848127e-01 3.28795032e-01 4.67495464e-01 5.01182187e-01\n",
            "  1.08185322e-01 4.43549655e-01 5.58965842e-01 9.87538299e-01\n",
            "  5.05695600e-01 1.02785244e-01 8.13935803e-01 2.88716887e-01\n",
            "  4.49990941e-01 9.81006681e-01 6.77467873e-01 4.64541673e-01\n",
            "  6.99139926e-03 8.78999003e-01 8.91885363e-01 3.65037252e-02\n",
            "  5.63815060e-01 7.31350321e-01 9.91027625e-01 5.68978938e-01\n",
            "  4.08522666e-01 3.89890029e-02 9.84874341e-01 3.28679095e-01\n",
            "  8.87399539e-01 6.72016583e-01 4.72640569e-01 2.39794089e-01\n",
            "  9.74745238e-01 6.94943821e-01 5.82295367e-01 3.63878823e-01\n",
            "  3.21531829e-01 9.66032253e-01 7.84459621e-01 2.56842191e-01\n",
            "  3.98741816e-01 2.16036892e-02 1.78963073e-01 8.90361853e-01\n",
            "  8.21443153e-01 8.33549781e-01 1.62010417e-02 2.18416585e-01\n",
            "  6.07214972e-01 5.79339536e-01 4.22994784e-01 5.52045999e-01\n",
            "  2.32456962e-01 3.54517105e-01 3.75821908e-01 6.98026781e-01\n",
            "  4.19282750e-02 1.25134722e-02 7.71301877e-02 9.87516083e-01\n",
            "  9.63127120e-01 9.48197018e-01 7.51677733e-01 2.63595770e-01]\n",
            " [4.61431302e-01 3.08950467e-01 8.02977375e-02 4.80462269e-02\n",
            "  5.71135855e-01 5.75399715e-01 3.27841264e-02 8.67481437e-01\n",
            "  5.66622235e-01 9.09654858e-01 9.18551716e-01 9.92065719e-01\n",
            "  1.21200009e-01 3.43075413e-01 7.71698927e-01 6.34334242e-01\n",
            "  8.46543894e-02 8.77515465e-01 3.79092292e-01 3.70958507e-01\n",
            "  3.27366188e-01 6.30679101e-01 3.31288819e-01 3.95120943e-01\n",
            "  8.85654253e-01 6.11603054e-01 3.20745806e-01 4.50502916e-01\n",
            "  8.02542740e-01 3.01374310e-01 4.35277816e-01 6.45240624e-01\n",
            "  5.27311992e-01 1.81233758e-01 5.10971043e-01 5.41542845e-01\n",
            "  7.07394953e-01 8.39950120e-01 5.82705004e-01 8.52492137e-01\n",
            "  8.54984565e-01 2.51479300e-01 6.58783595e-01 6.83755800e-01\n",
            "  8.43547644e-01 1.79921259e-02 2.53264497e-01 6.53172049e-01\n",
            "  4.10966837e-01 9.95606833e-01 9.20048090e-01 4.41625453e-01\n",
            "  9.74570601e-01 9.47986178e-01 6.98982321e-01 1.98467253e-01\n",
            "  4.69324142e-01 3.26522841e-02 1.57647952e-01 6.73622646e-01\n",
            "  7.28619205e-02 2.58528333e-01 8.26148228e-01 9.83509141e-01\n",
            "  1.70916526e-01 4.73254221e-01 7.83158684e-01 5.58967087e-01\n",
            "  2.46618606e-01 6.38444202e-01 3.35935946e-01 6.63593342e-01\n",
            "  2.41151534e-01 7.93250044e-01 1.92095765e-01 8.68810073e-01\n",
            "  1.72006488e-01 7.65411946e-01 8.22527543e-01 9.32546776e-01\n",
            "  8.32539428e-02 3.90736424e-01 2.43642696e-01 7.82610177e-01\n",
            "  2.32611237e-01 3.79548345e-01 7.85624149e-01 9.71097131e-01\n",
            "  5.83925499e-02 8.67935779e-01 4.78941131e-02 9.73907073e-01\n",
            "  7.71726190e-01 7.48570474e-01 1.84070874e-01 3.11992269e-01\n",
            "  1.48822733e-01 9.22342295e-01 8.09838900e-01 3.94242625e-01]\n",
            " [2.30427111e-01 3.73801454e-01 2.58778105e-01 6.44132791e-02\n",
            "  3.60371673e-01 3.13835143e-01 2.32199547e-01 1.86756733e-01\n",
            "  4.51392992e-03 7.31382857e-02 3.47156422e-01 8.35843032e-01\n",
            "  9.85970506e-01 5.98547528e-01 8.52883442e-01 3.42134529e-01\n",
            "  8.70537899e-01 4.21049580e-01 9.97941410e-01 2.77353977e-01\n",
            "  8.08195085e-01 6.49988067e-01 2.42437872e-01 2.70658320e-01\n",
            "  3.98932305e-01 2.19045594e-01 4.83733642e-01 3.88358967e-01\n",
            "  6.42324241e-01 9.09299273e-01 9.89901714e-01 9.25614381e-01\n",
            "  3.43575588e-01 4.68927496e-01 6.20134942e-01 7.15422098e-01\n",
            "  3.90322711e-01 6.89340247e-01 2.04199010e-01 1.36553535e-01\n",
            "  1.29397812e-01 7.88811470e-01 7.56081000e-01 6.31161329e-01\n",
            "  6.13455098e-01 2.68148220e-01 9.34338887e-01 4.56851054e-01\n",
            "  9.24142672e-01 5.24318314e-01 3.25253742e-01 3.53392179e-01\n",
            "  8.17820978e-01 4.21039168e-02 5.48147634e-01 1.49001117e-01\n",
            "  6.51342470e-01 9.10291215e-01 1.85974142e-01 2.04356291e-02\n",
            "  7.03948924e-01 7.02360454e-02 6.98057964e-01 6.72349619e-02\n",
            "  3.24433734e-01 4.85477720e-01 7.54538990e-01 9.19941637e-01\n",
            "  7.82774301e-01 4.80601148e-01 8.07264990e-01 4.86256020e-01\n",
            "  7.62864171e-01 9.42089079e-01 4.59616330e-01 9.81279725e-01\n",
            "  3.26101008e-01 7.93881973e-01 8.86182659e-01 1.84498293e-01\n",
            "  5.23667983e-01 4.78572455e-01 3.40931615e-01 4.20542539e-01\n",
            "  5.30272054e-01 5.47800965e-01 4.18970760e-01 5.39294445e-01\n",
            "  6.79882324e-01 3.83390181e-01 2.71245420e-01 3.19423060e-01\n",
            "  1.11721356e-01 3.10039886e-01 7.94041171e-01 3.53667013e-01\n",
            "  6.90684579e-01 7.79513733e-01 4.43856639e-01 3.77836189e-01]\n",
            " [7.83861783e-01 4.38096522e-01 7.50617002e-01 9.03305539e-01\n",
            "  8.14804140e-01 9.15578848e-01 7.28277804e-01 6.56453154e-01\n",
            "  3.00910686e-01 6.03340737e-01 1.89426562e-01 3.07670037e-01\n",
            "  9.24775301e-01 1.91511941e-01 2.57816131e-01 3.17703319e-01\n",
            "  8.70587733e-01 5.37128433e-01 7.37593673e-01 7.23550089e-01\n",
            "  9.04566028e-01 4.63617945e-01 5.71375518e-01 3.42556479e-01\n",
            "  8.09379804e-01 6.99585447e-01 5.03418693e-01 6.12574364e-01\n",
            "  5.04663783e-01 5.11948307e-02 3.45818170e-01 5.03753219e-01\n",
            "  5.97033828e-01 1.16953053e-01 4.49474534e-01 6.23680494e-01\n",
            "  2.67424611e-01 3.26018591e-01 8.42230040e-01 8.52471941e-01\n",
            "  9.60852772e-01 1.48979959e-01 7.03286724e-01 3.27463440e-01\n",
            "  5.92311485e-01 3.20133015e-01 3.69280440e-01 4.28307614e-01\n",
            "  3.94136996e-01 1.77979560e-01 7.91526544e-02 8.20515165e-01\n",
            "  6.40391832e-01 9.73222896e-01 4.96412791e-01 6.60810966e-01\n",
            "  2.03682826e-01 9.76579296e-01 4.91008087e-01 6.66568085e-01\n",
            "  8.15555849e-01 3.97660490e-01 4.71748164e-01 6.80697477e-01\n",
            "  3.82901952e-01 3.47578345e-01 9.61062706e-01 4.54266817e-01\n",
            "  8.39448910e-01 6.16345493e-01 4.24524864e-01 4.90865086e-01\n",
            "  4.41455157e-01 2.32641090e-02 7.59105567e-02 3.82009315e-01\n",
            "  3.70684204e-03 6.90452281e-01 3.26935364e-01 9.39342583e-01\n",
            "  7.79017332e-01 2.31419372e-01 5.10532180e-01 1.31414901e-01\n",
            "  6.90876052e-01 1.83823993e-01 4.15459772e-01 2.87488551e-01\n",
            "  5.20735452e-01 5.47399735e-01 5.01938125e-01 7.45593484e-01\n",
            "  3.78302832e-01 3.38152386e-01 5.17294880e-01 6.12483821e-02\n",
            "  3.70345755e-01 6.53471205e-01 6.08876113e-01 4.35544277e-01]\n",
            " [8.83524892e-01 6.42085363e-02 8.15094873e-01 6.18498595e-01\n",
            "  3.13440413e-01 3.44027254e-01 9.35620269e-01 4.11309433e-01\n",
            "  2.70392224e-01 3.90542219e-01 7.64660371e-01 8.69729444e-02\n",
            "  2.36091900e-01 6.96548075e-01 8.56683233e-01 7.88490694e-01\n",
            "  4.69009495e-01 9.53453143e-01 4.46574539e-01 5.71361853e-01\n",
            "  4.85831224e-01 2.21028779e-02 7.79756409e-01 6.07181158e-02\n",
            "  7.20766536e-01 1.99174593e-01 3.59161072e-02 6.71385399e-01\n",
            "  9.71265712e-01 1.01627504e-01 9.33003359e-01 6.32909349e-01\n",
            "  7.80939945e-02 2.27054567e-01 6.01521256e-01 2.20047689e-01\n",
            "  3.49673103e-01 1.78990054e-01 3.08283507e-01 7.62477002e-01\n",
            "  4.50112151e-01 3.96425893e-01 7.62116305e-01 6.24900534e-01\n",
            "  4.27679484e-01 7.71362502e-01 6.73006241e-01 7.43697197e-01\n",
            "  8.07502906e-01 6.17860292e-01 5.89475804e-01 6.32070991e-01\n",
            "  4.25895895e-01 1.29280573e-01 3.85774628e-01 6.08035089e-02\n",
            "  3.75905741e-01 3.68705204e-01 3.87863381e-01 1.63329602e-01\n",
            "  9.22846510e-01 2.31641368e-01 3.23030341e-01 7.97866229e-01\n",
            "  9.80736786e-03 4.27163153e-01 1.11897721e-01 5.18829646e-01\n",
            "  3.22614924e-01 9.28781088e-01 3.52298357e-01 7.57392683e-01\n",
            "  5.82007322e-01 4.55544684e-01 5.64780564e-01 1.85535835e-01\n",
            "  6.57280485e-01 1.83305309e-01 6.81653047e-01 5.61091602e-01\n",
            "  6.91069599e-01 7.61607441e-01 1.57648282e-02 7.16750187e-01\n",
            "  3.09886452e-01 8.05229935e-01 2.92117671e-01 9.66404800e-01\n",
            "  6.08025402e-01 6.38762482e-01 4.46246901e-01 2.41602737e-01\n",
            "  5.96393624e-01 2.35318360e-01 2.79616785e-02 2.94873474e-01\n",
            "  6.06641548e-01 9.13578783e-01 2.05542387e-01 6.99217930e-01]\n",
            " [8.45451533e-01 6.24866930e-01 7.95044450e-01 9.89163559e-01\n",
            "  9.61137115e-01 6.91220090e-01 7.87936208e-01 9.24684886e-02\n",
            "  2.49231235e-01 4.44453531e-01 5.22820204e-01 9.37825927e-01\n",
            "  6.19376869e-01 9.04801939e-01 3.80453570e-01 3.60377122e-01\n",
            "  1.87770862e-01 3.44623706e-01 9.81684882e-01 8.90686213e-01\n",
            "  1.43153925e-01 8.37524990e-01 6.01297631e-01 4.89619100e-01\n",
            "  9.29565490e-01 2.87664120e-01 4.79406581e-01 5.54249813e-01\n",
            "  3.57344267e-01 1.07329120e-01 9.27955152e-01 5.96664266e-01\n",
            "  4.87410691e-01 5.00206466e-01 6.38892935e-02 2.61215182e-01\n",
            "  3.50002219e-01 7.92999889e-01 3.71206661e-01 9.31923752e-01\n",
            "  3.47076747e-01 4.78403750e-01 7.05945387e-02 8.09456627e-01\n",
            "  6.24558924e-01 4.60193394e-01 9.77877836e-01 1.59350894e-01\n",
            "  9.62411581e-01 8.95155688e-01 3.47811739e-01 2.74683771e-01\n",
            "  4.34410974e-01 2.48967943e-02 3.64925793e-01 8.73312407e-01\n",
            "  6.16655308e-01 5.70462188e-01 7.14658151e-01 7.46563867e-01\n",
            "  4.35069433e-01 5.73767193e-01 1.84805868e-01 8.65497637e-01\n",
            "  1.77575100e-02 9.82860631e-01 3.83821654e-01 6.19146513e-01\n",
            "  5.31578109e-01 6.89046852e-01 1.24633739e-01 9.64059329e-01\n",
            "  2.03000981e-01 5.01819470e-02 9.34632078e-01 4.87024788e-01\n",
            "  8.87187835e-01 6.88206846e-01 8.54320754e-02 6.83375601e-01\n",
            "  3.44680082e-01 4.26949843e-02 4.73447887e-02 9.66313877e-01\n",
            "  4.01578471e-01 4.63586941e-01 3.92204599e-01 7.12214317e-01\n",
            "  6.95738804e-01 3.20422934e-01 8.72394766e-01 1.44686402e-01\n",
            "  2.31237294e-01 4.38155240e-01 8.81150180e-03 7.08270540e-01\n",
            "  9.98722844e-01 7.56258645e-01 7.63900610e-01 4.92999949e-01]\n",
            " [9.44110017e-01 2.57305761e-02 6.34187764e-02 4.58057120e-02\n",
            "  8.52791156e-02 7.56286133e-03 8.12140423e-01 2.21996764e-01\n",
            "  7.57967726e-01 9.70326308e-02 6.33232077e-01 7.52165918e-01\n",
            "  3.16121022e-01 2.41879557e-01 1.88616763e-01 2.07653860e-01\n",
            "  9.00736210e-01 8.24023064e-01 6.91752321e-01 3.07056217e-01\n",
            "  6.41024978e-01 3.51968777e-01 7.30689708e-01 7.11710608e-01\n",
            "  1.99640336e-01 5.54853870e-01 7.89734104e-01 9.83379604e-01\n",
            "  2.63117659e-01 9.66379471e-01 4.55205007e-01 5.97259939e-01\n",
            "  6.04020444e-01 4.69965129e-01 8.73032046e-01 9.80191067e-01\n",
            "  3.41180109e-01 2.99870066e-01 3.58105400e-01 4.43882978e-01\n",
            "  7.00481611e-02 4.72522337e-01 2.20344739e-01 9.07394213e-01\n",
            "  9.36063715e-01 3.91224139e-01 6.85025607e-02 5.97324303e-02\n",
            "  7.11099001e-01 8.89778516e-01 9.13301045e-01 3.29786199e-01\n",
            "  4.12315237e-01 4.35795641e-04 1.55715853e-01 6.31613043e-01\n",
            "  2.82282486e-01 6.65011399e-01 1.00780727e-01 2.66422087e-01\n",
            "  1.03729936e-01 4.74838393e-01 8.84720681e-02 2.03016359e-01\n",
            "  8.57450710e-01 2.68344323e-01 6.19894939e-01 9.68890501e-01\n",
            "  7.56695438e-01 6.84308068e-01 7.02247063e-01 2.54296813e-01\n",
            "  7.71721399e-01 9.72050682e-01 2.53540709e-01 5.72450251e-01\n",
            "  6.13679169e-01 6.81253810e-02 9.95039752e-01 4.24847559e-01\n",
            "  7.05705008e-01 9.03281268e-01 4.03051676e-01 9.13263946e-02\n",
            "  5.40173591e-01 5.15924210e-01 8.42233262e-01 4.53998371e-01\n",
            "  1.84921795e-01 4.32890618e-01 7.08583272e-01 7.25342322e-02\n",
            "  1.88173958e-02 8.71150934e-01 2.69354639e-01 8.98283111e-01\n",
            "  9.10990493e-01 5.00087853e-01 3.97019530e-01 4.81444747e-01]\n",
            " [6.09563746e-01 5.05448011e-01 7.41292099e-01 5.88696960e-01\n",
            "  1.28850362e-03 5.44467068e-01 8.49555623e-01 9.85678710e-01\n",
            "  6.16918105e-01 8.04783299e-01 7.74752424e-02 6.92642222e-01\n",
            "  3.99354875e-01 3.28809229e-01 8.09301790e-01 4.31610493e-02\n",
            "  6.01038168e-01 9.82993775e-01 2.16702793e-01 6.71284705e-01\n",
            "  5.18043325e-01 4.63970739e-01 2.00344420e-01 8.27771911e-01\n",
            "  7.86801958e-01 4.31219901e-01 8.70332128e-01 8.70681230e-01\n",
            "  1.83532253e-01 5.66528708e-02 5.16724645e-01 7.90986730e-01\n",
            "  4.58659716e-01 2.82264928e-01 1.83216296e-01 6.15902518e-01\n",
            "  9.11971290e-01 6.96264053e-01 3.97545228e-01 8.86200204e-01\n",
            "  7.17139549e-01 5.33814279e-01 7.52750669e-01 5.04778068e-01\n",
            "  2.79781776e-01 1.36090200e-01 3.42213895e-01 8.08790817e-02\n",
            "  8.92133453e-01 3.98407696e-01 3.09142358e-01 7.01760306e-01\n",
            "  9.76174527e-01 6.79417054e-01 9.82827652e-01 9.75931646e-01\n",
            "  4.87941528e-01 3.07219120e-01 6.00900198e-01 8.32659925e-01\n",
            "  5.45345062e-01 1.30060011e-02 8.46250726e-01 9.45397572e-01\n",
            "  5.60287120e-01 2.88012200e-01 7.53752460e-01 8.37307368e-02\n",
            "  1.83028982e-02 9.73346440e-01 9.21036456e-01 1.62039656e-01\n",
            "  8.64907509e-01 8.90936541e-01 4.08942707e-01 7.13161519e-01\n",
            "  5.92607840e-01 6.09725828e-01 7.12959061e-01 9.13120371e-01\n",
            "  5.03238137e-01 3.18423796e-01 6.63624159e-01 6.21338825e-01\n",
            "  2.58522282e-01 3.34350354e-01 5.20992685e-01 8.55942064e-01\n",
            "  4.24351085e-01 2.83861660e-01 3.64615916e-01 1.85127738e-01\n",
            "  4.54920764e-01 9.60006361e-01 1.47061190e-01 7.08870567e-01\n",
            "  3.61727928e-01 9.62132059e-01 5.71250559e-02 7.70734650e-01]\n",
            " [2.97167982e-01 4.78158961e-01 5.00221449e-01 5.31863680e-01\n",
            "  7.30420250e-02 1.74136834e-01 5.66938928e-01 2.41384656e-01\n",
            "  7.57528864e-01 5.87463654e-01 5.79058470e-01 2.98758119e-01\n",
            "  1.22412621e-01 4.65895341e-01 6.54007138e-01 6.27326992e-01\n",
            "  7.64905156e-01 4.00745329e-01 3.65098746e-01 5.99302401e-01\n",
            "  5.57661603e-01 5.71502043e-01 2.23416097e-01 8.80951530e-02\n",
            "  8.78226934e-01 2.54109178e-02 2.29429436e-01 6.00665506e-02\n",
            "  2.52381098e-01 8.93711719e-01 2.50430034e-01 6.86142795e-01\n",
            "  4.12578125e-01 1.00751717e-01 8.45559091e-01 9.16179849e-01\n",
            "  5.75368819e-01 1.18192757e-01 8.38457114e-01 5.79636405e-01\n",
            "  3.91269159e-01 1.70054010e-01 9.54144212e-01 3.87488485e-01\n",
            "  7.27787074e-01 3.03600966e-01 6.37713242e-01 7.94390029e-01\n",
            "  7.61582051e-01 8.74271491e-01 5.59378128e-01 7.09702690e-01\n",
            "  9.03019540e-01 1.02869196e-01 1.80713340e-01 2.87754189e-02\n",
            "  8.77324462e-01 4.58149378e-01 9.23231808e-01 8.39993359e-01\n",
            "  1.83540505e-01 3.60411196e-01 2.67100075e-01 7.07675419e-01\n",
            "  2.98083437e-01 4.38364166e-01 1.11486782e-01 8.11955556e-01\n",
            "  2.47477443e-01 2.75099764e-01 5.20340753e-02 1.76106531e-01\n",
            "  7.88944433e-01 1.84933684e-01 5.27111057e-01 4.45335982e-01\n",
            "  5.13772914e-01 7.47738554e-01 2.86239162e-01 8.70983316e-01\n",
            "  9.15871898e-01 9.75479459e-01 3.81612030e-01 4.06659676e-01\n",
            "  4.54242706e-01 6.89538035e-01 1.76923876e-01 9.17487131e-01\n",
            "  7.88485949e-01 1.25172261e-01 7.59120402e-02 2.17246618e-01\n",
            "  6.74277611e-01 2.56396675e-01 9.04479137e-01 2.40344817e-01\n",
            "  3.96012283e-01 2.92156990e-01 9.08683183e-01 2.77959957e-01]\n",
            " [6.31536853e-01 1.53227429e-01 3.96299547e-01 5.34149269e-01\n",
            "  1.78082980e-01 7.96351853e-01 9.37596438e-01 7.58960283e-01\n",
            "  3.00963806e-01 3.96771044e-01 6.77053015e-01 4.79951462e-01\n",
            "  7.63861450e-01 6.67058610e-01 8.17243952e-01 5.75356960e-02\n",
            "  3.93238773e-01 1.38699797e-01 5.43610880e-01 9.76373411e-02\n",
            "  9.01713420e-01 8.33052227e-01 7.91307083e-01 8.33643987e-01\n",
            "  2.30115962e-01 7.86925698e-01 4.85931042e-01 8.19222919e-01\n",
            "  8.51769043e-01 3.31575399e-01 9.65078439e-02 1.17755411e-01\n",
            "  6.38596094e-01 3.70194588e-01 9.88619155e-01 3.04659139e-01\n",
            "  5.27953096e-01 3.90550918e-01 8.53688998e-01 7.41779574e-01\n",
            "  9.80735408e-01 7.69230283e-01 2.15049480e-01 4.76195516e-01\n",
            "  6.44727163e-01 7.38414876e-01 5.17600304e-01 8.52177693e-01\n",
            "  5.69299896e-01 4.57684237e-01 4.22635463e-02 2.95510921e-01\n",
            "  5.53834884e-01 7.98842773e-01 1.40078649e-01 9.86313136e-01\n",
            "  8.53050944e-01 9.26009405e-01 8.17004054e-01 5.79638318e-01\n",
            "  4.34576543e-01 8.76811901e-01 7.97915326e-01 3.25520862e-01\n",
            "  2.55543987e-01 9.91269063e-01 5.29705039e-01 5.86693022e-01\n",
            "  4.64856885e-02 5.14904211e-01 8.74394261e-01 1.71204313e-01\n",
            "  2.97703083e-01 4.76792383e-01 5.53243542e-01 7.10733675e-01\n",
            "  5.34643281e-01 2.98813196e-01 1.98979774e-01 1.52447867e-01\n",
            "  6.50090189e-01 6.06021872e-01 7.78139120e-01 2.21705516e-01\n",
            "  9.41438361e-03 1.57871007e-01 9.71865330e-01 2.74184915e-01\n",
            "  6.63204605e-01 3.11020963e-01 5.39255427e-01 4.84586303e-01\n",
            "  5.96514617e-01 9.93554247e-01 2.14778656e-01 7.94121810e-01\n",
            "  4.43622543e-01 1.11039575e-01 3.67369486e-01 5.31981787e-01]\n",
            " [7.27999043e-01 3.26674620e-01 8.92260204e-01 5.98344297e-01\n",
            "  1.65623449e-01 3.52505945e-01 1.86785083e-01 3.53830066e-01\n",
            "  3.28955849e-01 8.54449606e-01 5.07330439e-02 7.49325815e-01\n",
            "  3.76845236e-01 5.68766513e-02 1.18326850e-01 6.84027507e-01\n",
            "  8.08147814e-01 9.89560277e-02 8.92865991e-01 3.72602428e-01\n",
            "  3.69845808e-01 4.59533831e-01 3.37643909e-01 8.58949712e-01\n",
            "  1.90972482e-01 1.11697723e-01 6.79453765e-01 3.03525022e-01\n",
            "  8.36227677e-01 9.09842624e-01 8.56441693e-01 5.10735824e-01\n",
            "  4.86329602e-01 9.81721463e-01 1.45367693e-01 9.46156257e-01\n",
            "  6.79705306e-01 4.10267747e-02 8.50038661e-01 3.79755982e-03\n",
            "  1.15804453e-01 9.32132049e-01 7.47797587e-01 2.88503778e-01\n",
            "  6.04987637e-01 2.66636176e-01 1.46764180e-01 2.98246083e-01\n",
            "  7.63446078e-01 5.49671651e-01 6.49847179e-01 7.16328860e-01\n",
            "  5.03942878e-01 9.35288604e-01 8.86756579e-01 8.96764220e-01\n",
            "  8.74070338e-01 5.08701879e-01 4.13455045e-01 2.49342156e-01\n",
            "  4.44554637e-01 9.27492143e-01 7.90651729e-01 2.39072406e-02\n",
            "  8.30682530e-01 8.17419798e-01 9.93096822e-01 9.35627357e-01\n",
            "  8.06866257e-01 7.85763463e-01 1.04489699e-01 9.92671885e-01\n",
            "  1.84925409e-01 3.52863055e-01 3.64979211e-01 9.29197751e-01\n",
            "  6.26124000e-03 1.53743903e-01 5.85150525e-01 5.06276630e-01\n",
            "  3.29203269e-01 7.09668461e-01 5.06589334e-01 8.84949080e-02\n",
            "  7.68925732e-01 8.71952000e-01 8.03695370e-01 1.52884730e-01\n",
            "  5.52524507e-01 9.85349594e-01 9.15476422e-01 6.73831677e-01\n",
            "  4.77402339e-01 1.39899224e-01 2.06671367e-01 5.25968472e-01\n",
            "  6.94297238e-01 9.90015445e-01 9.86998539e-01 1.99040327e-01]\n",
            " [5.76609854e-01 9.58251703e-01 2.39513352e-01 1.32305791e-01\n",
            "  1.22685349e-01 7.28048026e-01 6.11479282e-01 2.64786611e-01\n",
            "  9.42476737e-01 3.40638406e-01 8.82106689e-01 8.16031005e-01\n",
            "  3.18605298e-01 9.67397494e-01 9.42071248e-01 4.26118070e-01\n",
            "  6.21334488e-01 2.46352599e-01 6.87746488e-01 1.01896645e-01\n",
            "  4.44292684e-01 9.43541013e-02 6.73753776e-01 2.75092223e-01\n",
            "  7.44761646e-01 5.12763595e-01 7.76113708e-02 2.84879150e-01\n",
            "  4.29052114e-01 1.33688210e-01 8.60196040e-01 2.83369613e-01\n",
            "  9.23042520e-01 3.53299383e-03 8.49279661e-01 1.44900126e-01\n",
            "  3.40036117e-01 8.96825092e-01 6.99741927e-01 5.26630491e-01\n",
            "  9.79496164e-01 9.16478166e-01 4.21054807e-01 3.66438436e-01\n",
            "  3.93709980e-03 5.20831470e-01 4.90352104e-01 7.22442602e-01\n",
            "  3.66017699e-01 9.64688384e-01 2.00242422e-01 4.75812524e-01\n",
            "  3.53823087e-01 8.51376945e-01 1.05485863e-01 5.24130522e-01\n",
            "  2.22908521e-01 7.78069487e-02 9.17650541e-01 7.51315472e-01\n",
            "  4.97135314e-01 5.36452477e-01 1.58928943e-01 3.25214805e-01\n",
            "  2.31255026e-01 9.47567330e-01 6.60773588e-01 2.47475841e-01\n",
            "  7.82727187e-01 8.22155152e-01 2.03746531e-01 5.48873771e-02\n",
            "  6.24956815e-01 7.67753233e-01 6.06185641e-01 9.10495993e-01\n",
            "  8.91735761e-01 6.01337544e-01 9.79209562e-01 8.05429904e-02\n",
            "  5.06721903e-01 1.52944112e-01 5.87729531e-01 7.40191975e-01\n",
            "  7.26188061e-01 9.29362593e-01 9.08572003e-01 9.04085234e-01\n",
            "  7.73163450e-01 8.63722093e-01 4.25700781e-02 1.48578752e-02\n",
            "  2.27923719e-01 8.58964461e-01 8.62761376e-01 8.29798024e-01\n",
            "  6.66677946e-01 1.65061023e-01 2.42862122e-01 4.23049505e-01]\n",
            " [3.68557359e-01 8.40113364e-01 7.18354084e-01 5.86430696e-01\n",
            "  5.36056458e-02 5.68075636e-02 9.88859801e-01 3.86063384e-01\n",
            "  8.73321718e-01 2.35659455e-01 9.86739094e-01 7.99952370e-02\n",
            "  8.89439387e-01 1.77735937e-01 3.32594132e-01 3.40938155e-01\n",
            "  5.73217391e-01 3.33814282e-01 4.87989098e-02 1.55232897e-02\n",
            "  5.84677404e-02 5.51379217e-01 3.09859274e-02 5.13202782e-01\n",
            "  5.97888197e-01 6.92429909e-02 1.46269242e-01 3.55876861e-01\n",
            "  9.91567941e-01 9.76417054e-01 3.79472480e-01 5.27847503e-02\n",
            "  4.08558158e-01 4.84491736e-01 4.42019438e-01 9.14560202e-01\n",
            "  9.60789311e-01 9.63160687e-01 4.35574949e-01 2.11352745e-02\n",
            "  5.17468139e-01 6.29608138e-01 2.11953657e-01 3.67061413e-01\n",
            "  9.56195493e-01 9.09719441e-02 2.04646866e-01 5.95053914e-01\n",
            "  3.07456763e-01 3.07412340e-01 7.93428081e-01 2.03741590e-01\n",
            "  8.29547279e-02 2.78656587e-01 1.02384083e-01 1.12451789e-01\n",
            "  1.91957822e-01 8.14197609e-01 9.66848599e-01 9.29838064e-01\n",
            "  4.10022019e-01 3.47743380e-01 9.47293873e-01 7.96894801e-01\n",
            "  1.20898717e-01 1.31129442e-01 9.14934783e-01 6.08326809e-02\n",
            "  4.81712725e-01 1.82259995e-01 3.40923341e-01 3.60682031e-01\n",
            "  6.00639796e-01 6.80583899e-01 6.91513935e-01 8.30821699e-02\n",
            "  7.07682312e-01 2.63281483e-01 5.47032486e-01 7.89505096e-01\n",
            "  7.00428347e-01 8.26722350e-01 8.33881803e-01 9.76165827e-01\n",
            "  9.11900917e-01 5.36992346e-01 1.60496594e-02 9.24618748e-01\n",
            "  5.89373954e-01 2.85709468e-01 3.56109051e-02 9.15938734e-01\n",
            "  1.96158150e-01 7.10893394e-01 2.52328180e-01 1.01671100e-02\n",
            "  5.36958282e-01 4.04431606e-01 6.08275618e-01 8.88888880e-01]\n",
            " [7.71071207e-01 9.33838953e-01 9.93875008e-01 8.83944850e-01\n",
            "  7.38191686e-02 6.64211227e-03 1.54562787e-01 6.99724937e-01\n",
            "  8.13579057e-01 8.92294495e-01 9.43720960e-01 9.55263071e-01\n",
            "  7.81013910e-01 9.96118440e-01 1.56601584e-01 8.58244294e-01\n",
            "  7.99208086e-01 5.15153892e-01 7.17899999e-01 5.37613155e-01\n",
            "  4.16492665e-02 5.38782020e-01 4.20911599e-01 2.92721739e-01\n",
            "  3.14644098e-01 2.64177316e-01 7.59686135e-02 3.68752260e-01\n",
            "  3.11368085e-01 2.57525196e-01 8.03687678e-01 4.20465182e-01\n",
            "  4.96268880e-01 7.24744943e-01 8.93813562e-01 7.57139546e-01\n",
            "  2.98022259e-01 8.45785732e-01 6.69247355e-01 1.78278185e-01\n",
            "  7.20909396e-01 6.38575351e-01 3.10563125e-01 4.54489428e-01\n",
            "  4.04721142e-01 2.10044280e-01 4.09522656e-02 6.41501166e-01\n",
            "  8.44714031e-01 1.25661656e-01 6.89970490e-01 1.00054946e-01\n",
            "  9.66320065e-01 2.67337711e-02 3.23041396e-01 7.99473004e-01\n",
            "  8.34814115e-01 9.74254657e-01 4.73759393e-01 2.23614137e-01\n",
            "  1.13903337e-01 7.37075937e-01 7.97954042e-02 2.32369899e-02\n",
            "  2.60672435e-01 2.35247398e-01 9.64710816e-01 6.19730035e-01\n",
            "  8.03725397e-01 5.41683331e-01 5.98682956e-01 2.15162690e-01\n",
            "  5.67512047e-01 7.74283993e-01 6.53739994e-01 9.06239130e-01\n",
            "  8.44612276e-01 3.92864202e-01 5.34023438e-01 5.27736030e-01\n",
            "  7.89843361e-01 1.76352102e-01 5.88546127e-01 8.40913359e-01\n",
            "  6.81564918e-01 8.41744539e-01 6.45586354e-02 5.08293570e-01\n",
            "  8.75059455e-01 5.45499142e-01 5.25412205e-01 3.64617240e-01\n",
            "  9.72980821e-01 9.97004754e-01 2.68390848e-01 5.32756351e-01\n",
            "  9.55627754e-01 8.59540526e-01 6.65944833e-01 6.96025151e-01]\n",
            " [9.71149593e-01 6.02790334e-01 5.34680117e-01 7.00222065e-01\n",
            "  1.80945417e-01 2.91812902e-01 5.96265585e-02 7.82248162e-01\n",
            "  4.95029029e-01 8.10570851e-01 8.39387972e-01 9.97881483e-01\n",
            "  1.68004224e-01 9.60933730e-02 4.64945968e-01 9.36602480e-01\n",
            "  6.10940725e-01 4.73907354e-01 4.52568275e-01 4.08943152e-01\n",
            "  7.75632554e-01 5.66544630e-01 5.59009848e-01 3.75374438e-01\n",
            "  3.51884285e-01 2.70501128e-01 9.28853232e-01 8.22781655e-01\n",
            "  9.54631567e-01 4.15901834e-01 7.25293759e-01 8.13667018e-01\n",
            "  9.51639126e-01 3.51738067e-01 9.97794402e-01 2.62431885e-01\n",
            "  4.26862533e-01 7.10906454e-01 6.44676296e-01 1.64003170e-02\n",
            "  9.28538600e-01 4.19745959e-01 1.91136111e-01 6.86652630e-01\n",
            "  1.87032987e-01 4.54015886e-01 8.68257743e-01 9.96807481e-01\n",
            "  2.28058114e-01 6.73056982e-01 1.85518029e-01 6.47895330e-01\n",
            "  3.83516339e-02 2.73290900e-01 1.28901504e-01 2.72933652e-01\n",
            "  6.32965874e-01 5.69989291e-01 9.32515222e-01 8.53008022e-01\n",
            "  4.56013399e-01 7.16431961e-01 1.55977456e-02 8.01583252e-01\n",
            "  5.24464358e-01 2.60912057e-01 7.12889341e-01 9.82396700e-01\n",
            "  7.02350853e-01 8.24672399e-01 7.35658335e-01 2.55028719e-01\n",
            "  4.79364940e-01 5.54936675e-01 1.22701167e-01 7.82815424e-01\n",
            "  7.88403304e-01 7.77645258e-01 3.60138452e-01 1.34960726e-01\n",
            "  1.74141476e-01 4.29395990e-03 4.83078498e-01 6.44331151e-01\n",
            "  5.81232152e-01 1.59919208e-01 5.13687300e-01 3.63264130e-01\n",
            "  5.88496404e-01 8.24861304e-01 8.67721997e-01 3.75821096e-01\n",
            "  4.54468139e-01 3.90752432e-01 9.87037967e-01 6.00074287e-01\n",
            "  6.33361855e-01 2.57547772e-01 3.69682324e-01 8.75975478e-01]\n",
            " [2.10306217e-01 2.30893536e-01 2.43521031e-01 5.56927230e-02\n",
            "  2.87642155e-01 7.82982204e-01 9.06859250e-01 5.52312316e-02\n",
            "  1.98591220e-01 4.29123174e-01 8.32158278e-01 4.20375578e-01\n",
            "  6.32741390e-01 6.33157210e-01 2.18808432e-02 9.36126696e-01\n",
            "  9.47714360e-01 2.03387722e-01 9.24903606e-01 4.41458378e-01\n",
            "  5.83400475e-02 3.70340297e-02 1.84574230e-01 8.14160559e-02\n",
            "  5.29117705e-01 6.55522624e-01 5.68419974e-01 4.55332539e-01\n",
            "  6.84335810e-01 1.08703055e-01 6.02491897e-01 3.85049872e-02\n",
            "  7.02717746e-01 4.93532588e-01 9.55034913e-01 3.10326585e-01\n",
            "  5.19422588e-01 9.12331862e-01 6.23336528e-01 4.03528297e-01\n",
            "  6.26085854e-01 2.12041382e-01 8.76675885e-01 5.45468205e-01\n",
            "  9.41494295e-01 6.15604857e-01 5.17034970e-01 2.92444342e-01\n",
            "  7.47633836e-01 2.65153895e-01 2.34125913e-01 1.92484247e-01\n",
            "  5.21696838e-01 6.47455354e-01 3.85673582e-01 9.65785624e-01\n",
            "  1.42660537e-01 9.42797334e-01 2.13779541e-01 2.35016586e-01\n",
            "  7.65303772e-01 1.38147259e-01 7.26378870e-01 2.68676531e-01\n",
            "  7.65506358e-02 2.35378245e-01 6.64344445e-01 7.41602168e-01\n",
            "  8.05057638e-01 3.18120312e-01 3.77794503e-01 3.97932513e-02\n",
            "  7.64914042e-01 7.34764729e-01 8.71908714e-02 2.78473205e-01\n",
            "  1.24797465e-01 9.50586470e-01 8.32493640e-01 9.25292140e-01\n",
            "  1.45189543e-01 1.61851443e-01 1.43510852e-01 6.95326189e-01\n",
            "  8.36142622e-01 5.83417982e-01 9.14023799e-01 8.02812630e-01\n",
            "  8.15790806e-01 5.47175307e-01 8.36395651e-01 7.09267431e-01\n",
            "  5.55491989e-01 4.07813966e-01 4.92971000e-01 2.46594229e-01\n",
            "  6.79982960e-01 5.05315765e-01 2.34192433e-01 4.35544660e-01]\n",
            " [9.65243354e-01 8.07224143e-02 8.35120943e-02 9.88873690e-01\n",
            "  8.02945925e-01 5.15313909e-01 6.59711613e-02 6.87738041e-01\n",
            "  4.28599924e-01 2.18946106e-01 4.44962611e-01 6.47715269e-01\n",
            "  1.73385318e-01 7.83628544e-03 7.54222424e-02 4.00971078e-01\n",
            "  9.28488815e-01 7.44153911e-01 5.82524797e-01 1.39911070e-02\n",
            "  4.72501177e-02 7.06529071e-01 3.17198618e-01 9.64219222e-01\n",
            "  9.12787434e-01 2.05390069e-01 9.25212353e-01 3.00311224e-01\n",
            "  6.56708193e-01 2.78560531e-01 7.65760969e-01 2.44706603e-02\n",
            "  5.00177754e-01 2.23304828e-01 1.09289918e-01 1.06583338e-01\n",
            "  7.36504708e-01 6.46527189e-01 4.82171693e-01 7.81758205e-01\n",
            "  2.55367348e-02 1.07128542e-01 5.36324009e-01 7.01524705e-01\n",
            "  9.94175749e-01 6.93177044e-01 9.90075159e-01 5.56864702e-01\n",
            "  3.90185147e-01 4.49157842e-01 9.52534835e-01 6.83852372e-01\n",
            "  2.25392798e-01 4.34307286e-01 8.38431436e-01 9.63415074e-02\n",
            "  6.53196963e-01 6.00954756e-01 2.57714117e-01 1.63561517e-01\n",
            "  3.73084596e-01 1.07159729e-01 3.42514870e-01 4.06811108e-02\n",
            "  1.64921948e-01 3.25059792e-01 5.88651805e-01 8.75079513e-01\n",
            "  4.40673729e-01 5.23336719e-01 1.47734760e-01 9.99607410e-01\n",
            "  3.31481174e-01 2.70554512e-01 1.33925898e-01 3.21572685e-01\n",
            "  1.68218426e-01 4.62394715e-01 5.68904343e-01 8.03083382e-01\n",
            "  3.59075627e-01 1.98924294e-01 5.50707971e-01 6.99993192e-01\n",
            "  1.68582415e-01 5.39849821e-01 1.11114215e-01 3.20281127e-01\n",
            "  3.64161316e-01 9.35508519e-01 7.45251463e-01 9.74913793e-01\n",
            "  3.34522340e-01 4.82973993e-01 3.83160077e-01 3.71809276e-02\n",
            "  2.67009923e-01 7.77363416e-01 8.23316511e-02 3.23932362e-01]\n",
            " [3.27450129e-01 3.56686556e-01 7.71911903e-01 5.40007052e-01\n",
            "  5.60950555e-01 5.67039745e-01 4.78910571e-01 3.87773164e-01\n",
            "  5.12558258e-01 5.47863683e-01 6.70172857e-01 3.97981302e-01\n",
            "  8.60877124e-01 9.65736093e-01 2.93077478e-01 2.59189809e-01\n",
            "  9.91856462e-01 8.95073190e-01 2.05024695e-01 3.50003047e-01\n",
            "  1.39562772e-01 4.33045295e-01 6.93164417e-01 5.24953451e-02\n",
            "  9.67119986e-01 2.03353416e-01 3.08841034e-01 7.06947778e-01\n",
            "  5.08704341e-01 6.74609666e-02 4.21775866e-02 3.77107862e-01\n",
            "  5.09805046e-01 7.43583706e-01 6.16346309e-01 3.43197979e-01\n",
            "  9.31788456e-01 3.09720164e-01 6.71835177e-02 7.59684942e-01\n",
            "  2.03622577e-01 2.43918699e-01 4.22548810e-01 4.88731736e-01\n",
            "  8.21730282e-01 9.56226191e-01 4.48856343e-01 4.62416235e-01\n",
            "  2.92744086e-01 9.45154348e-01 4.81531061e-01 2.95814265e-01\n",
            "  2.41042139e-01 9.34739589e-02 5.36327035e-01 6.04146457e-01\n",
            "  1.82481510e-01 2.71534989e-01 1.34574519e-03 4.99860571e-01\n",
            "  1.32750664e-01 1.20565218e-01 6.51903521e-01 5.96083503e-01\n",
            "  2.13958222e-01 8.93977120e-01 1.47648636e-01 1.43217686e-02\n",
            "  9.10513533e-01 1.04711230e-01 4.45813968e-01 6.15696763e-01\n",
            "  7.74733205e-01 4.24607992e-01 9.25929719e-01 3.03460324e-01\n",
            "  4.29128532e-01 6.07160035e-01 3.09343964e-03 2.60065706e-01\n",
            "  5.33912374e-01 3.50396350e-01 6.68645973e-01 2.26206058e-01\n",
            "  2.57824387e-02 9.64050486e-01 6.15275106e-01 4.36080620e-01\n",
            "  5.86147533e-01 8.63455573e-01 1.69106759e-01 1.61836767e-01\n",
            "  8.00795140e-01 8.58578371e-01 7.88485943e-01 4.98942814e-01\n",
            "  5.12164837e-01 8.11683434e-01 4.13587472e-02 7.64367073e-01]\n",
            " [3.88297257e-01 3.12662455e-01 9.39986555e-01 3.19549563e-01\n",
            "  2.62264257e-01 5.51343557e-01 5.67644690e-01 1.79927012e-01\n",
            "  2.19157371e-01 2.95519903e-03 5.08774195e-02 6.46415528e-02\n",
            "  6.29299367e-01 7.51157633e-01 4.59456948e-01 4.64914079e-01\n",
            "  9.36510498e-01 2.77184422e-01 3.82249809e-01 1.46873623e-01\n",
            "  6.34007580e-01 7.31774701e-02 1.19017694e-01 7.72090911e-01\n",
            "  9.18002624e-01 9.31708659e-01 4.45954834e-01 1.49224938e-01\n",
            "  2.77409112e-01 8.34924594e-01 2.57349803e-01 2.54259631e-01\n",
            "  1.92740816e-01 2.90139198e-01 3.33157631e-01 2.76267325e-01\n",
            "  2.82082429e-01 4.03861919e-01 6.21709410e-01 9.17523722e-01\n",
            "  5.10388114e-01 5.77224363e-01 8.24407824e-01 4.94097610e-01\n",
            "  4.85675545e-02 2.60217848e-02 8.56544825e-01 7.68683868e-01\n",
            "  1.17723439e-01 2.66637728e-01 9.61702459e-01 3.75023114e-01\n",
            "  7.98204237e-01 7.30136438e-02 9.84078178e-01 1.31823071e-01\n",
            "  2.09870711e-01 7.42415841e-01 3.81306141e-01 3.11699879e-01\n",
            "  4.65949188e-01 4.61911237e-01 3.02819676e-01 6.18852851e-01\n",
            "  7.29212988e-01 3.46560162e-02 1.56400597e-01 3.22178158e-01\n",
            "  9.05145220e-01 3.68928165e-01 7.44721083e-01 4.02059728e-02\n",
            "  4.88359680e-02 6.31886724e-01 9.97854908e-01 4.17423468e-01\n",
            "  3.26503810e-01 6.75966564e-01 4.09178907e-01 6.59324378e-01\n",
            "  2.63566334e-01 1.18775771e-01 7.86663523e-02 8.97102175e-01\n",
            "  6.33026995e-01 7.01759587e-01 9.32049088e-01 7.80258670e-01\n",
            "  4.87769871e-01 8.63951137e-01 3.87485474e-01 9.97495390e-02\n",
            "  9.38191025e-01 1.92816420e-01 3.60747624e-01 2.74964961e-01\n",
            "  1.81579501e-01 4.99950151e-01 2.95017554e-01 8.37474639e-01]\n",
            " [1.82035284e-01 9.44393626e-01 5.77601006e-01 3.55983872e-01\n",
            "  6.86527118e-01 9.31010561e-01 2.74897151e-01 8.89824723e-01\n",
            "  3.39358773e-01 5.98512167e-01 1.22036628e-01 6.65280469e-01\n",
            "  2.82141002e-01 6.90646808e-01 8.54938029e-01 2.25162128e-01\n",
            "  2.86329003e-01 4.28407376e-01 2.45079735e-01 4.24125854e-01\n",
            "  6.31503924e-01 4.95325849e-01 2.71177486e-01 1.37454623e-01\n",
            "  2.49731460e-01 5.37028099e-01 5.23815214e-02 7.20669652e-02\n",
            "  3.66564402e-02 7.12434326e-01 5.62754942e-01 9.96430439e-01\n",
            "  1.29226592e-01 3.72620004e-01 4.67248250e-01 4.50952813e-02\n",
            "  5.18221774e-01 2.92111475e-01 2.31798969e-01 5.60685894e-01\n",
            "  8.47709431e-01 3.25258571e-01 2.06384085e-01 8.54246486e-01\n",
            "  9.42920355e-01 9.90458820e-02 5.73731080e-01 6.57416546e-01\n",
            "  2.55448353e-01 5.06172836e-01 1.30431589e-01 2.79242249e-01\n",
            "  4.76969295e-01 4.90005300e-01 7.85983515e-01 2.52572625e-01\n",
            "  1.09129888e-01 2.61810965e-01 1.36895855e-01 1.82117398e-01\n",
            "  2.29831351e-01 6.94087300e-01 6.98615806e-02 7.99801575e-01\n",
            "  6.34811868e-01 3.66214142e-01 4.57612989e-01 9.65135574e-01\n",
            "  6.28723346e-01 5.47866742e-01 7.43182921e-01 9.79205992e-01\n",
            "  5.63910109e-01 7.62128971e-01 9.22837216e-01 9.50135119e-01\n",
            "  5.93673334e-01 9.16683539e-01 6.95916483e-01 4.69070001e-01\n",
            "  7.23833335e-01 5.10821811e-01 1.83426423e-01 8.71030389e-01\n",
            "  6.79334775e-01 2.91189879e-01 8.83954551e-01 1.99678972e-01\n",
            "  7.79565940e-01 2.55193422e-01 8.13008413e-01 8.16635117e-01\n",
            "  8.07251299e-01 8.92157086e-01 4.68218318e-01 6.05315165e-01\n",
            "  5.74153754e-01 7.00993297e-01 3.57431604e-01 4.16587152e-01]\n",
            " [3.74236984e-01 6.03249587e-01 8.24970846e-01 3.48122436e-01\n",
            "  5.63706237e-01 2.65720707e-01 7.84333488e-01 7.11558560e-01\n",
            "  1.56993041e-01 6.66732844e-01 1.56919005e-01 2.68655669e-01\n",
            "  3.11859588e-01 1.86222220e-01 2.88304956e-01 1.18316599e-01\n",
            "  7.84917056e-01 3.22670651e-01 4.46072593e-01 3.91339147e-01\n",
            "  2.48882333e-02 8.95846942e-01 9.37904182e-01 5.85604312e-01\n",
            "  2.88173984e-01 1.28223802e-02 4.13685943e-01 5.16587818e-01\n",
            "  9.01943742e-01 4.60608704e-01 2.10595806e-01 6.30628948e-01\n",
            "  1.30244043e-02 9.53990280e-01 3.39003685e-01 8.09578175e-01\n",
            "  5.58490664e-01 1.87651697e-01 5.61050112e-01 2.92057966e-01\n",
            "  6.26390708e-01 5.93363174e-01 9.04087035e-01 6.94341468e-01\n",
            "  7.53260592e-01 3.20141823e-01 6.65868710e-01 9.67035096e-01\n",
            "  3.85188094e-01 9.84509042e-01 2.27500367e-01 2.61255939e-01\n",
            "  5.41309914e-01 3.64009238e-01 5.85219588e-01 1.32799156e-01\n",
            "  6.34752540e-01 6.82805836e-01 2.15092370e-01 3.19535319e-01\n",
            "  6.58532926e-01 6.61838927e-01 6.10926778e-01 2.86296352e-01\n",
            "  7.87610649e-01 8.23770083e-01 4.38014969e-01 7.47700843e-01\n",
            "  7.92980108e-01 3.25810405e-01 7.18646039e-01 9.51904850e-02\n",
            "  9.38266093e-01 9.91695784e-01 8.82724631e-01 6.43331968e-01\n",
            "  6.44774424e-01 3.35569620e-01 6.35964074e-01 8.73490494e-03\n",
            "  4.37124582e-01 9.99371372e-01 2.42584350e-02 4.59061836e-03\n",
            "  2.31530431e-02 1.46958786e-01 4.34790864e-01 3.77870200e-05\n",
            "  7.07983174e-01 6.12295042e-01 8.79420003e-01 4.78917664e-01\n",
            "  4.16779358e-01 5.39344127e-01 7.38976407e-01 5.94180860e-01\n",
            "  7.79459489e-01 3.07765310e-01 2.90578689e-01 8.46252983e-01]\n",
            " [7.33778797e-01 6.56531165e-01 7.49574452e-01 8.72483824e-01\n",
            "  2.60658728e-01 3.08177945e-01 5.47139593e-01 5.78480493e-01\n",
            "  8.81471705e-01 6.42788355e-01 1.08271172e-01 3.29804900e-01\n",
            "  5.65433996e-01 4.41149491e-01 7.04618578e-01 3.69196528e-01\n",
            "  3.59765172e-02 2.78473769e-01 5.41626967e-01 4.03239356e-01\n",
            "  8.74640106e-01 7.87054129e-01 2.91173962e-01 3.35328335e-01\n",
            "  1.40111660e-01 3.77132444e-01 8.49388529e-01 7.93423924e-01\n",
            "  3.70377999e-01 1.30426970e-01 5.95808960e-02 2.34559457e-02\n",
            "  4.92703710e-01 5.52330866e-01 5.39102817e-01 5.36358223e-01\n",
            "  3.91953474e-01 9.18281968e-01 3.30791909e-01 9.59420311e-02\n",
            "  9.21556968e-02 1.90378148e-01 5.17569646e-02 2.16698279e-01\n",
            "  2.62616166e-02 7.79566522e-01 7.33304746e-01 4.67297199e-01\n",
            "  9.90358826e-02 2.88052935e-01 8.01668894e-01 8.67068040e-01\n",
            "  1.07699956e-01 9.91831753e-01 6.94694534e-01 1.05782999e-01\n",
            "  5.05328174e-02 1.39709755e-01 8.35521067e-01 5.54377298e-01\n",
            "  6.74702394e-01 6.73492507e-01 7.23042511e-01 3.49628585e-01\n",
            "  1.74725232e-01 3.72938101e-02 9.67269351e-02 8.55385550e-01\n",
            "  8.35556729e-01 1.22613301e-01 9.13266341e-01 1.01672283e-01\n",
            "  9.92034850e-01 6.62329616e-01 2.26847658e-01 9.74949744e-01\n",
            "  8.74801424e-01 7.28179282e-01 6.94911357e-01 4.92869384e-01\n",
            "  9.05660557e-01 3.38417247e-02 6.45900102e-01 3.11317939e-02\n",
            "  1.06377915e-02 5.39423367e-02 5.07941504e-01 6.38191198e-01\n",
            "  9.29791352e-01 4.38308515e-01 2.57306240e-01 4.67783871e-01\n",
            "  5.09908866e-02 6.36164182e-01 5.40580178e-01 9.88369805e-01\n",
            "  9.61099573e-01 2.14322671e-01 6.66968937e-02 8.95450794e-01]\n",
            " [9.82811356e-01 2.84155786e-01 7.85899966e-01 3.28221250e-01\n",
            "  2.67798096e-01 8.13318014e-01 9.17571676e-01 1.29754076e-01\n",
            "  9.04023352e-01 3.62874237e-01 6.06372944e-01 3.70222258e-01\n",
            "  1.88770407e-01 3.72023507e-01 6.26135219e-01 8.76957116e-04\n",
            "  5.09387047e-01 9.72195163e-01 8.70190931e-01 9.51802666e-01\n",
            "  8.02588590e-01 2.66700537e-01 2.94104726e-01 5.56994357e-01\n",
            "  5.15045880e-01 4.87875294e-01 7.49415832e-01 4.50046578e-01\n",
            "  5.86195254e-01 9.36641925e-01 9.70864022e-01 6.05078711e-01\n",
            "  5.20382849e-01 2.04207478e-01 4.46722855e-01 7.38376576e-01\n",
            "  2.25216897e-01 9.49117059e-01 4.43669717e-01 9.04743018e-01\n",
            "  4.08994569e-02 1.36216327e-01 3.02758407e-01 3.88393927e-01\n",
            "  1.33021376e-02 7.01500934e-01 1.27900603e-01 5.40838755e-01\n",
            "  1.59448236e-01 7.67148084e-01 4.42094196e-01 4.58564783e-01\n",
            "  6.62069089e-01 1.75483048e-01 5.10585454e-01 3.36982983e-01\n",
            "  1.40877930e-01 1.96359066e-01 1.30654339e-01 4.38024674e-01\n",
            "  9.46380803e-01 3.14766549e-01 7.61505658e-01 2.70420969e-02\n",
            "  2.08146523e-01 3.03861802e-01 3.70457337e-01 7.58497431e-01\n",
            "  9.05639626e-01 7.26842532e-01 7.48931851e-01 4.50924039e-01\n",
            "  9.97999512e-01 4.24521750e-01 8.98307387e-01 3.48413469e-01\n",
            "  5.04905038e-01 6.57502048e-01 1.44658834e-01 6.45365460e-01\n",
            "  3.06881038e-02 1.02572263e-01 9.89708418e-01 9.55904497e-01\n",
            "  3.82091528e-01 7.41594858e-02 4.53202462e-01 4.69942492e-01\n",
            "  5.47600018e-01 7.23669011e-01 4.13805485e-02 1.40313119e-01\n",
            "  5.88562899e-01 9.95695202e-01 4.20222249e-01 9.32737055e-01\n",
            "  8.29824707e-01 3.24442458e-01 9.84224609e-01 1.34919665e-01]\n",
            " [4.72233580e-01 4.35475809e-02 1.67173958e-01 2.86972383e-01\n",
            "  2.50352231e-01 4.04018325e-01 4.69033129e-01 7.09096752e-01\n",
            "  9.48465585e-01 4.95352699e-01 7.64191196e-01 8.70519144e-01\n",
            "  7.14080289e-01 6.15676075e-01 3.42225190e-01 4.72669564e-01\n",
            "  5.45556349e-01 5.86835606e-01 8.44063156e-01 2.48885689e-01\n",
            "  8.91329175e-01 9.73787499e-01 8.41837587e-01 5.48592373e-01\n",
            "  2.78210273e-02 7.93588399e-02 8.03752798e-01 1.46126791e-01\n",
            "  1.53018040e-01 1.85352765e-01 5.26772770e-01 7.31983139e-01\n",
            "  6.72046546e-02 3.32335329e-01 7.70168383e-01 6.44229263e-01\n",
            "  4.88726974e-02 8.76111546e-01 6.98306399e-01 2.63181797e-01\n",
            "  4.25832541e-01 1.31284199e-01 1.38980986e-01 4.13792543e-01\n",
            "  2.56334071e-01 4.88581824e-01 3.85729075e-01 8.93598702e-01\n",
            "  4.30180233e-03 3.06307469e-01 3.78913572e-01 1.02761695e-01\n",
            "  7.40618942e-01 3.05994579e-01 6.56238646e-01 3.66061489e-01\n",
            "  5.53347326e-01 5.20380916e-01 3.49925241e-02 7.74098806e-01\n",
            "  2.46655571e-01 7.58130978e-01 4.60297528e-01 8.18100038e-01\n",
            "  9.97106444e-01 9.51440950e-01 2.36305519e-01 8.06641731e-01\n",
            "  9.39982259e-01 6.34559971e-01 8.56824231e-01 2.07485349e-01\n",
            "  5.30476104e-01 4.85078222e-01 9.76416034e-01 2.66515441e-01\n",
            "  9.55751095e-01 2.50644635e-01 1.17500633e-01 4.00697896e-01\n",
            "  3.62008562e-01 7.65072432e-01 7.53376628e-01 8.89746276e-01\n",
            "  6.25965045e-02 1.10067196e-01 5.67735501e-02 1.32577363e-01\n",
            "  4.77844877e-01 6.61287225e-01 6.20246953e-01 2.90162211e-01\n",
            "  5.71578769e-01 9.61471981e-01 1.37930512e-01 2.24392521e-01\n",
            "  7.48012529e-01 9.93990888e-01 7.79971626e-02 5.37577627e-02]\n",
            " [1.69543494e-01 5.95026149e-01 6.85419840e-01 1.47714930e-02\n",
            "  5.20406008e-01 9.32169562e-01 3.57854095e-03 3.53066865e-01\n",
            "  4.92635578e-01 1.51663697e-01 2.15919207e-01 7.65850762e-02\n",
            "  5.24743984e-01 5.87220059e-02 8.74136337e-01 1.59894205e-01\n",
            "  5.45490226e-01 6.08988862e-01 5.94408666e-01 7.41806169e-01\n",
            "  8.06876682e-01 3.76259212e-01 4.17496800e-01 2.78307611e-01\n",
            "  9.38934854e-01 2.34809343e-01 1.58339866e-01 9.48741146e-01\n",
            "  7.98335911e-01 7.46360449e-01 2.83427344e-01 6.68681197e-01\n",
            "  6.12902000e-01 4.52043271e-01 5.03390663e-01 4.12750915e-01\n",
            "  9.48681724e-01 5.46416039e-01 7.33387050e-02 5.32171936e-01\n",
            "  8.19460437e-01 7.51772430e-01 9.65826500e-01 8.19377859e-02\n",
            "  4.49478180e-01 9.70931028e-01 4.19770266e-01 7.72348687e-01\n",
            "  7.19842832e-01 7.02271326e-01 3.66407764e-01 8.47276576e-01\n",
            "  7.47694489e-01 8.01591038e-01 6.63774544e-01 3.07033555e-01\n",
            "  7.87340871e-01 7.40908329e-01 5.19111504e-02 7.74748684e-01\n",
            "  5.56301660e-01 4.04090628e-01 1.46124727e-01 9.20894996e-02\n",
            "  9.35764265e-01 5.48900539e-01 1.66462134e-01 3.69558020e-01\n",
            "  6.32258421e-01 4.75269534e-02 4.36370883e-01 7.44009088e-01\n",
            "  8.03257627e-01 7.42510036e-01 2.46245920e-01 5.76686023e-01\n",
            "  8.50940730e-01 5.81368823e-01 2.93149843e-01 4.85999818e-01\n",
            "  7.78905888e-01 3.46028990e-01 8.09525950e-01 2.97153977e-01\n",
            "  9.67109690e-01 3.42757206e-01 8.56792950e-01 1.57303459e-01\n",
            "  1.37025204e-01 5.41389212e-01 7.40659425e-01 1.06036657e-01\n",
            "  6.87825993e-01 8.45716540e-01 3.13558805e-01 3.41738042e-01\n",
            "  3.30935600e-01 1.15755693e-02 9.82184699e-02 7.16996181e-01]\n",
            " [2.38593000e-01 3.09547233e-01 9.62358336e-01 5.28365440e-01\n",
            "  3.27731569e-01 4.66350712e-02 2.10201502e-01 3.12563348e-01\n",
            "  1.22825949e-01 3.05387039e-01 9.39249570e-01 9.21866768e-01\n",
            "  6.73925265e-01 1.56253921e-01 9.08214835e-01 2.48979879e-01\n",
            "  9.15482445e-02 3.73987083e-01 9.16784751e-01 7.84808356e-01\n",
            "  5.81659097e-01 3.14070676e-01 7.88123847e-01 1.89245926e-01\n",
            "  1.01705457e-01 9.32125808e-01 7.61899672e-02 9.33073996e-01\n",
            "  4.72652677e-01 1.87046652e-01 1.73441609e-01 2.50860144e-01\n",
            "  1.47593922e-01 5.25948367e-01 5.39111571e-01 7.05701976e-01\n",
            "  3.88388572e-01 2.26199900e-02 1.10365619e-01 5.43472214e-03\n",
            "  2.82807485e-01 8.55733027e-01 5.16260139e-01 7.86877429e-02\n",
            "  6.83932083e-01 4.30974677e-01 3.51608009e-01 3.85660169e-01\n",
            "  3.18895862e-03 3.84386770e-01 7.90877951e-01 9.84435470e-01\n",
            "  8.71913347e-01 4.30319902e-01 4.45699440e-01 1.40481550e-01\n",
            "  7.47338891e-02 7.62538397e-02 9.43205033e-01 8.51266971e-01\n",
            "  1.74999987e-01 1.34695481e-01 3.34119052e-01 1.06489554e-01\n",
            "  2.54592868e-01 4.81562461e-01 2.33983963e-01 7.19664239e-01\n",
            "  9.49114854e-01 5.49933240e-01 6.25083785e-01 4.04572974e-01\n",
            "  8.16047537e-01 8.79019512e-01 2.34360931e-01 3.01552421e-01\n",
            "  5.86985016e-01 4.81776270e-01 6.45291628e-01 7.22980802e-01\n",
            "  3.61772949e-01 9.03559484e-01 1.80262122e-01 9.38005574e-01\n",
            "  9.77317850e-01 7.35606471e-01 7.48908504e-01 6.75658303e-01\n",
            "  2.49101901e-01 6.28565017e-01 7.85931080e-02 5.98580643e-01\n",
            "  3.11599109e-01 6.36667608e-01 7.00729517e-01 5.28341341e-01\n",
            "  9.67074148e-01 8.87196415e-01 5.11953507e-01 2.84478437e-01]\n",
            " [6.58082033e-01 3.45342799e-01 8.96641741e-01 9.61692837e-01\n",
            "  7.83616595e-01 8.72687629e-01 7.96427889e-01 7.05288891e-01\n",
            "  1.50363181e-02 7.34684171e-02 8.29524404e-01 5.15641950e-01\n",
            "  5.76430270e-01 3.00707109e-02 8.64791993e-01 8.12297707e-01\n",
            "  4.12363054e-01 7.59938228e-01 6.17306567e-01 9.07296923e-01\n",
            "  9.95709500e-01 3.40497323e-01 8.73186276e-02 2.05806652e-01\n",
            "  1.07313900e-01 9.26283293e-01 4.02597508e-01 5.88356742e-01\n",
            "  7.70673778e-01 8.68945528e-01 2.66013302e-01 2.79901491e-01\n",
            "  6.84028588e-01 4.95284018e-01 5.72587738e-01 2.98702446e-01\n",
            "  3.98146925e-01 8.40984171e-02 3.56448644e-01 8.64887689e-01\n",
            "  1.20259407e-01 2.73628050e-01 5.07347868e-01 4.13139372e-01\n",
            "  6.46213366e-01 4.07162386e-01 4.31834744e-01 6.47439323e-01\n",
            "  5.28125554e-01 9.29502497e-01 6.21606669e-01 7.93246686e-01\n",
            "  3.91720880e-02 3.41224852e-02 1.17831161e-01 8.54894848e-02\n",
            "  8.38799906e-01 1.59809767e-01 7.31194476e-01 8.18117669e-01\n",
            "  1.77148953e-02 9.21902590e-01 5.86671945e-01 1.64900677e-01\n",
            "  8.95761438e-01 6.97596415e-01 5.63910583e-01 8.42327988e-01\n",
            "  6.60881794e-01 2.96525331e-01 4.71522715e-01 4.84622259e-01\n",
            "  1.86380840e-01 9.81615954e-02 3.81667839e-01 8.28449699e-01\n",
            "  2.21055875e-01 6.61252983e-01 1.81040846e-01 8.32601945e-01\n",
            "  7.09724688e-01 1.67278855e-01 6.79633122e-01 7.97721420e-02\n",
            "  2.88060743e-01 1.81772239e-01 1.85549947e-01 1.27224006e-01\n",
            "  5.18393026e-01 5.44969671e-01 3.96632059e-01 3.81186320e-02\n",
            "  6.40952814e-01 4.01307941e-01 1.55927573e-01 3.23468025e-01\n",
            "  4.24789744e-01 6.11008201e-02 7.49598006e-01 3.66563627e-01]\n",
            " [6.60619225e-01 7.43490862e-01 7.34840779e-02 2.53852203e-01\n",
            "  5.71378995e-01 6.62763047e-02 4.44786899e-01 8.23332513e-01\n",
            "  8.46922572e-01 5.02408955e-01 3.10409582e-01 3.57260683e-01\n",
            "  7.12204497e-01 7.60252586e-01 5.28517203e-01 3.40055148e-02\n",
            "  9.53841932e-01 4.79683083e-01 8.66918588e-02 2.60193930e-01\n",
            "  9.17221501e-01 4.07499990e-01 5.15911345e-01 5.33598729e-01\n",
            "  8.80991136e-01 4.49403100e-01 5.79174112e-01 2.28299178e-01\n",
            "  5.44847980e-01 6.58265681e-01 4.53617717e-01 6.93116951e-01\n",
            "  3.50660688e-01 4.18750139e-01 5.12337036e-01 6.15176409e-01\n",
            "  5.68411655e-01 5.93519627e-02 5.98062348e-01 1.20632916e-01\n",
            "  5.18921079e-03 1.68608626e-02 3.33867533e-01 2.19053858e-01\n",
            "  7.12985201e-01 7.43537557e-01 3.90663898e-02 7.81342631e-01\n",
            "  5.89117320e-01 8.20580979e-01 5.59279625e-01 5.08851263e-02\n",
            "  5.55801231e-01 9.10127952e-01 7.98046656e-03 1.00607048e-01\n",
            "  8.69854525e-01 4.22539682e-01 8.46314283e-01 2.24741226e-01\n",
            "  2.07833819e-01 8.70293393e-01 5.34619053e-01 6.51919505e-01\n",
            "  2.44867187e-01 6.24190994e-01 6.75837927e-01 2.06921079e-01\n",
            "  9.09461709e-01 7.43781604e-01 9.44220416e-01 7.73524228e-01\n",
            "  6.42140702e-01 9.79653276e-01 9.00190536e-01 7.00184902e-01\n",
            "  1.11077054e-01 4.12658385e-01 5.21375040e-01 9.85596339e-01\n",
            "  3.55754657e-01 1.65686601e-01 2.32931794e-01 3.89503816e-01\n",
            "  5.78543978e-01 9.92117332e-01 2.43821036e-01 1.36816128e-02\n",
            "  6.90324684e-01 9.46210563e-03 6.83692753e-01 9.96380810e-01\n",
            "  3.82191937e-01 7.48531931e-01 5.64546589e-01 3.91325693e-01\n",
            "  6.34348805e-01 5.62012793e-02 9.35369909e-01 7.96666894e-01]\n",
            " [5.65411152e-01 6.49261952e-01 8.93345244e-01 8.91112916e-01\n",
            "  6.20993155e-01 3.76073301e-01 9.66340795e-01 9.60042111e-01\n",
            "  7.52842682e-02 2.81118748e-01 5.04343550e-01 6.60884020e-01\n",
            "  6.46347366e-01 3.81857904e-01 4.42321020e-01 5.48475635e-01\n",
            "  4.70123082e-02 5.36675018e-01 2.44144491e-01 7.93920994e-01\n",
            "  6.02505251e-01 9.20709308e-01 1.10471291e-01 7.62448374e-01\n",
            "  5.35698268e-01 7.83651175e-01 9.95994158e-01 6.03172219e-02\n",
            "  4.83444422e-01 3.56625537e-01 4.10936019e-01 6.85762339e-01\n",
            "  9.58006707e-01 1.07118566e-01 3.57751351e-01 3.60320447e-01\n",
            "  9.74529462e-01 7.19299687e-02 5.65026405e-01 8.76829246e-01\n",
            "  5.46308874e-01 5.47418274e-02 8.89895882e-01 5.22976484e-01\n",
            "  8.47097251e-01 9.80661138e-01 4.51102050e-01 9.43641817e-01\n",
            "  7.94509584e-01 6.45734603e-01 6.80405568e-01 4.53919370e-02\n",
            "  9.78330382e-01 2.16531131e-01 6.01792763e-01 4.23685420e-01\n",
            "  6.97159371e-01 4.85225062e-01 4.79975911e-02 7.13642128e-01\n",
            "  9.27120896e-01 7.04103463e-01 9.54032611e-01 8.28740783e-01\n",
            "  6.53126397e-01 8.37255535e-01 2.79522021e-01 2.77125608e-01\n",
            "  5.29291147e-02 6.05172502e-01 6.81019669e-03 3.32957989e-01\n",
            "  1.07669522e-01 5.62710782e-01 7.95330038e-01 8.49870875e-01\n",
            "  6.22171408e-01 4.14276610e-01 2.52982969e-01 5.79787519e-01\n",
            "  9.35120193e-01 9.26570299e-01 1.18166944e-01 2.26923215e-01\n",
            "  8.56446425e-01 3.11689904e-01 9.93251370e-01 3.57447289e-01\n",
            "  2.88212714e-01 2.08790493e-01 9.22823403e-01 1.79681011e-01\n",
            "  4.27979477e-01 1.86502922e-01 4.71700460e-01 5.20548571e-01\n",
            "  5.01104598e-01 2.26702460e-01 1.16115729e-01 6.89192225e-02]\n",
            " [2.46578840e-01 9.70089552e-01 4.69696258e-01 1.99902985e-01\n",
            "  8.53522167e-01 6.13288774e-01 2.89220684e-01 4.84811262e-01\n",
            "  6.45705149e-01 5.15394695e-01 3.28489417e-01 3.25850321e-01\n",
            "  9.76330500e-01 6.37026462e-01 7.09077769e-01 5.24267994e-03\n",
            "  5.57473880e-01 8.56523679e-01 4.66899881e-01 9.46600704e-01\n",
            "  8.74649404e-01 6.50335528e-01 3.11221283e-02 7.21808474e-01\n",
            "  3.79374783e-01 9.27151441e-01 5.30824890e-01 9.42433620e-01\n",
            "  9.44614683e-01 5.22786002e-01 2.74629955e-01 5.31354000e-01\n",
            "  4.93532641e-01 2.04380597e-01 1.86467391e-02 3.12262848e-01\n",
            "  8.06654877e-01 4.27181841e-01 4.80012478e-01 5.85234633e-01\n",
            "  8.06161572e-01 8.93074287e-01 7.07813703e-01 5.93885595e-01\n",
            "  2.39689758e-01 9.56370910e-01 1.56061371e-01 4.82513334e-01\n",
            "  2.93787863e-02 1.70594482e-01 9.83104940e-01 7.21922067e-01\n",
            "  2.82379271e-03 5.69465246e-01 6.30648681e-01 1.11623491e-01\n",
            "  1.48874212e-01 8.54715571e-02 3.37595916e-01 6.57290272e-01\n",
            "  8.19851390e-03 1.67578410e-01 2.25402022e-01 3.48142993e-02\n",
            "  1.86723362e-01 7.95108967e-01 4.33361579e-01 1.39936260e-02\n",
            "  2.09058304e-01 8.25736530e-01 7.76205902e-01 6.30406345e-01\n",
            "  8.16478220e-01 7.53473757e-01 4.36748090e-02 3.62146301e-01\n",
            "  7.12665219e-02 3.48011396e-01 5.96781283e-02 4.40609305e-02\n",
            "  8.77667130e-01 7.08529025e-01 9.88521624e-01 2.06423861e-02\n",
            "  9.06280528e-01 5.04934958e-03 5.86958877e-02 4.98291972e-01\n",
            "  7.86025390e-01 1.22242031e-01 5.55030805e-01 9.67526057e-01\n",
            "  1.52887942e-01 2.74336073e-01 2.15872552e-01 5.20096666e-02\n",
            "  6.34777235e-02 8.66549544e-01 4.44386560e-01 7.90692404e-01]\n",
            " [9.78746217e-01 1.48245285e-01 8.02186742e-02 6.15749793e-01\n",
            "  6.71141923e-01 4.54474979e-01 4.77606417e-01 7.96326969e-01\n",
            "  6.62777034e-01 1.02615580e-01 5.60486556e-01 1.48022167e-01\n",
            "  9.64137255e-01 1.49760655e-01 5.83650535e-01 3.88962166e-01\n",
            "  8.01768538e-01 6.41207287e-01 9.07260084e-01 3.09431879e-01\n",
            "  8.30919001e-01 4.72167037e-01 2.02161916e-01 5.81034486e-01\n",
            "  4.12784773e-01 9.53870145e-01 6.60111363e-01 8.63491755e-01\n",
            "  8.96175240e-01 1.82714008e-01 4.06867024e-01 1.36417424e-02\n",
            "  7.74711468e-01 9.80159936e-01 9.43550204e-01 3.73992835e-01\n",
            "  4.77228630e-01 5.31386496e-01 3.03499927e-01 3.18812096e-01\n",
            "  7.53588897e-01 8.57120706e-01 8.14562621e-01 5.53227988e-01\n",
            "  9.16861822e-01 5.88481745e-01 2.02218572e-01 9.98676998e-01\n",
            "  1.34559135e-01 4.27584502e-01 1.87850987e-01 4.57940808e-01\n",
            "  5.30126036e-01 5.83054656e-01 3.10177858e-01 2.30115776e-01\n",
            "  9.82192232e-01 9.31590854e-01 5.56607977e-01 8.50332755e-02\n",
            "  4.83572092e-01 3.81890869e-01 6.47953223e-01 2.40195067e-01\n",
            "  5.90426534e-01 2.53874994e-01 5.97398658e-01 6.42589440e-02\n",
            "  1.99836489e-01 7.42433585e-01 6.95067851e-01 6.37659807e-01\n",
            "  7.31370632e-01 3.87006485e-01 9.83044853e-01 3.51366894e-01\n",
            "  2.19019591e-01 4.17830101e-01 2.89037062e-02 7.42479272e-01\n",
            "  8.23680442e-01 8.21106954e-01 3.72341515e-01 6.48230548e-01\n",
            "  2.96111652e-01 5.96449746e-01 5.33445326e-01 6.86680155e-02\n",
            "  5.61816658e-01 6.87338840e-01 8.74893615e-01 5.02619169e-01\n",
            "  4.13760751e-01 1.06640971e-01 5.79763205e-01 3.00369299e-01\n",
            "  1.24964683e-01 9.36875143e-01 6.24088265e-01 6.58123317e-01]\n",
            " [9.53253981e-01 2.57548296e-01 6.52624531e-01 4.95804551e-01\n",
            "  2.30561545e-01 4.38486279e-01 3.09381120e-01 5.91479262e-01\n",
            "  2.01261135e-02 7.52726912e-01 7.18850773e-01 4.29580238e-01\n",
            "  9.16569545e-01 3.39930512e-01 3.34349804e-02 2.99794941e-01\n",
            "  8.68828430e-02 8.01260588e-01 3.45998249e-01 4.97055506e-01\n",
            "  8.13186490e-01 3.28475317e-01 7.76758669e-01 8.59484704e-01\n",
            "  3.53213124e-01 4.18069197e-01 1.45203274e-01 3.15430592e-01\n",
            "  7.52129507e-01 1.97184376e-01 7.96850452e-01 1.67502547e-01\n",
            "  1.10270459e-02 1.25215665e-01 8.41238072e-01 4.06273700e-01\n",
            "  8.08367145e-01 1.85971880e-01 9.87342949e-01 7.05611559e-01\n",
            "  2.90117889e-01 8.37694107e-01 4.77188659e-01 2.11574621e-01\n",
            "  9.53542250e-01 5.29968022e-01 3.03096815e-01 4.33722242e-01\n",
            "  3.49933015e-01 1.55189952e-02 5.71378318e-01 9.21203007e-01\n",
            "  3.63439609e-01 6.94749697e-01 9.32003210e-01 3.08968194e-01\n",
            "  4.45634299e-01 1.48486019e-01 3.08362730e-01 5.82314391e-01\n",
            "  9.37973982e-02 4.46474903e-01 3.55853788e-01 6.87754721e-01\n",
            "  5.31569095e-01 7.36866514e-01 2.31105086e-01 1.25068180e-01\n",
            "  3.61857952e-01 2.75231963e-01 4.28565136e-01 1.92438534e-01\n",
            "  7.04222054e-01 9.76229881e-01 9.14038857e-01 4.27199519e-01\n",
            "  3.08507623e-01 3.32254432e-01 4.70657091e-01 5.85788814e-01\n",
            "  7.34744974e-01 6.80145705e-01 2.55924197e-01 9.92069310e-01\n",
            "  1.80280797e-01 3.48393462e-01 6.48194796e-01 5.06139378e-01\n",
            "  7.94363987e-01 7.45271077e-02 5.83046105e-01 4.12961031e-01\n",
            "  6.72368056e-01 9.95631788e-01 2.91901146e-01 2.57466248e-01\n",
            "  1.80359454e-01 6.13204203e-01 8.13628510e-01 9.34479671e-01]\n",
            " [6.23627970e-01 7.91815134e-02 6.23743226e-01 9.17609062e-01\n",
            "  1.60704010e-01 1.76235998e-02 8.36584168e-01 3.43061342e-01\n",
            "  8.89134187e-01 3.55410297e-01 3.67349971e-01 9.86606616e-01\n",
            "  5.84872062e-01 4.44330145e-01 3.85343553e-01 7.86113890e-01\n",
            "  3.03004689e-01 8.59411963e-01 3.33548022e-01 7.17647803e-01\n",
            "  5.52041459e-01 3.04599167e-01 4.53220162e-01 5.81182712e-02\n",
            "  5.44269174e-01 4.52884925e-01 9.84804718e-01 3.38264292e-01\n",
            "  9.45072908e-01 3.13595444e-01 8.95513833e-01 1.05160997e-01\n",
            "  4.13227585e-01 1.30281219e-01 2.54611422e-01 9.46609416e-01\n",
            "  2.98502043e-01 3.71049901e-01 9.99794320e-01 4.38158553e-01\n",
            "  3.67463622e-02 4.84638851e-01 8.53287641e-01 2.87519862e-01\n",
            "  9.19833334e-02 2.48638151e-01 8.97249550e-01 4.95144312e-01\n",
            "  5.42058973e-01 9.43801853e-01 3.16871376e-01 2.06392314e-01\n",
            "  1.54761099e-01 6.34850471e-01 8.37770838e-01 1.25362463e-01\n",
            "  3.03522353e-01 3.03869673e-01 9.39882038e-01 6.39837336e-02\n",
            "  5.60662826e-01 3.90791123e-01 3.37073656e-01 2.76145101e-01\n",
            "  5.38092660e-01 6.79033342e-01 2.58999471e-01 3.57587682e-01\n",
            "  1.13122093e-01 1.04204983e-01 7.61869840e-01 4.32743017e-02\n",
            "  8.27481916e-01 1.95331334e-01 5.80358440e-01 3.71329579e-01\n",
            "  7.78836852e-01 8.60010545e-01 6.95233918e-01 2.22195702e-01\n",
            "  4.57388729e-01 8.54897634e-01 7.17760803e-01 2.61874867e-01\n",
            "  1.33558568e-01 2.98228683e-01 8.72240203e-01 1.51967174e-01\n",
            "  2.24297966e-02 9.47843091e-01 3.65105235e-01 5.01938225e-01\n",
            "  3.55590260e-01 2.52555992e-01 4.91685310e-01 8.78733255e-01\n",
            "  4.89579067e-01 9.08265498e-01 6.35031103e-01 6.38440670e-01]\n",
            " [2.04267973e-01 6.53521636e-01 7.04769190e-01 2.25636820e-01\n",
            "  9.09385034e-01 6.17325593e-01 8.02054070e-01 6.13364156e-01\n",
            "  5.00708451e-01 3.52281343e-01 3.89792772e-01 1.81236106e-01\n",
            "  9.76813695e-01 7.23421501e-01 6.35633305e-01 3.33344895e-02\n",
            "  8.88132890e-01 5.66767628e-01 8.67132054e-01 4.92450217e-01\n",
            "  3.38167182e-01 4.11320524e-01 1.84832821e-02 1.41596261e-02\n",
            "  2.33000881e-01 6.47324214e-01 8.36019166e-01 7.76546244e-02\n",
            "  7.62723031e-01 4.10456217e-01 4.92731223e-01 5.47368395e-01\n",
            "  7.83200510e-02 5.26064828e-01 6.45212702e-01 4.68115938e-01\n",
            "  2.77240447e-01 3.39127001e-01 3.06583526e-01 8.40490984e-01\n",
            "  8.98336660e-01 7.18641025e-01 1.24962564e-01 1.77096768e-01\n",
            "  3.99797983e-01 2.51013198e-01 4.21233198e-01 2.27141191e-01\n",
            "  8.35994882e-01 1.19330099e-01 7.15542466e-01 8.81771997e-01\n",
            "  8.40537752e-01 9.07729501e-01 1.26297620e-01 3.69477114e-01\n",
            "  2.17192926e-02 8.50881382e-01 9.01746724e-01 2.24191724e-01\n",
            "  1.29147516e-01 7.88254086e-01 4.38174866e-03 6.97337245e-01\n",
            "  5.04147819e-01 4.21170470e-02 7.03881110e-01 2.74970310e-01\n",
            "  8.35986031e-02 8.55539736e-01 2.49963535e-01 1.02702182e-01\n",
            "  5.36473481e-01 9.67923715e-01 2.46097762e-01 4.37497438e-01\n",
            "  3.37131853e-01 4.96088195e-01 4.31438628e-01 7.41396475e-01\n",
            "  5.90468528e-01 6.84837994e-01 2.42213449e-01 1.82482945e-01\n",
            "  2.31766404e-01 1.73693397e-01 2.58444896e-01 3.04023656e-01\n",
            "  1.81401886e-01 6.10354274e-01 6.41221062e-01 5.85410927e-01\n",
            "  9.21853081e-01 6.62538280e-01 7.88436164e-01 2.40995857e-01\n",
            "  9.56596569e-01 2.63059091e-01 3.63410471e-01 3.85439881e-01]\n",
            " [3.06983805e-01 9.98814219e-01 1.23072494e-01 8.28727921e-01\n",
            "  6.34598253e-01 2.42365981e-01 8.92153515e-01 8.69921719e-01\n",
            "  6.72379010e-01 8.91397179e-01 8.70535824e-01 7.93823386e-01\n",
            "  4.76894917e-01 9.05342567e-01 2.89506743e-01 5.18374090e-01\n",
            "  2.66609937e-01 2.52051162e-01 8.27527295e-01 7.76935534e-01\n",
            "  2.37802411e-01 3.38865016e-01 5.74721120e-01 7.34868435e-01\n",
            "  4.44287110e-01 9.20061428e-01 1.99674492e-01 9.80202163e-01\n",
            "  6.68534701e-01 5.74358672e-01 1.11793782e-01 3.44933426e-01\n",
            "  3.14466810e-01 6.98937363e-01 4.17922502e-01 5.01114337e-01\n",
            "  9.12013634e-02 5.19579586e-01 7.97724388e-01 8.30498579e-01\n",
            "  6.15944079e-01 9.63794809e-01 8.38407495e-01 1.51441150e-01\n",
            "  8.96985144e-01 7.14087532e-01 3.35862262e-01 4.00964691e-01\n",
            "  6.38733038e-01 2.58662114e-01 8.96871366e-01 5.40152607e-01\n",
            "  1.74880946e-01 7.31947839e-01 9.05003579e-01 4.80343060e-01\n",
            "  2.58824386e-01 7.32330772e-01 3.03774704e-01 7.20086666e-01\n",
            "  2.82398477e-01 7.70685411e-01 5.54497590e-01 8.19613247e-01\n",
            "  6.23369600e-01 5.00882827e-01 6.49146169e-01 8.45925814e-01\n",
            "  7.40848886e-01 7.17735755e-01 8.95461507e-01 1.49640112e-01\n",
            "  5.88584013e-01 7.35255685e-01 2.14605763e-01 6.50998281e-01\n",
            "  7.50127193e-01 2.95610946e-01 3.44719771e-01 9.03472984e-01\n",
            "  6.37187809e-01 3.25323695e-03 1.39352478e-01 9.84012257e-01\n",
            "  8.97583220e-01 4.19077232e-02 9.93542867e-01 9.18240484e-01\n",
            "  5.82214755e-01 4.19690121e-01 2.52841961e-01 9.57318390e-01\n",
            "  8.01576154e-01 2.09709222e-01 7.01545849e-01 8.22862739e-01\n",
            "  8.11130407e-01 9.71929385e-01 3.78049342e-01 5.56319719e-01]\n",
            " [7.51339137e-01 2.51265070e-01 9.23377536e-01 2.23864788e-01\n",
            "  8.58208744e-01 3.85213956e-01 8.09834021e-01 2.07980645e-01\n",
            "  9.30015083e-01 8.76136890e-01 1.22380605e-02 9.99577168e-01\n",
            "  9.36757477e-01 6.84354939e-01 9.73275583e-01 3.63757825e-01\n",
            "  9.80490746e-01 7.97388781e-01 8.11185970e-01 8.41695635e-01\n",
            "  7.22304846e-01 8.51970827e-01 6.77819603e-01 5.95239486e-01\n",
            "  4.16437111e-01 2.22096061e-01 1.91112790e-01 1.40288308e-01\n",
            "  9.21165134e-01 2.12096366e-01 4.34027999e-01 3.81080586e-01\n",
            "  2.41276618e-01 2.60432575e-01 9.07247022e-01 5.73728116e-01\n",
            "  7.10516293e-01 9.75140590e-01 8.68607986e-02 3.73510888e-01\n",
            "  3.83946786e-01 5.27063378e-01 2.17450785e-01 3.00477255e-01\n",
            "  1.60985761e-01 4.73968829e-01 8.57571112e-01 6.82870785e-01\n",
            "  8.73898241e-01 1.12904458e-01 4.23784354e-01 4.67861625e-02\n",
            "  7.83340924e-01 9.47789960e-01 7.23628525e-02 1.60822575e-01\n",
            "  3.14265876e-01 6.76934790e-01 8.41305730e-01 3.16625748e-01\n",
            "  8.36358417e-01 3.78400315e-01 4.20128941e-01 6.10506306e-01\n",
            "  6.42328002e-01 3.76370501e-01 2.87523552e-01 9.76383007e-02\n",
            "  1.09182245e-01 8.11081061e-01 9.99632111e-01 9.55438005e-01\n",
            "  2.98541504e-01 1.28328263e-01 5.97567942e-01 4.34032445e-02\n",
            "  9.62648357e-01 2.57288962e-01 2.04490046e-01 5.31009979e-01\n",
            "  6.73949911e-01 7.15245509e-01 5.85722321e-01 5.51213808e-02\n",
            "  5.88284732e-01 3.34705587e-01 1.12053062e-01 7.89786364e-01\n",
            "  2.94540029e-01 2.27430294e-01 1.61923002e-01 5.93843929e-01\n",
            "  7.48566838e-01 7.83752071e-02 2.03093178e-01 1.18435115e-01\n",
            "  8.81122660e-01 4.68442165e-01 7.01589608e-01 4.37747668e-02]\n",
            " [7.64324202e-01 3.94787916e-01 2.45909840e-01 9.83433804e-01\n",
            "  6.97620054e-02 9.01295277e-01 9.62205609e-01 9.25868746e-01\n",
            "  5.37497315e-01 6.63679360e-01 5.17899766e-01 8.47569358e-03\n",
            "  4.11994834e-01 6.34504198e-01 8.00445164e-02 4.31120339e-02\n",
            "  1.19246677e-01 2.47906588e-02 6.63658737e-01 9.47266693e-01\n",
            "  6.55846965e-01 5.12000957e-01 4.13943332e-02 5.01256669e-01\n",
            "  5.84384952e-02 6.52180704e-01 6.46232177e-01 8.15398027e-01\n",
            "  9.38958311e-01 1.44573113e-01 4.13402442e-01 7.25917398e-01\n",
            "  2.32299660e-02 6.60515498e-02 5.32719103e-02 6.84965490e-01\n",
            "  3.84866205e-01 4.13396395e-01 9.17153118e-02 9.71935903e-01\n",
            "  4.16063579e-01 6.38037869e-01 6.71974438e-01 6.84484769e-01\n",
            "  2.07413266e-01 8.72824463e-01 4.93045676e-01 5.95668105e-01\n",
            "  8.49563796e-01 9.35233732e-01 5.72721598e-01 1.16652785e-01\n",
            "  7.52615195e-01 6.89165210e-01 2.37000247e-02 4.33714047e-01\n",
            "  3.80156104e-01 3.61518569e-01 7.62182158e-01 9.40283741e-01\n",
            "  5.59359178e-03 8.47501112e-01 3.45082463e-01 2.71262770e-02\n",
            "  2.36172589e-01 8.88892207e-01 8.65826055e-01 9.18247301e-01\n",
            "  8.95831537e-01 7.69854194e-02 4.64134613e-01 4.51552081e-01\n",
            "  5.83774155e-01 8.23874027e-01 3.82263153e-01 1.38011679e-02\n",
            "  7.39823418e-01 7.44745392e-01 1.24297031e-01 8.18011359e-01\n",
            "  9.20883232e-01 4.87564387e-01 6.04783495e-01 4.70754157e-01\n",
            "  2.86656790e-01 6.15525758e-01 2.66462665e-01 1.96068842e-01\n",
            "  6.16531482e-01 7.01249452e-01 6.17914928e-01 8.86051069e-01\n",
            "  4.75418044e-01 8.26505291e-01 8.09497769e-01 6.56720533e-01\n",
            "  2.70188479e-01 3.12510472e-01 6.67883251e-01 3.46338636e-01]\n",
            " [3.10775723e-02 1.45906499e-01 8.83782633e-01 6.08160143e-01\n",
            "  3.83219024e-01 7.34467111e-02 7.65004598e-01 8.59043947e-01\n",
            "  6.22157039e-01 5.84175613e-01 9.12813709e-01 1.82878564e-01\n",
            "  2.76846894e-01 3.81876757e-01 6.83925535e-01 1.51259922e-01\n",
            "  5.45216516e-01 4.37744654e-01 1.16744573e-01 5.71925208e-01\n",
            "  3.57509722e-01 5.76656501e-01 5.71126151e-01 8.56268619e-01\n",
            "  4.55266114e-01 1.44811179e-01 9.58143424e-01 8.19909075e-01\n",
            "  3.15986793e-01 6.56311563e-01 1.55160941e-01 3.72448694e-01\n",
            "  6.72000066e-01 1.13293754e-01 8.12342236e-01 9.54232514e-03\n",
            "  4.83190404e-01 8.41449545e-01 6.06827679e-02 2.31457334e-01\n",
            "  4.26263025e-01 4.47249154e-01 5.17487225e-01 6.93769298e-01\n",
            "  6.84575246e-01 3.14226176e-01 5.29188092e-01 3.99854219e-01\n",
            "  8.03316508e-01 9.87243735e-01 7.49740902e-01 6.68789140e-01\n",
            "  5.68260453e-01 3.30697113e-01 7.73846141e-01 5.23565144e-01\n",
            "  3.75787745e-01 4.78392233e-01 8.39152649e-01 5.23685645e-02\n",
            "  7.00121189e-01 4.63586575e-01 6.77695516e-01 7.80414035e-01\n",
            "  5.33514544e-02 9.59667045e-01 8.31881310e-01 3.40790731e-01\n",
            "  8.89370847e-01 5.19089661e-01 7.17394834e-01 6.40107213e-02\n",
            "  7.85961119e-01 1.17302656e-01 3.09590266e-01 8.17021318e-01\n",
            "  6.61475667e-01 4.69913502e-01 7.84518152e-01 8.36593804e-01\n",
            "  4.88905102e-01 4.22270125e-01 4.32732649e-01 2.80825384e-02\n",
            "  4.50858566e-01 5.42449771e-02 4.52889219e-01 7.68313817e-01\n",
            "  7.64755192e-01 1.44191236e-01 8.24775597e-01 2.88925642e-01\n",
            "  4.13810492e-01 2.00449834e-01 2.72246645e-01 3.05390998e-02\n",
            "  9.41105646e-01 7.08022100e-01 3.74303520e-02 9.24900975e-01]\n",
            " [6.92357470e-01 1.04705563e-01 9.20838348e-01 1.48040461e-01\n",
            "  7.55891344e-01 5.76458033e-01 9.05908188e-01 7.18267412e-01\n",
            "  2.64037717e-01 6.73751040e-01 8.79116592e-01 8.49323335e-01\n",
            "  5.44288160e-01 5.55669336e-01 5.33574992e-01 9.43394356e-01\n",
            "  3.26483339e-01 7.17508659e-01 9.02261936e-01 8.35187156e-01\n",
            "  2.52992043e-02 8.19781269e-01 4.19072321e-01 1.18750714e-01\n",
            "  7.34252315e-01 5.20757160e-01 5.79885698e-01 3.97793503e-01\n",
            "  2.78685692e-01 2.63887463e-01 6.35573944e-01 9.51744594e-01\n",
            "  3.24106862e-01 1.86177027e-01 6.70187173e-01 4.89248115e-01\n",
            "  7.43110986e-01 9.55569195e-01 9.57191037e-01 7.79906019e-01\n",
            "  6.26953642e-01 7.15747228e-01 4.92115387e-01 2.69292766e-01\n",
            "  7.70360590e-01 9.12937784e-01 3.65120426e-02 8.26790628e-01\n",
            "  5.74866886e-01 4.10283655e-01 5.68306941e-01 6.57783396e-01\n",
            "  1.37939780e-01 7.93105831e-01 4.75277102e-03 7.10992292e-01\n",
            "  4.90417009e-01 9.15443433e-01 3.78714593e-01 6.89265408e-01\n",
            "  8.56410237e-01 5.78881095e-02 8.55117236e-01 4.31443034e-01\n",
            "  4.62400401e-01 4.07716831e-01 9.81811163e-01 2.37379625e-01\n",
            "  6.60557238e-01 9.59484121e-01 1.87242786e-01 6.51344267e-01\n",
            "  5.30088380e-01 8.18932957e-01 7.71411668e-01 6.18405522e-01\n",
            "  2.53534013e-03 2.07303354e-01 4.07364649e-01 1.46544883e-01\n",
            "  3.56279356e-01 9.60477562e-01 9.32335805e-01 5.76379449e-02\n",
            "  1.69224565e-01 2.50365442e-01 8.09267138e-01 6.62433574e-01\n",
            "  8.02460901e-01 1.24266198e-02 3.67772097e-01 1.53060540e-01\n",
            "  8.70410663e-01 1.49360795e-01 4.90984465e-01 2.55682538e-01\n",
            "  6.70661199e-01 5.23921206e-01 9.19542054e-01 6.42376814e-01]\n",
            " [5.49588762e-01 3.79547996e-01 5.68308550e-01 6.67477230e-01\n",
            "  6.57495092e-02 2.22820045e-01 2.23470297e-01 4.57279544e-01\n",
            "  1.93420378e-01 2.20605928e-01 5.70052487e-01 2.65425344e-01\n",
            "  2.17096225e-01 7.88817978e-01 9.74638526e-01 7.44498006e-01\n",
            "  4.02393652e-01 5.29303135e-01 1.99313728e-01 1.83942940e-02\n",
            "  6.36753219e-01 4.96670551e-01 4.87042142e-01 3.65439654e-01\n",
            "  9.55932767e-01 3.85039749e-01 4.66033471e-01 8.50012583e-02\n",
            "  7.96966865e-01 9.44595936e-01 8.72058275e-01 1.21318086e-01\n",
            "  4.52650724e-01 4.13897749e-01 7.87044935e-02 5.84086166e-01\n",
            "  2.07893056e-01 8.54912018e-01 5.60027624e-01 7.19088746e-01\n",
            "  6.29019902e-01 7.94799798e-01 9.99971197e-01 6.61542808e-01\n",
            "  9.34185751e-02 7.47739693e-01 2.15384176e-01 2.38143801e-01\n",
            "  1.14531697e-01 8.56487495e-01 1.80942896e-01 6.44062360e-01\n",
            "  6.06912070e-01 7.62115645e-01 2.42590969e-01 6.92589326e-01\n",
            "  4.29900434e-01 4.74397300e-01 2.29221523e-01 6.73403726e-01\n",
            "  9.88332965e-01 3.14629544e-01 6.55154881e-01 7.14323852e-01\n",
            "  9.53919499e-01 2.58068827e-02 8.89399754e-01 4.23535104e-01\n",
            "  7.25758217e-01 4.02550109e-01 5.64611619e-01 3.93467932e-01\n",
            "  4.63373745e-01 7.07675753e-01 9.68285944e-01 6.17038566e-02\n",
            "  2.41444865e-01 7.25412244e-01 1.34042348e-02 3.70176447e-01\n",
            "  7.03738409e-01 3.14586644e-01 3.90434382e-01 8.78447581e-01\n",
            "  5.04634930e-01 3.41580502e-01 9.39674703e-01 6.68357461e-02\n",
            "  4.23161609e-01 5.04260639e-02 8.87733299e-01 2.92745600e-02\n",
            "  4.26691726e-01 7.38291495e-02 3.40144073e-01 4.83218041e-01\n",
            "  4.06163929e-01 3.13337015e-01 8.40222326e-01 1.86944812e-01]\n",
            " [1.65870283e-03 2.22605269e-01 8.72788387e-01 6.40859033e-01\n",
            "  8.87834293e-01 1.07436017e-01 5.92381700e-02 9.79752397e-01\n",
            "  7.32067863e-01 7.90736777e-01 9.45660894e-01 5.27328928e-01\n",
            "  6.09418263e-01 2.03697597e-01 6.72972947e-01 1.05571417e-01\n",
            "  2.32516500e-01 7.83140105e-01 4.48038539e-01 6.55867951e-01\n",
            "  4.98063608e-01 5.21935662e-01 7.40600654e-01 7.05284418e-01\n",
            "  2.38487894e-01 4.41622482e-01 4.47651560e-01 2.35315861e-01\n",
            "  7.59826061e-01 4.42331468e-01 5.80597855e-01 6.35026122e-01\n",
            "  2.58827649e-02 4.17902769e-01 6.93932013e-01 1.95538664e-01\n",
            "  7.20834380e-01 2.17028312e-01 2.30554619e-01 5.53010010e-01\n",
            "  8.89463374e-01 2.71156549e-01 1.65320146e-01 7.51586032e-01\n",
            "  8.76495597e-01 8.81288412e-01 7.07498286e-01 3.32262098e-01\n",
            "  6.36443572e-01 2.49697168e-02 5.62300577e-01 3.27123018e-01\n",
            "  6.64284242e-01 1.17682911e-01 2.19431740e-01 4.14200250e-01\n",
            "  2.44328351e-01 6.08738700e-01 2.08658556e-01 8.66732515e-01\n",
            "  9.46584787e-01 9.93012024e-01 9.94523186e-01 6.23034524e-01\n",
            "  1.25389773e-01 2.49927477e-01 9.13601107e-01 6.33066690e-02\n",
            "  8.25847183e-01 3.77679114e-01 5.56884967e-01 9.15524253e-01\n",
            "  1.14502708e-01 5.77685037e-03 3.48113714e-01 4.54984948e-01\n",
            "  8.70851494e-01 6.78079537e-01 2.32795471e-01 1.28364794e-01\n",
            "  8.94545950e-01 6.16861130e-01 8.51759054e-01 8.84095226e-01\n",
            "  2.93374361e-01 5.00358221e-01 1.02723970e-01 9.13035448e-01\n",
            "  7.13070555e-02 9.83702673e-01 8.48595695e-01 1.31100233e-01\n",
            "  3.84984167e-01 3.09779232e-01 2.92775496e-01 1.95002530e-01\n",
            "  9.08441613e-01 6.91598628e-01 1.31556321e-01 5.41103792e-01]\n",
            " [5.16316160e-02 5.02209211e-01 4.70549233e-01 1.34750319e-02\n",
            "  4.59340894e-01 1.77943025e-02 5.44151567e-01 3.02472780e-01\n",
            "  7.66160080e-01 1.51996923e-01 3.59736943e-01 8.23343480e-01\n",
            "  4.53613903e-01 2.01961889e-01 4.69440276e-01 8.41160414e-01\n",
            "  1.58254198e-01 1.27699571e-02 5.74231204e-01 3.80459719e-01\n",
            "  6.60094040e-01 5.13972312e-01 3.88581135e-01 4.29046571e-01\n",
            "  9.28337877e-01 6.60581223e-01 9.93897872e-01 7.70251822e-01\n",
            "  2.51939181e-01 7.09865494e-01 5.81776886e-02 1.59514563e-01\n",
            "  3.79022455e-01 5.12752135e-01 6.92516245e-01 2.39977912e-01\n",
            "  7.90277554e-01 4.50477599e-01 7.48756747e-01 6.82432496e-01\n",
            "  3.84611939e-01 8.03413814e-01 5.93352245e-01 1.06952418e-01\n",
            "  6.14175745e-01 7.04348983e-01 1.86254207e-01 5.26747801e-01\n",
            "  6.74079852e-01 1.83887157e-01 6.45678164e-01 6.52405371e-01\n",
            "  7.24532345e-01 3.66850300e-01 9.63730513e-01 2.14544782e-01\n",
            "  1.90769779e-01 3.87551666e-01 4.20625448e-01 5.10052009e-01\n",
            "  2.00620645e-01 6.28957957e-01 8.73930469e-01 5.71965674e-01\n",
            "  8.31049384e-02 4.11845846e-01 1.30868549e-01 6.28378166e-01\n",
            "  5.45149331e-01 1.49478953e-01 7.37986527e-01 8.95524620e-03\n",
            "  6.65239161e-01 3.34853315e-01 6.70685095e-01 7.40583117e-01\n",
            "  5.89424777e-01 4.75041589e-01 2.96532915e-01 4.41910263e-01\n",
            "  8.33224309e-01 1.80931395e-01 5.54036801e-01 5.48464291e-01\n",
            "  1.74922097e-01 6.85933346e-01 3.29061554e-02 1.66227228e-03\n",
            "  3.45705735e-01 4.42189667e-01 3.21157491e-01 8.58421505e-01\n",
            "  9.01687472e-01 5.78414973e-01 3.54327169e-01 3.86660905e-01\n",
            "  2.18869179e-01 8.26765164e-01 9.15114965e-01 1.73697271e-01]\n",
            " [1.71820788e-01 9.87408320e-01 6.39044661e-01 9.10138636e-01\n",
            "  2.09334840e-01 7.27850337e-01 1.74868748e-01 4.43059119e-02\n",
            "  8.86820565e-01 1.69635535e-01 4.92982754e-01 7.45905868e-01\n",
            "  5.33504735e-01 8.53699952e-02 5.68576360e-02 7.14781412e-01\n",
            "  7.79663800e-01 1.77787266e-01 4.77287246e-01 3.32944034e-02\n",
            "  3.29910510e-01 7.28951484e-01 6.91944099e-01 3.55562736e-01\n",
            "  6.66840330e-01 9.55706389e-01 3.35347724e-01 4.31927506e-01\n",
            "  9.49119878e-01 4.82841108e-01 2.63005639e-01 8.56389991e-01\n",
            "  3.55828910e-01 9.65234673e-01 3.93600169e-01 5.61338049e-01\n",
            "  9.20288964e-01 7.36025755e-01 2.06889303e-01 8.67391427e-02\n",
            "  6.59061787e-01 7.10288889e-02 7.39510404e-01 9.70626410e-01\n",
            "  9.43879201e-01 2.58095172e-01 1.14232955e-01 7.57283470e-01\n",
            "  4.87093330e-01 9.80095450e-01 5.85566818e-01 8.92116636e-01\n",
            "  2.34505446e-01 6.09696680e-01 8.28288163e-02 1.78700332e-01\n",
            "  5.18201141e-02 1.78671016e-01 9.51689999e-01 6.49174419e-01\n",
            "  1.11975530e-01 4.40010720e-01 8.30464987e-01 4.09155678e-01\n",
            "  9.47202385e-01 3.13195323e-01 3.19617169e-01 6.62061115e-01\n",
            "  9.65835049e-01 7.81819661e-01 7.58462465e-01 2.98217551e-01\n",
            "  4.21160692e-01 5.99661616e-01 1.40846273e-01 7.49011937e-01\n",
            "  1.21104512e-01 6.35813063e-02 3.70906707e-01 8.85913087e-01\n",
            "  8.89030847e-01 7.92488736e-01 5.64623623e-01 7.94621415e-01\n",
            "  7.85403038e-01 1.50558393e-01 1.20123452e-01 6.21502538e-01\n",
            "  8.21224737e-01 1.94494115e-01 6.01732994e-01 9.10430378e-01\n",
            "  6.88968520e-02 6.84393865e-01 9.56544192e-01 9.70660528e-01\n",
            "  2.99587789e-01 4.48186025e-01 8.85834722e-01 3.97755838e-01]\n",
            " [9.52309291e-01 5.50547947e-01 7.20265789e-01 5.88212726e-01\n",
            "  4.49186452e-01 2.70183350e-01 4.32500376e-01 6.74682336e-01\n",
            "  5.55181261e-01 2.92063699e-01 1.43247580e-01 8.67998136e-01\n",
            "  9.27615158e-01 4.21000775e-01 3.83781933e-01 3.93003312e-01\n",
            "  4.01927669e-01 1.04170178e-02 3.85637794e-01 9.87098355e-01\n",
            "  2.98401442e-01 2.08962427e-01 8.63116180e-01 7.05960147e-01\n",
            "  5.56333426e-01 2.57347340e-02 1.99969908e-01 9.53481984e-01\n",
            "  4.96175821e-01 2.04280239e-01 2.22798412e-01 2.19440003e-01\n",
            "  4.15978705e-01 3.23485858e-01 3.28706204e-01 5.51629514e-01\n",
            "  2.33983557e-02 9.73601234e-02 2.32058096e-01 3.60328901e-01\n",
            "  9.96061696e-01 7.10231592e-01 4.19179620e-01 6.80695860e-01\n",
            "  7.44003058e-01 8.35903839e-02 9.96340471e-01 3.02933110e-01\n",
            "  8.83006141e-01 6.35319430e-01 4.24217923e-01 9.53874058e-02\n",
            "  5.61275492e-01 2.33933932e-01 5.99619230e-02 4.79936471e-01\n",
            "  9.60923042e-01 6.03034616e-01 5.38833844e-01 9.52573918e-02\n",
            "  7.81714640e-02 5.73826756e-01 6.27040005e-01 8.94237899e-01\n",
            "  6.23026631e-01 6.96167025e-01 7.90131365e-01 5.60026036e-01\n",
            "  6.58757980e-01 1.39269981e-01 6.59950168e-01 7.36282735e-01\n",
            "  1.13209821e-01 4.19721062e-01 8.07031206e-01 9.46823226e-01\n",
            "  9.86739781e-01 2.60008720e-01 4.05021492e-01 2.18063303e-01\n",
            "  9.64038796e-01 1.23085366e-01 6.04741338e-01 4.62579391e-01\n",
            "  2.76117740e-01 6.01923909e-01 5.21812916e-01 7.25805435e-01\n",
            "  6.14381270e-01 8.52485318e-01 8.96050320e-01 4.09358827e-01\n",
            "  1.93357780e-01 5.06212967e-01 6.68067035e-01 5.18384871e-01\n",
            "  8.07904615e-01 2.02427093e-01 7.23590998e-01 7.10099761e-01]\n",
            " [7.41184929e-01 6.38736824e-01 5.94976324e-01 7.67065175e-01\n",
            "  8.39035992e-02 5.67032038e-01 2.24575133e-01 8.09248025e-01\n",
            "  1.95410880e-01 8.01448541e-01 1.75469953e-01 5.13278086e-02\n",
            "  3.45413983e-01 9.37148374e-01 1.68936756e-01 4.98018342e-01\n",
            "  6.71111633e-02 9.53264536e-02 8.92638595e-02 6.65354414e-01\n",
            "  7.78635251e-02 5.04552242e-01 4.77449423e-01 6.40775826e-01\n",
            "  4.25223478e-01 2.82665843e-01 9.59280446e-01 9.16275628e-01\n",
            "  6.70407362e-03 7.29394490e-01 9.52169439e-02 4.46077248e-01\n",
            "  9.50191635e-01 5.35404056e-01 9.92650458e-01 1.17380465e-02\n",
            "  5.10228926e-01 8.66519849e-01 6.30630205e-01 5.71861519e-01\n",
            "  1.43660425e-02 3.14580145e-01 4.37976205e-01 9.20918381e-01\n",
            "  6.59904870e-01 5.54539852e-01 6.06178459e-01 7.50218463e-01\n",
            "  6.89514973e-01 6.74635277e-01 8.59294109e-01 9.88647020e-01\n",
            "  5.85014095e-01 8.48480453e-01 3.01780624e-01 7.88600842e-01\n",
            "  7.24712492e-01 4.96087133e-01 4.86048404e-01 1.13898265e-01\n",
            "  2.75862366e-02 1.47410996e-01 7.67684059e-01 6.44287298e-01\n",
            "  9.26615829e-01 5.06588956e-01 6.41600852e-01 3.13502698e-01\n",
            "  8.73566073e-01 3.68584947e-01 4.45497580e-01 3.95651065e-01\n",
            "  5.20732685e-01 3.03677165e-02 6.55975413e-01 7.58206066e-01\n",
            "  7.16946765e-02 4.22241412e-01 5.56802942e-01 4.52665787e-01\n",
            "  4.59411744e-01 3.73383795e-01 2.18730381e-01 1.12822280e-01\n",
            "  4.27696268e-01 5.35489691e-01 7.35197029e-01 6.58491567e-01\n",
            "  9.09331705e-01 3.96511367e-01 6.65174915e-01 6.19733393e-02\n",
            "  1.16422967e-01 2.99682113e-01 7.48214983e-01 9.90057007e-02\n",
            "  6.99500388e-01 7.49165926e-02 6.29966178e-01 2.38573481e-01]\n",
            " [5.28400851e-01 6.41394713e-01 7.83295684e-01 2.48571819e-01\n",
            "  8.02823222e-01 8.42189679e-01 2.47997750e-01 4.98938647e-01\n",
            "  8.86973775e-01 4.02054768e-01 8.86947653e-01 7.34193934e-01\n",
            "  5.46674140e-01 9.07354844e-02 4.05754709e-01 7.30522709e-01\n",
            "  8.37768963e-01 2.80461193e-01 9.88040649e-01 9.01849538e-01\n",
            "  4.27465357e-02 9.49665474e-01 7.03068170e-01 6.64002359e-01\n",
            "  4.70121050e-01 6.58450661e-01 8.30806985e-01 7.45989448e-01\n",
            "  4.23033595e-01 7.44473353e-01 7.43000591e-01 5.46346815e-01\n",
            "  8.76451800e-01 8.92688946e-01 1.05464018e-01 5.09425320e-01\n",
            "  3.02354810e-01 5.58593969e-01 1.10567696e-02 3.86216124e-01\n",
            "  7.02916370e-01 3.15214958e-02 2.02988522e-01 4.03796812e-01\n",
            "  3.54557353e-01 1.51555704e-01 7.95836841e-01 3.91658964e-01\n",
            "  5.49771659e-01 8.90960818e-01 9.25966919e-01 8.47814533e-01\n",
            "  1.07705211e-01 3.95312831e-01 7.39003593e-01 6.80057728e-02\n",
            "  1.75024095e-01 9.84609585e-01 6.68662232e-01 1.38150178e-01\n",
            "  2.45431344e-01 5.61010084e-01 5.45598850e-01 8.55848016e-01\n",
            "  1.74925162e-02 5.79197371e-01 6.27914479e-01 2.20120515e-01\n",
            "  7.56046948e-01 6.78523836e-01 8.65999248e-01 3.84944266e-01\n",
            "  1.91010857e-01 3.50664028e-01 7.35339738e-01 4.96893018e-01\n",
            "  7.04593800e-01 5.70686214e-01 5.17129480e-01 8.60228490e-01\n",
            "  3.20897655e-01 9.51657428e-01 5.56239086e-01 5.13330292e-01\n",
            "  5.33696458e-01 4.02636018e-01 1.07896855e-01 2.05396638e-01\n",
            "  1.78166469e-02 9.12328477e-01 6.65172288e-01 2.11182639e-01\n",
            "  5.24015991e-01 8.17174203e-01 4.59734667e-01 9.96478907e-01\n",
            "  2.84849258e-01 1.29386313e-01 9.69675875e-01 5.74617721e-01]\n",
            " [8.98354342e-01 7.97127277e-01 1.81404420e-01 9.14282751e-01\n",
            "  8.41974614e-01 2.18126082e-02 6.83531804e-01 6.76144060e-01\n",
            "  1.81849732e-01 9.62791061e-01 2.99310550e-01 2.13462024e-02\n",
            "  7.16875054e-01 9.22231244e-01 2.19401210e-01 6.18792468e-02\n",
            "  3.04463686e-01 9.66838618e-01 4.03394944e-01 3.27750618e-01\n",
            "  5.82348801e-01 8.58114123e-01 4.07697422e-01 1.60474159e-01\n",
            "  7.28424777e-01 4.58078873e-01 2.02940522e-01 2.58047053e-02\n",
            "  8.84921806e-01 3.12996220e-03 6.85825083e-01 1.54397553e-01\n",
            "  5.67061745e-01 3.29474924e-01 7.26096565e-01 2.82570995e-01\n",
            "  4.25264897e-01 1.89691903e-01 3.01402794e-01 5.73454443e-01\n",
            "  6.87218095e-01 4.09737373e-01 2.37492318e-01 6.68204399e-02\n",
            "  8.68207354e-01 4.16335135e-01 2.76855033e-01 4.20584926e-01\n",
            "  7.44783002e-01 6.90945085e-02 6.54682610e-01 7.02315937e-01\n",
            "  8.03740147e-02 9.67054520e-01 3.84097266e-01 4.94275608e-01\n",
            "  9.68019803e-01 1.01819817e-01 7.58996793e-01 5.26069445e-01\n",
            "  1.23155511e-01 1.21663307e-01 1.14740296e-01 4.99008961e-01\n",
            "  2.77888432e-01 1.68820221e-01 4.33464675e-01 4.39708377e-01\n",
            "  7.44779647e-01 7.61435423e-01 8.60433309e-01 6.07995897e-02\n",
            "  7.24553999e-01 1.67045837e-01 4.08956931e-01 8.50108259e-01\n",
            "  8.10518332e-01 8.88122642e-01 7.28708987e-01 7.03375737e-01\n",
            "  7.31404145e-01 4.36364326e-01 9.92888695e-01 4.09033751e-01\n",
            "  6.94597377e-01 3.25316417e-02 1.46968834e-01 8.37187203e-01\n",
            "  9.87110226e-01 6.52154422e-01 1.67115618e-01 3.82475963e-01\n",
            "  5.29127571e-01 6.37457929e-01 7.34912028e-01 5.85782615e-01\n",
            "  6.85268358e-02 1.24805585e-01 6.21198756e-01 3.56149341e-02]\n",
            " [4.67667056e-01 4.56350693e-01 7.57896210e-01 7.22980603e-01\n",
            "  8.02727250e-01 6.10371327e-01 8.79353568e-01 9.27399038e-01\n",
            "  3.90641154e-01 4.58266834e-01 5.71483587e-01 6.88532322e-01\n",
            "  5.41088052e-01 5.45936798e-02 8.43095706e-01 3.91129010e-01\n",
            "  3.04821879e-02 5.49418163e-01 3.81980532e-02 2.97193127e-01\n",
            "  7.15537497e-02 7.43133058e-01 9.72133560e-01 6.43852937e-01\n",
            "  4.38091456e-01 8.52081483e-01 3.60129736e-01 8.22175026e-01\n",
            "  3.71556817e-02 3.95929200e-01 8.14257618e-01 9.10413129e-03\n",
            "  2.92404855e-01 6.88180670e-01 3.69012773e-01 4.39190138e-01\n",
            "  5.18512999e-01 8.31445689e-01 1.24284427e-01 4.73258917e-01\n",
            "  2.34589442e-01 6.98072016e-01 3.02678415e-01 8.40853506e-01\n",
            "  8.39913992e-01 9.80040035e-01 8.08413328e-01 5.44665781e-01\n",
            "  3.26729469e-01 8.12474284e-01 2.23502292e-01 9.76492701e-01\n",
            "  1.93005479e-02 5.06276406e-03 7.32152372e-01 8.98440984e-01\n",
            "  1.29432707e-01 6.13787846e-01 7.12107536e-02 9.11788408e-02\n",
            "  9.53321919e-02 7.90739149e-01 2.40274632e-01 1.03987498e-01\n",
            "  5.11489424e-01 4.99747352e-01 6.13441345e-01 7.80138188e-01\n",
            "  8.08123058e-01 2.30682543e-02 5.88157631e-01 2.84595459e-02\n",
            "  1.22600630e-01 3.80128044e-01 9.10276967e-01 5.16042806e-01\n",
            "  5.15432746e-01 3.34750533e-02 5.40986933e-01 5.82835886e-01\n",
            "  3.44635215e-01 7.70218247e-01 6.73660955e-01 9.30488384e-01\n",
            "  3.26403730e-01 2.21224561e-01 2.44263594e-01 1.29597414e-01\n",
            "  9.93209378e-01 4.78956110e-01 1.99096501e-01 5.61159619e-01\n",
            "  6.42446173e-01 3.86948646e-01 6.58497600e-01 8.58467138e-01\n",
            "  8.19478376e-01 6.06040476e-01 3.22198787e-01 9.49249319e-01]\n",
            " [7.32786275e-01 4.70535067e-01 7.29226463e-01 4.04826847e-01\n",
            "  3.30775832e-01 2.60982148e-01 2.44035040e-01 9.75822806e-01\n",
            "  3.33529126e-01 7.02095774e-01 9.98802140e-01 7.88717135e-01\n",
            "  6.20538513e-01 7.18368743e-01 4.61736800e-01 8.54089979e-01\n",
            "  6.73989757e-01 9.47547595e-01 6.31076575e-01 3.95000112e-01\n",
            "  8.35410699e-01 6.93876665e-01 2.58152692e-01 6.81542138e-01\n",
            "  5.43922071e-01 2.05066890e-01 5.94990752e-01 3.45116154e-01\n",
            "  3.74033462e-01 6.32109659e-01 5.95345960e-01 4.74048624e-02\n",
            "  1.71293032e-01 5.49027196e-02 4.65764928e-01 8.08638976e-01\n",
            "  1.21805507e-01 4.16482557e-01 6.26573914e-01 5.46776378e-01\n",
            "  6.74919159e-01 9.84211431e-01 8.99974951e-01 3.73330486e-01\n",
            "  2.57689188e-01 5.50969011e-01 1.17946415e-01 8.96599053e-01\n",
            "  6.93417871e-01 5.27010551e-01 7.21203111e-01 5.86299623e-02\n",
            "  9.11759849e-01 1.42061680e-01 2.63598091e-01 9.14314539e-01\n",
            "  1.18252603e-01 6.44379954e-01 2.58505289e-01 5.10176351e-01\n",
            "  8.40573243e-01 7.41108804e-01 8.24269680e-01 5.89717978e-01\n",
            "  2.75899112e-01 8.10304979e-01 2.31115820e-01 6.98460673e-01\n",
            "  9.90747210e-01 7.53184873e-01 4.94781314e-01 9.88130452e-01\n",
            "  9.97283426e-01 9.12813387e-01 2.90462691e-01 3.49083032e-01\n",
            "  4.24518519e-01 5.23698043e-01 3.56995722e-01 1.04137052e-01\n",
            "  1.20887919e-01 6.41699085e-01 4.69495434e-01 5.88702435e-01\n",
            "  6.38727847e-02 5.63115142e-01 2.86225471e-03 7.46883558e-01\n",
            "  5.10212868e-01 4.23683773e-01 1.68562296e-01 4.40830279e-01\n",
            "  3.44433014e-02 3.30316682e-01 7.16792873e-01 4.31024093e-01\n",
            "  9.55267457e-01 6.90619999e-01 2.30146310e-01 8.92775598e-01]\n",
            " [2.41416460e-01 4.61936032e-02 9.95467050e-01 4.44250181e-01\n",
            "  2.77279870e-01 4.32851505e-01 9.50189779e-01 8.33169755e-01\n",
            "  2.83850898e-01 7.50899494e-02 6.20920654e-01 2.87707703e-01\n",
            "  6.45322479e-01 3.92559326e-02 7.04263284e-01 2.74567450e-02\n",
            "  4.35431775e-01 4.09168453e-01 8.52154417e-01 2.82946982e-01\n",
            "  7.74985083e-01 4.21376734e-01 8.94172906e-01 6.28875458e-01\n",
            "  3.52878070e-01 6.69338179e-01 1.25120149e-01 5.37994755e-01\n",
            "  3.92361311e-01 2.98496348e-01 3.30827124e-01 1.93586765e-01\n",
            "  7.15311830e-01 9.93487766e-01 7.29202365e-01 1.40118511e-01\n",
            "  6.12064243e-01 1.80246460e-01 9.54365799e-01 7.87541145e-01\n",
            "  5.36984269e-01 3.83906005e-01 9.87318653e-01 4.72136944e-01\n",
            "  6.72314480e-01 1.01519796e-02 4.21404866e-01 8.00664827e-02\n",
            "  5.65964020e-01 2.54872030e-01 1.18109721e-01 2.32457533e-01\n",
            "  5.99600808e-01 8.61681572e-03 1.15194945e-01 4.26047059e-01\n",
            "  5.84401757e-01 8.66350967e-01 4.99237971e-01 3.16063743e-01\n",
            "  6.34452539e-01 8.50699275e-01 7.80889420e-01 2.85012905e-01\n",
            "  3.07911322e-01 1.79913575e-01 9.28205142e-01 3.17454979e-01\n",
            "  8.24631832e-01 3.50224918e-01 3.54797742e-01 3.56618545e-01\n",
            "  1.32034767e-01 8.96478098e-01 7.96445863e-01 3.38930502e-01\n",
            "  4.16255169e-01 9.91041860e-01 7.02540145e-01 6.37700820e-01\n",
            "  2.59030329e-01 3.91971565e-01 2.30318775e-01 7.76749792e-02\n",
            "  8.44333402e-01 1.51965001e-01 8.04182127e-01 3.47725109e-01\n",
            "  6.34922253e-03 5.95845395e-01 1.53974313e-01 9.17925984e-01\n",
            "  6.48640769e-01 8.55723668e-01 3.40028187e-01 6.31120976e-01\n",
            "  7.67552162e-01 1.76852587e-01 1.26882430e-02 5.35144855e-01]\n",
            " [8.85015212e-01 8.38869809e-01 6.70739590e-01 1.87519512e-01\n",
            "  7.92428550e-01 2.71240197e-01 9.24173223e-01 3.66015796e-01\n",
            "  1.76545894e-01 3.53359663e-01 7.96050172e-01 4.88601058e-01\n",
            "  5.22868115e-03 2.13514457e-01 3.45869724e-01 5.14333007e-01\n",
            "  5.40277336e-02 8.48896712e-01 6.86671497e-02 6.17223935e-01\n",
            "  8.26572100e-01 2.22471967e-02 9.43512999e-01 7.27681808e-01\n",
            "  6.60987157e-01 5.21429250e-01 7.78371257e-01 1.36314392e-01\n",
            "  6.90628458e-01 7.04510676e-02 4.35302854e-01 3.88120908e-01\n",
            "  8.51947030e-01 3.63886410e-01 1.54687716e-01 2.45444110e-01\n",
            "  1.82446344e-01 1.31164750e-01 9.18423957e-01 7.44454930e-01\n",
            "  1.80560993e-01 6.91806174e-01 2.95679297e-01 4.03595290e-01\n",
            "  5.82297359e-01 9.33623568e-01 1.97453048e-01 3.53295644e-01\n",
            "  6.20476598e-01 4.77231475e-02 9.44118862e-01 3.77556609e-01\n",
            "  1.00550141e-01 8.45947598e-01 8.17152264e-01 7.62920215e-01\n",
            "  1.88286830e-01 4.06668374e-01 2.78223802e-01 3.90293380e-01\n",
            "  9.99132512e-01 4.31589364e-01 7.32450134e-01 8.49804331e-01\n",
            "  4.84136080e-01 5.46389007e-01 3.39614171e-01 2.76913212e-01\n",
            "  8.78148136e-01 9.15935366e-01 4.93596840e-01 8.69484612e-01\n",
            "  4.23687332e-01 2.36751657e-01 5.41152820e-01 1.27597775e-01\n",
            "  7.05747939e-01 3.94972144e-01 9.42632327e-02 5.13365718e-01\n",
            "  5.17745455e-01 7.29388582e-01 1.31503377e-01 4.22476182e-01\n",
            "  6.40132461e-03 5.89876312e-01 6.80579915e-01 8.39122106e-01\n",
            "  7.21987302e-01 3.85509610e-01 2.53281152e-01 8.26995153e-02\n",
            "  1.85020330e-01 3.56868649e-01 2.58150696e-01 7.38776587e-01\n",
            "  7.78292172e-01 4.90488256e-01 3.52799005e-01 7.20933505e-01]\n",
            " [5.46164659e-01 2.61616256e-03 1.34700188e-01 8.23441346e-01\n",
            "  5.46921146e-01 9.47335928e-01 6.37151730e-01 8.88927634e-01\n",
            "  9.40976038e-01 6.17359731e-01 3.07967146e-01 1.35918214e-01\n",
            "  4.42345068e-01 6.25071255e-02 9.80744308e-01 5.08053999e-02\n",
            "  7.90299728e-01 9.18229548e-02 9.89832212e-01 2.29728972e-01\n",
            "  7.89394275e-01 3.79533011e-01 1.20137038e-01 9.40615300e-01\n",
            "  9.62866172e-01 9.45156089e-01 8.21188246e-01 7.50890361e-02\n",
            "  1.30534307e-01 1.83668843e-01 5.65015439e-01 4.60940498e-01\n",
            "  5.46802466e-01 1.51077491e-01 6.61180028e-01 9.10322463e-01\n",
            "  1.26286075e-01 5.78426584e-01 6.93976690e-01 8.42807345e-02\n",
            "  1.65972470e-02 4.41683806e-01 9.48642620e-01 6.38791836e-01\n",
            "  7.12756356e-01 4.28047169e-01 5.45255199e-01 6.14830276e-01\n",
            "  6.07570243e-01 7.52611964e-01 6.62965808e-01 3.13393273e-01\n",
            "  3.93928112e-01 4.29670971e-03 1.84530971e-01 7.40641939e-01\n",
            "  6.47575241e-01 2.90904654e-02 2.18381319e-01 4.81446422e-01\n",
            "  9.87762239e-01 8.73671101e-01 7.25966763e-01 2.49242054e-01\n",
            "  7.11303108e-01 4.41465832e-01 5.29736730e-01 2.33374916e-01\n",
            "  2.18902395e-01 6.73528113e-01 6.54195985e-01 2.51484895e-01\n",
            "  8.26808872e-01 1.67395216e-01 6.21797547e-01 5.15678269e-01\n",
            "  1.54308331e-01 4.48608137e-01 3.96796813e-01 5.59714159e-01\n",
            "  6.66386799e-01 5.75605323e-01 1.36597768e-01 2.11145363e-02\n",
            "  1.17822161e-01 9.01693445e-01 8.41474098e-01 4.82200741e-01\n",
            "  3.20160627e-01 6.91678119e-01 9.64280061e-01 1.52471115e-01\n",
            "  8.93273404e-01 8.47420418e-01 5.63888259e-01 5.28896437e-01\n",
            "  1.61308629e-01 2.68826232e-01 1.82115108e-01 4.60328266e-01]\n",
            " [3.02959364e-01 8.13381460e-01 4.09924138e-01 9.73686873e-01\n",
            "  9.31161289e-01 8.56106084e-01 8.86751304e-01 1.34359244e-01\n",
            "  5.91813387e-01 8.09036548e-01 4.55924357e-01 6.68559253e-02\n",
            "  8.14342901e-02 2.74883056e-01 9.75858898e-01 2.21182296e-01\n",
            "  5.60787987e-01 6.30740300e-01 2.88269971e-01 8.73393913e-01\n",
            "  4.16562097e-01 4.87307961e-01 9.51132780e-01 6.89089434e-01\n",
            "  6.67643326e-01 3.54803400e-01 2.95103453e-01 1.76483228e-01\n",
            "  3.27716720e-01 7.53779791e-01 9.15584875e-01 7.79088988e-01\n",
            "  4.27760250e-01 4.17523644e-02 5.57863667e-01 9.38880898e-01\n",
            "  8.74599448e-01 7.49802603e-01 7.57782977e-02 7.01982092e-01\n",
            "  8.22710139e-01 3.47526613e-03 5.80188755e-01 6.76652846e-01\n",
            "  9.43871497e-01 5.33495333e-01 3.67534487e-01 7.64182499e-01\n",
            "  5.83129190e-01 8.36864143e-01 5.04224635e-01 3.25639636e-01\n",
            "  6.55185162e-01 6.05657541e-01 5.95914974e-01 9.38207848e-01\n",
            "  6.18613793e-01 6.65579977e-01 9.58183876e-02 3.67313696e-01\n",
            "  1.66840131e-01 4.12601433e-01 9.31113391e-01 1.67528712e-01\n",
            "  7.63428028e-02 3.29024073e-01 8.15625396e-01 3.44513057e-01\n",
            "  2.29890961e-01 7.44047751e-01 2.66640971e-01 1.52527527e-01\n",
            "  3.27081535e-01 4.13089997e-01 9.22515986e-01 2.42061466e-01\n",
            "  6.01258478e-01 9.00433751e-01 1.64302136e-01 1.58872705e-01\n",
            "  7.92213450e-02 1.93858230e-02 3.49050256e-01 6.73071322e-01\n",
            "  4.18421157e-01 7.59215479e-01 1.33289902e-01 5.13607610e-01\n",
            "  5.57700387e-01 3.40404943e-01 7.36697769e-01 5.99233538e-01\n",
            "  5.23691733e-01 8.64205454e-02 1.33463443e-01 4.45720502e-01\n",
            "  6.41854624e-01 3.76885052e-01 1.64333497e-01 7.60950412e-01]\n",
            " [7.87120593e-01 6.59978190e-01 5.71586612e-01 2.32445719e-01\n",
            "  4.07154369e-01 5.69549534e-01 8.42581212e-01 6.73979438e-01\n",
            "  8.84767345e-01 1.33129191e-01 4.12351497e-01 4.67228521e-01\n",
            "  4.50399334e-02 3.89123804e-01 2.31848668e-01 2.38162444e-01\n",
            "  1.83045492e-01 9.71197321e-02 6.35760210e-03 9.62111782e-01\n",
            "  1.20872406e-01 5.80443374e-01 8.24060458e-01 9.78408531e-01\n",
            "  5.39714889e-01 6.53997805e-01 3.31491325e-02 2.17489744e-01\n",
            "  3.98516791e-01 6.71277591e-01 6.97613512e-01 1.82077740e-01\n",
            "  1.10498127e-01 4.25862409e-02 8.60261998e-01 7.10482560e-01\n",
            "  4.82149094e-01 6.88214791e-01 1.61824771e-01 8.98404337e-01\n",
            "  5.72440137e-01 5.41594740e-02 7.13289030e-01 3.51854963e-01\n",
            "  3.28542641e-01 8.71839058e-01 3.34677588e-01 9.20932925e-01\n",
            "  9.20763340e-01 4.30345390e-03 4.96484576e-01 1.97702094e-01\n",
            "  1.42692561e-01 4.41372633e-01 8.43827263e-01 3.31141198e-01\n",
            "  5.56266494e-02 3.20469343e-01 4.36639378e-01 1.01827115e-01\n",
            "  7.90035564e-01 8.98232360e-01 9.04514218e-01 1.36925257e-01\n",
            "  9.95490894e-01 8.26316026e-01 1.15382347e-01 2.63154564e-01\n",
            "  2.49997461e-01 2.01535294e-01 7.93740170e-01 1.53605679e-01\n",
            "  6.04543760e-02 6.09505438e-01 5.60543069e-01 5.40566454e-01\n",
            "  7.61740734e-02 7.24314625e-01 1.91135977e-01 1.33369809e-01\n",
            "  6.52206136e-01 4.38504238e-01 9.83697896e-01 9.63604380e-01\n",
            "  9.90901193e-01 2.38307715e-01 6.01586025e-01 5.36443270e-01\n",
            "  2.09583924e-01 1.96813209e-01 5.32546345e-02 6.96311689e-02\n",
            "  7.40108273e-01 1.91893252e-01 6.60016690e-01 5.83377090e-01\n",
            "  9.77371319e-01 3.89373059e-01 5.83556691e-01 6.75673628e-01]\n",
            " [5.65474003e-01 1.77359165e-01 1.41258092e-01 5.13839106e-01\n",
            "  3.96067893e-02 2.52157301e-01 1.23880210e-02 3.54410594e-01\n",
            "  4.64465641e-01 6.18255350e-02 3.09609228e-01 9.79820808e-01\n",
            "  9.14678492e-02 5.48799248e-02 6.84496007e-01 3.50023117e-01\n",
            "  5.80768699e-01 8.30765863e-01 4.70008400e-01 8.06462199e-01\n",
            "  5.61985982e-01 1.05653865e-01 6.26763369e-01 1.94418529e-01\n",
            "  3.03092530e-03 2.05355758e-01 5.00986038e-01 5.39141724e-01\n",
            "  3.65960512e-01 1.40594995e-01 8.04025983e-01 8.86022208e-01\n",
            "  8.66126345e-01 3.85601735e-01 5.44410333e-01 1.92445630e-01\n",
            "  5.15995561e-01 9.08161290e-01 3.13320284e-01 2.00813737e-01\n",
            "  5.70340425e-01 1.45440142e-01 5.29287402e-01 4.51994815e-01\n",
            "  1.76765490e-02 2.20783928e-01 6.71040638e-01 1.35163112e-01\n",
            "  7.13867917e-01 1.06198219e-01 1.04130492e-02 9.25804836e-01\n",
            "  8.64969755e-01 1.74527284e-01 7.01512508e-01 6.05086970e-01\n",
            "  3.27919726e-01 2.53028708e-01 9.19484430e-01 2.02477341e-01\n",
            "  7.23290563e-01 8.78807650e-02 7.43317269e-01 5.00091789e-01\n",
            "  8.18733255e-01 9.15636813e-01 2.31134014e-01 4.00278515e-01\n",
            "  7.16826914e-01 5.29323546e-01 6.11433324e-01 3.37536391e-02\n",
            "  8.31124093e-02 6.80781739e-01 5.00533165e-01 7.30632100e-01\n",
            "  5.68059929e-01 5.54310111e-01 8.54260004e-01 2.90564688e-01\n",
            "  5.21565265e-01 7.09834006e-01 7.83963365e-01 5.46838489e-01\n",
            "  1.34918836e-01 4.79230436e-01 5.67262116e-01 3.45521128e-01\n",
            "  5.59765623e-01 2.84416336e-01 1.65301311e-01 1.26256423e-01\n",
            "  9.96272606e-01 9.92860919e-01 8.37358803e-01 1.93215528e-01\n",
            "  9.81009048e-01 4.37471641e-01 3.72424164e-01 7.49887488e-01]\n",
            " [8.87129902e-01 7.47258114e-01 6.68280539e-01 4.96709691e-01\n",
            "  3.27517770e-01 1.52366885e-01 7.70974325e-01 7.84485285e-01\n",
            "  8.53233804e-01 1.56729968e-01 6.07240483e-01 1.44186746e-01\n",
            "  3.23817333e-01 1.81529868e-01 9.67343300e-01 6.44042740e-01\n",
            "  7.63049519e-02 1.04587046e-01 1.21933499e-01 1.91165329e-02\n",
            "  5.39956690e-01 5.52840521e-01 9.16895519e-01 9.93911791e-02\n",
            "  4.16504476e-01 6.19148304e-01 8.62982052e-01 9.36571064e-01\n",
            "  2.62083513e-01 1.25977185e-01 6.70997953e-01 3.36472697e-01\n",
            "  4.99284503e-01 6.45490046e-01 9.40318647e-01 8.94473692e-01\n",
            "  9.06915264e-01 4.92052898e-01 2.01608391e-01 5.83104090e-01\n",
            "  8.02077251e-01 3.87348804e-01 3.33506288e-01 8.36604771e-02\n",
            "  3.08765752e-01 5.96697691e-01 3.75932947e-01 8.21965989e-01\n",
            "  1.14618945e-01 7.01722131e-01 7.92330279e-02 8.46946464e-01\n",
            "  9.30117431e-01 8.78475324e-01 4.09356314e-01 4.54067947e-01\n",
            "  4.17510267e-01 3.88227779e-01 1.62201831e-01 6.38584064e-01\n",
            "  6.69290327e-02 8.32824082e-01 6.99858061e-01 3.38087010e-02\n",
            "  8.56174102e-01 9.57600415e-01 4.77029410e-01 4.34813037e-01\n",
            "  1.92125918e-01 4.91579496e-01 5.86086373e-01 6.02110441e-01\n",
            "  8.89336863e-01 3.01120269e-01 7.61292082e-01 5.99515968e-01\n",
            "  7.29637540e-01 2.23892235e-01 2.79514440e-01 2.96756492e-01\n",
            "  8.91406957e-01 1.78657373e-01 6.24397808e-02 3.47870150e-02\n",
            "  4.49345975e-01 1.17744880e-01 5.76847885e-01 4.08556865e-01\n",
            "  4.49042829e-02 4.17159007e-02 3.85473830e-01 6.27067274e-01\n",
            "  7.56006642e-01 2.37907289e-01 7.06969504e-01 9.64312014e-01\n",
            "  6.60467109e-01 1.36803412e-01 2.16653915e-01 9.31369134e-01]\n",
            " [2.16069143e-02 2.18884416e-01 7.76891604e-01 8.28688460e-01\n",
            "  3.65532933e-01 8.29436551e-02 2.67619332e-01 1.74408142e-01\n",
            "  6.30156289e-01 2.80404426e-02 6.04365652e-01 1.72383985e-01\n",
            "  7.36451521e-01 3.43289175e-01 4.29267550e-01 6.31167170e-01\n",
            "  9.27720645e-01 8.91988883e-01 1.55438876e-01 4.10913086e-01\n",
            "  4.87100838e-01 5.10436263e-01 8.93958371e-01 7.86752143e-01\n",
            "  6.00040756e-02 2.35445442e-01 5.61248662e-01 9.22612360e-01\n",
            "  5.00445949e-01 5.79356794e-01 3.65801916e-02 6.05450661e-01\n",
            "  1.66318586e-01 6.74672857e-01 3.40593325e-01 4.82812775e-01\n",
            "  7.49691097e-01 6.72413862e-01 3.82030357e-01 6.40208340e-01\n",
            "  4.88854430e-01 1.87698974e-02 3.80071941e-02 9.08951871e-01\n",
            "  4.04916328e-01 3.74087195e-01 6.73840228e-01 5.96745734e-01\n",
            "  9.16656607e-01 4.06966722e-01 5.96460390e-02 3.87695225e-01\n",
            "  5.41226804e-01 4.22433895e-01 1.05795203e-01 6.79830829e-01\n",
            "  8.49145577e-01 4.43124784e-01 5.10293608e-01 1.66029801e-01\n",
            "  9.33267166e-02 7.44297821e-01 6.94596029e-01 6.14650903e-01\n",
            "  3.54521389e-01 4.73209308e-01 1.97590680e-01 2.84617698e-01\n",
            "  1.57130560e-01 6.74200811e-01 6.39419278e-01 2.15463201e-01\n",
            "  6.31322005e-01 6.66944553e-01 7.47756366e-02 7.59813346e-01\n",
            "  4.85035726e-01 2.55112876e-01 3.88969824e-01 6.90076508e-01\n",
            "  8.78164738e-01 3.94924769e-01 5.93295356e-01 7.04592911e-01\n",
            "  4.99138460e-01 4.06499143e-01 7.97025155e-01 2.85045516e-01\n",
            "  2.56791448e-01 5.13948981e-01 4.63066552e-01 7.75487000e-01\n",
            "  5.33956070e-01 6.20006149e-01 1.26882025e-01 6.19775051e-01\n",
            "  8.65758289e-01 5.59109457e-01 3.74332640e-01 3.11678475e-01]\n",
            " [3.84002068e-01 8.56877139e-01 7.11395686e-01 8.06262515e-02\n",
            "  7.69089343e-01 8.03470850e-02 3.68999406e-01 2.55432484e-01\n",
            "  5.38156727e-01 8.83165096e-01 6.18426561e-01 7.33912444e-01\n",
            "  3.11838938e-01 9.16281092e-02 4.80410041e-01 3.21903118e-01\n",
            "  2.15304863e-01 9.63060085e-01 9.82668819e-01 5.47381950e-01\n",
            "  1.54464386e-01 3.24132603e-01 2.56055239e-01 3.20247798e-01\n",
            "  8.49021914e-01 7.45738093e-01 8.28169028e-01 9.39215044e-01\n",
            "  9.78369509e-01 4.68118646e-01 8.70106016e-01 7.21591815e-01\n",
            "  3.54249284e-01 4.18995429e-01 4.57958818e-01 5.07833670e-01\n",
            "  5.80814742e-02 4.83500045e-01 5.92487136e-01 5.36977294e-01\n",
            "  9.33565372e-01 3.02846728e-01 5.97413849e-01 1.91922786e-02\n",
            "  7.84470872e-01 9.22325027e-01 1.05180596e-01 6.13796763e-01\n",
            "  9.94589552e-02 4.91005018e-01 8.75138848e-01 1.47051009e-01\n",
            "  8.72367676e-01 3.88979106e-01 4.04389122e-02 4.88519902e-01\n",
            "  7.63979221e-01 6.78017699e-01 3.05857610e-01 4.00658779e-02\n",
            "  9.93293447e-01 3.57720592e-01 9.39755642e-02 5.31284007e-01\n",
            "  5.39693363e-01 5.98970905e-01 1.01853560e-02 9.84587198e-01\n",
            "  5.09131184e-01 6.38393252e-01 2.70747578e-01 9.57878939e-01\n",
            "  7.02463874e-01 4.42966073e-01 2.20691786e-01 3.57425303e-01\n",
            "  7.83976512e-01 5.94282478e-01 9.90758196e-01 7.83912601e-01\n",
            "  6.32855841e-01 7.21631205e-01 6.36892319e-01 3.13102910e-01\n",
            "  8.56825959e-01 8.59688255e-01 4.36833184e-01 9.18171495e-01\n",
            "  5.07046136e-01 3.30236474e-01 5.91931836e-01 2.17009255e-01\n",
            "  6.86036953e-01 8.54154709e-02 9.21058000e-02 3.65582694e-01\n",
            "  2.37876237e-01 1.91595512e-01 7.11139478e-02 9.24525281e-01]\n",
            " [3.19687162e-01 1.07512693e-01 2.54941121e-01 1.25624886e-01\n",
            "  8.99159664e-01 3.47393061e-01 5.53588239e-01 8.82171170e-02\n",
            "  4.33349284e-01 5.85957561e-01 2.39294398e-02 9.89508281e-01\n",
            "  6.31291681e-02 8.80323396e-01 7.90767938e-01 7.96536940e-01\n",
            "  6.35112299e-01 1.56559812e-01 4.86720020e-01 6.72567971e-02\n",
            "  7.92609512e-01 8.90368079e-01 3.00641087e-01 1.53813150e-01\n",
            "  1.03796991e-01 6.03781035e-01 1.08393430e-01 4.98266744e-01\n",
            "  5.07298613e-01 9.26506295e-01 9.90386046e-01 7.66662275e-01\n",
            "  8.31370351e-01 5.79953419e-01 4.33617580e-01 4.47542228e-01\n",
            "  8.28684794e-01 9.09672934e-01 1.41221700e-01 4.75777518e-02\n",
            "  2.06451960e-01 6.42568112e-01 8.38337010e-01 9.93274039e-01\n",
            "  8.94133019e-01 2.51557061e-02 7.12274575e-01 7.49627583e-02\n",
            "  6.75685005e-01 1.41524557e-01 5.28053617e-01 5.84698494e-01\n",
            "  5.29254179e-01 8.32226677e-01 2.91789341e-01 1.89684930e-01\n",
            "  5.77117863e-01 9.75036087e-01 7.90700482e-01 6.88504428e-02\n",
            "  7.55681105e-01 9.93303506e-01 7.41389879e-01 8.03826907e-01\n",
            "  4.38248528e-01 2.05216060e-02 8.03812555e-01 7.35246126e-01\n",
            "  6.85420986e-01 7.55524421e-01 7.17996186e-01 8.34164606e-01\n",
            "  2.70302468e-01 9.88669167e-02 2.60732712e-01 8.58833718e-01\n",
            "  9.65688464e-01 4.26996224e-01 3.60312057e-01 7.95453082e-01\n",
            "  4.26611065e-01 1.17668680e-01 2.90562136e-01 5.16655810e-01\n",
            "  5.60460506e-01 8.32341204e-01 3.52515060e-01 9.67864432e-01\n",
            "  4.40413232e-02 7.77204521e-01 9.58153067e-01 3.88285552e-01\n",
            "  7.16422228e-01 9.78096269e-01 5.36300925e-01 7.90491982e-01\n",
            "  8.19788691e-01 6.81907368e-01 4.48650224e-01 5.69755829e-01]\n",
            " [3.43459692e-02 7.67360665e-01 5.67189077e-01 8.37299763e-01\n",
            "  7.03359878e-01 9.70773997e-01 8.15681913e-01 4.98117507e-01\n",
            "  8.86062662e-01 5.06328184e-01 8.76042405e-01 8.70256478e-01\n",
            "  4.93514402e-01 7.24046121e-01 6.89175756e-01 3.74140439e-01\n",
            "  1.78923308e-01 3.82804049e-02 2.92557653e-01 8.37702032e-01\n",
            "  2.44756769e-01 2.22139552e-01 6.04571736e-01 4.31217211e-01\n",
            "  2.88402036e-01 9.12987126e-01 1.62102631e-01 4.26341509e-01\n",
            "  4.59073856e-01 4.77256268e-01 1.30973264e-02 4.85444640e-02\n",
            "  3.64357755e-02 8.78299288e-01 8.15691045e-01 1.67192922e-01\n",
            "  4.59602608e-01 8.66904090e-01 7.19534572e-02 6.44937432e-01\n",
            "  7.81400990e-01 4.22265910e-01 7.46795081e-01 6.61194765e-01\n",
            "  1.47591020e-02 5.54577794e-01 5.79144437e-01 8.88900956e-02\n",
            "  3.29685644e-01 7.97133168e-01 6.84389772e-01 6.55057598e-01\n",
            "  6.10817478e-01 2.66085757e-01 8.62579775e-01 9.73046472e-01\n",
            "  9.00780583e-01 3.34978956e-01 6.62246305e-01 4.73232740e-01\n",
            "  5.54196904e-01 9.92128945e-01 9.58058853e-02 4.14546934e-01\n",
            "  7.41848893e-01 3.09647162e-01 3.44079997e-01 3.80559203e-01\n",
            "  1.89273381e-01 5.89482298e-01 2.35512580e-01 4.05704016e-01\n",
            "  5.90026557e-01 3.62554688e-01 8.36668329e-01 2.84365975e-01\n",
            "  4.10709226e-01 4.49378009e-01 2.61819491e-01 3.22353152e-01\n",
            "  9.29753190e-01 1.86726202e-01 2.22730826e-02 2.70385124e-01\n",
            "  6.57391297e-02 7.49501380e-01 3.03564450e-01 1.20881095e-01\n",
            "  8.02176704e-01 9.74728701e-01 4.28811532e-01 9.86717025e-01\n",
            "  4.40923797e-02 9.42627220e-01 5.83729763e-01 1.09971212e-02\n",
            "  1.18144349e-01 7.46879482e-01 2.35080985e-01 1.52332455e-01]\n",
            " [9.29830870e-01 1.94302663e-01 6.89028696e-01 3.64496877e-01\n",
            "  2.37165895e-01 7.47401155e-01 6.28472864e-01 7.24642990e-01\n",
            "  7.17138547e-01 4.32078831e-01 3.33122683e-01 3.80184352e-01\n",
            "  7.87824008e-01 6.44193724e-01 7.30157679e-01 7.50483694e-01\n",
            "  4.05751117e-01 7.51419012e-01 4.91542697e-01 5.25623403e-01\n",
            "  7.24891719e-01 1.75904291e-01 5.50526143e-01 6.41550228e-01\n",
            "  2.16116287e-01 9.11108515e-01 7.79130560e-01 4.29316367e-01\n",
            "  8.15190043e-01 9.41643826e-01 2.16362778e-01 1.42565048e-01\n",
            "  9.68671136e-01 9.13929297e-01 1.46633750e-01 3.88551916e-01\n",
            "  6.51091400e-01 1.00238185e-01 6.74747447e-01 4.13450482e-01\n",
            "  9.57447576e-01 2.43925144e-01 4.00203093e-01 2.65606180e-01\n",
            "  2.46499721e-01 4.59293652e-02 3.63245793e-01 6.48872759e-01\n",
            "  6.66051906e-01 2.68779514e-02 2.73622417e-01 1.89965742e-01\n",
            "  3.62908700e-02 3.18947988e-01 1.76612723e-01 3.45862681e-01\n",
            "  6.37384559e-01 6.32582683e-01 8.89152144e-01 9.34211401e-01\n",
            "  1.47006717e-01 3.01790893e-01 3.75630528e-01 8.75806689e-02\n",
            "  4.54255856e-01 9.72605850e-01 1.79655825e-01 4.95846831e-01\n",
            "  3.99509062e-01 5.39830964e-01 2.20265966e-02 7.59739339e-02\n",
            "  8.51288120e-01 1.77929620e-01 4.32617041e-01 7.15977756e-01\n",
            "  6.01409466e-01 2.73708173e-01 7.29338346e-01 5.69153415e-01\n",
            "  6.62080003e-01 9.04072506e-01 6.48219728e-01 4.46012904e-01\n",
            "  8.60307940e-01 3.93709537e-02 6.57665938e-01 1.19373850e-01\n",
            "  7.13506742e-01 6.25661318e-01 2.19490456e-01 8.82863196e-01\n",
            "  2.87503360e-01 4.21884849e-01 7.09684276e-01 6.31586553e-02\n",
            "  9.54089354e-01 9.26265207e-01 9.30183188e-01 9.07377920e-01]\n",
            " [9.12657085e-01 6.78278680e-01 6.21564603e-01 1.33635854e-01\n",
            "  5.77169082e-01 1.02955648e-01 6.43431377e-01 3.84055490e-01\n",
            "  3.53236978e-01 9.74809921e-01 9.59984799e-01 6.07374576e-03\n",
            "  4.17614057e-01 5.43049499e-01 6.45373629e-01 3.06601930e-01\n",
            "  7.31273037e-01 7.92428433e-01 3.90102727e-01 5.76446209e-01\n",
            "  8.47543085e-01 6.25385690e-01 4.13614754e-01 3.12274880e-01\n",
            "  8.50756065e-01 3.75053188e-01 5.40482695e-01 9.36124287e-01\n",
            "  2.05605253e-02 7.80150070e-01 6.32662508e-02 6.07931638e-02\n",
            "  4.91010307e-01 9.73417756e-02 5.01061145e-01 1.12938107e-01\n",
            "  1.65297169e-01 3.16818320e-01 1.96435936e-01 2.32872973e-01\n",
            "  2.54503773e-01 6.07186254e-01 9.02231789e-01 4.18190074e-01\n",
            "  5.51952191e-01 6.04440684e-01 1.74550013e-02 4.97987972e-01\n",
            "  1.88976723e-01 5.00330439e-01 7.46367555e-01 1.30951275e-01\n",
            "  4.68226228e-01 7.32247106e-03 5.65857496e-01 9.39298912e-01\n",
            "  4.29535643e-01 8.23848908e-01 3.80476419e-01 5.52354735e-01\n",
            "  3.25096420e-02 7.04712970e-01 7.39964734e-01 9.01920541e-01\n",
            "  9.92639961e-01 8.59147450e-01 1.69651189e-01 6.04208352e-01\n",
            "  1.78147989e-01 8.73812554e-01 4.60039100e-02 2.38054854e-01\n",
            "  3.77394092e-01 7.44490899e-01 9.71079176e-01 8.75377006e-01\n",
            "  2.77267211e-01 1.63282983e-01 1.54016135e-01 1.26892614e-01\n",
            "  7.65285185e-01 8.36216319e-01 6.24722899e-01 6.34602805e-02\n",
            "  2.01547882e-02 6.90137285e-04 7.59079001e-01 5.66578888e-01\n",
            "  3.69839718e-01 9.23696573e-01 6.86138122e-01 4.54185009e-01\n",
            "  8.05422248e-01 8.98784535e-02 4.65853023e-01 8.43311129e-01\n",
            "  1.84886007e-01 5.01799877e-01 8.02295306e-01 4.54974348e-01]\n",
            " [3.61063060e-01 3.29697031e-01 7.96452608e-01 5.36442914e-01\n",
            "  8.13340121e-01 6.20924881e-01 1.59596025e-01 3.90719142e-01\n",
            "  4.30765985e-01 2.71883184e-01 9.93447886e-01 3.38315864e-02\n",
            "  5.95068030e-01 2.05812892e-01 9.09697830e-01 7.94816629e-01\n",
            "  9.03916372e-01 8.71861357e-01 6.65221457e-01 4.62100668e-01\n",
            "  3.55907641e-01 2.81389265e-02 3.61190492e-01 4.90991631e-01\n",
            "  1.64701758e-01 8.38740549e-01 6.40401185e-01 5.26645921e-01\n",
            "  9.38740212e-01 3.55342150e-01 1.54818850e-01 2.90677263e-01\n",
            "  5.16736953e-01 2.59464800e-01 7.44490368e-02 3.89279407e-01\n",
            "  2.35646887e-01 9.87451576e-01 4.71181096e-01 4.31521912e-01\n",
            "  2.39339677e-01 1.24772733e-01 9.19362029e-01 6.96430962e-01\n",
            "  2.22704848e-01 1.55035024e-01 4.77418652e-01 5.26535147e-01\n",
            "  4.54620453e-01 9.48218951e-01 3.67512731e-01 6.56885133e-01\n",
            "  5.94173883e-01 8.72594567e-02 3.75763441e-01 6.13742338e-01\n",
            "  1.35516026e-01 2.44045343e-01 8.15580394e-01 4.76475709e-01\n",
            "  6.05041923e-01 5.88752760e-01 3.20363268e-01 1.10079008e-01\n",
            "  4.02811191e-01 3.80541032e-01 9.91508838e-02 4.69678105e-01\n",
            "  6.85933971e-01 4.64959961e-01 1.54236630e-01 8.95492300e-01\n",
            "  9.33182780e-02 5.22143046e-01 3.68780572e-02 4.10296400e-01\n",
            "  7.02102073e-02 7.35110118e-01 5.83842671e-01 3.28485971e-01\n",
            "  3.38094446e-02 5.17103431e-01 2.60769526e-01 9.04365148e-01\n",
            "  9.25589986e-01 2.18438217e-01 4.00449993e-02 4.37325412e-01\n",
            "  1.20498001e-01 2.92095685e-01 7.34756037e-01 9.00634920e-01\n",
            "  9.01351124e-01 7.68934997e-01 8.22792411e-01 8.56182542e-01\n",
            "  6.11044352e-01 4.02463612e-01 1.57417496e-01 6.11790966e-01]\n",
            " [7.86174024e-01 3.33386363e-01 7.86205232e-01 4.95463534e-02\n",
            "  4.69135546e-01 8.59141819e-01 9.41930138e-01 7.33427643e-01\n",
            "  2.34778961e-01 5.94880656e-01 6.84878858e-01 4.86309105e-01\n",
            "  7.52006903e-01 5.65204157e-01 3.08624563e-01 6.00549912e-01\n",
            "  9.68481591e-01 6.80777386e-01 6.17660033e-01 7.63258505e-01\n",
            "  4.04592286e-01 9.89545549e-01 9.65538380e-01 9.94085293e-01\n",
            "  3.07908496e-01 2.14513219e-01 2.61645125e-01 2.92184309e-01\n",
            "  6.41484037e-01 7.23906923e-01 2.81062321e-01 5.86501747e-03\n",
            "  5.96289615e-02 2.86728658e-01 1.91472746e-01 1.80847919e-01\n",
            "  3.14393072e-02 9.23549875e-01 1.81442406e-01 1.39717782e-01\n",
            "  4.41092512e-01 3.33649491e-01 9.66473798e-01 1.80785473e-01\n",
            "  7.44519531e-01 6.77948608e-01 9.13109879e-01 4.14417336e-01\n",
            "  5.94336700e-02 8.27803758e-02 1.04071830e-01 4.51218440e-01\n",
            "  5.86694861e-01 5.01155987e-01 3.09881412e-01 2.16015088e-02\n",
            "  1.69724000e-01 3.93299346e-02 7.38778914e-02 9.49405169e-01\n",
            "  4.15414029e-01 8.81375612e-01 1.87066962e-01 1.82227102e-01\n",
            "  2.94083587e-01 9.81266463e-01 3.01104115e-01 4.00585148e-01\n",
            "  5.32944629e-01 3.02875913e-01 6.06197913e-01 7.56790071e-01\n",
            "  2.36055337e-01 3.37423731e-01 3.70845410e-01 6.14055621e-01\n",
            "  9.00503701e-01 2.47499293e-01 3.64774855e-01 7.65102865e-01\n",
            "  6.72819520e-01 5.37802502e-01 4.80040962e-01 9.43339678e-01\n",
            "  3.03623863e-01 8.39477198e-01 2.77663456e-01 3.89737296e-01\n",
            "  7.65214478e-01 2.92512077e-01 3.84651191e-01 8.57371082e-01\n",
            "  6.97153765e-01 2.44753790e-01 1.15641342e-01 3.62482651e-01\n",
            "  9.82508517e-01 6.60576324e-01 3.31195164e-01 8.68205768e-01]\n",
            " [3.18012031e-01 3.61412086e-01 5.34846353e-01 2.88324187e-02\n",
            "  5.36432632e-01 3.64341743e-01 5.62894396e-01 7.19684796e-01\n",
            "  8.69238433e-01 8.12459346e-01 4.48759718e-01 1.28154226e-01\n",
            "  2.70453218e-02 1.35951998e-03 9.54428775e-01 6.38865368e-01\n",
            "  3.08054064e-01 9.24333593e-01 8.02656690e-01 3.10534670e-02\n",
            "  4.54041616e-01 6.79068742e-01 9.17042399e-03 6.56609987e-01\n",
            "  8.27459298e-01 9.63301264e-04 5.61792713e-01 6.19007368e-01\n",
            "  6.85368954e-01 8.49574315e-02 4.76821387e-01 3.40012928e-01\n",
            "  6.68367815e-01 6.01905653e-01 4.83607617e-01 8.41240786e-01\n",
            "  6.39905311e-03 2.62760502e-01 8.82166004e-01 9.79093331e-01\n",
            "  1.06695784e-01 9.60945622e-01 4.99817629e-01 5.32567581e-01\n",
            "  5.80342207e-01 4.91228360e-01 9.57481833e-01 3.35674828e-01\n",
            "  5.76937287e-01 7.24805882e-02 3.45794241e-01 4.35638337e-01\n",
            "  4.67527431e-01 2.48974708e-01 6.77439737e-01 8.89570483e-01\n",
            "  8.42508353e-01 5.37288234e-01 2.47487431e-01 1.61907868e-01\n",
            "  4.33296991e-01 1.33092821e-01 8.06250493e-02 5.84810536e-01\n",
            "  4.53148448e-01 6.61963936e-01 5.59808246e-01 3.13986893e-01\n",
            "  3.11296900e-01 3.58109455e-01 7.32575238e-02 8.89727126e-01\n",
            "  5.72325134e-01 4.58627955e-01 3.58292884e-01 3.94574415e-01\n",
            "  4.17701311e-01 4.43872449e-02 2.46047592e-01 6.39392708e-01\n",
            "  6.29509116e-04 3.56975971e-01 3.67569103e-01 2.14671927e-01\n",
            "  7.31951460e-01 4.76257033e-01 3.20041254e-01 7.32789850e-01\n",
            "  2.93686862e-01 9.40979426e-01 7.89360923e-01 8.02711169e-01\n",
            "  8.99118159e-01 5.41449448e-01 9.98424578e-01 1.66291493e-01\n",
            "  7.65753215e-01 8.83765147e-01 9.48321687e-02 5.90089503e-01]\n",
            " [1.88376094e-01 3.66544645e-01 8.01982066e-01 1.19626715e-01\n",
            "  6.49953790e-01 8.55051748e-01 6.53144037e-01 3.13842119e-01\n",
            "  4.73408250e-01 5.60423203e-01 9.58743632e-02 5.99955962e-01\n",
            "  1.87457328e-01 9.13515119e-01 4.30682713e-01 2.19423594e-01\n",
            "  7.53136008e-01 4.64439552e-01 2.96532503e-01 6.41903166e-01\n",
            "  4.56262087e-01 3.13305689e-01 9.88802359e-01 7.05445786e-01\n",
            "  3.95187134e-01 6.56454890e-01 3.04068140e-01 8.50513456e-01\n",
            "  3.92787150e-01 6.33952490e-02 8.97034209e-01 3.78864395e-01\n",
            "  5.49755479e-01 9.50531149e-01 2.31046346e-01 6.55073684e-01\n",
            "  2.59326312e-01 3.21569654e-01 7.17897258e-01 9.81158358e-01\n",
            "  8.03456304e-01 1.04138917e-01 6.98857557e-01 1.47256687e-01\n",
            "  4.55724489e-01 6.01873853e-01 7.00011050e-01 5.83222384e-02\n",
            "  7.50453532e-01 8.33442213e-01 1.50608693e-02 8.24573590e-01\n",
            "  4.88874201e-01 7.15767975e-01 9.69025558e-02 2.92706340e-01\n",
            "  3.23029460e-01 1.20230653e-01 6.34750313e-01 3.51435342e-01\n",
            "  7.24772010e-01 6.72822733e-01 7.23515111e-02 3.58605035e-01\n",
            "  4.54343748e-01 9.09421830e-01 8.42870633e-02 6.72643144e-01\n",
            "  5.97421479e-01 9.20234010e-01 2.56829869e-01 8.64018693e-01\n",
            "  1.75996733e-01 4.08656180e-01 7.90501522e-02 8.13104277e-01\n",
            "  8.27937813e-01 4.48985962e-01 7.01428405e-01 4.17383601e-01\n",
            "  2.62766936e-01 4.40885266e-01 3.24677467e-01 9.92162005e-01\n",
            "  2.61009903e-01 5.46226019e-01 6.50368768e-01 9.26433291e-02\n",
            "  8.38045079e-01 3.29038807e-01 4.70184168e-01 2.13894533e-01\n",
            "  1.48907807e-02 2.68892246e-01 3.73256138e-01 9.06912262e-02\n",
            "  5.45131453e-01 5.38676648e-01 4.77600317e-01 8.03050851e-01]\n",
            " [7.45725272e-01 7.88222341e-01 3.81022634e-01 5.62367826e-03\n",
            "  4.12217741e-01 1.95077625e-01 5.50356080e-01 1.93468062e-01\n",
            "  7.87546216e-01 1.90405813e-01 6.86228842e-01 8.83047433e-01\n",
            "  4.10978177e-02 7.41019098e-01 3.39657741e-01 1.85983149e-02\n",
            "  2.63909435e-01 4.97701299e-01 6.98426445e-01 9.37218705e-01\n",
            "  7.03675246e-01 7.19440765e-01 3.00177691e-01 8.00742561e-01\n",
            "  9.77779380e-01 8.97378589e-01 1.98045812e-01 8.90516551e-01\n",
            "  9.00962875e-01 1.27585822e-01 7.26721287e-01 7.01540648e-02\n",
            "  7.54926142e-01 6.10578815e-01 4.94892832e-02 1.66582210e-01\n",
            "  2.91698858e-01 6.56908582e-01 5.32564674e-01 4.00229662e-01\n",
            "  6.32668739e-01 8.35400524e-02 2.55986784e-01 3.34243978e-01\n",
            "  9.22967031e-02 8.45584553e-01 8.96721291e-01 7.98685600e-01\n",
            "  4.40247234e-01 2.77897064e-02 4.77581778e-01 1.24174591e-01\n",
            "  2.93778325e-01 9.48669559e-01 7.56237044e-01 3.28181024e-02\n",
            "  7.35128723e-03 6.10903286e-01 3.63916104e-01 5.69333497e-01\n",
            "  6.65297531e-01 5.60479063e-01 2.78428427e-01 3.99810924e-01\n",
            "  3.48704319e-01 2.40599815e-01 2.84849003e-01 6.90707298e-01\n",
            "  4.65963826e-01 8.62617947e-01 1.87794819e-01 6.08387140e-02\n",
            "  8.77826914e-02 7.80107412e-01 8.99285773e-01 8.81713535e-01\n",
            "  5.74384019e-01 4.89683945e-01 2.30537370e-01 2.76240234e-02\n",
            "  5.12004972e-01 2.83650378e-01 8.78535061e-01 5.58241105e-01\n",
            "  6.78713417e-01 9.42672414e-01 4.33035165e-01 2.60936993e-01\n",
            "  7.17458397e-01 7.98362896e-01 4.38605902e-02 8.68255413e-01\n",
            "  8.70176024e-02 8.26629182e-01 8.84290487e-01 6.63392210e-01\n",
            "  1.14519899e-01 4.38914670e-01 9.31319090e-01 4.66997785e-01]\n",
            " [7.70182485e-01 7.97009374e-01 4.18766323e-01 3.73324872e-01\n",
            "  3.64309643e-01 5.72139310e-01 5.45013915e-01 4.99897901e-01\n",
            "  8.94457956e-01 5.05616890e-01 1.65716529e-01 1.61118215e-01\n",
            "  1.19551822e-01 3.80023356e-03 7.75323530e-01 8.48752018e-01\n",
            "  2.69433257e-01 2.88164026e-01 3.26665533e-01 8.47669118e-01\n",
            "  6.11450638e-01 3.48787512e-01 6.54160368e-01 3.14735013e-01\n",
            "  9.79916003e-01 8.01452249e-01 8.50993624e-01 9.76608991e-01\n",
            "  2.16401777e-01 3.85474318e-01 2.37385390e-01 1.87572993e-01\n",
            "  1.15011193e-01 2.68922684e-02 4.89956053e-02 1.98649854e-01\n",
            "  1.99375473e-01 5.42774250e-01 5.84212287e-01 8.44871124e-01\n",
            "  9.30962039e-01 5.25906383e-02 6.01572210e-01 8.93758270e-02\n",
            "  8.34418524e-01 1.34848444e-01 5.06294637e-01 6.19933185e-01\n",
            "  5.72375408e-01 8.18685636e-01 5.30028784e-01 8.34530845e-03\n",
            "  7.19948835e-01 7.83585237e-01 3.12263785e-01 5.61633351e-01\n",
            "  4.67772575e-01 5.86454973e-01 8.14777579e-01 6.91813168e-01\n",
            "  9.59798713e-01 1.16988497e-01 3.87241257e-01 7.57019759e-01\n",
            "  5.57207552e-01 2.45816137e-01 6.97804135e-01 5.75475991e-01\n",
            "  8.32340899e-01 7.61244160e-01 2.94342402e-01 7.01549289e-02\n",
            "  6.66912488e-01 2.10116196e-01 2.09544131e-01 2.20987609e-01\n",
            "  2.13138304e-01 5.90795845e-01 7.25436003e-01 7.12961645e-01\n",
            "  8.37192019e-01 9.62639462e-01 7.63457601e-01 1.08428751e-01\n",
            "  7.16508037e-01 4.29931911e-01 6.53099304e-01 9.73401815e-01\n",
            "  9.50222801e-01 7.07874343e-01 3.77858057e-01 5.53835176e-01\n",
            "  4.49064796e-01 2.89602320e-01 6.81698850e-01 7.36074880e-01\n",
            "  5.89227463e-01 1.73815050e-01 9.90920304e-01 2.01469053e-01]\n",
            " [5.86844413e-01 7.33179282e-01 9.97162473e-01 4.56481830e-01\n",
            "  2.69996068e-01 2.03903905e-01 6.88082821e-01 6.98402164e-01\n",
            "  4.89789339e-01 3.76766927e-01 4.91091759e-01 1.30141937e-01\n",
            "  4.85516167e-01 8.96003506e-01 1.92873273e-01 1.86857526e-01\n",
            "  3.42283681e-01 5.95417507e-01 4.58034731e-02 9.60733759e-01\n",
            "  5.74026101e-01 5.51346062e-01 4.71551624e-01 8.88665955e-01\n",
            "  1.44004825e-01 8.42620832e-01 8.25838715e-01 1.27733770e-01\n",
            "  5.42562393e-01 9.74743232e-01 1.18073351e-02 1.68830678e-01\n",
            "  8.29664357e-02 1.73616490e-01 6.40747064e-01 5.72501293e-01\n",
            "  8.05146782e-01 7.91828937e-01 1.63891505e-01 8.59669403e-01\n",
            "  9.30517819e-01 3.02013170e-01 2.70313410e-01 2.47016664e-01\n",
            "  2.97455393e-01 2.41033530e-01 7.93088028e-02 8.33746877e-02\n",
            "  9.04173992e-01 5.96898507e-01 3.32750184e-01 6.13126781e-01\n",
            "  4.61900261e-01 8.87731196e-01 4.59429368e-01 1.41160530e-01\n",
            "  5.00080620e-01 8.17854005e-01 5.45107002e-02 6.15312079e-01\n",
            "  1.07359092e-01 6.00328870e-02 8.85315032e-01 9.23746191e-01\n",
            "  1.51836520e-01 7.52845647e-01 2.63914118e-01 4.77801352e-01\n",
            "  9.22577912e-01 3.27961511e-01 8.27127715e-01 1.89712702e-01\n",
            "  3.79673712e-01 5.49095889e-01 4.56118251e-02 7.64077299e-01\n",
            "  2.03064645e-01 3.71499518e-01 4.67143772e-01 7.69964555e-01\n",
            "  1.69393432e-01 2.19296558e-01 7.05806627e-01 9.55523500e-02\n",
            "  1.33635383e-01 9.56405984e-03 8.40329497e-01 5.29759911e-01\n",
            "  8.52915457e-02 2.05196748e-03 2.69538287e-01 3.60198184e-01\n",
            "  5.82494912e-01 2.80415002e-01 6.75278681e-01 4.17961877e-01\n",
            "  9.21348881e-01 6.36059730e-01 1.43030505e-01 7.10358919e-01]\n",
            " [1.84393357e-01 9.79574392e-01 8.20625376e-01 3.29651917e-01\n",
            "  3.26767412e-02 9.72400112e-01 7.62819642e-01 2.61359789e-01\n",
            "  6.06544978e-01 7.54023205e-01 5.61321714e-01 9.44751824e-01\n",
            "  2.22895781e-01 2.92164052e-01 7.20274915e-01 4.42372989e-01\n",
            "  2.91214883e-01 4.19704904e-01 2.47191788e-01 7.75047032e-01\n",
            "  8.15933512e-01 2.34011347e-02 2.38749568e-01 1.15612139e-01\n",
            "  1.27380598e-01 8.36216752e-01 3.01532408e-01 6.15737302e-01\n",
            "  2.57577344e-01 2.41346331e-01 5.50434007e-01 1.71183760e-01\n",
            "  8.02383126e-01 4.97545849e-01 2.74336719e-01 9.30393705e-01\n",
            "  1.60358157e-01 9.67694832e-01 3.30595968e-01 5.43968363e-01\n",
            "  4.48002680e-02 9.13577196e-01 4.34734417e-01 7.28577355e-02\n",
            "  3.00287627e-01 2.21571830e-03 8.00064726e-01 1.51178738e-01\n",
            "  8.48549812e-01 4.68732996e-01 4.08826511e-01 3.68776400e-01\n",
            "  2.94771401e-01 5.79402270e-02 2.35942454e-01 3.37608020e-01\n",
            "  5.57935309e-01 4.28589488e-01 6.56241209e-01 8.81472547e-01\n",
            "  7.87792050e-01 5.70011378e-01 2.06735279e-01 2.97421337e-01\n",
            "  8.92197260e-01 6.83293728e-01 3.56273568e-01 3.39607967e-01\n",
            "  5.94469856e-01 8.18109093e-01 9.65143253e-01 8.12880116e-01\n",
            "  6.69821609e-02 3.87960649e-01 7.09303452e-01 5.13356800e-01\n",
            "  8.23567758e-01 3.04673110e-01 3.64208441e-01 4.40981127e-01\n",
            "  5.08899026e-01 2.50152233e-01 7.73670155e-01 2.86507707e-01\n",
            "  9.83109657e-01 8.65633593e-01 4.03808915e-01 3.74106127e-01\n",
            "  1.36168701e-01 7.07218817e-01 9.69263790e-01 3.11245568e-01\n",
            "  3.77774680e-01 1.12134686e-01 5.21313856e-01 8.42846666e-01\n",
            "  6.91908950e-01 4.55733997e-01 3.47602387e-02 7.94118132e-01]]\n"
          ]
        }
      ]
    },
    {
      "cell_type": "markdown",
      "metadata": {
        "id": "6faybipSkCr3"
      },
      "source": [
        "### Basic Operations\n",
        "\n",
        "Arithmetic operators on arrays apply elementwise. A new array is created and filled with the result."
      ]
    },
    {
      "cell_type": "code",
      "execution_count": 63,
      "metadata": {
        "colab": {
          "base_uri": "https://localhost:8080/"
        },
        "id": "jporrUwekCr3",
        "outputId": "b9cb25c2-a002-41cc-db2a-a30a7b3e3403"
      },
      "outputs": [
        {
          "output_type": "execute_result",
          "data": {
            "text/plain": [
              "array([0, 1, 2, 3])"
            ]
          },
          "metadata": {},
          "execution_count": 63
        }
      ],
      "source": [
        "a = np.array( [20,30,40,50] )\n",
        "b = np.arange( 4 )\n",
        "b"
      ]
    },
    {
      "cell_type": "code",
      "execution_count": 64,
      "metadata": {
        "colab": {
          "base_uri": "https://localhost:8080/"
        },
        "id": "TktUhF_-kCr4",
        "outputId": "1744b290-a094-48a5-be74-8e8328fe88c3"
      },
      "outputs": [
        {
          "output_type": "execute_result",
          "data": {
            "text/plain": [
              "array([20, 29, 38, 47])"
            ]
          },
          "metadata": {},
          "execution_count": 64
        }
      ],
      "source": [
        "c = a-b\n",
        "c"
      ]
    },
    {
      "cell_type": "code",
      "execution_count": 65,
      "metadata": {
        "colab": {
          "base_uri": "https://localhost:8080/"
        },
        "id": "jL4NkwlDkCr5",
        "outputId": "22ffe9dd-0bc7-4d22-f1e0-3891881eb3a5"
      },
      "outputs": [
        {
          "output_type": "execute_result",
          "data": {
            "text/plain": [
              "array([0, 1, 4, 9])"
            ]
          },
          "metadata": {},
          "execution_count": 65
        }
      ],
      "source": [
        "b**2"
      ]
    },
    {
      "cell_type": "code",
      "execution_count": 66,
      "metadata": {
        "colab": {
          "base_uri": "https://localhost:8080/"
        },
        "id": "GGwvgyHckCr5",
        "outputId": "7c7d0ff0-c150-44a9-d513-c0d76f600092"
      },
      "outputs": [
        {
          "output_type": "execute_result",
          "data": {
            "text/plain": [
              "array([ 9.12945251, -9.88031624,  7.4511316 , -2.62374854])"
            ]
          },
          "metadata": {},
          "execution_count": 66
        }
      ],
      "source": [
        "10*np.sin(a)"
      ]
    },
    {
      "cell_type": "code",
      "execution_count": 67,
      "metadata": {
        "colab": {
          "base_uri": "https://localhost:8080/"
        },
        "id": "727YxSUlkCr6",
        "outputId": "c45ba24e-67e5-40a8-f644-7f124ae939a1"
      },
      "outputs": [
        {
          "output_type": "execute_result",
          "data": {
            "text/plain": [
              "array([ True,  True, False, False])"
            ]
          },
          "metadata": {},
          "execution_count": 67
        }
      ],
      "source": [
        "a < 35"
      ]
    },
    {
      "cell_type": "code",
      "source": [
        "a = np.random.rand(1,3)\n",
        "b = np.random.rand(1,3)\n",
        "a, b"
      ],
      "metadata": {
        "colab": {
          "base_uri": "https://localhost:8080/"
        },
        "id": "A9cG-hoyokrV",
        "outputId": "ac801dbf-fb6a-41f9-d9d1-2b6694d621d5"
      },
      "execution_count": 68,
      "outputs": [
        {
          "output_type": "execute_result",
          "data": {
            "text/plain": [
              "(array([[0.23977575, 0.76321298, 0.91744896]]),\n",
              " array([[0.72790003, 0.17534422, 0.04508035]]))"
            ]
          },
          "metadata": {},
          "execution_count": 68
        }
      ]
    },
    {
      "cell_type": "code",
      "source": [
        "b*a"
      ],
      "metadata": {
        "colab": {
          "base_uri": "https://localhost:8080/"
        },
        "id": "kuaS1WY5otBn",
        "outputId": "ab284f53-1e06-453a-e3c9-20a89d10e815"
      },
      "execution_count": 69,
      "outputs": [
        {
          "output_type": "execute_result",
          "data": {
            "text/plain": [
              "array([[0.17453277, 0.13382498, 0.04135892]])"
            ]
          },
          "metadata": {},
          "execution_count": 69
        }
      ]
    },
    {
      "cell_type": "code",
      "source": [
        "a/a"
      ],
      "metadata": {
        "colab": {
          "base_uri": "https://localhost:8080/"
        },
        "id": "X2U_f354ou2H",
        "outputId": "a4b4da9c-820d-4be1-e4bd-16afa0446bbd"
      },
      "execution_count": 70,
      "outputs": [
        {
          "output_type": "execute_result",
          "data": {
            "text/plain": [
              "array([[1., 1., 1.]])"
            ]
          },
          "metadata": {},
          "execution_count": 70
        }
      ]
    },
    {
      "cell_type": "code",
      "source": [
        "b+a*(b)"
      ],
      "metadata": {
        "colab": {
          "base_uri": "https://localhost:8080/"
        },
        "id": "3N5RJ30Xow1a",
        "outputId": "2fc69f0f-5b8a-431a-84ee-09dddc633cd9"
      },
      "execution_count": 72,
      "outputs": [
        {
          "output_type": "execute_result",
          "data": {
            "text/plain": [
              "array([[0.9024328 , 0.3091692 , 0.08643928]])"
            ]
          },
          "metadata": {},
          "execution_count": 72
        }
      ]
    },
    {
      "cell_type": "markdown",
      "metadata": {
        "id": "atVlGuqgkCr6"
      },
      "source": [
        "Unlike in many matrix languages, the product operator * operates elementwise in NumPy arrays. The matrix product can be performed using the @ operator (in python >=3.5) or the dot function or method:"
      ]
    },
    {
      "cell_type": "code",
      "execution_count": 73,
      "metadata": {
        "colab": {
          "base_uri": "https://localhost:8080/"
        },
        "id": "1YNaVQ3ZkCr7",
        "outputId": "5830fb7c-e318-4b94-cb45-548de3ce0747"
      },
      "outputs": [
        {
          "output_type": "execute_result",
          "data": {
            "text/plain": [
              "array([[2, 0],\n",
              "       [0, 4]])"
            ]
          },
          "metadata": {},
          "execution_count": 73
        }
      ],
      "source": [
        "A = np.array( [[1,1],\n",
        "            [0,1]] )\n",
        "B = np.array( [[2,0],\n",
        "            [3,4]] )\n",
        "A * B                       # elementwise product"
      ]
    },
    {
      "cell_type": "code",
      "execution_count": 74,
      "metadata": {
        "colab": {
          "base_uri": "https://localhost:8080/"
        },
        "id": "ech__tbbkCr8",
        "outputId": "51c57175-0fbd-4015-8a32-d2f8f15fe7ae"
      },
      "outputs": [
        {
          "output_type": "execute_result",
          "data": {
            "text/plain": [
              "array([[5, 4],\n",
              "       [3, 4]])"
            ]
          },
          "metadata": {},
          "execution_count": 74
        }
      ],
      "source": [
        "A @ B                       # matrix product"
      ]
    },
    {
      "cell_type": "code",
      "execution_count": 75,
      "metadata": {
        "colab": {
          "base_uri": "https://localhost:8080/"
        },
        "id": "b61zPpdUkCr8",
        "outputId": "8139b48a-c26b-4c99-f67a-2439a67b8794"
      },
      "outputs": [
        {
          "output_type": "execute_result",
          "data": {
            "text/plain": [
              "array([[5, 4],\n",
              "       [3, 4]])"
            ]
          },
          "metadata": {},
          "execution_count": 75
        }
      ],
      "source": [
        "A.dot(B)                    # another matrix product"
      ]
    },
    {
      "cell_type": "code",
      "source": [
        "a = np.random.rand(3,3)\n",
        "b = np.random.rand(3,3)\n",
        "a, b"
      ],
      "metadata": {
        "colab": {
          "base_uri": "https://localhost:8080/"
        },
        "id": "oWWNjj_fo6_7",
        "outputId": "b1f58581-9980-4204-f8b0-45960987bec2"
      },
      "execution_count": 79,
      "outputs": [
        {
          "output_type": "execute_result",
          "data": {
            "text/plain": [
              "(array([[0.0028556 , 0.73609016, 0.43536762],\n",
              "        [0.00377878, 0.71317466, 0.63453831],\n",
              "        [0.84448933, 0.00278463, 0.06770118]]),\n",
              " array([[0.94132777, 0.51714373, 0.37470295],\n",
              "        [0.57180882, 0.2006187 , 0.27486423],\n",
              "        [0.12469781, 0.59788952, 0.78287865]]))"
            ]
          },
          "metadata": {},
          "execution_count": 79
        }
      ]
    },
    {
      "cell_type": "code",
      "source": [
        "a @ b"
      ],
      "metadata": {
        "colab": {
          "base_uri": "https://localhost:8080/"
        },
        "id": "BOjec7G_pAJD",
        "outputId": "938d6ee1-1375-4861-e747-2ff9aef22185"
      },
      "execution_count": 80,
      "outputs": [
        {
          "output_type": "execute_result",
          "data": {
            "text/plain": [
              "array([[0.47788029, 0.40945194, 0.54423487],\n",
              "       [0.49048217, 0.52441415, 0.69420862],\n",
              "       [0.80497573, 0.47775884, 0.37019985]])"
            ]
          },
          "metadata": {},
          "execution_count": 80
        }
      ]
    },
    {
      "cell_type": "code",
      "source": [
        "a*b"
      ],
      "metadata": {
        "colab": {
          "base_uri": "https://localhost:8080/"
        },
        "id": "dtxxLS-MpJI5",
        "outputId": "e9df9f7f-8acc-4065-e31a-2802edeb6e5c"
      },
      "execution_count": 81,
      "outputs": [
        {
          "output_type": "execute_result",
          "data": {
            "text/plain": [
              "array([[0.00268806, 0.38066441, 0.16313353],\n",
              "       [0.00216074, 0.14307617, 0.17441188],\n",
              "       [0.10530597, 0.0016649 , 0.05300181]])"
            ]
          },
          "metadata": {},
          "execution_count": 81
        }
      ]
    },
    {
      "cell_type": "code",
      "source": [
        "a.dot(b)"
      ],
      "metadata": {
        "colab": {
          "base_uri": "https://localhost:8080/"
        },
        "id": "o9_6MrCzpKPl",
        "outputId": "cf48217d-fc7e-467f-d791-3cc0953c7cd4"
      },
      "execution_count": 82,
      "outputs": [
        {
          "output_type": "execute_result",
          "data": {
            "text/plain": [
              "array([[0.47788029, 0.40945194, 0.54423487],\n",
              "       [0.49048217, 0.52441415, 0.69420862],\n",
              "       [0.80497573, 0.47775884, 0.37019985]])"
            ]
          },
          "metadata": {},
          "execution_count": 82
        }
      ]
    },
    {
      "cell_type": "markdown",
      "metadata": {
        "id": "EwpuN5fNkCr8"
      },
      "source": [
        "Some operations, such as += and *=, act in place to modify an existing array rather than create a new one."
      ]
    },
    {
      "cell_type": "code",
      "execution_count": 83,
      "metadata": {
        "colab": {
          "base_uri": "https://localhost:8080/"
        },
        "id": "ttPRl5n3kCr9",
        "outputId": "80788331-3d47-4e60-e1b0-fc98deb1525e"
      },
      "outputs": [
        {
          "output_type": "execute_result",
          "data": {
            "text/plain": [
              "array([[3, 3, 3],\n",
              "       [3, 3, 3]])"
            ]
          },
          "metadata": {},
          "execution_count": 83
        }
      ],
      "source": [
        "a = np.ones((2,3), dtype=int)\n",
        "b = np.random.random((2,3))\n",
        "a *= 3\n",
        "a"
      ]
    },
    {
      "cell_type": "code",
      "execution_count": 84,
      "metadata": {
        "colab": {
          "base_uri": "https://localhost:8080/"
        },
        "id": "0ffBVnJ7kCr9",
        "outputId": "b00f0077-e3db-4da5-f722-7656f0f2a76f"
      },
      "outputs": [
        {
          "output_type": "execute_result",
          "data": {
            "text/plain": [
              "array([[3.7595975 , 3.97077313, 3.12510303],\n",
              "       [3.74974451, 3.12133063, 3.23131748]])"
            ]
          },
          "metadata": {},
          "execution_count": 84
        }
      ],
      "source": [
        "b += a\n",
        "b"
      ]
    },
    {
      "cell_type": "code",
      "execution_count": 85,
      "metadata": {
        "id": "d7iuO961kCr-"
      },
      "outputs": [],
      "source": [
        "# a += b                  # b is not automatically converted to integer type"
      ]
    },
    {
      "cell_type": "code",
      "source": [
        "a = np.random.rand(1,7)\n",
        "b = np.random.rand(1,7)\n",
        "a, b"
      ],
      "metadata": {
        "colab": {
          "base_uri": "https://localhost:8080/"
        },
        "id": "N_uIUTywpPNx",
        "outputId": "8beffe36-994c-4b3a-f1ae-c4ec45ffb323"
      },
      "execution_count": 86,
      "outputs": [
        {
          "output_type": "execute_result",
          "data": {
            "text/plain": [
              "(array([[0.8743868 , 0.27494368, 0.19206511, 0.36324212, 0.33272383,\n",
              "         0.35907174, 0.30337422]]),\n",
              " array([[0.44437982, 0.66233214, 0.06041729, 0.55974335, 0.36152872,\n",
              "         0.66224404, 0.25359172]]))"
            ]
          },
          "metadata": {},
          "execution_count": 86
        }
      ]
    },
    {
      "cell_type": "code",
      "source": [
        "a *=0\n",
        "b *=2\n",
        "a,b"
      ],
      "metadata": {
        "colab": {
          "base_uri": "https://localhost:8080/"
        },
        "id": "JDWHhCULpT7B",
        "outputId": "446fc860-2905-41f9-b598-32efb5a514d8"
      },
      "execution_count": 87,
      "outputs": [
        {
          "output_type": "execute_result",
          "data": {
            "text/plain": [
              "(array([[0., 0., 0., 0., 0., 0., 0.]]),\n",
              " array([[0.88875965, 1.32466428, 0.12083458, 1.1194867 , 0.72305743,\n",
              "         1.32448808, 0.50718344]]))"
            ]
          },
          "metadata": {},
          "execution_count": 87
        }
      ]
    },
    {
      "cell_type": "markdown",
      "metadata": {
        "id": "AjN9VNtXkCr-"
      },
      "source": [
        "**Upcasting**\n",
        "\n",
        "* When operating with arrays of different types, the type of the resulting array corresponds to the more general or precise one."
      ]
    },
    {
      "cell_type": "code",
      "execution_count": 88,
      "metadata": {
        "colab": {
          "base_uri": "https://localhost:8080/",
          "height": 36
        },
        "id": "fZPUrcagkCr-",
        "outputId": "769efe6f-bc5a-45c8-ebeb-47d00f21b254"
      },
      "outputs": [
        {
          "output_type": "execute_result",
          "data": {
            "text/plain": [
              "'float64'"
            ],
            "application/vnd.google.colaboratory.intrinsic+json": {
              "type": "string"
            }
          },
          "metadata": {},
          "execution_count": 88
        }
      ],
      "source": [
        "a = np.ones(3, dtype=np.int32)\n",
        "b = np.linspace(0,pi,3)\n",
        "b.dtype.name"
      ]
    },
    {
      "cell_type": "code",
      "execution_count": 89,
      "metadata": {
        "colab": {
          "base_uri": "https://localhost:8080/"
        },
        "id": "wvWORntskCr_",
        "outputId": "bcfa0531-3553-42dd-9b32-ffe941094caf"
      },
      "outputs": [
        {
          "output_type": "execute_result",
          "data": {
            "text/plain": [
              "array([1.        , 2.57079633, 4.14159265])"
            ]
          },
          "metadata": {},
          "execution_count": 89
        }
      ],
      "source": [
        "c = a+b\n",
        "c"
      ]
    },
    {
      "cell_type": "code",
      "execution_count": 90,
      "metadata": {
        "colab": {
          "base_uri": "https://localhost:8080/",
          "height": 36
        },
        "id": "Hi_aGfxakCsI",
        "outputId": "fefc5707-abc4-4142-a33c-c192a4c0c1d3"
      },
      "outputs": [
        {
          "output_type": "execute_result",
          "data": {
            "text/plain": [
              "'float64'"
            ],
            "application/vnd.google.colaboratory.intrinsic+json": {
              "type": "string"
            }
          },
          "metadata": {},
          "execution_count": 90
        }
      ],
      "source": [
        "c.dtype.name"
      ]
    },
    {
      "cell_type": "code",
      "execution_count": 91,
      "metadata": {
        "colab": {
          "base_uri": "https://localhost:8080/"
        },
        "id": "HmaaHd4LkCsJ",
        "outputId": "b07d952d-2bef-4625-9a0c-9009fd2ea64a"
      },
      "outputs": [
        {
          "output_type": "execute_result",
          "data": {
            "text/plain": [
              "array([ 0.54030231+0.84147098j, -0.84147098+0.54030231j,\n",
              "       -0.54030231-0.84147098j])"
            ]
          },
          "metadata": {},
          "execution_count": 91
        }
      ],
      "source": [
        "d = np.exp(c*1j)\n",
        "d"
      ]
    },
    {
      "cell_type": "code",
      "execution_count": 92,
      "metadata": {
        "colab": {
          "base_uri": "https://localhost:8080/",
          "height": 36
        },
        "id": "bWl7HonYkCsK",
        "outputId": "692357e3-9d42-41db-e02a-a75eda0da508"
      },
      "outputs": [
        {
          "output_type": "execute_result",
          "data": {
            "text/plain": [
              "'complex128'"
            ],
            "application/vnd.google.colaboratory.intrinsic+json": {
              "type": "string"
            }
          },
          "metadata": {},
          "execution_count": 92
        }
      ],
      "source": [
        "d.dtype.name"
      ]
    },
    {
      "cell_type": "markdown",
      "metadata": {
        "id": "38ukLH6EkCsK"
      },
      "source": [
        "Many unary operations, such as computing the sum of all the elements in the array, are implemented as methods of the ndarray class."
      ]
    },
    {
      "cell_type": "code",
      "execution_count": 100,
      "metadata": {
        "colab": {
          "base_uri": "https://localhost:8080/"
        },
        "id": "w4cI7oLdkCsK",
        "outputId": "71ff52f9-baf9-4c78-c1cb-9417e071d477"
      },
      "outputs": [
        {
          "output_type": "execute_result",
          "data": {
            "text/plain": [
              "array([[0.85519104, 0.71171372, 0.47312333, 0.51933629, 0.87498899,\n",
              "        0.79264087, 0.10418557, 0.70315609, 0.73150231],\n",
              "       [0.68604238, 0.49933171, 0.50404997, 0.87121282, 0.09942557,\n",
              "        0.22207405, 0.23793806, 0.87990833, 0.53932624],\n",
              "       [0.7825018 , 0.0631788 , 0.71351448, 0.49321661, 0.78913134,\n",
              "        0.33684863, 0.78403357, 0.71595532, 0.99420615],\n",
              "       [0.60422001, 0.11715817, 0.24308807, 0.17592505, 0.82601824,\n",
              "        0.21715266, 0.51275447, 0.21546701, 0.19380758],\n",
              "       [0.71319419, 0.0136858 , 0.30035713, 0.12127412, 0.27843674,\n",
              "        0.55517817, 0.59035189, 0.10574468, 0.73871607]])"
            ]
          },
          "metadata": {},
          "execution_count": 100
        }
      ],
      "source": [
        "a = np.random.random((5,9))\n",
        "a"
      ]
    },
    {
      "cell_type": "code",
      "execution_count": 101,
      "metadata": {
        "colab": {
          "base_uri": "https://localhost:8080/"
        },
        "id": "n9dEPJZOkCsL",
        "outputId": "e7ec762d-fa92-414d-c982-d59e2697a877"
      },
      "outputs": [
        {
          "output_type": "execute_result",
          "data": {
            "text/plain": [
              "22.500264105231626"
            ]
          },
          "metadata": {},
          "execution_count": 101
        }
      ],
      "source": [
        "a.sum()"
      ]
    },
    {
      "cell_type": "code",
      "execution_count": 102,
      "metadata": {
        "colab": {
          "base_uri": "https://localhost:8080/"
        },
        "id": "Esm7x2OxkCsL",
        "outputId": "d2b903fa-0e61-401f-ea34-b981602a3a5f"
      },
      "outputs": [
        {
          "output_type": "execute_result",
          "data": {
            "text/plain": [
              "0.013685799195592874"
            ]
          },
          "metadata": {},
          "execution_count": 102
        }
      ],
      "source": [
        "a.min()"
      ]
    },
    {
      "cell_type": "code",
      "execution_count": 103,
      "metadata": {
        "colab": {
          "base_uri": "https://localhost:8080/"
        },
        "id": "-4Qhj3sDkCsM",
        "outputId": "f89f0bab-5e94-47d7-af75-87362f401f50"
      },
      "outputs": [
        {
          "output_type": "execute_result",
          "data": {
            "text/plain": [
              "0.9942061452731762"
            ]
          },
          "metadata": {},
          "execution_count": 103
        }
      ],
      "source": [
        "a.max()"
      ]
    },
    {
      "cell_type": "markdown",
      "metadata": {
        "id": "A7FWpBDJkCsN"
      },
      "source": [
        "By default, these operations apply to the array as though it were a list of numbers, regardless of its shape. However, by specifying the axis parameter you can apply an operation along the specified axis of an array:"
      ]
    },
    {
      "cell_type": "code",
      "execution_count": 104,
      "metadata": {
        "colab": {
          "base_uri": "https://localhost:8080/"
        },
        "id": "lVSKLOJxkCsN",
        "outputId": "05c66d58-4aa1-49f7-a39c-259d14ae4566"
      },
      "outputs": [
        {
          "output_type": "execute_result",
          "data": {
            "text/plain": [
              "array([[ 0,  1,  2,  3,  4,  5,  6,  7,  8,  9],\n",
              "       [10, 11, 12, 13, 14, 15, 16, 17, 18, 19],\n",
              "       [20, 21, 22, 23, 24, 25, 26, 27, 28, 29],\n",
              "       [30, 31, 32, 33, 34, 35, 36, 37, 38, 39],\n",
              "       [40, 41, 42, 43, 44, 45, 46, 47, 48, 49],\n",
              "       [50, 51, 52, 53, 54, 55, 56, 57, 58, 59],\n",
              "       [60, 61, 62, 63, 64, 65, 66, 67, 68, 69],\n",
              "       [70, 71, 72, 73, 74, 75, 76, 77, 78, 79],\n",
              "       [80, 81, 82, 83, 84, 85, 86, 87, 88, 89]])"
            ]
          },
          "metadata": {},
          "execution_count": 104
        }
      ],
      "source": [
        "b = np.arange(90).reshape(9,10)\n",
        "b"
      ]
    },
    {
      "cell_type": "code",
      "execution_count": 105,
      "metadata": {
        "colab": {
          "base_uri": "https://localhost:8080/"
        },
        "id": "Sc-por0TkCsO",
        "outputId": "0030663d-7d8a-4d81-8e9c-8bdb0d7cff90"
      },
      "outputs": [
        {
          "output_type": "execute_result",
          "data": {
            "text/plain": [
              "array([360, 369, 378, 387, 396, 405, 414, 423, 432, 441])"
            ]
          },
          "metadata": {},
          "execution_count": 105
        }
      ],
      "source": [
        "b.sum(axis=0)                            # sum of each column"
      ]
    },
    {
      "cell_type": "code",
      "execution_count": 106,
      "metadata": {
        "colab": {
          "base_uri": "https://localhost:8080/"
        },
        "id": "T-NqGoKEkCsO",
        "outputId": "ba3549d6-063e-4c6a-cff2-06ca225518bc"
      },
      "outputs": [
        {
          "output_type": "execute_result",
          "data": {
            "text/plain": [
              "array([ 0, 10, 20, 30, 40, 50, 60, 70, 80])"
            ]
          },
          "metadata": {},
          "execution_count": 106
        }
      ],
      "source": [
        "b.min(axis=1)                            # min of each row"
      ]
    },
    {
      "cell_type": "code",
      "execution_count": 107,
      "metadata": {
        "colab": {
          "base_uri": "https://localhost:8080/"
        },
        "id": "kBv9YDhVkCsO",
        "outputId": "2c61f4bd-71f0-43fe-80b2-00d8d8210785"
      },
      "outputs": [
        {
          "output_type": "execute_result",
          "data": {
            "text/plain": [
              "array([[  0,   1,   3,   6,  10,  15,  21,  28,  36,  45],\n",
              "       [ 10,  21,  33,  46,  60,  75,  91, 108, 126, 145],\n",
              "       [ 20,  41,  63,  86, 110, 135, 161, 188, 216, 245],\n",
              "       [ 30,  61,  93, 126, 160, 195, 231, 268, 306, 345],\n",
              "       [ 40,  81, 123, 166, 210, 255, 301, 348, 396, 445],\n",
              "       [ 50, 101, 153, 206, 260, 315, 371, 428, 486, 545],\n",
              "       [ 60, 121, 183, 246, 310, 375, 441, 508, 576, 645],\n",
              "       [ 70, 141, 213, 286, 360, 435, 511, 588, 666, 745],\n",
              "       [ 80, 161, 243, 326, 410, 495, 581, 668, 756, 845]])"
            ]
          },
          "metadata": {},
          "execution_count": 107
        }
      ],
      "source": [
        "b.cumsum(axis=1)                         # cumulative sum along each row"
      ]
    },
    {
      "cell_type": "markdown",
      "metadata": {
        "id": "wOcgyrkkkCsP"
      },
      "source": [
        "### Universal Functions\n",
        "\n",
        "NumPy provides familiar mathematical functions such as sin, cos, and exp. In NumPy, these are called “universal functions”(ufunc). Within NumPy, these functions operate elementwise on an array, producing an array as output."
      ]
    },
    {
      "cell_type": "code",
      "execution_count": 108,
      "metadata": {
        "colab": {
          "base_uri": "https://localhost:8080/"
        },
        "id": "OETCuF-ckCsP",
        "outputId": "0ce4a674-363d-4569-dd3a-ee1e4a7dcbb0"
      },
      "outputs": [
        {
          "output_type": "execute_result",
          "data": {
            "text/plain": [
              "array([0, 1, 2])"
            ]
          },
          "metadata": {},
          "execution_count": 108
        }
      ],
      "source": [
        "B = np.arange(3)\n",
        "B"
      ]
    },
    {
      "cell_type": "code",
      "execution_count": 109,
      "metadata": {
        "colab": {
          "base_uri": "https://localhost:8080/"
        },
        "id": "7AsW5s0qkCsP",
        "outputId": "23e51c34-ce4d-4727-afd6-1ddada539806"
      },
      "outputs": [
        {
          "output_type": "execute_result",
          "data": {
            "text/plain": [
              "array([1.        , 2.71828183, 7.3890561 ])"
            ]
          },
          "metadata": {},
          "execution_count": 109
        }
      ],
      "source": [
        "np.exp(B)"
      ]
    },
    {
      "cell_type": "code",
      "execution_count": 110,
      "metadata": {
        "colab": {
          "base_uri": "https://localhost:8080/"
        },
        "id": "h-AW4H-1kCsQ",
        "outputId": "2729f880-4f05-4312-d1f1-de9247bea188"
      },
      "outputs": [
        {
          "output_type": "execute_result",
          "data": {
            "text/plain": [
              "array([0.        , 1.        , 1.41421356])"
            ]
          },
          "metadata": {},
          "execution_count": 110
        }
      ],
      "source": [
        "np.sqrt(B)"
      ]
    },
    {
      "cell_type": "code",
      "execution_count": 111,
      "metadata": {
        "colab": {
          "base_uri": "https://localhost:8080/"
        },
        "id": "zyKdYj65kCsQ",
        "outputId": "4d76c059-4024-4ce9-f55b-542b466d7ce3"
      },
      "outputs": [
        {
          "output_type": "execute_result",
          "data": {
            "text/plain": [
              "array([2., 0., 6.])"
            ]
          },
          "metadata": {},
          "execution_count": 111
        }
      ],
      "source": [
        "C = np.array([2., -1., 4.])\n",
        "np.add(B, C)"
      ]
    },
    {
      "cell_type": "code",
      "source": [
        "B = np.random.rand(3,3)\n",
        "B,np.exp(B),np.sqrt(B),"
      ],
      "metadata": {
        "colab": {
          "base_uri": "https://localhost:8080/"
        },
        "id": "Pczj6FenwZ0o",
        "outputId": "cd4cbe43-6b7c-4204-9c68-b757de60680d"
      },
      "execution_count": 114,
      "outputs": [
        {
          "output_type": "execute_result",
          "data": {
            "text/plain": [
              "(array([[0.1268084 , 0.47524678, 0.18745862],\n",
              "        [0.87719317, 0.62413098, 0.72569218],\n",
              "        [0.35705347, 0.51304589, 0.35117201]]),\n",
              " array([[1.13519949, 1.60841107, 1.20618034],\n",
              "        [2.40414222, 1.86662312, 2.06616076],\n",
              "        [1.42911228, 1.67037123, 1.42073169]]),\n",
              " array([[0.35610167, 0.68938145, 0.43296492],\n",
              "        [0.93658591, 0.79001961, 0.85187568],\n",
              "        [0.59753951, 0.71627222, 0.59259768]]))"
            ]
          },
          "metadata": {},
          "execution_count": 114
        }
      ]
    },
    {
      "cell_type": "markdown",
      "metadata": {
        "id": "QpBcgqfLkCsQ"
      },
      "source": [
        "**See also\n",
        "all, any, apply_along_axis, argmax, argmin, argsort, average, bincount, ceil, clip, conj, corrcoef, cov, cross, cumprod, cumsum, diff, dot, floor, inner, inv, lexsort, max, maximum, mean, median, min, minimum, nonzero, outer, prod, re, round, sort, std, sum, trace, transpose, var, vdot, vectorize, where**"
      ]
    },
    {
      "cell_type": "markdown",
      "metadata": {
        "id": "tJT3EFo2kCsR"
      },
      "source": [
        "### Indexing, Slicing and Iterating\n",
        "\n",
        "**One-dimensional** arrays can be indexed, sliced and iterated over, much like lists and other Python sequences."
      ]
    },
    {
      "cell_type": "code",
      "execution_count": 115,
      "metadata": {
        "colab": {
          "base_uri": "https://localhost:8080/"
        },
        "id": "JWrlVOXRkCsR",
        "outputId": "b9cc4479-4c67-4480-9050-3e7913fbcfca"
      },
      "outputs": [
        {
          "output_type": "execute_result",
          "data": {
            "text/plain": [
              "array([  0,   1,   8,  27,  64, 125, 216, 343, 512, 729])"
            ]
          },
          "metadata": {},
          "execution_count": 115
        }
      ],
      "source": [
        "a = np.arange(10)**3\n",
        "a"
      ]
    },
    {
      "cell_type": "code",
      "execution_count": 116,
      "metadata": {
        "colab": {
          "base_uri": "https://localhost:8080/"
        },
        "id": "3UdRTolikCsS",
        "outputId": "8b06139f-18ee-4735-9b90-d1561f562296"
      },
      "outputs": [
        {
          "output_type": "execute_result",
          "data": {
            "text/plain": [
              "8"
            ]
          },
          "metadata": {},
          "execution_count": 116
        }
      ],
      "source": [
        "a[2]"
      ]
    },
    {
      "cell_type": "code",
      "execution_count": 117,
      "metadata": {
        "colab": {
          "base_uri": "https://localhost:8080/"
        },
        "id": "_kN7x0UykCsT",
        "outputId": "71511bc1-3bc3-430d-c863-9eca9e890009"
      },
      "outputs": [
        {
          "output_type": "execute_result",
          "data": {
            "text/plain": [
              "array([ 8, 27, 64])"
            ]
          },
          "metadata": {},
          "execution_count": 117
        }
      ],
      "source": [
        "a[2:5]"
      ]
    },
    {
      "cell_type": "code",
      "execution_count": 118,
      "metadata": {
        "colab": {
          "base_uri": "https://localhost:8080/"
        },
        "id": "rjFdcc85kCsU",
        "outputId": "d43c47b0-2bbd-4ec4-89b1-91d50fe9a04c"
      },
      "outputs": [
        {
          "output_type": "execute_result",
          "data": {
            "text/plain": [
              "array([-1000,     1, -1000,    27, -1000,   125,   216,   343,   512,\n",
              "         729])"
            ]
          },
          "metadata": {},
          "execution_count": 118
        }
      ],
      "source": [
        "a[:6:2] = -1000    # equivalent to a[0:6:2] = -1000; from start to position 6, exclusive, set every 2nd element to -1000\n",
        "a"
      ]
    },
    {
      "cell_type": "code",
      "execution_count": 119,
      "metadata": {
        "colab": {
          "base_uri": "https://localhost:8080/"
        },
        "id": "q6ZaFzRLkCsW",
        "outputId": "ba6240a7-96d6-4255-91e0-d53e7edfc0c2"
      },
      "outputs": [
        {
          "output_type": "execute_result",
          "data": {
            "text/plain": [
              "array([  729,   512,   343,   216,   125, -1000,    27, -1000,     1,\n",
              "       -1000])"
            ]
          },
          "metadata": {},
          "execution_count": 119
        }
      ],
      "source": [
        "a[ : :-1]                                 # reversed a"
      ]
    },
    {
      "cell_type": "code",
      "execution_count": 120,
      "metadata": {
        "colab": {
          "base_uri": "https://localhost:8080/"
        },
        "id": "Ge0Knw9ckCsW",
        "outputId": "eefb10ab-8725-418e-8cd4-4fc5beba69dc"
      },
      "outputs": [
        {
          "output_type": "stream",
          "name": "stdout",
          "text": [
            "(5+8.660254037844384j)\n",
            "(1+0j)\n",
            "(5+8.660254037844384j)\n",
            "(2.9999999999999996+0j)\n",
            "(5+8.660254037844384j)\n",
            "(5.000000000000001+0j)\n",
            "(6+0j)\n",
            "(6.999999999999998+0j)\n",
            "(7.999999999999998+0j)\n",
            "(8.999999999999998+0j)\n"
          ]
        }
      ],
      "source": [
        "# for i in a:                             # NumPy, RuntimeWarning: invalid value encountered in power\n",
        "for i in a.astype('complex'):\n",
        "    print(i**(1/3.0))"
      ]
    },
    {
      "cell_type": "code",
      "source": [
        "a = np.random.rand(3,3)\n",
        "a"
      ],
      "metadata": {
        "colab": {
          "base_uri": "https://localhost:8080/"
        },
        "id": "a2KTfSqSwsSA",
        "outputId": "8c963e92-d188-4a16-c5f0-b4986b549415"
      },
      "execution_count": 121,
      "outputs": [
        {
          "output_type": "execute_result",
          "data": {
            "text/plain": [
              "array([[0.83536224, 0.08951096, 0.2057822 ],\n",
              "       [0.68622467, 0.94765585, 0.98910499],\n",
              "       [0.93251702, 0.67265888, 0.98358814]])"
            ]
          },
          "metadata": {},
          "execution_count": 121
        }
      ]
    },
    {
      "cell_type": "code",
      "source": [
        "a[2:3]"
      ],
      "metadata": {
        "colab": {
          "base_uri": "https://localhost:8080/"
        },
        "id": "vz6NeCpYwve4",
        "outputId": "baad6944-ccb8-4a56-b8ee-0b6a125cc327"
      },
      "execution_count": 122,
      "outputs": [
        {
          "output_type": "execute_result",
          "data": {
            "text/plain": [
              "array([[0.93251702, 0.67265888, 0.98358814]])"
            ]
          },
          "metadata": {},
          "execution_count": 122
        }
      ]
    },
    {
      "cell_type": "code",
      "source": [
        "a[0,-1]"
      ],
      "metadata": {
        "colab": {
          "base_uri": "https://localhost:8080/"
        },
        "id": "K-zmi2u8wx2Z",
        "outputId": "9eccfaa1-9ee5-4541-cf4d-ca1908933087"
      },
      "execution_count": 123,
      "outputs": [
        {
          "output_type": "execute_result",
          "data": {
            "text/plain": [
              "0.2057821978068466"
            ]
          },
          "metadata": {},
          "execution_count": 123
        }
      ]
    },
    {
      "cell_type": "markdown",
      "metadata": {
        "id": "NiJx2A3qkCsX"
      },
      "source": [
        "**Multidimensional** arrays can have one index per axis. These indices are given in a tuple separated by commas:"
      ]
    },
    {
      "cell_type": "code",
      "execution_count": 124,
      "metadata": {
        "colab": {
          "base_uri": "https://localhost:8080/"
        },
        "id": "KpDlZoldkCsX",
        "outputId": "ffead2cd-a9d1-4bed-9634-0761df8cf880"
      },
      "outputs": [
        {
          "output_type": "execute_result",
          "data": {
            "text/plain": [
              "array([[ 0,  1,  2,  3],\n",
              "       [10, 11, 12, 13],\n",
              "       [20, 21, 22, 23],\n",
              "       [30, 31, 32, 33],\n",
              "       [40, 41, 42, 43]])"
            ]
          },
          "metadata": {},
          "execution_count": 124
        }
      ],
      "source": [
        "def f(x,y):\n",
        "    return 10*x+y\n",
        "\n",
        "b = np.fromfunction(f,(5,4),dtype=int)\n",
        "b"
      ]
    },
    {
      "cell_type": "code",
      "execution_count": 125,
      "metadata": {
        "colab": {
          "base_uri": "https://localhost:8080/"
        },
        "id": "EabX2C4ekCsY",
        "outputId": "cff7b1a6-6525-4bd2-e2e9-01b47a1b8ea4"
      },
      "outputs": [
        {
          "output_type": "execute_result",
          "data": {
            "text/plain": [
              "23"
            ]
          },
          "metadata": {},
          "execution_count": 125
        }
      ],
      "source": [
        "b[2,3]"
      ]
    },
    {
      "cell_type": "code",
      "execution_count": 126,
      "metadata": {
        "colab": {
          "base_uri": "https://localhost:8080/"
        },
        "id": "Cf9bT8HlkCsY",
        "outputId": "ecc317fa-9853-4406-83e6-abf2f027be68"
      },
      "outputs": [
        {
          "output_type": "execute_result",
          "data": {
            "text/plain": [
              "array([ 1, 11, 21, 31, 41])"
            ]
          },
          "metadata": {},
          "execution_count": 126
        }
      ],
      "source": [
        "b[0:5, 1]                       # each row in the second column of b"
      ]
    },
    {
      "cell_type": "code",
      "execution_count": 127,
      "metadata": {
        "colab": {
          "base_uri": "https://localhost:8080/"
        },
        "id": "bX6Ijy0ikCsY",
        "outputId": "58493e92-1d49-425a-d3a9-7bd843b986cc"
      },
      "outputs": [
        {
          "output_type": "execute_result",
          "data": {
            "text/plain": [
              "array([ 1, 11, 21, 31, 41])"
            ]
          },
          "metadata": {},
          "execution_count": 127
        }
      ],
      "source": [
        "b[ : ,1]                        # equivalent to the previous example"
      ]
    },
    {
      "cell_type": "code",
      "execution_count": 128,
      "metadata": {
        "colab": {
          "base_uri": "https://localhost:8080/"
        },
        "id": "wNVmaHU3kCsZ",
        "outputId": "497f6032-f89b-4ee3-acff-795f9bc70001"
      },
      "outputs": [
        {
          "output_type": "execute_result",
          "data": {
            "text/plain": [
              "array([[10, 11, 12, 13],\n",
              "       [20, 21, 22, 23]])"
            ]
          },
          "metadata": {},
          "execution_count": 128
        }
      ],
      "source": [
        "b[1:3, : ]                      # each column in the second and third row of b"
      ]
    },
    {
      "cell_type": "markdown",
      "metadata": {
        "id": "JgB449tXkCsZ"
      },
      "source": [
        "When fewer indices are provided than the number of axes, the missing indices are considered complete slices:"
      ]
    },
    {
      "cell_type": "code",
      "execution_count": 129,
      "metadata": {
        "colab": {
          "base_uri": "https://localhost:8080/"
        },
        "id": "KFbVI2r4kCsa",
        "outputId": "8e704ca5-af2f-4881-b6ee-5e70318eb980"
      },
      "outputs": [
        {
          "output_type": "execute_result",
          "data": {
            "text/plain": [
              "array([40, 41, 42, 43])"
            ]
          },
          "metadata": {},
          "execution_count": 129
        }
      ],
      "source": [
        "b[-1]                                  # the last row. Equivalent to b[-1,:]"
      ]
    },
    {
      "cell_type": "markdown",
      "metadata": {
        "id": "QKvNZq6OkCsa"
      },
      "source": [
        "The expression within brackets in b[i] is treated as an i followed by as many instances of : as needed to represent the remaining axes. NumPy also allows you to write this using dots as b[i,...].\n",
        "\n",
        "The **dots** (...) represent as many colons as needed to produce a complete indexing tuple. For example, if x is an array with 5 axes, then\n",
        "\n",
        "- x[1,2,...] is equivalent to x[1,2,:,:,:],\n",
        "- x[...,3] to x[:,:,:,:,3] and\n",
        "- x[4,...,5,:] to x[4,:,:,5,:]."
      ]
    },
    {
      "cell_type": "code",
      "execution_count": 130,
      "metadata": {
        "colab": {
          "base_uri": "https://localhost:8080/"
        },
        "id": "R7OMgl5LkCsb",
        "outputId": "e026b39b-5eaa-41c2-d2b1-dbb402a3abfd"
      },
      "outputs": [
        {
          "output_type": "stream",
          "name": "stdout",
          "text": [
            "[[[  0   1   2]\n",
            "  [ 10  12  13]]\n",
            "\n",
            " [[100 101 102]\n",
            "  [110 112 113]]]\n"
          ]
        }
      ],
      "source": [
        "c = np.array( [[[  0,  1,  2],               # a 3D array (two stacked 2D arrays)\n",
        "                [ 10, 12, 13]],\n",
        "               [[100,101,102],\n",
        "                [110,112,113]]])\n",
        "print(c)"
      ]
    },
    {
      "cell_type": "code",
      "execution_count": 131,
      "metadata": {
        "colab": {
          "base_uri": "https://localhost:8080/"
        },
        "id": "ETTONmCnkCsc",
        "outputId": "bbf466b9-ab4b-45f3-83cd-1c1cc97fa17d"
      },
      "outputs": [
        {
          "output_type": "execute_result",
          "data": {
            "text/plain": [
              "(2, 2, 3)"
            ]
          },
          "metadata": {},
          "execution_count": 131
        }
      ],
      "source": [
        "c.shape"
      ]
    },
    {
      "cell_type": "code",
      "execution_count": 132,
      "metadata": {
        "colab": {
          "base_uri": "https://localhost:8080/"
        },
        "id": "ey0gijemkCsc",
        "outputId": "6138b691-f566-4135-d0b8-fd6853fb7ee0"
      },
      "outputs": [
        {
          "output_type": "execute_result",
          "data": {
            "text/plain": [
              "array([[100, 101, 102],\n",
              "       [110, 112, 113]])"
            ]
          },
          "metadata": {},
          "execution_count": 132
        }
      ],
      "source": [
        "c[1,...]                                   # same as c[1,:,:] or c[1]"
      ]
    },
    {
      "cell_type": "code",
      "execution_count": 133,
      "metadata": {
        "colab": {
          "base_uri": "https://localhost:8080/"
        },
        "id": "nGkIWTxgkCsc",
        "outputId": "3e89ff8d-f6c1-49a7-f8b2-2d1bde88efae"
      },
      "outputs": [
        {
          "output_type": "execute_result",
          "data": {
            "text/plain": [
              "array([[  2,  13],\n",
              "       [102, 113]])"
            ]
          },
          "metadata": {},
          "execution_count": 133
        }
      ],
      "source": [
        "c[...,2]                                   # same as c[:,:,2]"
      ]
    },
    {
      "cell_type": "code",
      "source": [
        "X = np.random.rand(5,5)\n",
        "X[4,4]"
      ],
      "metadata": {
        "colab": {
          "base_uri": "https://localhost:8080/"
        },
        "id": "NtcNC9YGw9z4",
        "outputId": "da2be87d-1e8b-487a-f5e3-16b7b928d7ad"
      },
      "execution_count": 135,
      "outputs": [
        {
          "output_type": "execute_result",
          "data": {
            "text/plain": [
              "0.908645899899911"
            ]
          },
          "metadata": {},
          "execution_count": 135
        }
      ]
    },
    {
      "cell_type": "markdown",
      "metadata": {
        "id": "TZIbLSgGkCsd"
      },
      "source": [
        "**Iterating** over multidimensional arrays is done with respect to the first axis:"
      ]
    },
    {
      "cell_type": "code",
      "execution_count": 142,
      "metadata": {
        "colab": {
          "base_uri": "https://localhost:8080/"
        },
        "id": "EH84-oDskCsd",
        "outputId": "be9d652a-2743-4577-ec98-8159cd6e3540"
      },
      "outputs": [
        {
          "output_type": "stream",
          "name": "stdout",
          "text": [
            "[[0.33603284 0.65574893 0.23580908 0.52151463 0.73672354 0.52795914\n",
            "  0.41209129 0.70000776 0.58843473 0.97671456 0.50028349 0.55723954\n",
            "  0.73325244 0.13478594 0.45765569]\n",
            " [0.84078806 0.44124243 0.9554753  0.14420061 0.73155637 0.17279009\n",
            "  0.91201056 0.27475584 0.55350018 0.7176409  0.87332243 0.78717581\n",
            "  0.33207843 0.50190682 0.2321878 ]\n",
            " [0.01735605 0.88266762 0.06485941 0.69589314 0.24106931 0.5603863\n",
            "  0.41320741 0.83115335 0.99795605 0.65972399 0.29825796 0.54504536\n",
            "  0.57485568 0.04900062 0.9205094 ]\n",
            " [0.880384   0.25936923 0.24560308 0.62669275 0.23808104 0.47341889\n",
            "  0.02107314 0.71295593 0.65477619 0.07223518 0.1052268  0.8462613\n",
            "  0.45076583 0.6031507  0.67911075]\n",
            " [0.59424771 0.81262535 0.06404874 0.33404652 0.43878106 0.56400328\n",
            "  0.5894274  0.21928427 0.73328264 0.15572267 0.43107107 0.76515756\n",
            "  0.06393386 0.37863821 0.51441581]\n",
            " [0.96584561 0.36801522 0.15835725 0.09890546 0.8473147  0.62837346\n",
            "  0.41873981 0.00771513 0.0777263  0.32507569 0.50495926 0.71558277\n",
            "  0.79504314 0.80980474 0.5068287 ]\n",
            " [0.12984575 0.80697338 0.9688061  0.36044551 0.95995624 0.78216084\n",
            "  0.22494198 0.1725581  0.00212257 0.18290844 0.90754175 0.15288582\n",
            "  0.83445202 0.85314636 0.69016195]\n",
            " [0.85765518 0.44459904 0.92624869 0.04995748 0.30658643 0.32755959\n",
            "  0.78037022 0.43140778 0.83573859 0.25089852 0.55700005 0.32619746\n",
            "  0.98555826 0.11948514 0.85124565]\n",
            " [0.95294924 0.02918298 0.511334   0.43219718 0.51303863 0.90995206\n",
            "  0.30391172 0.66381455 0.59983628 0.50932106 0.79695618 0.14424651\n",
            "  0.89498461 0.74955568 0.46001452]\n",
            " [0.11255375 0.43055092 0.10019556 0.29739968 0.22210324 0.563175\n",
            "  0.6824122  0.18969159 0.81509224 0.63954713 0.55141144 0.37473127\n",
            "  0.89329095 0.06399638 0.11458272]\n",
            " [0.13605762 0.82753677 0.72796665 0.97190723 0.68826067 0.77596758\n",
            "  0.44457105 0.90508164 0.5419623  0.32299836 0.37903811 0.908631\n",
            "  0.22790866 0.29234144 0.81495198]\n",
            " [0.02562034 0.35150934 0.09052081 0.83193749 0.5995143  0.108357\n",
            "  0.34450499 0.65443893 0.89209568 0.88791464 0.63484335 0.32088733\n",
            "  0.6217596  0.65448687 0.6606701 ]\n",
            " [0.37428518 0.32228012 0.06852453 0.74052304 0.47602329 0.2380739\n",
            "  0.37133285 0.02763218 0.49090792 0.76976039 0.46747467 0.02898019\n",
            "  0.9033819  0.30031005 0.04489987]\n",
            " [0.88936835 0.23934288 0.1984102  0.7474552  0.30084017 0.46017426\n",
            "  0.27185107 0.98644341 0.33046261 0.97765612 0.25532549 0.68258283\n",
            "  0.97320575 0.70999266 0.65161173]\n",
            " [0.66853007 0.2713506  0.51370792 0.92798679 0.22114164 0.44063526\n",
            "  0.37051944 0.91933305 0.56021987 0.76818751 0.07365687 0.37318872\n",
            "  0.74964624 0.66004239 0.40749328]]\n",
            "[0.33603284 0.65574893 0.23580908 0.52151463 0.73672354 0.52795914\n",
            " 0.41209129 0.70000776 0.58843473 0.97671456 0.50028349 0.55723954\n",
            " 0.73325244 0.13478594 0.45765569]\n",
            "[0.84078806 0.44124243 0.9554753  0.14420061 0.73155637 0.17279009\n",
            " 0.91201056 0.27475584 0.55350018 0.7176409  0.87332243 0.78717581\n",
            " 0.33207843 0.50190682 0.2321878 ]\n",
            "[0.01735605 0.88266762 0.06485941 0.69589314 0.24106931 0.5603863\n",
            " 0.41320741 0.83115335 0.99795605 0.65972399 0.29825796 0.54504536\n",
            " 0.57485568 0.04900062 0.9205094 ]\n",
            "[0.880384   0.25936923 0.24560308 0.62669275 0.23808104 0.47341889\n",
            " 0.02107314 0.71295593 0.65477619 0.07223518 0.1052268  0.8462613\n",
            " 0.45076583 0.6031507  0.67911075]\n",
            "[0.59424771 0.81262535 0.06404874 0.33404652 0.43878106 0.56400328\n",
            " 0.5894274  0.21928427 0.73328264 0.15572267 0.43107107 0.76515756\n",
            " 0.06393386 0.37863821 0.51441581]\n",
            "[0.96584561 0.36801522 0.15835725 0.09890546 0.8473147  0.62837346\n",
            " 0.41873981 0.00771513 0.0777263  0.32507569 0.50495926 0.71558277\n",
            " 0.79504314 0.80980474 0.5068287 ]\n",
            "[0.12984575 0.80697338 0.9688061  0.36044551 0.95995624 0.78216084\n",
            " 0.22494198 0.1725581  0.00212257 0.18290844 0.90754175 0.15288582\n",
            " 0.83445202 0.85314636 0.69016195]\n",
            "[0.85765518 0.44459904 0.92624869 0.04995748 0.30658643 0.32755959\n",
            " 0.78037022 0.43140778 0.83573859 0.25089852 0.55700005 0.32619746\n",
            " 0.98555826 0.11948514 0.85124565]\n",
            "[0.95294924 0.02918298 0.511334   0.43219718 0.51303863 0.90995206\n",
            " 0.30391172 0.66381455 0.59983628 0.50932106 0.79695618 0.14424651\n",
            " 0.89498461 0.74955568 0.46001452]\n",
            "[0.11255375 0.43055092 0.10019556 0.29739968 0.22210324 0.563175\n",
            " 0.6824122  0.18969159 0.81509224 0.63954713 0.55141144 0.37473127\n",
            " 0.89329095 0.06399638 0.11458272]\n",
            "[0.13605762 0.82753677 0.72796665 0.97190723 0.68826067 0.77596758\n",
            " 0.44457105 0.90508164 0.5419623  0.32299836 0.37903811 0.908631\n",
            " 0.22790866 0.29234144 0.81495198]\n",
            "[0.02562034 0.35150934 0.09052081 0.83193749 0.5995143  0.108357\n",
            " 0.34450499 0.65443893 0.89209568 0.88791464 0.63484335 0.32088733\n",
            " 0.6217596  0.65448687 0.6606701 ]\n",
            "[0.37428518 0.32228012 0.06852453 0.74052304 0.47602329 0.2380739\n",
            " 0.37133285 0.02763218 0.49090792 0.76976039 0.46747467 0.02898019\n",
            " 0.9033819  0.30031005 0.04489987]\n",
            "[0.88936835 0.23934288 0.1984102  0.7474552  0.30084017 0.46017426\n",
            " 0.27185107 0.98644341 0.33046261 0.97765612 0.25532549 0.68258283\n",
            " 0.97320575 0.70999266 0.65161173]\n",
            "[0.66853007 0.2713506  0.51370792 0.92798679 0.22114164 0.44063526\n",
            " 0.37051944 0.91933305 0.56021987 0.76818751 0.07365687 0.37318872\n",
            " 0.74964624 0.66004239 0.40749328]\n"
          ]
        }
      ],
      "source": [
        "b = np.random.rand(15,15)\n",
        "print(b)\n",
        "for row in b:\n",
        "    print(row)"
      ]
    },
    {
      "cell_type": "markdown",
      "metadata": {
        "id": "pjONcDRxkCsd"
      },
      "source": [
        "However, if one wants to perform an operation on each element in the array, one can use the flat attribute which is an iterator over all the elements of the array:"
      ]
    },
    {
      "cell_type": "code",
      "execution_count": 143,
      "metadata": {
        "colab": {
          "base_uri": "https://localhost:8080/"
        },
        "id": "1gbrZT6MkCse",
        "outputId": "4babd850-97e6-4c88-9c90-af015279a784"
      },
      "outputs": [
        {
          "output_type": "stream",
          "name": "stdout",
          "text": [
            "0.3360328371809801\n",
            "0.6557489275079614\n",
            "0.23580908027410463\n",
            "0.5215146273970617\n",
            "0.7367235424398074\n",
            "0.527959136973081\n",
            "0.4120912928127751\n",
            "0.7000077581247824\n",
            "0.588434728500926\n",
            "0.9767145551675843\n",
            "0.5002834851303262\n",
            "0.5572395374721887\n",
            "0.7332524398418349\n",
            "0.1347859426813406\n",
            "0.4576556880287024\n",
            "0.8407880645614012\n",
            "0.44124243328638657\n",
            "0.9554752991058377\n",
            "0.14420060760969133\n",
            "0.7315563659804958\n",
            "0.17279009249790078\n",
            "0.9120105597660142\n",
            "0.2747558369834162\n",
            "0.5535001831102653\n",
            "0.7176409010385726\n",
            "0.8733224304091979\n",
            "0.787175812994893\n",
            "0.3320784291272866\n",
            "0.5019068248699377\n",
            "0.2321877975347869\n",
            "0.017356050147711577\n",
            "0.8826676212650014\n",
            "0.0648594105593675\n",
            "0.6958931391364727\n",
            "0.2410693061877337\n",
            "0.5603863007922137\n",
            "0.4132074107900965\n",
            "0.8311533527823204\n",
            "0.9979560547152555\n",
            "0.6597239880435708\n",
            "0.2982579643766541\n",
            "0.5450453557043486\n",
            "0.5748556775397288\n",
            "0.049000615842721196\n",
            "0.9205094024716706\n",
            "0.8803839955224257\n",
            "0.2593692290121907\n",
            "0.2456030797005504\n",
            "0.6266927518212154\n",
            "0.23808103776992207\n",
            "0.47341889116842917\n",
            "0.021073137567373834\n",
            "0.712955928130831\n",
            "0.654776192460063\n",
            "0.07223518297322995\n",
            "0.10522679875934426\n",
            "0.8462613047269636\n",
            "0.4507658348010941\n",
            "0.6031506969669214\n",
            "0.6791107479837843\n",
            "0.5942477112022692\n",
            "0.812625351680364\n",
            "0.06404873792366927\n",
            "0.33404652391623124\n",
            "0.4387810585512768\n",
            "0.5640032804184151\n",
            "0.5894273994053512\n",
            "0.21928427348262947\n",
            "0.7332826395055563\n",
            "0.1557226652690208\n",
            "0.43107107339462947\n",
            "0.7651575626492864\n",
            "0.0639338602620858\n",
            "0.3786382121375974\n",
            "0.5144158083159822\n",
            "0.9658456128724817\n",
            "0.3680152170374096\n",
            "0.15835724690584863\n",
            "0.09890546303261605\n",
            "0.847314702420502\n",
            "0.628373461663163\n",
            "0.4187398125018661\n",
            "0.0077151349499132715\n",
            "0.0777262973676649\n",
            "0.325075692061478\n",
            "0.5049592560005043\n",
            "0.7155827680003042\n",
            "0.7950431427813709\n",
            "0.8098047447205413\n",
            "0.5068287010481237\n",
            "0.12984574580802954\n",
            "0.8069733779765389\n",
            "0.9688060977954042\n",
            "0.3604455129455758\n",
            "0.9599562425224847\n",
            "0.7821608446730072\n",
            "0.22494197591244236\n",
            "0.1725580987953429\n",
            "0.002122572214920182\n",
            "0.18290843540622204\n",
            "0.9075417517642418\n",
            "0.1528858158199402\n",
            "0.8344520232016145\n",
            "0.8531463573397625\n",
            "0.6901619479720731\n",
            "0.8576551819190459\n",
            "0.4445990366698953\n",
            "0.926248690866381\n",
            "0.04995747613026291\n",
            "0.30658642818446613\n",
            "0.3275595885816115\n",
            "0.7803702247032822\n",
            "0.43140777631227256\n",
            "0.8357385892514276\n",
            "0.2508985185492516\n",
            "0.5570000519365358\n",
            "0.32619745803078537\n",
            "0.9855582565655127\n",
            "0.1194851380930686\n",
            "0.8512456537328306\n",
            "0.9529492368214332\n",
            "0.029182982417316206\n",
            "0.5113339988227026\n",
            "0.43219717667971447\n",
            "0.513038627768567\n",
            "0.9099520586531112\n",
            "0.30391172459027926\n",
            "0.663814550822033\n",
            "0.5998362815425429\n",
            "0.509321062451778\n",
            "0.7969561752739783\n",
            "0.14424651023771706\n",
            "0.8949846077805241\n",
            "0.749555679326074\n",
            "0.46001452351603445\n",
            "0.11255375103148169\n",
            "0.430550919222512\n",
            "0.10019555640745426\n",
            "0.2973996750965069\n",
            "0.22210324297180672\n",
            "0.5631750031228717\n",
            "0.6824121995561276\n",
            "0.1896915896044803\n",
            "0.8150922416301027\n",
            "0.6395471336530596\n",
            "0.5514114396317868\n",
            "0.37473126877440477\n",
            "0.8932909506689646\n",
            "0.06399637872118591\n",
            "0.11458271905927397\n",
            "0.1360576207255575\n",
            "0.8275367718066309\n",
            "0.7279666489325538\n",
            "0.9719072280024034\n",
            "0.688260667258993\n",
            "0.7759675786461614\n",
            "0.44457104611355414\n",
            "0.9050816389466435\n",
            "0.5419622972784568\n",
            "0.3229983557463656\n",
            "0.3790381059142146\n",
            "0.9086310044062592\n",
            "0.22790865820119455\n",
            "0.2923414383354138\n",
            "0.8149519763660148\n",
            "0.02562034027776372\n",
            "0.35150933779936455\n",
            "0.09052081474334595\n",
            "0.8319374883157181\n",
            "0.5995142969521615\n",
            "0.10835699811409849\n",
            "0.3445049931659716\n",
            "0.6544389267673162\n",
            "0.8920956818029825\n",
            "0.8879146365046698\n",
            "0.6348433456924426\n",
            "0.3208873255209408\n",
            "0.6217595962245328\n",
            "0.6544868704593743\n",
            "0.660670096900655\n",
            "0.3742851757525786\n",
            "0.3222801232077085\n",
            "0.06852452735610826\n",
            "0.7405230385525039\n",
            "0.4760232868862948\n",
            "0.23807390323715283\n",
            "0.3713328492899318\n",
            "0.027632180721169575\n",
            "0.49090791772999953\n",
            "0.7697603851366723\n",
            "0.4674746733270624\n",
            "0.0289801905844308\n",
            "0.9033819019256777\n",
            "0.300310051883929\n",
            "0.04489986957143555\n",
            "0.8893683523758482\n",
            "0.2393428776689236\n",
            "0.19841019974379193\n",
            "0.7474551980267982\n",
            "0.3008401687075627\n",
            "0.4601742567489123\n",
            "0.271851066593513\n",
            "0.9864434141307049\n",
            "0.3304626088765681\n",
            "0.977656115331475\n",
            "0.25532549025033746\n",
            "0.6825828340438487\n",
            "0.9732057518555371\n",
            "0.7099926639486664\n",
            "0.651611727082934\n",
            "0.6685300701311877\n",
            "0.27135059980079923\n",
            "0.5137079229236202\n",
            "0.9279867903632754\n",
            "0.2211416420048541\n",
            "0.4406352630576691\n",
            "0.370519442411507\n",
            "0.91933305378295\n",
            "0.5602198655738263\n",
            "0.7681875074347722\n",
            "0.07365687181705127\n",
            "0.3731887154989093\n",
            "0.7496462443678202\n",
            "0.6600423896728203\n",
            "0.40749327838040983\n"
          ]
        }
      ],
      "source": [
        "for element in b.flat:\n",
        "    print(element)"
      ]
    },
    {
      "cell_type": "markdown",
      "metadata": {
        "id": "KvSplSxAkCse"
      },
      "source": [
        "**See also\n",
        "Indexing, Indexing (reference), newaxis, ndenumerate, indices**"
      ]
    },
    {
      "cell_type": "markdown",
      "metadata": {
        "id": "JXMK8JwQkCse"
      },
      "source": [
        "## Shape Manipulation\n",
        "\n",
        "### Changing the shape of an array\n",
        "\n",
        "An array has a shape given by the number of elements along each axis:"
      ]
    },
    {
      "cell_type": "code",
      "execution_count": 144,
      "metadata": {
        "colab": {
          "base_uri": "https://localhost:8080/"
        },
        "id": "Lk2zY5BWkCse",
        "outputId": "28bbb23e-4590-484c-aab4-d360059c7f9c"
      },
      "outputs": [
        {
          "output_type": "execute_result",
          "data": {
            "text/plain": [
              "array([[0., 5., 1., 3.],\n",
              "       [8., 4., 3., 4.],\n",
              "       [6., 1., 7., 3.]])"
            ]
          },
          "metadata": {},
          "execution_count": 144
        }
      ],
      "source": [
        "a = np.floor(10*np.random.random((3,4)))\n",
        "a"
      ]
    },
    {
      "cell_type": "code",
      "execution_count": 145,
      "metadata": {
        "colab": {
          "base_uri": "https://localhost:8080/"
        },
        "id": "xOWwx242kCsf",
        "outputId": "76a0ed2a-23d6-40e1-9d33-cfef7bea75bf"
      },
      "outputs": [
        {
          "output_type": "execute_result",
          "data": {
            "text/plain": [
              "(3, 4)"
            ]
          },
          "metadata": {},
          "execution_count": 145
        }
      ],
      "source": [
        "a.shape"
      ]
    },
    {
      "cell_type": "code",
      "source": [
        "b = np.random.rand(4,6)"
      ],
      "metadata": {
        "id": "_JwoF-OGx3ew"
      },
      "execution_count": 148,
      "outputs": []
    },
    {
      "cell_type": "code",
      "source": [
        "b"
      ],
      "metadata": {
        "colab": {
          "base_uri": "https://localhost:8080/"
        },
        "id": "kId907Uhx563",
        "outputId": "c1230955-10e3-43bb-99dd-bd0e98e816cc"
      },
      "execution_count": 149,
      "outputs": [
        {
          "output_type": "execute_result",
          "data": {
            "text/plain": [
              "array([[0.33221966, 0.25749817, 0.89925466, 0.22734621, 0.33931566,\n",
              "        0.24500824],\n",
              "       [0.20321456, 0.00218383, 0.27425968, 0.8074232 , 0.18361322,\n",
              "        0.7257715 ],\n",
              "       [0.15545605, 0.25516235, 0.01954704, 0.39210538, 0.13466983,\n",
              "        0.05748367],\n",
              "       [0.14476658, 0.68594023, 0.33050497, 0.30413121, 0.69942059,\n",
              "        0.48360115]])"
            ]
          },
          "metadata": {},
          "execution_count": 149
        }
      ]
    },
    {
      "cell_type": "markdown",
      "metadata": {
        "id": "GycOdx3mkCsf"
      },
      "source": [
        "The shape of an array can be changed with various commands. Note that the following three commands all return a modified array, but do not change the original array:"
      ]
    },
    {
      "cell_type": "code",
      "execution_count": 147,
      "metadata": {
        "colab": {
          "base_uri": "https://localhost:8080/"
        },
        "id": "KfA2WY3GkCsi",
        "outputId": "4b198b55-29b2-4fb7-eb34-add0c1b8c1ad"
      },
      "outputs": [
        {
          "output_type": "execute_result",
          "data": {
            "text/plain": [
              "array([0., 5., 1., 3., 8., 4., 3., 4., 6., 1., 7., 3.])"
            ]
          },
          "metadata": {},
          "execution_count": 147
        }
      ],
      "source": [
        "a.ravel()  # returns the array, flattened"
      ]
    },
    {
      "cell_type": "code",
      "source": [
        "b.ravel()"
      ],
      "metadata": {
        "colab": {
          "base_uri": "https://localhost:8080/"
        },
        "id": "lUXkt_spx7EQ",
        "outputId": "8fd00504-4d78-406e-be8e-a55c81a6430c"
      },
      "execution_count": 150,
      "outputs": [
        {
          "output_type": "execute_result",
          "data": {
            "text/plain": [
              "array([0.33221966, 0.25749817, 0.89925466, 0.22734621, 0.33931566,\n",
              "       0.24500824, 0.20321456, 0.00218383, 0.27425968, 0.8074232 ,\n",
              "       0.18361322, 0.7257715 , 0.15545605, 0.25516235, 0.01954704,\n",
              "       0.39210538, 0.13466983, 0.05748367, 0.14476658, 0.68594023,\n",
              "       0.33050497, 0.30413121, 0.69942059, 0.48360115])"
            ]
          },
          "metadata": {},
          "execution_count": 150
        }
      ]
    },
    {
      "cell_type": "code",
      "execution_count": 153,
      "metadata": {
        "colab": {
          "base_uri": "https://localhost:8080/"
        },
        "id": "ID8GeysfkCsj",
        "outputId": "7beb8d92-429d-422d-eaaf-f3ca3b130850"
      },
      "outputs": [
        {
          "output_type": "execute_result",
          "data": {
            "text/plain": [
              "array([[0., 5.],\n",
              "       [1., 3.],\n",
              "       [8., 4.],\n",
              "       [3., 4.],\n",
              "       [6., 1.],\n",
              "       [7., 3.]])"
            ]
          },
          "metadata": {},
          "execution_count": 153
        }
      ],
      "source": [
        "a.reshape(6,2)  # returns the array with a modified shape"
      ]
    },
    {
      "cell_type": "code",
      "source": [
        "b.reshape(6,4)"
      ],
      "metadata": {
        "colab": {
          "base_uri": "https://localhost:8080/"
        },
        "id": "UCEmbLMRx8X4",
        "outputId": "0da52635-185d-4437-ad44-0fc67228f36f"
      },
      "execution_count": 151,
      "outputs": [
        {
          "output_type": "execute_result",
          "data": {
            "text/plain": [
              "array([[0.33221966, 0.25749817, 0.89925466, 0.22734621],\n",
              "       [0.33931566, 0.24500824, 0.20321456, 0.00218383],\n",
              "       [0.27425968, 0.8074232 , 0.18361322, 0.7257715 ],\n",
              "       [0.15545605, 0.25516235, 0.01954704, 0.39210538],\n",
              "       [0.13466983, 0.05748367, 0.14476658, 0.68594023],\n",
              "       [0.33050497, 0.30413121, 0.69942059, 0.48360115]])"
            ]
          },
          "metadata": {},
          "execution_count": 151
        }
      ]
    },
    {
      "cell_type": "code",
      "execution_count": 152,
      "metadata": {
        "colab": {
          "base_uri": "https://localhost:8080/"
        },
        "id": "0l0ccmGKkCsj",
        "outputId": "35373bcb-5863-4821-eab9-d4712bc147bd"
      },
      "outputs": [
        {
          "output_type": "execute_result",
          "data": {
            "text/plain": [
              "array([[0., 8., 6.],\n",
              "       [5., 4., 1.],\n",
              "       [1., 3., 7.],\n",
              "       [3., 4., 3.]])"
            ]
          },
          "metadata": {},
          "execution_count": 152
        }
      ],
      "source": [
        "a.T  # returns the array, transposed"
      ]
    },
    {
      "cell_type": "code",
      "source": [
        "b.T"
      ],
      "metadata": {
        "colab": {
          "base_uri": "https://localhost:8080/"
        },
        "id": "5xdnn_4kyADw",
        "outputId": "a08bda43-4ee0-4f6a-85e3-cfae8d25afa3"
      },
      "execution_count": 154,
      "outputs": [
        {
          "output_type": "execute_result",
          "data": {
            "text/plain": [
              "array([[0.33221966, 0.20321456, 0.15545605, 0.14476658],\n",
              "       [0.25749817, 0.00218383, 0.25516235, 0.68594023],\n",
              "       [0.89925466, 0.27425968, 0.01954704, 0.33050497],\n",
              "       [0.22734621, 0.8074232 , 0.39210538, 0.30413121],\n",
              "       [0.33931566, 0.18361322, 0.13466983, 0.69942059],\n",
              "       [0.24500824, 0.7257715 , 0.05748367, 0.48360115]])"
            ]
          },
          "metadata": {},
          "execution_count": 154
        }
      ]
    },
    {
      "cell_type": "code",
      "execution_count": 155,
      "metadata": {
        "colab": {
          "base_uri": "https://localhost:8080/"
        },
        "id": "OistAhhJkCsj",
        "outputId": "04180ae8-d0f2-4a1b-d9b4-599bcf482477"
      },
      "outputs": [
        {
          "output_type": "execute_result",
          "data": {
            "text/plain": [
              "(4, 3)"
            ]
          },
          "metadata": {},
          "execution_count": 155
        }
      ],
      "source": [
        "a.T.shape"
      ]
    },
    {
      "cell_type": "code",
      "source": [
        "b.T.shape"
      ],
      "metadata": {
        "colab": {
          "base_uri": "https://localhost:8080/"
        },
        "id": "qjbhSSw8yCFp",
        "outputId": "cf4a3faf-37b8-4ba2-c884-aed22d419261"
      },
      "execution_count": 156,
      "outputs": [
        {
          "output_type": "execute_result",
          "data": {
            "text/plain": [
              "(6, 4)"
            ]
          },
          "metadata": {},
          "execution_count": 156
        }
      ]
    },
    {
      "cell_type": "code",
      "execution_count": 158,
      "metadata": {
        "colab": {
          "base_uri": "https://localhost:8080/"
        },
        "id": "4vLwgeZtkCsk",
        "outputId": "45a883d1-7ceb-4e49-a850-514ac74a39cb"
      },
      "outputs": [
        {
          "output_type": "execute_result",
          "data": {
            "text/plain": [
              "(3, 4)"
            ]
          },
          "metadata": {},
          "execution_count": 158
        }
      ],
      "source": [
        "a.shape"
      ]
    },
    {
      "cell_type": "code",
      "source": [
        "b.shape"
      ],
      "metadata": {
        "colab": {
          "base_uri": "https://localhost:8080/"
        },
        "id": "hY7IuGuyyEC4",
        "outputId": "31d963e0-6190-4fa9-9366-ddf2e731624c"
      },
      "execution_count": 157,
      "outputs": [
        {
          "output_type": "execute_result",
          "data": {
            "text/plain": [
              "(4, 6)"
            ]
          },
          "metadata": {},
          "execution_count": 157
        }
      ]
    },
    {
      "cell_type": "markdown",
      "metadata": {
        "id": "5VA97MIKkCsk"
      },
      "source": [
        "* The order of the elements in the array resulting from ravel() is normally “C-style”, that is, the rightmost index “changes the fastest”, so the element after a[0,0] is a[0,1].\n",
        "* If the array is reshaped to some other shape, again the array is treated as “C-style”.\n",
        "* NumPy normally creates arrays stored in this order, so ravel() will usually not need to copy its argument\n",
        "* **But** if the array was made by taking slices of another array or created with unusual options, it may need to be copied.\n",
        "* The functions ravel() and reshape() can also be instructed, using an optional argument, to use **FORTRAN-style** arrays, in which the leftmost index changes the fastest."
      ]
    },
    {
      "cell_type": "markdown",
      "metadata": {
        "id": "p-jIOTXpkCsk"
      },
      "source": [
        "* The **reshape** function returns its argument with a modified shape\n",
        "* The ndarray.resize method modifies the array itself:"
      ]
    },
    {
      "cell_type": "code",
      "execution_count": 159,
      "metadata": {
        "colab": {
          "base_uri": "https://localhost:8080/"
        },
        "id": "9Jw0_aMMkCsl",
        "outputId": "2bfe2de7-4a7c-4606-d8b1-56fdcf029f8e"
      },
      "outputs": [
        {
          "output_type": "execute_result",
          "data": {
            "text/plain": [
              "array([[0., 5., 1., 3.],\n",
              "       [8., 4., 3., 4.],\n",
              "       [6., 1., 7., 3.]])"
            ]
          },
          "metadata": {},
          "execution_count": 159
        }
      ],
      "source": [
        "a"
      ]
    },
    {
      "cell_type": "code",
      "source": [
        "b"
      ],
      "metadata": {
        "colab": {
          "base_uri": "https://localhost:8080/"
        },
        "id": "XWeO_yVOyIDH",
        "outputId": "d3cbe325-e7bd-4c8a-e608-788398cb0f37"
      },
      "execution_count": 160,
      "outputs": [
        {
          "output_type": "execute_result",
          "data": {
            "text/plain": [
              "array([[0.33221966, 0.25749817, 0.89925466, 0.22734621, 0.33931566,\n",
              "        0.24500824],\n",
              "       [0.20321456, 0.00218383, 0.27425968, 0.8074232 , 0.18361322,\n",
              "        0.7257715 ],\n",
              "       [0.15545605, 0.25516235, 0.01954704, 0.39210538, 0.13466983,\n",
              "        0.05748367],\n",
              "       [0.14476658, 0.68594023, 0.33050497, 0.30413121, 0.69942059,\n",
              "        0.48360115]])"
            ]
          },
          "metadata": {},
          "execution_count": 160
        }
      ]
    },
    {
      "cell_type": "code",
      "execution_count": 161,
      "metadata": {
        "colab": {
          "base_uri": "https://localhost:8080/"
        },
        "id": "qvOJwu-BkCsm",
        "outputId": "8dfe6017-d586-406b-ed1a-2b9bd66c6380"
      },
      "outputs": [
        {
          "output_type": "execute_result",
          "data": {
            "text/plain": [
              "array([[0., 5., 1., 3., 8., 4.],\n",
              "       [3., 4., 6., 1., 7., 3.]])"
            ]
          },
          "metadata": {},
          "execution_count": 161
        }
      ],
      "source": [
        "a.resize((2,6))\n",
        "a"
      ]
    },
    {
      "cell_type": "code",
      "source": [
        "b.resize(6,4)\n",
        "b"
      ],
      "metadata": {
        "colab": {
          "base_uri": "https://localhost:8080/"
        },
        "id": "5vZbW2NQyJ8g",
        "outputId": "000d0f17-2de6-4497-d0c3-8e2051143393"
      },
      "execution_count": 165,
      "outputs": [
        {
          "output_type": "execute_result",
          "data": {
            "text/plain": [
              "array([[0.33221966, 0.25749817, 0.89925466, 0.22734621],\n",
              "       [0.33931566, 0.24500824, 0.20321456, 0.00218383],\n",
              "       [0.27425968, 0.8074232 , 0.18361322, 0.7257715 ],\n",
              "       [0.15545605, 0.25516235, 0.01954704, 0.39210538],\n",
              "       [0.13466983, 0.05748367, 0.14476658, 0.68594023],\n",
              "       [0.33050497, 0.30413121, 0.69942059, 0.48360115]])"
            ]
          },
          "metadata": {},
          "execution_count": 165
        }
      ]
    },
    {
      "cell_type": "markdown",
      "metadata": {
        "id": "YM-XOE4DkCsm"
      },
      "source": [
        "If a dimension is given as -1 in a reshaping operation, the other dimensions are automatically calculated:"
      ]
    },
    {
      "cell_type": "code",
      "execution_count": 166,
      "metadata": {
        "colab": {
          "base_uri": "https://localhost:8080/"
        },
        "id": "PD8nUOrdkCsn",
        "outputId": "44e5dc71-9648-49d4-e7d9-4c49bdcb02ef"
      },
      "outputs": [
        {
          "output_type": "execute_result",
          "data": {
            "text/plain": [
              "array([[0., 5., 1., 3., 8., 4.],\n",
              "       [3., 4., 6., 1., 7., 3.]])"
            ]
          },
          "metadata": {},
          "execution_count": 166
        }
      ],
      "source": [
        "a.reshape(2,-1)"
      ]
    },
    {
      "cell_type": "code",
      "source": [
        "b.reshape(3,-1)"
      ],
      "metadata": {
        "colab": {
          "base_uri": "https://localhost:8080/"
        },
        "id": "ca_9bThKyY7w",
        "outputId": "d5a92712-4790-4044-c524-18978ae04bf2"
      },
      "execution_count": 167,
      "outputs": [
        {
          "output_type": "execute_result",
          "data": {
            "text/plain": [
              "array([[0.33221966, 0.25749817, 0.89925466, 0.22734621, 0.33931566,\n",
              "        0.24500824, 0.20321456, 0.00218383],\n",
              "       [0.27425968, 0.8074232 , 0.18361322, 0.7257715 , 0.15545605,\n",
              "        0.25516235, 0.01954704, 0.39210538],\n",
              "       [0.13466983, 0.05748367, 0.14476658, 0.68594023, 0.33050497,\n",
              "        0.30413121, 0.69942059, 0.48360115]])"
            ]
          },
          "metadata": {},
          "execution_count": 167
        }
      ]
    },
    {
      "cell_type": "markdown",
      "metadata": {
        "id": "Z5mpq2InkCsn"
      },
      "source": [
        "**See also\n",
        "ndarray.shape, reshape, resize, ravel**"
      ]
    },
    {
      "cell_type": "markdown",
      "metadata": {
        "id": "CeHQOrWLkCsn"
      },
      "source": [
        "### Stacking together different arrays\n",
        "\n",
        "Several arrays can be stacked together along different axes:"
      ]
    },
    {
      "cell_type": "code",
      "execution_count": 169,
      "metadata": {
        "colab": {
          "base_uri": "https://localhost:8080/"
        },
        "id": "Itd-e-sCkCso",
        "outputId": "a85dae11-0e2e-4168-bfd4-ae4196b1b76e"
      },
      "outputs": [
        {
          "output_type": "stream",
          "name": "stdout",
          "text": [
            "[[1. 9. 4. 9. 3.]\n",
            " [5. 9. 0. 1. 2.]\n",
            " [6. 2. 2. 6. 3.]\n",
            " [0. 1. 8. 7. 6.]\n",
            " [2. 0. 5. 7. 7.]]\n",
            "[[0. 2. 5. 9. 1.]\n",
            " [2. 9. 6. 6. 8.]\n",
            " [3. 9. 1. 4. 2.]\n",
            " [9. 2. 4. 6. 7.]\n",
            " [0. 5. 9. 3. 5.]]\n"
          ]
        }
      ],
      "source": [
        "a = np.floor(10*np.random.random((5,5)))\n",
        "print(a)\n",
        "b = np.floor(10*np.random.random((5,5)))\n",
        "print(b)"
      ]
    },
    {
      "cell_type": "code",
      "execution_count": 170,
      "metadata": {
        "colab": {
          "base_uri": "https://localhost:8080/"
        },
        "id": "bDHECHfwkCsp",
        "outputId": "9acdda01-4b13-4f5f-9bf7-722ec6b28a10"
      },
      "outputs": [
        {
          "output_type": "execute_result",
          "data": {
            "text/plain": [
              "array([[1., 9., 4., 9., 3.],\n",
              "       [5., 9., 0., 1., 2.],\n",
              "       [6., 2., 2., 6., 3.],\n",
              "       [0., 1., 8., 7., 6.],\n",
              "       [2., 0., 5., 7., 7.],\n",
              "       [0., 2., 5., 9., 1.],\n",
              "       [2., 9., 6., 6., 8.],\n",
              "       [3., 9., 1., 4., 2.],\n",
              "       [9., 2., 4., 6., 7.],\n",
              "       [0., 5., 9., 3., 5.]])"
            ]
          },
          "metadata": {},
          "execution_count": 170
        }
      ],
      "source": [
        "np.vstack((a,b))"
      ]
    },
    {
      "cell_type": "code",
      "execution_count": 171,
      "metadata": {
        "colab": {
          "base_uri": "https://localhost:8080/"
        },
        "id": "ZDBM1SuPkCsp",
        "outputId": "93ea9d7e-cae5-4471-a6e0-bdc97ca22929"
      },
      "outputs": [
        {
          "output_type": "execute_result",
          "data": {
            "text/plain": [
              "array([[1., 9., 4., 9., 3., 0., 2., 5., 9., 1.],\n",
              "       [5., 9., 0., 1., 2., 2., 9., 6., 6., 8.],\n",
              "       [6., 2., 2., 6., 3., 3., 9., 1., 4., 2.],\n",
              "       [0., 1., 8., 7., 6., 9., 2., 4., 6., 7.],\n",
              "       [2., 0., 5., 7., 7., 0., 5., 9., 3., 5.]])"
            ]
          },
          "metadata": {},
          "execution_count": 171
        }
      ],
      "source": [
        "np.hstack((a,b))"
      ]
    },
    {
      "cell_type": "markdown",
      "metadata": {
        "id": "YgQ90-ctkCsp"
      },
      "source": [
        "The function **column_stack** stacks 1D arrays as columns into a 2D array. It is equivalent to hstack only for 2D arrays:"
      ]
    },
    {
      "cell_type": "code",
      "execution_count": 172,
      "metadata": {
        "colab": {
          "base_uri": "https://localhost:8080/"
        },
        "id": "vH_xmb3MkCsq",
        "outputId": "18990f8d-61bc-430c-d9b8-9b9c3c3e366b"
      },
      "outputs": [
        {
          "output_type": "stream",
          "name": "stdout",
          "text": [
            "\n",
            "a:\n",
            "[[1. 9. 4. 9. 3.]\n",
            " [5. 9. 0. 1. 2.]\n",
            " [6. 2. 2. 6. 3.]\n",
            " [0. 1. 8. 7. 6.]\n",
            " [2. 0. 5. 7. 7.]]\n",
            "\n",
            "b:\n",
            "[[0. 2. 5. 9. 1.]\n",
            " [2. 9. 6. 6. 8.]\n",
            " [3. 9. 1. 4. 2.]\n",
            " [9. 2. 4. 6. 7.]\n",
            " [0. 5. 9. 3. 5.]]\n",
            "\n",
            "c = np.column_stac((a,b)):\n",
            "[[1. 9. 4. 9. 3. 0. 2. 5. 9. 1.]\n",
            " [5. 9. 0. 1. 2. 2. 9. 6. 6. 8.]\n",
            " [6. 2. 2. 6. 3. 3. 9. 1. 4. 2.]\n",
            " [0. 1. 8. 7. 6. 9. 2. 4. 6. 7.]\n",
            " [2. 0. 5. 7. 7. 0. 5. 9. 3. 5.]]\n"
          ]
        }
      ],
      "source": [
        "from numpy import newaxis\n",
        "c = np.column_stack((a,b))     # with 2D arrays\n",
        "print('\\na:')\n",
        "print(a)\n",
        "print('\\nb:')\n",
        "print(b)\n",
        "print('\\nc = np.column_stac((a,b)):')\n",
        "print(c)"
      ]
    },
    {
      "cell_type": "code",
      "execution_count": 175,
      "metadata": {
        "colab": {
          "base_uri": "https://localhost:8080/"
        },
        "id": "mYA3DAMFkCsq",
        "outputId": "b9a73f50-5bc9-4ef6-e3bd-01d7e2e92462"
      },
      "outputs": [
        {
          "output_type": "stream",
          "name": "stdout",
          "text": [
            "\n",
            "a:\n",
            "[[4. 2.]\n",
            " [3. 1.]\n",
            " [4. 5.]]\n",
            "\n",
            "a.shape:\n",
            "(3, 2)\n",
            "\n",
            "b:\n",
            "[[3. 8.]\n",
            " [8. 6.]\n",
            " [1. 0.]]\n",
            "\n",
            "b.shape:\n",
            "(3, 2)\n",
            "\n",
            "c = np.column_stac((a,b)):\n",
            "[[4. 2. 3. 8.]\n",
            " [3. 1. 8. 6.]\n",
            " [4. 5. 1. 0.]]\n",
            "\n",
            "c.shape:\n",
            "(3, 4)\n"
          ]
        }
      ],
      "source": [
        "a = np.array(([4.,2.], [3.,1.], [4.,5.]))\n",
        "b = np.array(([3.,8.], [8.,6.], [1.,0.]))\n",
        "c = np.column_stack((a,b))     # returns a 2D array\n",
        "\n",
        "print('\\na:')\n",
        "print(a)\n",
        "print('\\na.shape:')\n",
        "print(a.shape)\n",
        "print('\\nb:')\n",
        "print(b)\n",
        "print('\\nb.shape:')\n",
        "print(b.shape)\n",
        "print('\\nc = np.column_stac((a,b)):')\n",
        "print(c)\n",
        "print('\\nc.shape:')\n",
        "print(c.shape)"
      ]
    },
    {
      "cell_type": "code",
      "execution_count": 176,
      "metadata": {
        "colab": {
          "base_uri": "https://localhost:8080/"
        },
        "id": "jFvRFBzekCsr",
        "outputId": "ba90e529-4403-433b-8f14-3f723a674013"
      },
      "outputs": [
        {
          "output_type": "stream",
          "name": "stdout",
          "text": [
            "\n",
            "a:\n",
            "[[4. 2.]\n",
            " [3. 1.]\n",
            " [4. 5.]]\n",
            "\n",
            "a.shape:\n",
            "(3, 2)\n",
            "\n",
            "b:\n",
            "[[3. 8.]\n",
            " [8. 6.]\n",
            " [1. 0.]]\n",
            "\n",
            "b.shape:\n",
            "(3, 2)\n",
            "\n",
            "c = np.column_stac((a,b)):\n",
            "[[4. 2. 3. 8.]\n",
            " [3. 1. 8. 6.]\n",
            " [4. 5. 1. 0.]]\n",
            "\n",
            "c.shape:\n",
            "(3, 4)\n"
          ]
        }
      ],
      "source": [
        "c = np.hstack((a,b))           # the result is different\n",
        "print('\\na:')\n",
        "print(a)\n",
        "print('\\na.shape:')\n",
        "print(a.shape)\n",
        "print('\\nb:')\n",
        "print(b)\n",
        "print('\\nb.shape:')\n",
        "print(b.shape)\n",
        "print('\\nc = np.column_stac((a,b)):')\n",
        "print(c)\n",
        "print('\\nc.shape:')\n",
        "print(c.shape)"
      ]
    },
    {
      "cell_type": "code",
      "execution_count": 177,
      "metadata": {
        "colab": {
          "base_uri": "https://localhost:8080/"
        },
        "id": "jrsyPn0wkCss",
        "outputId": "b02e9041-5d66-433b-8dae-0b658f7aef89"
      },
      "outputs": [
        {
          "output_type": "stream",
          "name": "stdout",
          "text": [
            "\n",
            "c = a[:,newaxis]:\n",
            "[[[4. 2.]]\n",
            "\n",
            " [[3. 1.]]\n",
            "\n",
            " [[4. 5.]]]\n",
            "\n",
            "c.shape:\n",
            "(3, 1, 2)\n"
          ]
        }
      ],
      "source": [
        "c = a[:,newaxis]               # this allows to have a 2D columns vector\n",
        "print('\\nc = a[:,newaxis]:')\n",
        "print(c)\n",
        "print('\\nc.shape:')\n",
        "print(c.shape)"
      ]
    },
    {
      "cell_type": "code",
      "execution_count": 178,
      "metadata": {
        "colab": {
          "base_uri": "https://localhost:8080/"
        },
        "id": "IgqcTE7hkCss",
        "outputId": "fde4f3b3-0099-42a5-a582-831715308c99"
      },
      "outputs": [
        {
          "output_type": "execute_result",
          "data": {
            "text/plain": [
              "array([[[4., 2.],\n",
              "        [3., 8.]],\n",
              "\n",
              "       [[3., 1.],\n",
              "        [8., 6.]],\n",
              "\n",
              "       [[4., 5.],\n",
              "        [1., 0.]]])"
            ]
          },
          "metadata": {},
          "execution_count": 178
        }
      ],
      "source": [
        "c = np.column_stack((a[:,newaxis],b[:,newaxis]))\n",
        "c"
      ]
    },
    {
      "cell_type": "code",
      "execution_count": 179,
      "metadata": {
        "colab": {
          "base_uri": "https://localhost:8080/"
        },
        "id": "enRWcLkEkCst",
        "outputId": "ccfaed20-9bdf-4718-f204-03578a651c75"
      },
      "outputs": [
        {
          "output_type": "execute_result",
          "data": {
            "text/plain": [
              "array([[[4., 2.],\n",
              "        [3., 8.]],\n",
              "\n",
              "       [[3., 1.],\n",
              "        [8., 6.]],\n",
              "\n",
              "       [[4., 5.],\n",
              "        [1., 0.]]])"
            ]
          },
          "metadata": {},
          "execution_count": 179
        }
      ],
      "source": [
        "c = np.hstack((a[:,newaxis],b[:,newaxis]))   # the result is the same as column stack\n",
        "c"
      ]
    },
    {
      "cell_type": "markdown",
      "metadata": {
        "id": "4nYso4WHkCst"
      },
      "source": [
        "1. On the other hand, the function **ma.row_stack** is equivalent to **vstack** for any input arrays.\n",
        "\n",
        "1. In general:\n",
        "\n",
        "\n",
        "* For arrays with more than two dimensions, **hstack** stacks along their **second** axes (columns).\n",
        "* **vstack** stacks along their **first** axes (rows).\n",
        "* Concatenate allows for an optional arguments giving the number of the axis along which the concatenation should happen."
      ]
    },
    {
      "cell_type": "markdown",
      "metadata": {
        "id": "SmhAQamEkCst"
      },
      "source": [
        "**Note**\n",
        "\n",
        "In complex cases, r_ and c_ are useful for creating arrays by stacking numbers along one axis. They allow the use of range literals (“:”)\n"
      ]
    },
    {
      "cell_type": "code",
      "execution_count": 180,
      "metadata": {
        "colab": {
          "base_uri": "https://localhost:8080/"
        },
        "id": "pCpUJGq2kCst",
        "outputId": "f395da34-8210-4626-c3c8-67667f7667e8"
      },
      "outputs": [
        {
          "output_type": "execute_result",
          "data": {
            "text/plain": [
              "array([ 1,  2,  3, 11,  9,  7,  5, -4])"
            ]
          },
          "metadata": {},
          "execution_count": 180
        }
      ],
      "source": [
        "np.r_[1:4, 11:3:-2, -4]"
      ]
    },
    {
      "cell_type": "markdown",
      "metadata": {
        "id": "BrgWQcHdkCsu"
      },
      "source": [
        "When used with arrays as arguments, r_ and c_ are similar to vstack and hstack in their default behavior, but allow for an optional argument giving the number of the axis along which to concatenate."
      ]
    },
    {
      "cell_type": "markdown",
      "metadata": {
        "id": "GPy2TcWqkCsu"
      },
      "source": [
        "**See also\n",
        "hstack, vstack, column_stack, concatenate, c_, r_**"
      ]
    },
    {
      "cell_type": "markdown",
      "metadata": {
        "id": "qu4AGQVQkCsu"
      },
      "source": [
        "### Splitting one array into several smaller ones\n",
        "\n",
        "* **hsplit** -- split an array along its horizontal axis, either by specifying the number of equally shaped arrays to return, or by specifying the columns after which the division should occur:"
      ]
    },
    {
      "cell_type": "code",
      "execution_count": 181,
      "metadata": {
        "colab": {
          "base_uri": "https://localhost:8080/"
        },
        "id": "2v2b2w4bkCsu",
        "outputId": "a341a4eb-670a-4ec9-b302-be71b6a0ce33"
      },
      "outputs": [
        {
          "output_type": "execute_result",
          "data": {
            "text/plain": [
              "array([[0., 0., 7., 6., 8., 1., 8., 5., 9., 1., 2., 7., 2., 7., 0., 0.],\n",
              "       [3., 0., 4., 0., 2., 1., 9., 2., 8., 9., 3., 2., 6., 6., 1., 5.],\n",
              "       [7., 4., 6., 3., 0., 2., 0., 8., 2., 9., 7., 2., 5., 8., 3., 0.],\n",
              "       [3., 4., 2., 7., 6., 6., 1., 8., 8., 7., 2., 9., 7., 4., 0., 2.],\n",
              "       [0., 7., 6., 7., 6., 7., 5., 0., 1., 2., 2., 3., 0., 2., 6., 9.],\n",
              "       [7., 1., 8., 8., 1., 2., 3., 1., 4., 8., 0., 9., 6., 4., 3., 6.],\n",
              "       [7., 9., 7., 8., 6., 8., 0., 3., 7., 1., 3., 1., 7., 5., 5., 7.],\n",
              "       [4., 1., 8., 1., 3., 4., 2., 7., 2., 5., 2., 8., 5., 6., 5., 5.],\n",
              "       [7., 7., 3., 2., 6., 0., 1., 3., 6., 0., 2., 1., 0., 2., 2., 9.]])"
            ]
          },
          "metadata": {},
          "execution_count": 181
        }
      ],
      "source": [
        "a = np.floor(10*np.random.random((9,16)))\n",
        "a"
      ]
    },
    {
      "cell_type": "code",
      "execution_count": 183,
      "metadata": {
        "colab": {
          "base_uri": "https://localhost:8080/"
        },
        "id": "CgX9zKkykCsv",
        "outputId": "9905eeab-415c-4e50-d844-b7d9c3c0e476"
      },
      "outputs": [
        {
          "output_type": "stream",
          "name": "stdout",
          "text": [
            "\n",
            "a:\n",
            "[[0. 0. 7. 6. 8. 1. 8. 5. 9. 1. 2. 7. 2. 7. 0. 0.]\n",
            " [3. 0. 4. 0. 2. 1. 9. 2. 8. 9. 3. 2. 6. 6. 1. 5.]\n",
            " [7. 4. 6. 3. 0. 2. 0. 8. 2. 9. 7. 2. 5. 8. 3. 0.]\n",
            " [3. 4. 2. 7. 6. 6. 1. 8. 8. 7. 2. 9. 7. 4. 0. 2.]\n",
            " [0. 7. 6. 7. 6. 7. 5. 0. 1. 2. 2. 3. 0. 2. 6. 9.]\n",
            " [7. 1. 8. 8. 1. 2. 3. 1. 4. 8. 0. 9. 6. 4. 3. 6.]\n",
            " [7. 9. 7. 8. 6. 8. 0. 3. 7. 1. 3. 1. 7. 5. 5. 7.]\n",
            " [4. 1. 8. 1. 3. 4. 2. 7. 2. 5. 2. 8. 5. 6. 5. 5.]\n",
            " [7. 7. 3. 2. 6. 0. 1. 3. 6. 0. 2. 1. 0. 2. 2. 9.]]\n",
            "\n",
            "b = np.hsplit(a,3):\n",
            "[[0. 0. 7. 6.]\n",
            " [3. 0. 4. 0.]\n",
            " [7. 4. 6. 3.]\n",
            " [3. 4. 2. 7.]\n",
            " [0. 7. 6. 7.]\n",
            " [7. 1. 8. 8.]\n",
            " [7. 9. 7. 8.]\n",
            " [4. 1. 8. 1.]\n",
            " [7. 7. 3. 2.]]\n",
            "[[8. 1. 8. 5.]\n",
            " [2. 1. 9. 2.]\n",
            " [0. 2. 0. 8.]\n",
            " [6. 6. 1. 8.]\n",
            " [6. 7. 5. 0.]\n",
            " [1. 2. 3. 1.]\n",
            " [6. 8. 0. 3.]\n",
            " [3. 4. 2. 7.]\n",
            " [6. 0. 1. 3.]]\n",
            "[[9. 1. 2. 7.]\n",
            " [8. 9. 3. 2.]\n",
            " [2. 9. 7. 2.]\n",
            " [8. 7. 2. 9.]\n",
            " [1. 2. 2. 3.]\n",
            " [4. 8. 0. 9.]\n",
            " [7. 1. 3. 1.]\n",
            " [2. 5. 2. 8.]\n",
            " [6. 0. 2. 1.]]\n",
            "[[2. 7. 0. 0.]\n",
            " [6. 6. 1. 5.]\n",
            " [5. 8. 3. 0.]\n",
            " [7. 4. 0. 2.]\n",
            " [0. 2. 6. 9.]\n",
            " [6. 4. 3. 6.]\n",
            " [7. 5. 5. 7.]\n",
            " [5. 6. 5. 5.]\n",
            " [0. 2. 2. 9.]]\n"
          ]
        }
      ],
      "source": [
        "b = np.hsplit(a,4)   # Split a into 4\n",
        "print('\\na:')\n",
        "print(a)\n",
        "print(\"\\nb = np.hsplit(a,3):\")\n",
        "for section in b:\n",
        "    print(section)"
      ]
    },
    {
      "cell_type": "code",
      "execution_count": 184,
      "metadata": {
        "colab": {
          "base_uri": "https://localhost:8080/"
        },
        "id": "wf465J30kCsv",
        "outputId": "a8f947bd-3b5c-45a4-9563-367530de77a9"
      },
      "outputs": [
        {
          "output_type": "stream",
          "name": "stdout",
          "text": [
            "\n",
            "a:\n",
            "[[0. 0. 7. 6. 8. 1. 8. 5. 9. 1. 2. 7. 2. 7. 0. 0.]\n",
            " [3. 0. 4. 0. 2. 1. 9. 2. 8. 9. 3. 2. 6. 6. 1. 5.]\n",
            " [7. 4. 6. 3. 0. 2. 0. 8. 2. 9. 7. 2. 5. 8. 3. 0.]\n",
            " [3. 4. 2. 7. 6. 6. 1. 8. 8. 7. 2. 9. 7. 4. 0. 2.]\n",
            " [0. 7. 6. 7. 6. 7. 5. 0. 1. 2. 2. 3. 0. 2. 6. 9.]\n",
            " [7. 1. 8. 8. 1. 2. 3. 1. 4. 8. 0. 9. 6. 4. 3. 6.]\n",
            " [7. 9. 7. 8. 6. 8. 0. 3. 7. 1. 3. 1. 7. 5. 5. 7.]\n",
            " [4. 1. 8. 1. 3. 4. 2. 7. 2. 5. 2. 8. 5. 6. 5. 5.]\n",
            " [7. 7. 3. 2. 6. 0. 1. 3. 6. 0. 2. 1. 0. 2. 2. 9.]]\n",
            "\n",
            "b = np.hsplit(a,3):\n",
            "[[0. 0. 7. 6. 8. 1. 8. 5.]\n",
            " [3. 0. 4. 0. 2. 1. 9. 2.]\n",
            " [7. 4. 6. 3. 0. 2. 0. 8.]\n",
            " [3. 4. 2. 7. 6. 6. 1. 8.]\n",
            " [0. 7. 6. 7. 6. 7. 5. 0.]\n",
            " [7. 1. 8. 8. 1. 2. 3. 1.]\n",
            " [7. 9. 7. 8. 6. 8. 0. 3.]\n",
            " [4. 1. 8. 1. 3. 4. 2. 7.]\n",
            " [7. 7. 3. 2. 6. 0. 1. 3.]]\n",
            "[[9. 1. 2. 7. 2. 7. 0. 0.]\n",
            " [8. 9. 3. 2. 6. 6. 1. 5.]\n",
            " [2. 9. 7. 2. 5. 8. 3. 0.]\n",
            " [8. 7. 2. 9. 7. 4. 0. 2.]\n",
            " [1. 2. 2. 3. 0. 2. 6. 9.]\n",
            " [4. 8. 0. 9. 6. 4. 3. 6.]\n",
            " [7. 1. 3. 1. 7. 5. 5. 7.]\n",
            " [2. 5. 2. 8. 5. 6. 5. 5.]\n",
            " [6. 0. 2. 1. 0. 2. 2. 9.]]\n"
          ]
        }
      ],
      "source": [
        "b = np.hsplit(a,2)   # Split a into 2\n",
        "print('\\na:')\n",
        "print(a)\n",
        "print(\"\\nb = np.hsplit(a,3):\")\n",
        "for section in b:\n",
        "    print(section)"
      ]
    },
    {
      "cell_type": "code",
      "execution_count": 185,
      "metadata": {
        "colab": {
          "base_uri": "https://localhost:8080/"
        },
        "id": "lmZNBOM4kCsv",
        "outputId": "e181ce61-f552-4e59-b1ba-25b9495fec34"
      },
      "outputs": [
        {
          "output_type": "stream",
          "name": "stdout",
          "text": [
            "\n",
            "a:\n",
            "[[0. 0. 7. 6. 8. 1. 8. 5. 9. 1. 2. 7. 2. 7. 0. 0.]\n",
            " [3. 0. 4. 0. 2. 1. 9. 2. 8. 9. 3. 2. 6. 6. 1. 5.]\n",
            " [7. 4. 6. 3. 0. 2. 0. 8. 2. 9. 7. 2. 5. 8. 3. 0.]\n",
            " [3. 4. 2. 7. 6. 6. 1. 8. 8. 7. 2. 9. 7. 4. 0. 2.]\n",
            " [0. 7. 6. 7. 6. 7. 5. 0. 1. 2. 2. 3. 0. 2. 6. 9.]\n",
            " [7. 1. 8. 8. 1. 2. 3. 1. 4. 8. 0. 9. 6. 4. 3. 6.]\n",
            " [7. 9. 7. 8. 6. 8. 0. 3. 7. 1. 3. 1. 7. 5. 5. 7.]\n",
            " [4. 1. 8. 1. 3. 4. 2. 7. 2. 5. 2. 8. 5. 6. 5. 5.]\n",
            " [7. 7. 3. 2. 6. 0. 1. 3. 6. 0. 2. 1. 0. 2. 2. 9.]]\n",
            "\n",
            "b = np.hsplit(a,(3,4)):\n",
            "[[0. 0. 7. 6. 8.]\n",
            " [3. 0. 4. 0. 2.]\n",
            " [7. 4. 6. 3. 0.]\n",
            " [3. 4. 2. 7. 6.]\n",
            " [0. 7. 6. 7. 6.]\n",
            " [7. 1. 8. 8. 1.]\n",
            " [7. 9. 7. 8. 6.]\n",
            " [4. 1. 8. 1. 3.]\n",
            " [7. 7. 3. 2. 6.]]\n",
            "[[1.]\n",
            " [1.]\n",
            " [2.]\n",
            " [6.]\n",
            " [7.]\n",
            " [2.]\n",
            " [8.]\n",
            " [4.]\n",
            " [0.]]\n",
            "[[8. 5. 9. 1. 2. 7. 2. 7. 0. 0.]\n",
            " [9. 2. 8. 9. 3. 2. 6. 6. 1. 5.]\n",
            " [0. 8. 2. 9. 7. 2. 5. 8. 3. 0.]\n",
            " [1. 8. 8. 7. 2. 9. 7. 4. 0. 2.]\n",
            " [5. 0. 1. 2. 2. 3. 0. 2. 6. 9.]\n",
            " [3. 1. 4. 8. 0. 9. 6. 4. 3. 6.]\n",
            " [0. 3. 7. 1. 3. 1. 7. 5. 5. 7.]\n",
            " [2. 7. 2. 5. 2. 8. 5. 6. 5. 5.]\n",
            " [1. 3. 6. 0. 2. 1. 0. 2. 2. 9.]]\n"
          ]
        }
      ],
      "source": [
        "b = np.hsplit(a,(5,6))   # Split a after the 5and the 6 column\n",
        "print('\\na:')\n",
        "print(a)\n",
        "print(\"\\nb = np.hsplit(a,(3,4)):\")\n",
        "for section in b:\n",
        "    print(section)"
      ]
    },
    {
      "cell_type": "markdown",
      "metadata": {
        "id": "0ZmldEIzkCsw"
      },
      "source": [
        "* **vsplit** splits along the vertical axis\n",
        "* **array_split** allows one to specify along which axis to split."
      ]
    },
    {
      "cell_type": "markdown",
      "metadata": {
        "id": "IOtbpmWykCsw"
      },
      "source": [
        "## Copies and Views\n",
        "\n",
        "* When operating and manipulating arrays, their data is sometimes copied into a new array and sometimes not.\n",
        "* This is often a source of confusion for beginners. There are three cases:"
      ]
    },
    {
      "cell_type": "markdown",
      "metadata": {
        "id": "vlPUiXmhkCsw"
      },
      "source": [
        "### No Copy at All\n",
        "\n",
        "Simple assignments make no copy of array objects or of their data."
      ]
    },
    {
      "cell_type": "code",
      "execution_count": 193,
      "metadata": {
        "colab": {
          "base_uri": "https://localhost:8080/"
        },
        "id": "gfIWfyhlkCsw",
        "outputId": "92884807-5957-44fa-ea25-36d17f6677da"
      },
      "outputs": [
        {
          "output_type": "stream",
          "name": "stdout",
          "text": [
            "\n",
            "a:\n",
            "[ 0  1  2  3  4  5  6  7  8  9 10 11 12 13 14 15 16 17 18 19 20 21 22 23]\n",
            "\n",
            "b:\n",
            "[ 0  1  2  3  4  5  6  7  8  9 10 11 12 13 14 15 16 17 18 19 20 21 22 23]\n"
          ]
        }
      ],
      "source": [
        "a = np.arange(24)\n",
        "b = a            # no new object is created\n",
        "print('\\na:')\n",
        "print(a)\n",
        "print('\\nb:')\n",
        "print(b)"
      ]
    },
    {
      "cell_type": "code",
      "execution_count": 194,
      "metadata": {
        "colab": {
          "base_uri": "https://localhost:8080/"
        },
        "id": "Buf8r_NEkCsx",
        "outputId": "d8ec70f1-a7a9-44f6-a734-c4b1a6fe2b1e"
      },
      "outputs": [
        {
          "output_type": "execute_result",
          "data": {
            "text/plain": [
              "True"
            ]
          },
          "metadata": {},
          "execution_count": 194
        }
      ],
      "source": [
        "b is a           # a and b are two names for the same ndarray object"
      ]
    },
    {
      "cell_type": "code",
      "execution_count": 198,
      "metadata": {
        "colab": {
          "base_uri": "https://localhost:8080/"
        },
        "id": "QrQrRjMekCsx",
        "outputId": "40f95b97-d073-42f3-c64a-16ad16d1f492"
      },
      "outputs": [
        {
          "output_type": "stream",
          "name": "stdout",
          "text": [
            "\n",
            "a:\n",
            "[[ 0  1  2  3]\n",
            " [ 4  5  6  7]\n",
            " [ 8  9 10 11]\n",
            " [12 13 14 15]\n",
            " [16 17 18 19]\n",
            " [20 21 22 23]]\n",
            "\n",
            "b:\n",
            "[[ 0  1  2  3]\n",
            " [ 4  5  6  7]\n",
            " [ 8  9 10 11]\n",
            " [12 13 14 15]\n",
            " [16 17 18 19]\n",
            " [20 21 22 23]]\n"
          ]
        }
      ],
      "source": [
        "b.shape = 6,4    # changes the shape of a\n",
        "a.shape\n",
        "print('\\na:')\n",
        "print(a)\n",
        "print('\\nb:')\n",
        "print(b)"
      ]
    },
    {
      "cell_type": "markdown",
      "metadata": {
        "id": "VnJn5Hd0kCsx"
      },
      "source": [
        "Python passes mutable objects as references, so function calls make no copy."
      ]
    },
    {
      "cell_type": "code",
      "execution_count": 199,
      "metadata": {
        "colab": {
          "base_uri": "https://localhost:8080/"
        },
        "id": "sjjyEqPLkCsx",
        "outputId": "7197b83b-f42f-442a-81cd-7617ecad72c4"
      },
      "outputs": [
        {
          "output_type": "execute_result",
          "data": {
            "text/plain": [
              "140633525072592"
            ]
          },
          "metadata": {},
          "execution_count": 199
        }
      ],
      "source": [
        "def f(x):\n",
        "    print(id(x))\n",
        "\n",
        "id(a)                           # id is a unique identifier of an object"
      ]
    },
    {
      "cell_type": "code",
      "execution_count": 200,
      "metadata": {
        "colab": {
          "base_uri": "https://localhost:8080/"
        },
        "id": "0YoD4WAkkCsy",
        "outputId": "c758fdda-4e59-47db-d908-4055faf78e8b"
      },
      "outputs": [
        {
          "output_type": "stream",
          "name": "stdout",
          "text": [
            "140633525072592\n"
          ]
        }
      ],
      "source": [
        "f(a)"
      ]
    },
    {
      "cell_type": "markdown",
      "metadata": {
        "id": "k-vt6z0kkCsy"
      },
      "source": [
        "### View or Shallow Copy\n",
        "\n",
        "Different array objects can share the same data. The view method creates a new array object that looks at the same data."
      ]
    },
    {
      "cell_type": "code",
      "execution_count": 201,
      "metadata": {
        "colab": {
          "base_uri": "https://localhost:8080/"
        },
        "id": "MCL-bRX4kCsy",
        "outputId": "1b9a34e9-7bcc-47cf-de23-19c7f95eaf18"
      },
      "outputs": [
        {
          "output_type": "execute_result",
          "data": {
            "text/plain": [
              "False"
            ]
          },
          "metadata": {},
          "execution_count": 201
        }
      ],
      "source": [
        "c = a.view()\n",
        "c is a"
      ]
    },
    {
      "cell_type": "code",
      "execution_count": 202,
      "metadata": {
        "scrolled": true,
        "colab": {
          "base_uri": "https://localhost:8080/"
        },
        "id": "uDanH3TSkCsy",
        "outputId": "d8abf512-524f-40fc-c21b-0a7459d491be"
      },
      "outputs": [
        {
          "output_type": "execute_result",
          "data": {
            "text/plain": [
              "140633525072592"
            ]
          },
          "metadata": {},
          "execution_count": 202
        }
      ],
      "source": [
        "id(a)"
      ]
    },
    {
      "cell_type": "code",
      "execution_count": 203,
      "metadata": {
        "colab": {
          "base_uri": "https://localhost:8080/"
        },
        "id": "bYlu1jr-kCsz",
        "outputId": "bf2fd3d0-dc93-4aa0-89c0-dd2ae87e133e"
      },
      "outputs": [
        {
          "output_type": "execute_result",
          "data": {
            "text/plain": [
              "140633525005552"
            ]
          },
          "metadata": {},
          "execution_count": 203
        }
      ],
      "source": [
        "id(c)"
      ]
    },
    {
      "cell_type": "code",
      "execution_count": 204,
      "metadata": {
        "colab": {
          "base_uri": "https://localhost:8080/"
        },
        "id": "hFUEi6TPkCsz",
        "outputId": "d59e00e1-f5e5-4fa4-cb77-3d87b56a8ab2"
      },
      "outputs": [
        {
          "output_type": "execute_result",
          "data": {
            "text/plain": [
              "True"
            ]
          },
          "metadata": {},
          "execution_count": 204
        }
      ],
      "source": [
        "c.base is a                        # c is a view of the data owned by a"
      ]
    },
    {
      "cell_type": "code",
      "execution_count": 205,
      "metadata": {
        "colab": {
          "base_uri": "https://localhost:8080/"
        },
        "id": "ya8KWT1EkCsz",
        "outputId": "1c0b60d7-4c5a-4c7b-f267-feb012e221ce"
      },
      "outputs": [
        {
          "output_type": "execute_result",
          "data": {
            "text/plain": [
              "False"
            ]
          },
          "metadata": {},
          "execution_count": 205
        }
      ],
      "source": [
        "c.flags.owndata"
      ]
    },
    {
      "cell_type": "code",
      "execution_count": 207,
      "metadata": {
        "colab": {
          "base_uri": "https://localhost:8080/"
        },
        "id": "-Oks6fdLkCs0",
        "outputId": "faa70e91-f57d-468b-c226-954e4fcfc3cb"
      },
      "outputs": [
        {
          "output_type": "stream",
          "name": "stdout",
          "text": [
            "(6, 4)\n",
            "(2, 12)\n"
          ]
        }
      ],
      "source": [
        "c.shape = 2,12                      # a's shape doesn't change\n",
        "print(a.shape)\n",
        "print(c.shape)"
      ]
    },
    {
      "cell_type": "code",
      "execution_count": 209,
      "metadata": {
        "colab": {
          "base_uri": "https://localhost:8080/"
        },
        "id": "F4IbiEdAkCs0",
        "outputId": "de20c08d-f44c-4874-8616-01f4aedfd067"
      },
      "outputs": [
        {
          "output_type": "execute_result",
          "data": {
            "text/plain": [
              "array([[      0,       1,       2,       3],\n",
              "       [1222222,       5,       6,       7],\n",
              "       [      8,       9,      10,      11],\n",
              "       [     12,      13,      14,      15],\n",
              "       [     16,      17,      18,      19],\n",
              "       [     20,      21,      22,      23]])"
            ]
          },
          "metadata": {},
          "execution_count": 209
        }
      ],
      "source": [
        "c[0,4] = 1222222.5                     # but a's data changes\n",
        "a"
      ]
    },
    {
      "cell_type": "markdown",
      "metadata": {
        "id": "dfETe9RYkCs0"
      },
      "source": [
        "Slicing an array returns a view of it:"
      ]
    },
    {
      "cell_type": "code",
      "execution_count": 210,
      "metadata": {
        "colab": {
          "base_uri": "https://localhost:8080/"
        },
        "id": "7dfSZPnVkCs1",
        "outputId": "69688409-54ae-4b95-c36c-8a6452c82549"
      },
      "outputs": [
        {
          "output_type": "execute_result",
          "data": {
            "text/plain": [
              "array([[      0,      10,      10,       3],\n",
              "       [1222222,      10,      10,       7],\n",
              "       [      8,      10,      10,      11],\n",
              "       [     12,      10,      10,      15],\n",
              "       [     16,      10,      10,      19],\n",
              "       [     20,      10,      10,      23]])"
            ]
          },
          "metadata": {},
          "execution_count": 210
        }
      ],
      "source": [
        "s = a[ : , 1:3]\n",
        "s[:] = 10           # s[:] is a view of s. Note the difference between s=10 and s[:]=10\n",
        "a"
      ]
    },
    {
      "cell_type": "markdown",
      "metadata": {
        "id": "N1eLlB4pkCs1"
      },
      "source": [
        "### Deep Copy\n",
        "\n",
        "The copy method makes a complete copy of the array and its data."
      ]
    },
    {
      "cell_type": "code",
      "execution_count": 211,
      "metadata": {
        "colab": {
          "base_uri": "https://localhost:8080/"
        },
        "id": "fzI3wYynkCs1",
        "outputId": "02c76bee-a817-4449-b58d-fc48c699c2c4"
      },
      "outputs": [
        {
          "output_type": "execute_result",
          "data": {
            "text/plain": [
              "False"
            ]
          },
          "metadata": {},
          "execution_count": 211
        }
      ],
      "source": [
        "d = a.copy()                          # a new array object with new data is created\n",
        "d is a"
      ]
    },
    {
      "cell_type": "code",
      "execution_count": 212,
      "metadata": {
        "colab": {
          "base_uri": "https://localhost:8080/"
        },
        "id": "amwzAba2kCs2",
        "outputId": "ebb3860e-cae5-4909-b38c-328502154755"
      },
      "outputs": [
        {
          "output_type": "execute_result",
          "data": {
            "text/plain": [
              "140633525072592"
            ]
          },
          "metadata": {},
          "execution_count": 212
        }
      ],
      "source": [
        "id(a)"
      ]
    },
    {
      "cell_type": "code",
      "execution_count": 213,
      "metadata": {
        "colab": {
          "base_uri": "https://localhost:8080/"
        },
        "id": "WG5d0yHkkCs2",
        "outputId": "799da0ab-0081-45f6-ccbb-a2cc85edb273"
      },
      "outputs": [
        {
          "output_type": "execute_result",
          "data": {
            "text/plain": [
              "140633525005552"
            ]
          },
          "metadata": {},
          "execution_count": 213
        }
      ],
      "source": [
        "id(c)"
      ]
    },
    {
      "cell_type": "code",
      "execution_count": 214,
      "metadata": {
        "colab": {
          "base_uri": "https://localhost:8080/"
        },
        "id": "1ryRtH9CkCs2",
        "outputId": "2717f5d7-b775-4a81-c231-8ce97705ccde"
      },
      "outputs": [
        {
          "output_type": "execute_result",
          "data": {
            "text/plain": [
              "False"
            ]
          },
          "metadata": {},
          "execution_count": 214
        }
      ],
      "source": [
        "d.base is a                           # d doesn't share anything with a"
      ]
    },
    {
      "cell_type": "code",
      "execution_count": 215,
      "metadata": {
        "colab": {
          "base_uri": "https://localhost:8080/"
        },
        "id": "dgBoowRWkCs3",
        "outputId": "b10fce39-9cfc-4df9-89aa-afc0c3326343"
      },
      "outputs": [
        {
          "output_type": "execute_result",
          "data": {
            "text/plain": [
              "array([[      0,      10,      10,       3],\n",
              "       [1222222,      10,      10,       7],\n",
              "       [      8,      10,      10,      11],\n",
              "       [     12,      10,      10,      15],\n",
              "       [     16,      10,      10,      19],\n",
              "       [     20,      10,      10,      23]])"
            ]
          },
          "metadata": {},
          "execution_count": 215
        }
      ],
      "source": [
        "d[0,0] = 9999                         # d doesn't share anything with a\n",
        "a"
      ]
    },
    {
      "cell_type": "markdown",
      "metadata": {
        "id": "wKjgjkl1kCs3"
      },
      "source": [
        "Sometimes copy should be called after slicing if the original array is not required anymore.\n",
        "\n",
        "For example:\n",
        "\n",
        "- If a is a huge intermediate result and the final result b only contains a small fraction of a, a deep copy should be made when constructing b with slicing:\n",
        "\n"
      ]
    },
    {
      "cell_type": "code",
      "execution_count": 216,
      "metadata": {
        "colab": {
          "base_uri": "https://localhost:8080/"
        },
        "id": "9-CzGeLfkCs4",
        "outputId": "b9fb0c17-7d74-4080-f06d-c030af7c836b"
      },
      "outputs": [
        {
          "output_type": "stream",
          "name": "stdout",
          "text": [
            "\n",
            "b:\n",
            "[ 0  1  2  3  4  5  6  7  8  9 10 11 12 13 14 15 16 17 18 19 20 21 22 23\n",
            " 24 25 26 27 28 29 30 31 32 33 34 35 36 37 38 39 40 41 42 43 44 45 46 47\n",
            " 48 49 50 51 52 53 54 55 56 57 58 59 60 61 62 63 64 65 66 67 68 69 70 71\n",
            " 72 73 74 75 76 77 78 79 80 81 82 83 84 85 86 87 88 89 90 91 92 93 94 95\n",
            " 96 97 98 99]\n",
            "\n",
            "b.shape:\n",
            "(100,)\n"
          ]
        }
      ],
      "source": [
        "a = np.arange(int(1e8))\n",
        "b = a[:100].copy()\n",
        "del a  # the memory of ``a`` can be released.\n",
        "print('\\nb:')\n",
        "print(b)\n",
        "print('\\nb.shape:')\n",
        "print(b.shape)"
      ]
    },
    {
      "cell_type": "markdown",
      "metadata": {
        "id": "_KhSvK0_kCs4"
      },
      "source": [
        "If b = a[:100] is used instead, a is referenced by b and will persist in memory even if del a is executed."
      ]
    },
    {
      "cell_type": "markdown",
      "metadata": {
        "id": "5piGlfsykCs4"
      },
      "source": [
        "### Functions and Methods Overview¶\n",
        "\n",
        "**Array Creation**\n",
        "\n",
        "arange, array, copy, empty, empty_like, eye, fromfile, fromfunction, identity, linspace, logspace, mgrid, ogrid, ones, ones_like, r, zeros, zeros_like\n",
        "\n",
        "**Conversions**\n",
        "ndarray.astype, atleast_1d, atleast_2d, atleast_3d, mat\n",
        "\n",
        "**Manipulations**\n",
        "\n",
        "array_split, column_stack, concatenate, diagonal, dsplit, dstack, hsplit, hstack, ndarray.item, newaxis, ravel, repeat, reshape, resize, squeeze, swapaxes, take, transpose, vsplit, vstack\n",
        "\n",
        "**Questions**\n",
        "\n",
        "all, any, nonzero, where"
      ]
    },
    {
      "cell_type": "markdown",
      "metadata": {
        "id": "wGSPiT11kCs5"
      },
      "source": [
        "**Ordering**\n",
        "\n",
        "argmax, argmin, argsort, max, min, ptp, searchsorted, sort\n",
        "\n",
        "**Operations**\n",
        "\n",
        "choose, compress, cumprod, cumsum, inner, ndarray.fill, imag, prod, put, putmask, real, sum\n",
        "\n",
        "**Basic Statistics**\n",
        "\n",
        "cov, mean, std, var\n",
        "\n",
        "**Basic Linear Algebra**\n",
        "\n",
        "cross, dot, outer, linalg.svd, vdot"
      ]
    },
    {
      "cell_type": "markdown",
      "metadata": {
        "id": "krdiPh7ekCs5"
      },
      "source": [
        "## Less Basic\n",
        "\n",
        "### Broadcasting rules\n",
        "\n",
        "* Broadcasting allows universal functions to deal in a meaningful way with inputs that do not have exactly the same shape.\n",
        "\n",
        "1. The first rule of broadcasting is that if all input arrays do not have the same number of dimensions, a “1” will be repeatedly prepended to the shapes of the smaller arrays until all the arrays have the same number of dimensions.\n",
        "\n",
        "1. The second rule of broadcasting ensures that arrays with a size of 1 along a particular dimension act as if they had the size of the array with the largest shape along that dimension. The value of the array element is assumed to be the same along that dimension for the “broadcast” array.\n",
        "\n",
        "After application of the broadcasting rules, the sizes of all arrays must match. More details can be found in Broadcasting."
      ]
    },
    {
      "cell_type": "markdown",
      "metadata": {
        "id": "z_faHknMkCs5"
      },
      "source": [
        "## Fancy indexing and index tricks\n",
        "\n",
        "* NumPy offers more indexing facilities than regular Python sequences.\n",
        "\n",
        "* In addition to indexing by integers and slices, as we saw before, arrays can be indexed by:\n",
        "\n",
        "\n",
        "1. arrays of integers, and;\n",
        "1. arrays of booleans."
      ]
    },
    {
      "cell_type": "markdown",
      "metadata": {
        "id": "4i-UqL9KkCs6"
      },
      "source": [
        "### Indexing with Arrays of Indices"
      ]
    },
    {
      "cell_type": "code",
      "execution_count": 225,
      "metadata": {
        "colab": {
          "base_uri": "https://localhost:8080/"
        },
        "id": "ntcGqpuRkCs6",
        "outputId": "d546dfc1-34aa-476b-c0ca-5f98763e53cb"
      },
      "outputs": [
        {
          "output_type": "stream",
          "name": "stdout",
          "text": [
            "\n",
            "a:\n",
            "[   0    1    4    9   16   25   36   49   64   81  100  121  144  169\n",
            "  196  225  256  289  324  361  400  441  484  529  576  625  676  729\n",
            "  784  841  900  961 1024 1089 1156 1225 1296 1369 1444 1521 1600 1681\n",
            " 1764 1849 1936 2025 2116 2209 2304]\n",
            "\n",
            "i:\n",
            "[1 1 3 8 5 2 4 6]\n",
            "\n",
            "a[i]:\n",
            "[ 1  1  9 64 25  4 16 36]\n"
          ]
        }
      ],
      "source": [
        "a = np.arange(49)**2                       # the first 12 square numbers\n",
        "i = np.array( [ 1,1,3,8,5, 2, 4, 6 ] )              # an array of indices\n",
        "a[i]                                       # the elements of a at the positions i\n",
        "\n",
        "print('\\na:')\n",
        "print(a)\n",
        "print('\\ni:')\n",
        "print(i)\n",
        "print('\\na[i]:')\n",
        "print(a[i])"
      ]
    },
    {
      "cell_type": "markdown",
      "metadata": {
        "id": "FmBOhfuHkCs6"
      },
      "source": [
        "When the indexed array a is multidimensional, a single array of indices refers to the first dimension of a. The following example shows this behavior by converting an image of labels into a color image using a palette."
      ]
    },
    {
      "cell_type": "code",
      "execution_count": 226,
      "metadata": {
        "colab": {
          "base_uri": "https://localhost:8080/"
        },
        "id": "HCgnN-Z7kCs6",
        "outputId": "ae7c8cba-e906-4449-b064-c5c78dee87c6"
      },
      "outputs": [
        {
          "output_type": "execute_result",
          "data": {
            "text/plain": [
              "array([[[  0,   0,   0],\n",
              "        [255,   0,   0],\n",
              "        [  0, 255,   0],\n",
              "        [  0,   0,   0]],\n",
              "\n",
              "       [[  0,   0,   0],\n",
              "        [  0,   0, 255],\n",
              "        [255, 255, 255],\n",
              "        [  0,   0,   0]]])"
            ]
          },
          "metadata": {},
          "execution_count": 226
        }
      ],
      "source": [
        "palette = np.array( [ [0,0,0],                # black\n",
        "                      [255,0,0],              # red\n",
        "                      [0,255,0],              # green\n",
        "                      [0,0,255],              # blue\n",
        "                      [255,255,255] ] )       # white\n",
        "\n",
        "image = np.array( [ [ 0, 1, 2, 0 ],           # each value corresponds to a color in the palette\n",
        "                    [ 0, 3, 4, 0 ]  ] )\n",
        "palette[image]                            # the (2,4,3) color image"
      ]
    },
    {
      "cell_type": "markdown",
      "metadata": {
        "id": "YtR0eplZkCs7"
      },
      "source": [
        "We can also give indexes for more than one dimension. The arrays of indices for each dimension must have the same shape."
      ]
    },
    {
      "cell_type": "code",
      "execution_count": 227,
      "metadata": {
        "colab": {
          "base_uri": "https://localhost:8080/"
        },
        "id": "wqKlVq-0kCs7",
        "outputId": "56fb148c-49ea-472d-d19e-39ad9c58c123"
      },
      "outputs": [
        {
          "output_type": "stream",
          "name": "stdout",
          "text": [
            "\n",
            "a:\n",
            "[[ 0  1  2  3  4  5  6]\n",
            " [ 7  8  9 10 11 12 13]\n",
            " [14 15 16 17 18 19 20]\n",
            " [21 22 23 24 25 26 27]\n",
            " [28 29 30 31 32 33 34]\n",
            " [35 36 37 38 39 40 41]\n",
            " [42 43 44 45 46 47 48]]\n"
          ]
        }
      ],
      "source": [
        "a = np.arange(49).reshape(7,7)\n",
        "print('\\na:')\n",
        "print(a)"
      ]
    },
    {
      "cell_type": "code",
      "execution_count": 228,
      "metadata": {
        "colab": {
          "base_uri": "https://localhost:8080/"
        },
        "id": "FWkN8C7okCs7",
        "outputId": "faca8b6d-be16-4dda-9d39-884f36a529b6"
      },
      "outputs": [
        {
          "output_type": "stream",
          "name": "stdout",
          "text": [
            "\n",
            "i:\n",
            "[[0 1]\n",
            " [1 2]]\n",
            "\n",
            "j:\n",
            "[[2 1]\n",
            " [3 3]]\n"
          ]
        }
      ],
      "source": [
        "i = np.array( [ [0,1],                        # indices for the first dim of a\n",
        "                [1,2] ] )\n",
        "j = np.array( [ [2,1],                        # indices for the second dim\n",
        "                [3,3] ] )\n",
        "print('\\ni:')\n",
        "print(i)\n",
        "print('\\nj:')\n",
        "print(j)"
      ]
    },
    {
      "cell_type": "code",
      "execution_count": 229,
      "metadata": {
        "colab": {
          "base_uri": "https://localhost:8080/"
        },
        "id": "2mLym3wTkCs8",
        "outputId": "3e03e9db-9ef7-41e8-8665-992df7b066a5"
      },
      "outputs": [
        {
          "output_type": "stream",
          "name": "stdout",
          "text": [
            "\n",
            "a:\n",
            "[[ 0  1  2  3  4  5  6]\n",
            " [ 7  8  9 10 11 12 13]\n",
            " [14 15 16 17 18 19 20]\n",
            " [21 22 23 24 25 26 27]\n",
            " [28 29 30 31 32 33 34]\n",
            " [35 36 37 38 39 40 41]\n",
            " [42 43 44 45 46 47 48]]\n",
            "\n",
            "i:\n",
            "[[0 1]\n",
            " [1 2]]\n",
            "\n",
            "j:\n",
            "[[2 1]\n",
            " [3 3]]\n",
            "\n",
            "b = a[i,j]:\n",
            "[[ 2  8]\n",
            " [10 17]]\n"
          ]
        }
      ],
      "source": [
        "print('\\na:')\n",
        "print(a)\n",
        "print('\\ni:')\n",
        "print(i)\n",
        "print('\\nj:')\n",
        "print(j)\n",
        "b = a[i,j]                                     # i and j must have equal shape\n",
        "print('\\nb = a[i,j]:')\n",
        "print(b)"
      ]
    },
    {
      "cell_type": "code",
      "execution_count": 230,
      "metadata": {
        "colab": {
          "base_uri": "https://localhost:8080/"
        },
        "id": "KdIk9thFkCs8",
        "outputId": "1f67b965-44d2-44e5-e4ec-26e84293a8da"
      },
      "outputs": [
        {
          "output_type": "stream",
          "name": "stdout",
          "text": [
            "\n",
            "a:\n",
            "[[ 0  1  2  3  4  5  6]\n",
            " [ 7  8  9 10 11 12 13]\n",
            " [14 15 16 17 18 19 20]\n",
            " [21 22 23 24 25 26 27]\n",
            " [28 29 30 31 32 33 34]\n",
            " [35 36 37 38 39 40 41]\n",
            " [42 43 44 45 46 47 48]]\n",
            "\n",
            "i:\n",
            "[[0 1]\n",
            " [1 2]]\n",
            "\n",
            "j:\n",
            "[[2 1]\n",
            " [3 3]]\n",
            "\n",
            "b = a[i,2]:\n",
            "[[ 2  9]\n",
            " [ 9 16]]\n"
          ]
        }
      ],
      "source": [
        "print('\\na:')\n",
        "print(a)\n",
        "print('\\ni:')\n",
        "print(i)\n",
        "print('\\nj:')\n",
        "print(j)\n",
        "b = a[i,2]\n",
        "print('\\nb = a[i,2]:')\n",
        "print(b)"
      ]
    },
    {
      "cell_type": "code",
      "execution_count": 231,
      "metadata": {
        "colab": {
          "base_uri": "https://localhost:8080/"
        },
        "id": "z8mtPUsNkCs8",
        "outputId": "c2e2edd3-c9fe-4734-ed8a-d8be94924ebc"
      },
      "outputs": [
        {
          "output_type": "stream",
          "name": "stdout",
          "text": [
            "\n",
            "a:\n",
            "[[ 0  1  2  3  4  5  6]\n",
            " [ 7  8  9 10 11 12 13]\n",
            " [14 15 16 17 18 19 20]\n",
            " [21 22 23 24 25 26 27]\n",
            " [28 29 30 31 32 33 34]\n",
            " [35 36 37 38 39 40 41]\n",
            " [42 43 44 45 46 47 48]]\n",
            "\n",
            "i:\n",
            "[[0 1]\n",
            " [1 2]]\n",
            "\n",
            "j:\n",
            "[[2 1]\n",
            " [3 3]]\n",
            "\n",
            "b = a[:,j]:\n",
            "[[[ 2  1]\n",
            "  [ 3  3]]\n",
            "\n",
            " [[ 9  8]\n",
            "  [10 10]]\n",
            "\n",
            " [[16 15]\n",
            "  [17 17]]\n",
            "\n",
            " [[23 22]\n",
            "  [24 24]]\n",
            "\n",
            " [[30 29]\n",
            "  [31 31]]\n",
            "\n",
            " [[37 36]\n",
            "  [38 38]]\n",
            "\n",
            " [[44 43]\n",
            "  [45 45]]]\n"
          ]
        }
      ],
      "source": [
        "print('\\na:')\n",
        "print(a)\n",
        "print('\\ni:')\n",
        "print(i)\n",
        "print('\\nj:')\n",
        "print(j)\n",
        "b = a[:,j]                                     # i and j must have equal shape\n",
        "                                               # ':' = [0,1,2]\n",
        "print('\\nb = a[:,j]:')\n",
        "print(b)"
      ]
    },
    {
      "cell_type": "markdown",
      "metadata": {
        "id": "sZS23vuHkCs9"
      },
      "source": [
        "Naturally, we can put i and j in a sequence (say a list) and then do the indexing with the list."
      ]
    },
    {
      "cell_type": "code",
      "execution_count": 232,
      "metadata": {
        "colab": {
          "base_uri": "https://localhost:8080/"
        },
        "id": "4WNs6e3UkCs9",
        "outputId": "c39d9d53-604d-4190-8584-7ebbb84469e4"
      },
      "outputs": [
        {
          "output_type": "stream",
          "name": "stdout",
          "text": [
            "\n",
            "a:\n",
            "[[ 0  1  2  3  4  5  6]\n",
            " [ 7  8  9 10 11 12 13]\n",
            " [14 15 16 17 18 19 20]\n",
            " [21 22 23 24 25 26 27]\n",
            " [28 29 30 31 32 33 34]\n",
            " [35 36 37 38 39 40 41]\n",
            " [42 43 44 45 46 47 48]]\n",
            "\n",
            "i:\n",
            "[[0 1]\n",
            " [1 2]]\n",
            "\n",
            "j:\n",
            "[[2 1]\n",
            " [3 3]]\n",
            "\n",
            "l:\n",
            "(array([[0, 1],\n",
            "       [1, 2]]), array([[2, 1],\n",
            "       [3, 3]]))\n",
            "\n",
            "b = a[l]:\n",
            "[[ 2  8]\n",
            " [10 17]]\n"
          ]
        }
      ],
      "source": [
        "print('\\na:')\n",
        "print(a)\n",
        "print('\\ni:')\n",
        "print(i)\n",
        "print('\\nj:')\n",
        "print(j)\n",
        "l = (i,j)\n",
        "print('\\nl:')\n",
        "print(l)\n",
        "b = a[l]                                       # equivalent to a[i,j]\n",
        "print('\\nb = a[l]:')\n",
        "print(b)"
      ]
    },
    {
      "cell_type": "markdown",
      "metadata": {
        "id": "-TLctqTVkCs_"
      },
      "source": [
        "However, we **can not** do this by putting i and j into an array, because this array will be interpreted as indexing the first dimension of a."
      ]
    },
    {
      "cell_type": "code",
      "execution_count": 233,
      "metadata": {
        "id": "GULFpv5GkCtA"
      },
      "outputs": [],
      "source": [
        "# s = np.array( [i,j] )\n",
        "# a[s]"
      ]
    },
    {
      "cell_type": "code",
      "execution_count": 234,
      "metadata": {
        "id": "bdNOW58RkCtA"
      },
      "outputs": [],
      "source": [
        "# a[tuple(s)]                                # same as a[i,j]"
      ]
    },
    {
      "cell_type": "markdown",
      "metadata": {
        "id": "BxHPrrdOkCtA"
      },
      "source": [
        "Another common use of indexing with arrays is the search of the maximum value of time-dependent series:"
      ]
    },
    {
      "cell_type": "code",
      "execution_count": 249,
      "metadata": {
        "colab": {
          "base_uri": "https://localhost:8080/"
        },
        "id": "dkvXqpdTkCtA",
        "outputId": "4271d086-3e3f-40f4-c9a6-60a2123bd957"
      },
      "outputs": [
        {
          "output_type": "execute_result",
          "data": {
            "text/plain": [
              "array([ 20.,  40.,  60.,  80., 100., 120., 140., 160., 180., 200.])"
            ]
          },
          "metadata": {},
          "execution_count": 249
        }
      ],
      "source": [
        "time = np.linspace(20, 200, 10)                 # time scale\n",
        "data = np.sin(np.arange(20)).reshape(10,2)      # 4 time-dependent series\n",
        "time"
      ]
    },
    {
      "cell_type": "code",
      "execution_count": 250,
      "metadata": {
        "colab": {
          "base_uri": "https://localhost:8080/"
        },
        "id": "ffSB2q1PkCtB",
        "outputId": "49873c45-e06a-46bb-fa02-ec7a76c06db5"
      },
      "outputs": [
        {
          "output_type": "execute_result",
          "data": {
            "text/plain": [
              "array([[ 0.        ,  0.84147098],\n",
              "       [ 0.90929743,  0.14112001],\n",
              "       [-0.7568025 , -0.95892427],\n",
              "       [-0.2794155 ,  0.6569866 ],\n",
              "       [ 0.98935825,  0.41211849],\n",
              "       [-0.54402111, -0.99999021],\n",
              "       [-0.53657292,  0.42016704],\n",
              "       [ 0.99060736,  0.65028784],\n",
              "       [-0.28790332, -0.96139749],\n",
              "       [-0.75098725,  0.14987721]])"
            ]
          },
          "metadata": {},
          "execution_count": 250
        }
      ],
      "source": [
        "data"
      ]
    },
    {
      "cell_type": "code",
      "execution_count": 251,
      "metadata": {
        "colab": {
          "base_uri": "https://localhost:8080/",
          "height": 265
        },
        "id": "nEChMxEmkCtB",
        "outputId": "53168155-ae09-4ca1-886f-cce262cc9d8b"
      },
      "outputs": [
        {
          "output_type": "display_data",
          "data": {
            "text/plain": [
              "<Figure size 432x288 with 1 Axes>"
            ],
            "image/png": "[encoded data removed]"
          },
          "metadata": {
            "needs_background": "light"
          }
        }
      ],
      "source": [
        "import matplotlib.pyplot as plt\n",
        "plt.plot(time,data)\n",
        "plt.legend(['0','1','2','3'])\n",
        "plt.show()"
      ]
    },
    {
      "cell_type": "code",
      "execution_count": 252,
      "metadata": {
        "colab": {
          "base_uri": "https://localhost:8080/"
        },
        "id": "1YH7_rxykCtB",
        "outputId": "74ed9446-9ed0-46f1-f422-13b329ee0841"
      },
      "outputs": [
        {
          "output_type": "execute_result",
          "data": {
            "text/plain": [
              "array([7, 0])"
            ]
          },
          "metadata": {},
          "execution_count": 252
        }
      ],
      "source": [
        "ind = data.argmax(axis=0)                  # index of the maxima for each series\n",
        "ind"
      ]
    },
    {
      "cell_type": "code",
      "execution_count": 253,
      "metadata": {
        "colab": {
          "base_uri": "https://localhost:8080/"
        },
        "id": "ZuWE_SqbkCtB",
        "outputId": "43592fc1-46fe-4e45-d151-4ad18d00993d"
      },
      "outputs": [
        {
          "output_type": "execute_result",
          "data": {
            "text/plain": [
              "array([160.,  20.])"
            ]
          },
          "metadata": {},
          "execution_count": 253
        }
      ],
      "source": [
        "time_max = time[ind]                       # times corresponding to the maxima\n",
        "time_max"
      ]
    },
    {
      "cell_type": "code",
      "execution_count": 254,
      "metadata": {
        "id": "9U4_o6NlkCtC"
      },
      "outputs": [],
      "source": [
        "data_max = data[ind, range(data.shape[1])] # => data[ind[0],0], data[ind[1],1]..."
      ]
    },
    {
      "cell_type": "code",
      "execution_count": 255,
      "metadata": {
        "colab": {
          "base_uri": "https://localhost:8080/"
        },
        "id": "R9xP09XTkCtC",
        "outputId": "be4dc4a4-361a-457b-ede1-192c187007fd"
      },
      "outputs": [
        {
          "output_type": "execute_result",
          "data": {
            "text/plain": [
              "True"
            ]
          },
          "metadata": {},
          "execution_count": 255
        }
      ],
      "source": [
        "np.all(data_max == data.max(axis=0))"
      ]
    },
    {
      "cell_type": "code",
      "execution_count": 256,
      "metadata": {
        "colab": {
          "base_uri": "https://localhost:8080/",
          "height": 265
        },
        "id": "qVQvwG36kCtC",
        "outputId": "c956d1f1-7a79-488f-8ff9-39d68cc45e84"
      },
      "outputs": [
        {
          "output_type": "display_data",
          "data": {
            "text/plain": [
              "<Figure size 432x288 with 1 Axes>"
            ],
            "image/png": "[encoded data removed]"
          },
          "metadata": {
            "needs_background": "light"
          }
        }
      ],
      "source": [
        "import matplotlib.pyplot as plt\n",
        "plt.plot(time,data)\n",
        "plt.plot(time_max, data[(ind, np.arange(data.shape[1]))], 'ro')\n",
        "plt.legend(['0','1','2','3'])\n",
        "plt.show()"
      ]
    },
    {
      "cell_type": "markdown",
      "metadata": {
        "id": "MEhGZZXjkCtC"
      },
      "source": [
        "You can also use indexing with arrays as a target to assign to:"
      ]
    },
    {
      "cell_type": "code",
      "execution_count": 257,
      "metadata": {
        "colab": {
          "base_uri": "https://localhost:8080/"
        },
        "id": "LTt6DJO7kCtD",
        "outputId": "e91c0dca-ce68-4c40-8d4a-10c62ec86d40"
      },
      "outputs": [
        {
          "output_type": "execute_result",
          "data": {
            "text/plain": [
              "array([0, 0, 2, 0, 0, 5])"
            ]
          },
          "metadata": {},
          "execution_count": 257
        }
      ],
      "source": [
        "a = np.arange(6)\n",
        "a[[1,3,4]] = 0\n",
        "a"
      ]
    },
    {
      "cell_type": "markdown",
      "metadata": {
        "id": "Q-ELOZzckCtD"
      },
      "source": [
        "However, when the list of indices contains repetitions, the assignment is done several times, leaving behind the last value:"
      ]
    },
    {
      "cell_type": "code",
      "execution_count": 258,
      "metadata": {
        "colab": {
          "base_uri": "https://localhost:8080/"
        },
        "id": "3kq3Hq5gkCtD",
        "outputId": "7ccd962a-2604-43f8-ff62-94453aa7582f"
      },
      "outputs": [
        {
          "output_type": "execute_result",
          "data": {
            "text/plain": [
              "array([2, 1, 3, 3, 4, 5, 6, 7, 8, 9])"
            ]
          },
          "metadata": {},
          "execution_count": 258
        }
      ],
      "source": [
        "a = np.arange(10)\n",
        "a[[0,0,2]]=[1,2,3]\n",
        "a"
      ]
    },
    {
      "cell_type": "markdown",
      "metadata": {
        "id": "GLMDxg21kCtD"
      },
      "source": [
        "This is reasonable enough, but watch out if you want to use Python’s += construct, as it may not do what you expect:"
      ]
    },
    {
      "cell_type": "code",
      "execution_count": 259,
      "metadata": {
        "colab": {
          "base_uri": "https://localhost:8080/"
        },
        "id": "mo6s3rAGkCtE",
        "outputId": "c9a55b2e-21ff-4a1a-cfb2-d8e0d97ea2ce"
      },
      "outputs": [
        {
          "output_type": "stream",
          "name": "stdout",
          "text": [
            "\n",
            "a:\n",
            "[ 0  1  2  3  4  5  6  7  8  9 10 11 12 13 14]\n",
            "\n",
            "a:\n",
            "[ 1  1  3  3  4  5  6  7  8  9 10 11 12 13 14]\n"
          ]
        }
      ],
      "source": [
        "a = np.arange(15)\n",
        "print('\\na:')\n",
        "print(a)\n",
        "a[[0,0,2]]+=1\n",
        "a\n",
        "print('\\na:')\n",
        "print(a)"
      ]
    },
    {
      "cell_type": "markdown",
      "metadata": {
        "id": "jQOf9Sc2kCtE"
      },
      "source": [
        "Even though 0 occurs twice in the list of indices, the 0th element is only incremented once. This is because Python requires “a+=1” to be equivalent to “a = a + 1”."
      ]
    },
    {
      "cell_type": "markdown",
      "metadata": {
        "id": "LE1lt6jDkCtE"
      },
      "source": [
        "### Indexing with Boolean Arrays\n",
        "\n",
        "* When we index arrays with arrays of (integer) indices we are providing the list of indices to pick.\n",
        "* With boolean indices the approach is different; we explicitly choose which items in the array we want and which ones we don’t.\n",
        "* The most natural way one can think of for boolean indexing is to use boolean arrays that have the same shape as the original array:"
      ]
    },
    {
      "cell_type": "code",
      "execution_count": 260,
      "metadata": {
        "colab": {
          "base_uri": "https://localhost:8080/"
        },
        "id": "NFT9tuHwkCtE",
        "outputId": "80c4f9d8-900c-40d7-b6f0-2d32c6f8f4ef"
      },
      "outputs": [
        {
          "output_type": "stream",
          "name": "stdout",
          "text": [
            "\n",
            "a:\n",
            "[[ 0  1  2  3  4]\n",
            " [ 5  6  7  8  9]\n",
            " [10 11 12 13 14]\n",
            " [15 16 17 18 19]\n",
            " [20 21 22 23 24]]\n",
            "\n",
            "b = a > 4:\n",
            "[[False False False False False]\n",
            " [ True  True  True  True  True]\n",
            " [ True  True  True  True  True]\n",
            " [ True  True  True  True  True]\n",
            " [ True  True  True  True  True]]\n"
          ]
        }
      ],
      "source": [
        "a = np.arange(25).reshape(5,5)\n",
        "print('\\na:')\n",
        "print(a)\n",
        "b = a > 4\n",
        "b                                          # b is a boolean with a's shape\n",
        "print('\\nb = a > 4:')\n",
        "print(b)"
      ]
    },
    {
      "cell_type": "code",
      "execution_count": 261,
      "metadata": {
        "colab": {
          "base_uri": "https://localhost:8080/"
        },
        "id": "qyXzIRVJkCtF",
        "outputId": "8547458b-6c8f-43c6-b93b-dbca1e6f315c"
      },
      "outputs": [
        {
          "output_type": "execute_result",
          "data": {
            "text/plain": [
              "array([ 5,  6,  7,  8,  9, 10, 11, 12, 13, 14, 15, 16, 17, 18, 19, 20, 21,\n",
              "       22, 23, 24])"
            ]
          },
          "metadata": {},
          "execution_count": 261
        }
      ],
      "source": [
        "a[b]                                       # 1d array with the selected elements"
      ]
    },
    {
      "cell_type": "markdown",
      "metadata": {
        "id": "nVEmrpGZkCtG"
      },
      "source": [
        "This property can be very useful in assignments:"
      ]
    },
    {
      "cell_type": "code",
      "execution_count": 262,
      "metadata": {
        "colab": {
          "base_uri": "https://localhost:8080/"
        },
        "id": "i_L5ge7QkCtG",
        "outputId": "18cc2d9b-6de5-4cff-f708-e9b588ca5748"
      },
      "outputs": [
        {
          "output_type": "stream",
          "name": "stdout",
          "text": [
            "\n",
            "a:\n",
            "[[ 0  1  2  3  4]\n",
            " [ 5  6  7  8  9]\n",
            " [10 11 12 13 14]\n",
            " [15 16 17 18 19]\n",
            " [20 21 22 23 24]]\n",
            "\n",
            "a[a > 4] = 0:\n",
            "[[0 1 2 3 4]\n",
            " [0 0 0 0 0]\n",
            " [0 0 0 0 0]\n",
            " [0 0 0 0 0]\n",
            " [0 0 0 0 0]]\n"
          ]
        }
      ],
      "source": [
        "print('\\na:')\n",
        "print(a)\n",
        "a[b] = 0                                   # All elements of 'a' higher than 4 become 0\n",
        "a\n",
        "print('\\na[a > 4] = 0:')\n",
        "print(a)"
      ]
    },
    {
      "cell_type": "markdown",
      "metadata": {
        "id": "BWkUMYiAkCtH"
      },
      "source": [
        "You can look at the following example to see how to use boolean indexing to generate an image of the Mandelbrot set:"
      ]
    },
    {
      "cell_type": "code",
      "execution_count": 263,
      "metadata": {
        "colab": {
          "base_uri": "https://localhost:8080/",
          "height": 269
        },
        "id": "4NjuQE04kCtH",
        "outputId": "567e6c27-e9b2-49e2-dd70-e3b1404bc932"
      },
      "outputs": [
        {
          "output_type": "display_data",
          "data": {
            "text/plain": [
              "<Figure size 432x288 with 1 Axes>"
            ],
            "image/png": "[encoded data removed]"
          },
          "metadata": {
            "needs_background": "light"
          }
        }
      ],
      "source": [
        "import numpy as np\n",
        "import matplotlib.pyplot as plt\n",
        "def mandelbrot( h,w, maxit=20 ):\n",
        "    \"\"\"Returns an image of the Mandelbrot fractal of size (h,w).\"\"\"\n",
        "    y,x = np.ogrid[ -1.4:1.4:h*1j, -2:0.8:w*1j ]\n",
        "    c = x+y*1j\n",
        "    z = c\n",
        "    divtime = maxit + np.zeros(z.shape, dtype=int)\n",
        "\n",
        "    for i in range(maxit):\n",
        "        z = z**2 + c\n",
        "        diverge = z*np.conj(z) > 2**2            # who is diverging\n",
        "        div_now = diverge & (divtime==maxit)  # who is diverging now\n",
        "        divtime[div_now] = i                  # note when\n",
        "        z[diverge] = 2                        # avoid diverging too much\n",
        "\n",
        "    return divtime\n",
        "\n",
        "plt.imshow(mandelbrot(400,400))\n",
        "plt.show()"
      ]
    },
    {
      "cell_type": "markdown",
      "metadata": {
        "id": "05wR2VehkCtI"
      },
      "source": [
        "The second way of indexing with booleans is more similar to integer indexing; for each dimension of the array we give a 1D boolean array selecting the slices we want:"
      ]
    },
    {
      "cell_type": "code",
      "execution_count": 268,
      "metadata": {
        "colab": {
          "base_uri": "https://localhost:8080/"
        },
        "id": "QxYpf7gpkCtI",
        "outputId": "e1919b94-9f7d-4ccb-b7fa-2a91f3f26024"
      },
      "outputs": [
        {
          "output_type": "execute_result",
          "data": {
            "text/plain": [
              "array([[10, 11, 12, 13, 14, 15, 16, 17, 18, 19],\n",
              "       [20, 21, 22, 23, 24, 25, 26, 27, 28, 29]])"
            ]
          },
          "metadata": {},
          "execution_count": 268
        }
      ],
      "source": [
        "a = np.arange(30).reshape(3,10)\n",
        "b1 = np.array([False,True,True])             # first dim selection\n",
        "b2 = np.array([True,False,True,False, True,False,True,False, True, False])       # second dim selection\n",
        "a[b1,:]                                   # selecting rows"
      ]
    },
    {
      "cell_type": "code",
      "execution_count": 269,
      "metadata": {
        "colab": {
          "base_uri": "https://localhost:8080/"
        },
        "id": "3ioFxLyUkCtI",
        "outputId": "a1b59602-02f2-4a11-fdc9-d9f56d2be14c"
      },
      "outputs": [
        {
          "output_type": "execute_result",
          "data": {
            "text/plain": [
              "array([[10, 11, 12, 13, 14, 15, 16, 17, 18, 19],\n",
              "       [20, 21, 22, 23, 24, 25, 26, 27, 28, 29]])"
            ]
          },
          "metadata": {},
          "execution_count": 269
        }
      ],
      "source": [
        "a[b1]                                     # same thing"
      ]
    },
    {
      "cell_type": "code",
      "execution_count": 270,
      "metadata": {
        "colab": {
          "base_uri": "https://localhost:8080/"
        },
        "id": "677mTBfVkCtJ",
        "outputId": "dbd3c106-7141-4bea-86fb-20fcbfca3d6a"
      },
      "outputs": [
        {
          "output_type": "execute_result",
          "data": {
            "text/plain": [
              "array([[ 0,  2,  4,  6,  8],\n",
              "       [10, 12, 14, 16, 18],\n",
              "       [20, 22, 24, 26, 28]])"
            ]
          },
          "metadata": {},
          "execution_count": 270
        }
      ],
      "source": [
        "a[:,b2]                                   # selecting columns"
      ]
    },
    {
      "cell_type": "markdown",
      "metadata": {
        "id": "QEQfc-63kCtJ"
      },
      "source": [
        "Note that the length of the 1D boolean array must coincide with the length of the dimension (or axis) you want to slice. In the previous example, b1 has length 3 (the number of rows in a), and b2 (of length 4) is suitable to index the 2nd axis (columns) of a."
      ]
    },
    {
      "cell_type": "markdown",
      "metadata": {
        "id": "Uat3YUvRkCtK"
      },
      "source": [
        "### The ix_() function\n",
        "\n",
        "* The ix_ function can be used to combine different vectors so as to obtain the result for each n-uplet.\n",
        "* For example, if you want to compute all the a+b*c for all the triplets taken from each of the vectors a, b and c:"
      ]
    },
    {
      "cell_type": "code",
      "execution_count": 272,
      "metadata": {
        "colab": {
          "base_uri": "https://localhost:8080/"
        },
        "id": "CU3UmAUtkCtK",
        "outputId": "53b1e751-8482-4cce-c986-ac8ffafc0518"
      },
      "outputs": [
        {
          "output_type": "execute_result",
          "data": {
            "text/plain": [
              "array([ 2,  3,  4,  5,  6,  7,  8,  9, 10])"
            ]
          },
          "metadata": {},
          "execution_count": 272
        }
      ],
      "source": [
        "a = np.array([2,3,4,5, 6, 7, 8, 9, 10])\n",
        "a"
      ]
    },
    {
      "cell_type": "code",
      "execution_count": 273,
      "metadata": {
        "colab": {
          "base_uri": "https://localhost:8080/"
        },
        "id": "zSmD4OYokCtK",
        "outputId": "fa51a1c5-3b0e-4073-c630-8ae4cd98d3a1"
      },
      "outputs": [
        {
          "output_type": "execute_result",
          "data": {
            "text/plain": [
              "array([8, 5, 4])"
            ]
          },
          "metadata": {},
          "execution_count": 273
        }
      ],
      "source": [
        "b = np.array([8,5,4])\n",
        "b"
      ]
    },
    {
      "cell_type": "code",
      "execution_count": 274,
      "metadata": {
        "colab": {
          "base_uri": "https://localhost:8080/"
        },
        "id": "abw0eUPtkCtL",
        "outputId": "db47e56c-32bb-44f0-cc90-41a560da7cce"
      },
      "outputs": [
        {
          "output_type": "execute_result",
          "data": {
            "text/plain": [
              "array([5, 4, 6, 8, 3])"
            ]
          },
          "metadata": {},
          "execution_count": 274
        }
      ],
      "source": [
        "c = np.array([5,4,6,8,3])\n",
        "c"
      ]
    },
    {
      "cell_type": "code",
      "execution_count": 275,
      "metadata": {
        "colab": {
          "base_uri": "https://localhost:8080/"
        },
        "id": "wuFrTuTnkCtL",
        "outputId": "b271e691-aa3a-4553-8d10-502fa3168767"
      },
      "outputs": [
        {
          "output_type": "execute_result",
          "data": {
            "text/plain": [
              "array([[[ 2]],\n",
              "\n",
              "       [[ 3]],\n",
              "\n",
              "       [[ 4]],\n",
              "\n",
              "       [[ 5]],\n",
              "\n",
              "       [[ 6]],\n",
              "\n",
              "       [[ 7]],\n",
              "\n",
              "       [[ 8]],\n",
              "\n",
              "       [[ 9]],\n",
              "\n",
              "       [[10]]])"
            ]
          },
          "metadata": {},
          "execution_count": 275
        }
      ],
      "source": [
        "ax,bx,cx = np.ix_(a,b,c)\n",
        "ax"
      ]
    },
    {
      "cell_type": "code",
      "execution_count": 276,
      "metadata": {
        "colab": {
          "base_uri": "https://localhost:8080/"
        },
        "id": "ezUiyxZMkCtM",
        "outputId": "4903333c-f5e5-4076-e56d-5006ba29e758"
      },
      "outputs": [
        {
          "output_type": "execute_result",
          "data": {
            "text/plain": [
              "array([[[8],\n",
              "        [5],\n",
              "        [4]]])"
            ]
          },
          "metadata": {},
          "execution_count": 276
        }
      ],
      "source": [
        "bx"
      ]
    },
    {
      "cell_type": "code",
      "execution_count": 277,
      "metadata": {
        "colab": {
          "base_uri": "https://localhost:8080/"
        },
        "id": "q85CuQSgkCtM",
        "outputId": "9ae11893-b8c0-4beb-f776-4771c0d007e0"
      },
      "outputs": [
        {
          "output_type": "execute_result",
          "data": {
            "text/plain": [
              "array([[[5, 4, 6, 8, 3]]])"
            ]
          },
          "metadata": {},
          "execution_count": 277
        }
      ],
      "source": [
        "cx"
      ]
    },
    {
      "cell_type": "code",
      "execution_count": 278,
      "metadata": {
        "colab": {
          "base_uri": "https://localhost:8080/"
        },
        "id": "ha4j8yVrkCtM",
        "outputId": "0eee0c57-0ffd-4a30-dbbc-ffa26de54286"
      },
      "outputs": [
        {
          "output_type": "execute_result",
          "data": {
            "text/plain": [
              "((9, 1, 1), (1, 3, 1), (1, 1, 5))"
            ]
          },
          "metadata": {},
          "execution_count": 278
        }
      ],
      "source": [
        "ax.shape, bx.shape, cx.shape"
      ]
    },
    {
      "cell_type": "code",
      "execution_count": 279,
      "metadata": {
        "colab": {
          "base_uri": "https://localhost:8080/"
        },
        "id": "ddiAQlZgkCtN",
        "outputId": "930b97ee-c2d9-450b-f3ca-67e3a811ddab"
      },
      "outputs": [
        {
          "output_type": "execute_result",
          "data": {
            "text/plain": [
              "array([[[42, 34, 50, 66, 26],\n",
              "        [27, 22, 32, 42, 17],\n",
              "        [22, 18, 26, 34, 14]],\n",
              "\n",
              "       [[43, 35, 51, 67, 27],\n",
              "        [28, 23, 33, 43, 18],\n",
              "        [23, 19, 27, 35, 15]],\n",
              "\n",
              "       [[44, 36, 52, 68, 28],\n",
              "        [29, 24, 34, 44, 19],\n",
              "        [24, 20, 28, 36, 16]],\n",
              "\n",
              "       [[45, 37, 53, 69, 29],\n",
              "        [30, 25, 35, 45, 20],\n",
              "        [25, 21, 29, 37, 17]],\n",
              "\n",
              "       [[46, 38, 54, 70, 30],\n",
              "        [31, 26, 36, 46, 21],\n",
              "        [26, 22, 30, 38, 18]],\n",
              "\n",
              "       [[47, 39, 55, 71, 31],\n",
              "        [32, 27, 37, 47, 22],\n",
              "        [27, 23, 31, 39, 19]],\n",
              "\n",
              "       [[48, 40, 56, 72, 32],\n",
              "        [33, 28, 38, 48, 23],\n",
              "        [28, 24, 32, 40, 20]],\n",
              "\n",
              "       [[49, 41, 57, 73, 33],\n",
              "        [34, 29, 39, 49, 24],\n",
              "        [29, 25, 33, 41, 21]],\n",
              "\n",
              "       [[50, 42, 58, 74, 34],\n",
              "        [35, 30, 40, 50, 25],\n",
              "        [30, 26, 34, 42, 22]]])"
            ]
          },
          "metadata": {},
          "execution_count": 279
        }
      ],
      "source": [
        "result = ax+bx*cx\n",
        "result"
      ]
    },
    {
      "cell_type": "code",
      "execution_count": 280,
      "metadata": {
        "colab": {
          "base_uri": "https://localhost:8080/"
        },
        "id": "_JFRMzcFkCtN",
        "outputId": "1eed06fe-b159-4633-f220-73b9cca85200"
      },
      "outputs": [
        {
          "output_type": "execute_result",
          "data": {
            "text/plain": [
              "17"
            ]
          },
          "metadata": {},
          "execution_count": 280
        }
      ],
      "source": [
        "result[3,2,4]"
      ]
    },
    {
      "cell_type": "code",
      "execution_count": 281,
      "metadata": {
        "colab": {
          "base_uri": "https://localhost:8080/"
        },
        "id": "X6_h7Rn6kCtN",
        "outputId": "8a080d61-f5ec-48fc-c7b5-4512639cd6fe"
      },
      "outputs": [
        {
          "output_type": "execute_result",
          "data": {
            "text/plain": [
              "17"
            ]
          },
          "metadata": {},
          "execution_count": 281
        }
      ],
      "source": [
        "a[3]+b[2]*c[4]"
      ]
    },
    {
      "cell_type": "markdown",
      "metadata": {
        "id": "DwQXy4SukCtO"
      },
      "source": [
        "You could also implement the reduce as follows:"
      ]
    },
    {
      "cell_type": "code",
      "execution_count": 282,
      "metadata": {
        "colab": {
          "base_uri": "https://localhost:8080/"
        },
        "id": "f5cGOVrPkCtO",
        "outputId": "e57760c5-5c26-4f96-b942-d45dbb9196b1"
      },
      "outputs": [
        {
          "output_type": "execute_result",
          "data": {
            "text/plain": [
              "array([[[15, 14, 16, 18, 13],\n",
              "        [12, 11, 13, 15, 10],\n",
              "        [11, 10, 12, 14,  9]],\n",
              "\n",
              "       [[16, 15, 17, 19, 14],\n",
              "        [13, 12, 14, 16, 11],\n",
              "        [12, 11, 13, 15, 10]],\n",
              "\n",
              "       [[17, 16, 18, 20, 15],\n",
              "        [14, 13, 15, 17, 12],\n",
              "        [13, 12, 14, 16, 11]],\n",
              "\n",
              "       [[18, 17, 19, 21, 16],\n",
              "        [15, 14, 16, 18, 13],\n",
              "        [14, 13, 15, 17, 12]],\n",
              "\n",
              "       [[19, 18, 20, 22, 17],\n",
              "        [16, 15, 17, 19, 14],\n",
              "        [15, 14, 16, 18, 13]],\n",
              "\n",
              "       [[20, 19, 21, 23, 18],\n",
              "        [17, 16, 18, 20, 15],\n",
              "        [16, 15, 17, 19, 14]],\n",
              "\n",
              "       [[21, 20, 22, 24, 19],\n",
              "        [18, 17, 19, 21, 16],\n",
              "        [17, 16, 18, 20, 15]],\n",
              "\n",
              "       [[22, 21, 23, 25, 20],\n",
              "        [19, 18, 20, 22, 17],\n",
              "        [18, 17, 19, 21, 16]],\n",
              "\n",
              "       [[23, 22, 24, 26, 21],\n",
              "        [20, 19, 21, 23, 18],\n",
              "        [19, 18, 20, 22, 17]]])"
            ]
          },
          "metadata": {},
          "execution_count": 282
        }
      ],
      "source": [
        "def ufunc_reduce(ufct, *vectors):\n",
        "   vs = np.ix_(*vectors)\n",
        "   r = ufct.identity\n",
        "   for v in vs:\n",
        "       r = ufct(r,v)\n",
        "   return r\n",
        "\n",
        "ufunc_reduce(np.add,a,b,c)"
      ]
    },
    {
      "cell_type": "markdown",
      "metadata": {
        "id": "nfxE3B23kCtO"
      },
      "source": [
        "The advantage of this version of reduce compared to the normal ufunc.reduce is that it makes use of the Broadcasting Rules in order to avoid creating an argument array the size of the output times the number of vectors."
      ]
    },
    {
      "cell_type": "markdown",
      "metadata": {
        "id": "AsBHcj9skCtO"
      },
      "source": [
        "### Indexing with strings\n",
        "\n",
        "See Structured arrays."
      ]
    },
    {
      "cell_type": "markdown",
      "metadata": {
        "id": "y_w_B8ELkCtO"
      },
      "source": [
        "## Linear Algebra"
      ]
    },
    {
      "cell_type": "code",
      "execution_count": 304,
      "metadata": {
        "colab": {
          "base_uri": "https://localhost:8080/"
        },
        "id": "X4RsrLWokCtP",
        "outputId": "7b4cae98-8546-4202-f995-e99564ad7e45"
      },
      "outputs": [
        {
          "output_type": "stream",
          "name": "stdout",
          "text": [
            "[[1. 2.]\n",
            " [3. 4.]\n",
            " [5. 6.]]\n",
            "[[1. 3. 5.]\n",
            " [2. 4. 6.]]\n"
          ]
        }
      ],
      "source": [
        "import numpy as np\n",
        "a = np.array([[1.0, 2.0], [3.0, 4.0], [ 5.0,6.0]])\n",
        "print(a)\n",
        "b = a.transpose()\n",
        "print(b)"
      ]
    },
    {
      "cell_type": "code",
      "execution_count": 295,
      "metadata": {
        "colab": {
          "base_uri": "https://localhost:8080/"
        },
        "id": "JuYaXU2NkCtP",
        "outputId": "940c6012-a358-4250-cea0-1ce7fdf42d00"
      },
      "outputs": [
        {
          "output_type": "execute_result",
          "data": {
            "text/plain": [
              "array([[-2. ,  1. ],\n",
              "       [ 1.5, -0.5]])"
            ]
          },
          "metadata": {},
          "execution_count": 295
        }
      ],
      "source": [
        "np.linalg.inv(a)"
      ]
    },
    {
      "cell_type": "code",
      "execution_count": 297,
      "metadata": {
        "colab": {
          "base_uri": "https://localhost:8080/"
        },
        "id": "r9ggSWd5kCtP",
        "outputId": "c205a641-c322-4695-e64e-54e3ddfb3468"
      },
      "outputs": [
        {
          "output_type": "execute_result",
          "data": {
            "text/plain": [
              "array([[1., 0.],\n",
              "       [0., 1.]])"
            ]
          },
          "metadata": {},
          "execution_count": 297
        }
      ],
      "source": [
        "u = np.eye(2) # unit 2x2 matrix; \"eye\" represents \"I\"\n",
        "u"
      ]
    },
    {
      "cell_type": "code",
      "execution_count": 298,
      "metadata": {
        "colab": {
          "base_uri": "https://localhost:8080/"
        },
        "id": "tDRBmElWkCtP",
        "outputId": "7360c46f-1729-4e60-88a8-4350313015fa"
      },
      "outputs": [
        {
          "output_type": "execute_result",
          "data": {
            "text/plain": [
              "array([[-1.,  0.],\n",
              "       [ 0., -1.]])"
            ]
          },
          "metadata": {},
          "execution_count": 298
        }
      ],
      "source": [
        "j = np.array([[0.0, -1.0], [1.0, 0.0]])\n",
        "j @ j        # matrix product"
      ]
    },
    {
      "cell_type": "code",
      "execution_count": 299,
      "metadata": {
        "colab": {
          "base_uri": "https://localhost:8080/"
        },
        "id": "ChcjLf90kCtQ",
        "outputId": "1f55e74a-bfdf-4f0b-c622-cacf7962f096"
      },
      "outputs": [
        {
          "output_type": "execute_result",
          "data": {
            "text/plain": [
              "2.0"
            ]
          },
          "metadata": {},
          "execution_count": 299
        }
      ],
      "source": [
        "np.trace(u)  # trace"
      ]
    },
    {
      "cell_type": "code",
      "execution_count": 303,
      "metadata": {
        "colab": {
          "base_uri": "https://localhost:8080/"
        },
        "id": "dWxk8h-ekCtQ",
        "outputId": "ea53a1e7-955b-4feb-d15e-9e097f81491c"
      },
      "outputs": [
        {
          "output_type": "execute_result",
          "data": {
            "text/plain": [
              "array([[-3.],\n",
              "       [ 4.]])"
            ]
          },
          "metadata": {},
          "execution_count": 303
        }
      ],
      "source": [
        "y = np.array([[5.], [7.]])\n",
        "np.linalg.solve(a, y)"
      ]
    },
    {
      "cell_type": "code",
      "execution_count": 301,
      "metadata": {
        "colab": {
          "base_uri": "https://localhost:8080/"
        },
        "id": "1a80vjb7kCtQ",
        "outputId": "b0f3abae-de56-4731-a100-06ee2087446a"
      },
      "outputs": [
        {
          "output_type": "execute_result",
          "data": {
            "text/plain": [
              "(array([0.+1.j, 0.-1.j]),\n",
              " array([[0.70710678+0.j        , 0.70710678-0.j        ],\n",
              "        [0.        -0.70710678j, 0.        +0.70710678j]]))"
            ]
          },
          "metadata": {},
          "execution_count": 301
        }
      ],
      "source": [
        "np.linalg.eig(j)"
      ]
    },
    {
      "cell_type": "markdown",
      "metadata": {
        "id": "HkAcX5B3kCtQ"
      },
      "source": [
        "## Tricks and Tips\n",
        "\n",
        "### “Automatic” Reshaping\n",
        "\n",
        "To change the dimensions of an array, you can omit one of the sizes which will then be deduced automatically:"
      ]
    },
    {
      "cell_type": "code",
      "execution_count": 305,
      "metadata": {
        "colab": {
          "base_uri": "https://localhost:8080/"
        },
        "id": "nZOOAugEkCtR",
        "outputId": "feb6f5d6-a869-403c-a826-6589877ec816"
      },
      "outputs": [
        {
          "output_type": "execute_result",
          "data": {
            "text/plain": [
              "(3, 1, 20)"
            ]
          },
          "metadata": {},
          "execution_count": 305
        }
      ],
      "source": [
        "a = np.arange(60)\n",
        "a.shape = 3,-1,20  # -1 means \"whatever is needed\"\n",
        "a.shape"
      ]
    },
    {
      "cell_type": "code",
      "execution_count": 306,
      "metadata": {
        "colab": {
          "base_uri": "https://localhost:8080/"
        },
        "id": "tj3v8FwAkCtR",
        "outputId": "e6c32517-c106-4ce9-fb00-1d5d37f03838"
      },
      "outputs": [
        {
          "output_type": "execute_result",
          "data": {
            "text/plain": [
              "array([[[ 0,  1,  2,  3,  4,  5,  6,  7,  8,  9, 10, 11, 12, 13, 14, 15,\n",
              "         16, 17, 18, 19]],\n",
              "\n",
              "       [[20, 21, 22, 23, 24, 25, 26, 27, 28, 29, 30, 31, 32, 33, 34, 35,\n",
              "         36, 37, 38, 39]],\n",
              "\n",
              "       [[40, 41, 42, 43, 44, 45, 46, 47, 48, 49, 50, 51, 52, 53, 54, 55,\n",
              "         56, 57, 58, 59]]])"
            ]
          },
          "metadata": {},
          "execution_count": 306
        }
      ],
      "source": [
        "a"
      ]
    },
    {
      "cell_type": "markdown",
      "metadata": {
        "id": "wtEVCyDrkCtR"
      },
      "source": [
        "### Vector Stacking\n",
        "\n",
        "How do we construct a 2D array from a list of equally-sized row vectors? In MATLAB this is quite easy: if x and y are two vectors of the same length you only need do m=[x;y]. In NumPy this works via the functions column_stack, dstack, hstack and vstack, depending on the dimension in which the stacking is to be done. For example:"
      ]
    },
    {
      "cell_type": "code",
      "execution_count": 311,
      "metadata": {
        "colab": {
          "base_uri": "https://localhost:8080/"
        },
        "id": "B7RYdG4VkCtR",
        "outputId": "3e211d6f-6ffb-4473-a3d6-825cd2c57ccb"
      },
      "outputs": [
        {
          "output_type": "execute_result",
          "data": {
            "text/plain": [
              "array([[ 0,  2,  4,  6,  8, 10, 12, 14, 16, 18],\n",
              "       [ 0,  1,  2,  3,  4,  5,  6,  7,  8,  9]])"
            ]
          },
          "metadata": {},
          "execution_count": 311
        }
      ],
      "source": [
        "x = np.arange(0,20,2)                     # x=([0,2,4,6,8])\n",
        "y = np.arange(10)                          # y=([0,1,2,3,4])\n",
        "m = np.vstack([x,y])                      # m=([[0,2,4,6,8],\n",
        "                                          #     [0,1,2,3,4]])\n",
        "m"
      ]
    },
    {
      "cell_type": "code",
      "execution_count": 312,
      "metadata": {
        "colab": {
          "base_uri": "https://localhost:8080/"
        },
        "id": "OHaJiKyWkCtR",
        "outputId": "b2fa79eb-a8c4-4b14-cabb-71a07449d2f6"
      },
      "outputs": [
        {
          "output_type": "execute_result",
          "data": {
            "text/plain": [
              "array([ 0,  2,  4,  6,  8, 10, 12, 14, 16, 18,  0,  1,  2,  3,  4,  5,  6,\n",
              "        7,  8,  9])"
            ]
          },
          "metadata": {},
          "execution_count": 312
        }
      ],
      "source": [
        "xy = np.hstack([x,y])                     # xy =([0,2,4,6,8,0,1,2,3,4])\n",
        "xy"
      ]
    },
    {
      "cell_type": "markdown",
      "metadata": {
        "id": "bZcBTtbPkCtS"
      },
      "source": [
        "### Histograms"
      ]
    },
    {
      "cell_type": "markdown",
      "metadata": {
        "id": "MChqmmESkCtS"
      },
      "source": [
        "The NumPy histogram function applied to an array returns a pair of vectors: the histogram of the array and the vector of bins. Beware: matplotlib also has a function to build histograms (called hist, as in Matlab) that differs from the one in NumPy. The main difference is that pylab.hist plots the histogram automatically, while numpy.histogram only generates the data."
      ]
    },
    {
      "cell_type": "code",
      "execution_count": 313,
      "metadata": {
        "colab": {
          "base_uri": "https://localhost:8080/",
          "height": 265
        },
        "id": "BmF3bqmdkCtS",
        "outputId": "0ec5383e-5328-4fed-d6be-acb37936b082"
      },
      "outputs": [
        {
          "output_type": "display_data",
          "data": {
            "text/plain": [
              "<Figure size 432x288 with 1 Axes>"
            ],
            "image/png": "[encoded data removed]"
          },
          "metadata": {
            "needs_background": "light"
          }
        }
      ],
      "source": [
        "import numpy as np\n",
        "import matplotlib.pyplot as plt\n",
        "# Build a vector of 10000 normal deviates with variance 0.5^2 and mean 2\n",
        "mu, sigma = 2, 0.5\n",
        "v = np.random.normal(mu,sigma,10000)\n",
        "# Plot a normalized histogram with 50 bins\n",
        "plt.hist(v, bins=50, density=1)       # matplotlib version (plot)\n",
        "plt.show()"
      ]
    },
    {
      "cell_type": "code",
      "execution_count": 314,
      "metadata": {
        "colab": {
          "base_uri": "https://localhost:8080/",
          "height": 265
        },
        "id": "FB151DEJkCtS",
        "outputId": "cbfdab82-3040-413b-bac8-7f0c7ce721e4"
      },
      "outputs": [
        {
          "output_type": "display_data",
          "data": {
            "text/plain": [
              "<Figure size 432x288 with 1 Axes>"
            ],
            "image/png": "[encoded data removed]"
          },
          "metadata": {
            "needs_background": "light"
          }
        }
      ],
      "source": [
        "# Compute the histogram with numpy and then plot it\n",
        "(n, bins) = np.histogram(v, bins=50, density=True)  # NumPy version (no plot)\n",
        "plt.plot(.5*(bins[1:]+bins[:-1]), n)\n",
        "plt.show()"
      ]
    }
  ],
  "metadata": {
    "celltoolbar": "Slideshow",
    "kernelspec": {
      "display_name": "Python 3",
      "language": "python",
      "name": "python3"
    },
    "language_info": {
      "codemirror_mode": {
        "name": "ipython",
        "version": 3
      },
      "file_extension": ".py",
      "mimetype": "text/x-python",
      "name": "python",
      "nbconvert_exporter": "python",
      "pygments_lexer": "ipython3",
      "version": "3.8.5"
    },
    "colab": {
      "name": "Numpy Tutorial.ipynb",
      "provenance": []
    }
  },
  "nbformat": 4,
  "nbformat_minor": 0
}